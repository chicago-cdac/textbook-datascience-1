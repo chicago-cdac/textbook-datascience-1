{
 "cells": [
  {
   "cell_type": "markdown",
   "metadata": {},
   "source": [
    "## Bias-Variance Tradeoff\n",
    "\n",
    "There is something else that is clear from these histograms. As the number of simulations increases, the bell curve has less spread or *variability*. In general, as sample size increases, variance decreases. We can calculate the mean and variance of our statistic using the empirical distribution we simulated. Statistics with mean equal to the true value of the parameter being estimated are known as *unbiased estimators*. The *bias* of the estimator is the amount the estimator deviates from the true parameter. The figure below shows how bias and variance affect estimation. \n",
    "\n",
    "```{figure} ./bias-variance.png\n",
    "---\n",
    "align: center\n",
    "---\n",
    "Bias-Variance Tradeoff Illustration\n",
    "```\n",
    "\n",
    "Assuming the true value is the bullseye on the target, you want your estimates to hit that bullseye reliably. This means you want both low bias and low variance. However, this is often a difficult problem, especially in machine learning, due to a concept known as the *bias-variance tradeoff*. This phenomenon will be discuseed further in later Chapters when we discuss machine learning and generalizability error. For now, it is important to understand how bias and variance affect the accuracy of estimates."
   ]
  }
 ],
 "metadata": {
  "kernelspec": {
   "display_name": "Python 3.9.13 64-bit",
   "language": "python",
   "name": "python3"
  },
  "language_info": {
   "name": "python",
   "version": "3.9.13"
  },
  "orig_nbformat": 4,
  "vscode": {
   "interpreter": {
    "hash": "aee8b7b246df8f9039afb4144a1f6fd8d2ca17a180786b69acc140d282b71a49"
   }
  }
 },
 "nbformat": 4,
 "nbformat_minor": 2
}
