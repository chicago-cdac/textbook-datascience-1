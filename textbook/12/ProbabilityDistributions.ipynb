{
 "cells": [
  {
   "cell_type": "markdown",
   "metadata": {},
   "source": [
    "# Probability, Sampling, and Empirical Distributions\n",
    "\n",
    "In this chapter we will build on the concepts of randomness and sampling that we learned in previous chapters to investiate empirical distributions, inference, and the use of simulating real-world data.\n",
    "\n",
    "## Sampling\n",
    "\n",
    "In the previous chapter, we discussed methods of sampling individuals from a population and how biased samples can affect the generalizability of our data. We have also seen how to slice dataframes or select elelments from arrays. This is another type of sampling known as *deterministic sampling* since there is no chance involved. In this section, we will build on our use of the ``sample`` and ``random.choice`` functions from Chapter 9 to create *probabalistic samples* where the probability of each unit being chosen is known *before* sampling is done. Simple random samples (SRS), as we learned in the previous chapter, are samples in which each unit has equal probability of being chosen (1/N where N is the sample space being chosen from). Since we know the probability of each unit being chosen, a SRS is an example of a probabilistic sample. Sampling is used to make inferences about a population when gathering information about the entire population is difficult or impossible. We make these inferences through calculating statistics on our sample with the goal of using the statistic to estimate the true population parameter we are interested in studying. Therefore, it is important for us to understand how much uncertainty is present in our statistical estimate. Quantifying and understanding this uncertainty is much easier mathematically when samples are probabilistic as we can use laws of probability. \n",
    "\n",
    "The amount that the value of a statistic varies based on different samples is known as *sampling variability*. When we look at all possible values a statistic could take over all possible samples of the same size taken from the same population, we are building a *probability distribution* or *sampling distribution* of that statistic. As a probability distribution depicts all possible samples of the same size from a population, it is not based on observed data. However, we can estimate a probability distribution *empirically* by taking many samples from a population and plotting the distribution of the *observed* values of a statistic. This is known as an *empirical distribution*.\n",
    "\n",
    "Let's return to our dice rolling example from Chapter 9. This is an example of a probabilitic sample as the chance of each face landing upright is 1/6 and we know this before rolling the die. Therefore, our probability distribution is uniform. As we roll more dice and plot the restults, we see the empirical distribution (our observed distribution of dice rolls) get closer to the probability distribution, looking more uniform."
   ]
  },
  {
   "cell_type": "code",
   "execution_count": 2,
   "metadata": {},
   "outputs": [
    {
     "data": {
      "text/plain": [
       "(array([1646., 1700., 1677., 1623., 1632., 1722.]),\n",
       " array([0.5, 1.5, 2.5, 3.5, 4.5, 5.5, 6.5]),\n",
       " <BarContainer object of 6 artists>)"
      ]
     },
     "execution_count": 2,
     "metadata": {},
     "output_type": "execute_result"
    },
    {
     "data": {
      "image/png": "[encoded data removed]",
      "text/plain": [
       "<Figure size 432x288 with 3 Axes>"
      ]
     },
     "metadata": {
      "needs_background": "light"
     },
     "output_type": "display_data"
    }
   ],
   "source": [
    "import numpy as np\n",
    "import pandas as pd\n",
    "import matplotlib.pyplot as plt\n",
    "%matplotlib inline\n",
    "\n",
    "die = pd.DataFrame(\n",
    "    {\n",
    "        'Face': np.arange(1, 7),\n",
    "    }\n",
    ")\n",
    "roll_bins = np.arange(0.5, 7, 1)\n",
    "fig, axs = plt.subplots(3)\n",
    "fig.suptitle('Dice Rolls: 10, 1000, and 10000')\n",
    "axs[0].hist(die.sample(10, replace=True),bins=roll_bins)\n",
    "axs[1].hist(die.sample(1000, replace=True),bins=roll_bins)\n",
    "axs[2].hist(die.sample(10000, replace=True),bins=roll_bins)"
   ]
  },
  {
   "cell_type": "markdown",
   "metadata": {},
   "source": [
    "## Simulation\n",
    "\n",
    "Now, suppose I am not interested in each roll but in the average value of all the dice rolls of students in my classroom. I have 50 students present and each student rolls 1 die. I then take the mean of all 50 dice rolls. What is the probability distribution for the average dice roll? This question can be easily answered through simulation! Simulations use a computer to mimic real experiments. Instead of asking all of my students to roll dice and take the mean 100s or 1000s of times to plot an empirical distribution, which would be both noisy and time consuming, I can have the computer do it for us. First, we can write code that does this experiment one time. We use `sample` to roll our die and `np.mean` to take the average. "
   ]
  },
  {
   "cell_type": "code",
   "execution_count": 5,
   "metadata": {},
   "outputs": [
    {
     "data": {
      "text/plain": [
       "Face    3.0\n",
       "dtype: float64"
      ]
     },
     "execution_count": 5,
     "metadata": {},
     "output_type": "execute_result"
    }
   ],
   "source": [
    "np.mean(die.sample(50, replace=True))"
   ]
  },
  {
   "cell_type": "markdown",
   "metadata": {},
   "source": [
    "This value is a statistic, and we know that statistics have sampling variability so we want to see the empirical distribution for our statistic. We can do this by running the experiment many times and recording the results."
   ]
  },
  {
   "cell_type": "code",
   "execution_count": 10,
   "metadata": {},
   "outputs": [],
   "source": [
    "def face_mean_sim(nsim):\n",
    "    \"\"\"Simulates nsim repetions of 50 dice rolls and returns their sample mean.\"\"\"\n",
    "    means = np.array([])\n",
    "    for i in np.arange(nsim):\n",
    "        means = np.append(means, np.mean(die.sample(50, replace=True)))\n",
    "    return means"
   ]
  },
  {
   "cell_type": "code",
   "execution_count": 13,
   "metadata": {},
   "outputs": [
    {
     "data": {
      "text/plain": [
       "(array([  28.,  165.,  794., 1898., 2876., 2536., 1290.,  345.,   61.,\n",
       "           7.]),\n",
       " array([2.64 , 2.822, 3.004, 3.186, 3.368, 3.55 , 3.732, 3.914, 4.096,\n",
       "        4.278, 4.46 ]),\n",
       " <BarContainer object of 10 artists>)"
      ]
     },
     "execution_count": 13,
     "metadata": {},
     "output_type": "execute_result"
    },
    {
     "data": {
      "image/png": "[encoded data removed]",
      "text/plain": [
       "<Figure size 432x288 with 3 Axes>"
      ]
     },
     "metadata": {
      "needs_background": "light"
     },
     "output_type": "display_data"
    }
   ],
   "source": [
    "fig, axs = plt.subplots(3)\n",
    "fig.suptitle('Mean Dice Roll Simulation: 100, 1000, and 10000')\n",
    "axs[0].hist(face_mean_sim(100))\n",
    "axs[1].hist(face_mean_sim(1000))\n",
    "axs[2].hist(face_mean_sim(10000))"
   ]
  },
  {
   "cell_type": "markdown",
   "metadata": {},
   "source": [
    "Based on our empirical distribution, we can see that the average value of the dice rolls is approximately normally distributed (bell-shaped) with a mean of around 3.5. We can use our simulated data to calculate the mean and standard deviation of our distribution, and we can check this work mathematically as well. However, doing so is beyond the scope of this course. Simulation is a powerful tool that we can use to study real-world phenomena without doing physical experiments.\n",
    "\n",
    "## Bias-Variance Tradeoff\n",
    "\n",
    "There is something else that is clear from these histograms. As the number of simulations increases, the bell curve has less spread or *variance*."
   ]
  },
  {
   "cell_type": "markdown",
   "metadata": {},
   "source": []
  }
 ],
 "metadata": {
  "kernelspec": {
   "display_name": "Python 3.9.13 64-bit",
   "language": "python",
   "name": "python3"
  },
  "language_info": {
   "codemirror_mode": {
    "name": "ipython",
    "version": 3
   },
   "file_extension": ".py",
   "mimetype": "text/x-python",
   "name": "python",
   "nbconvert_exporter": "python",
   "pygments_lexer": "ipython3",
   "version": "3.9.13"
  },
  "orig_nbformat": 4,
  "vscode": {
   "interpreter": {
    "hash": "aee8b7b246df8f9039afb4144a1f6fd8d2ca17a180786b69acc140d282b71a49"
   }
  }
 },
 "nbformat": 4,
 "nbformat_minor": 2
}
