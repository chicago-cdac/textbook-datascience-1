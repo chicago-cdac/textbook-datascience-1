{
  "cells": [
    {
      "cell_type": "markdown",
      "metadata": {
        "id": "HzxdGZlPmZ1u"
      },
      "source": [
        "# Uniform Distribution\n",
        "\n",
        "The Uniform Distribution is used when all events in a given sample space are equally likely to occur. We see this distribution in tossing a fair coin, rolling a die, or using a random number generator. Notice these examples include both discrete and continous random variables. The Uniform Distribution has both discrete and continous versions! First we will discuss the discrete version."
      ]
    },
    {
      "cell_type": "markdown",
      "metadata": {
        "id": "LRg8sNNwzvN-"
      },
      "source": [
        "## Discrete Uniform Empirical Distribution\n",
        "\n",
        "As a simple example, we'll build an empirical distribution of rolls of a six-sided die. \n",
        "\n",
        "So far we have randomly sampled from a list or array. We can also randomly sample from DataFrames! This is advantageous in the situation where we want to select a random subset of data to build predictive models or to analyze. \n",
        "\n",
        "First, we create a six-sided die, by creating an array containing the numbers 1 - 6. When we randomly select a choice from this list using the np.random.choice function, we are simulating rolling a die.\n",
        "\n",
        "First, we create a six-sixed die DataFrame."
      ]
    },
    {
      "cell_type": "code",
      "execution_count": null,
      "metadata": {
        "colab": {
          "base_uri": "https://localhost:8080/",
          "height": 238
        },
        "id": "VSEM7P39zvOG",
        "outputId": "8952fd55-9522-4dd1-880d-fa3ddc72b5c7"
      },
      "outputs": [
        {
          "data": {
            "text/html": [
              "<div>\n",
              "<style scoped>\n",
              "    .dataframe tbody tr th:only-of-type {\n",
              "        vertical-align: middle;\n",
              "    }\n",
              "\n",
              "    .dataframe tbody tr th {\n",
              "        vertical-align: top;\n",
              "    }\n",
              "\n",
              "    .dataframe thead th {\n",
              "        text-align: right;\n",
              "    }\n",
              "</style>\n",
              "<table border=\"1\" class=\"dataframe\">\n",
              "  <thead>\n",
              "    <tr style=\"text-align: right;\">\n",
              "      <th></th>\n",
              "      <th>Face</th>\n",
              "    </tr>\n",
              "  </thead>\n",
              "  <tbody>\n",
              "    <tr>\n",
              "      <th>0</th>\n",
              "      <td>1</td>\n",
              "    </tr>\n",
              "    <tr>\n",
              "      <th>1</th>\n",
              "      <td>2</td>\n",
              "    </tr>\n",
              "    <tr>\n",
              "      <th>2</th>\n",
              "      <td>3</td>\n",
              "    </tr>\n",
              "    <tr>\n",
              "      <th>3</th>\n",
              "      <td>4</td>\n",
              "    </tr>\n",
              "    <tr>\n",
              "      <th>4</th>\n",
              "      <td>5</td>\n",
              "    </tr>\n",
              "    <tr>\n",
              "      <th>5</th>\n",
              "      <td>6</td>\n",
              "    </tr>\n",
              "  </tbody>\n",
              "</table>\n",
              "</div>"
            ],
            "text/plain": [
              "   Face\n",
              "0     1\n",
              "1     2\n",
              "2     3\n",
              "3     4\n",
              "4     5\n",
              "5     6"
            ]
          },
          "execution_count": 1,
          "metadata": {},
          "output_type": "execute_result"
        }
      ],
      "source": [
        "import numpy as np\n",
        "import pandas as pd\n",
        "\n",
        "die = pd.DataFrame(\n",
        "   {\n",
        "       'Face': np.arange(1, 7),\n",
        "   }\n",
        ")\n",
        "die"
      ]
    },
    {
      "cell_type": "markdown",
      "metadata": {
        "id": "FaJNg0tfzvOG"
      },
      "source": [
        "We see that this DataFrame has 6 rows and 1 column.\n",
        "Similar to randomly selecting an option from a list, we can randomly sample from a DataFrame, using the DataFrame's `sample` method.\n",
        "\n",
        "This method randomly selects an entire row or rows from the DataFrame. Below, the input argument `1` denotes that we want to select exactly one row. We can choose to sample more than one row by changing this input."
      ]
    },
    {
      "cell_type": "code",
      "execution_count": null,
      "metadata": {
        "colab": {
          "base_uri": "https://localhost:8080/",
          "height": 81
        },
        "id": "OQXtZ8S_zvOG",
        "outputId": "085ff575-81fd-4693-a1b2-f6710658d9c5"
      },
      "outputs": [
        {
          "data": {
            "text/html": [
              "<div>\n",
              "<style scoped>\n",
              "    .dataframe tbody tr th:only-of-type {\n",
              "        vertical-align: middle;\n",
              "    }\n",
              "\n",
              "    .dataframe tbody tr th {\n",
              "        vertical-align: top;\n",
              "    }\n",
              "\n",
              "    .dataframe thead th {\n",
              "        text-align: right;\n",
              "    }\n",
              "</style>\n",
              "<table border=\"1\" class=\"dataframe\">\n",
              "  <thead>\n",
              "    <tr style=\"text-align: right;\">\n",
              "      <th></th>\n",
              "      <th>Face</th>\n",
              "    </tr>\n",
              "  </thead>\n",
              "  <tbody>\n",
              "    <tr>\n",
              "      <th>3</th>\n",
              "      <td>4</td>\n",
              "    </tr>\n",
              "  </tbody>\n",
              "</table>\n",
              "</div>"
            ],
            "text/plain": [
              "   Face\n",
              "3     4"
            ]
          },
          "execution_count": 2,
          "metadata": {},
          "output_type": "execute_result"
        }
      ],
      "source": [
        "die.sample(1)"
      ]
    },
    {
      "cell_type": "markdown",
      "metadata": {
        "id": "kPnmZyTPzvOG"
      },
      "source": [
        "Some additional arguments to this function include:\n",
        "- `replace`: whether to \"replace\" rows for re-sampling (note: `np.random.choice()` also has this argument!)\n",
        "- `random_state`: the initial state of the pseudo-random generator\n",
        "\n",
        "Setting the replace option to `True` allows us to sample the same row more than once. With this option, we are choosing a row, replacing it in the \"pool\" of options to sample, and choosing our next row from the original DataFrame. Setting this option to `False` allows us to choose a row at most once. The default in pandas is `replace=False`.\n",
        "Setting the \"random state\" equal to some integer allows for reproducibility of results. With this option, `sample` still gives as \"random\" a result, but it will be the same \"random\" result each time we run our experiment. (\"True\" randomness is, after all, the domain of quantum mechanics!) Note that for now this is not extremely important, but it will be useful for predictive modeling in the future."
      ]
    },
    {
      "cell_type": "code",
      "execution_count": null,
      "metadata": {
        "colab": {
          "base_uri": "https://localhost:8080/",
          "height": 363
        },
        "id": "whVgoSE8zvOH",
        "outputId": "790df896-0831-4268-a9d9-808d5477990e"
      },
      "outputs": [
        {
          "data": {
            "text/html": [
              "<div>\n",
              "<style scoped>\n",
              "    .dataframe tbody tr th:only-of-type {\n",
              "        vertical-align: middle;\n",
              "    }\n",
              "\n",
              "    .dataframe tbody tr th {\n",
              "        vertical-align: top;\n",
              "    }\n",
              "\n",
              "    .dataframe thead th {\n",
              "        text-align: right;\n",
              "    }\n",
              "</style>\n",
              "<table border=\"1\" class=\"dataframe\">\n",
              "  <thead>\n",
              "    <tr style=\"text-align: right;\">\n",
              "      <th></th>\n",
              "      <th>Face</th>\n",
              "    </tr>\n",
              "  </thead>\n",
              "  <tbody>\n",
              "    <tr>\n",
              "      <th>5</th>\n",
              "      <td>6</td>\n",
              "    </tr>\n",
              "    <tr>\n",
              "      <th>3</th>\n",
              "      <td>4</td>\n",
              "    </tr>\n",
              "    <tr>\n",
              "      <th>4</th>\n",
              "      <td>5</td>\n",
              "    </tr>\n",
              "    <tr>\n",
              "      <th>0</th>\n",
              "      <td>1</td>\n",
              "    </tr>\n",
              "    <tr>\n",
              "      <th>1</th>\n",
              "      <td>2</td>\n",
              "    </tr>\n",
              "    <tr>\n",
              "      <th>3</th>\n",
              "      <td>4</td>\n",
              "    </tr>\n",
              "    <tr>\n",
              "      <th>5</th>\n",
              "      <td>6</td>\n",
              "    </tr>\n",
              "    <tr>\n",
              "      <th>0</th>\n",
              "      <td>1</td>\n",
              "    </tr>\n",
              "    <tr>\n",
              "      <th>0</th>\n",
              "      <td>1</td>\n",
              "    </tr>\n",
              "    <tr>\n",
              "      <th>1</th>\n",
              "      <td>2</td>\n",
              "    </tr>\n",
              "  </tbody>\n",
              "</table>\n",
              "</div>"
            ],
            "text/plain": [
              "   Face\n",
              "5     6\n",
              "3     4\n",
              "4     5\n",
              "0     1\n",
              "1     2\n",
              "3     4\n",
              "5     6\n",
              "0     1\n",
              "0     1\n",
              "1     2"
            ]
          },
          "execution_count": 3,
          "metadata": {},
          "output_type": "execute_result"
        }
      ],
      "source": [
        "die.sample(10, replace=True, random_state=1)"
      ]
    },
    {
      "cell_type": "markdown",
      "metadata": {
        "id": "cdF5hlhozvOH"
      },
      "source": [
        "Above, we randomly sampled 10 numbers between one and six (inclusive) with replacement corresponding to our rolling a die 10 times. This is an example of a probabilitic sample as the chance of each face landing upright is 1/6, and we know this before rolling the die.\n",
        "\n",
        "We can now visualize the results of these random samples with a histogram. This will give us an idea of the how often each number is rolled.\n",
        "\n",
        "If we only roll the die 12 times, some numbers appear with much greater frequency than others."
      ]
    },
    {
      "cell_type": "code",
      "execution_count": null,
      "metadata": {
        "colab": {
          "base_uri": "https://localhost:8080/",
          "height": 281
        },
        "id": "TYtMzig6zvOH",
        "outputId": "249ec055-52ae-4610-e9d5-6622a3ff6d9f"
      },
      "outputs": [
        {
          "data": {
            "image/png": "[encoded data removed]",
            "text/plain": [
              "<Figure size 432x288 with 1 Axes>"
            ]
          },
          "metadata": {
            "needs_background": "light"
          },
          "output_type": "display_data"
        }
      ],
      "source": [
        "# note, starting the bins at 0.5 will give us bars centered nicely over the face numbers\n",
        "\n",
        "roll_bins = np.arange(0.5, 7, 1)\n",
        "\n",
        "roll_bins\n",
        "\n",
        "die.sample(12, replace=True).hist(bins=roll_bins);"
      ]
    },
    {
      "cell_type": "markdown",
      "metadata": {
        "id": "cqY5JyklzvOH"
      },
      "source": [
        "Randomly sampling 1,000 rolls of the die we start to see a more evenly distrbuted histogram."
      ]
    },
    {
      "cell_type": "code",
      "execution_count": null,
      "metadata": {
        "colab": {
          "base_uri": "https://localhost:8080/",
          "height": 281
        },
        "id": "oVGKaB_czvOH",
        "outputId": "d211dd29-64d5-4f88-d584-e7bb24ddb8dc"
      },
      "outputs": [
        {
          "data": {
            "image/png": "[encoded data removed]",
            "text/plain": [
              "<Figure size 432x288 with 1 Axes>"
            ]
          },
          "metadata": {
            "needs_background": "light"
          },
          "output_type": "display_data"
        }
      ],
      "source": [
        "die.sample(1_000, replace=True).hist(bins=roll_bins);"
      ]
    },
    {
      "cell_type": "markdown",
      "metadata": {
        "id": "X_UasovGzvOH"
      },
      "source": [
        "Let's see how the distribution changes as we increase the number of randomly sampled rolls of a six-sided die.\n",
        "\n"
      ]
    },
    {
      "cell_type": "code",
      "execution_count": null,
      "metadata": {
        "colab": {
          "base_uri": "https://localhost:8080/",
          "height": 281
        },
        "id": "3mT_NImKzvOH",
        "outputId": "3c06a9b8-23c5-4f4d-de9a-2d82849edc57"
      },
      "outputs": [
        {
          "data": {
            "image/png": "[encoded data removed]",
            "text/plain": [
              "<Figure size 432x288 with 1 Axes>"
            ]
          },
          "metadata": {
            "needs_background": "light"
          },
          "output_type": "display_data"
        }
      ],
      "source": [
        "die.sample(10_000, replace=True).hist(bins=roll_bins);"
      ]
    },
    {
      "cell_type": "code",
      "execution_count": null,
      "metadata": {
        "colab": {
          "base_uri": "https://localhost:8080/",
          "height": 281
        },
        "id": "iSrk-MkPzvOH",
        "outputId": "f60357f7-b920-4684-a56e-5cf74464be30"
      },
      "outputs": [
        {
          "data": {
            "image/png": "[encoded data removed]",
            "text/plain": [
              "<Figure size 432x288 with 1 Axes>"
            ]
          },
          "metadata": {
            "needs_background": "light"
          },
          "output_type": "display_data"
        }
      ],
      "source": [
        "die.sample(100_000, replace=True).hist(bins=roll_bins);"
      ]
    },
    {
      "cell_type": "code",
      "execution_count": null,
      "metadata": {
        "colab": {
          "base_uri": "https://localhost:8080/",
          "height": 281
        },
        "id": "IKaJoO5qzvOH",
        "outputId": "f672d71e-2171-4ddd-8fee-e8a0ffd45f63"
      },
      "outputs": [
        {
          "data": {
            "image/png": "[encoded data removed]",
            "text/plain": [
              "<Figure size 432x288 with 1 Axes>"
            ]
          },
          "metadata": {
            "needs_background": "light"
          },
          "output_type": "display_data"
        }
      ],
      "source": [
        "die.sample(1_000_000, replace=True).hist(bins=roll_bins);"
      ]
    },
    {
      "cell_type": "markdown",
      "metadata": {
        "id": "Rww-DUwWzvOH"
      },
      "source": [
        "As the number of samples increases – that is, as we roll the die many many many times – we find that the empirical distribution (our observed distribution of dice rolls) shows each face of the die appears roughly the same number of times. As we know the probability of sampling each face of the die is the same, \n",
        "we are seeing our empirical distribution get closer to the true probability distribution of the die, looking more *uniform*.\n",
        "\n",
        "This phenomenon is related to a mathematical theorem known as the Law of Large Numbers. The Law of Large Numbers states that, as the number of experiments increases, the mean of the empirical distribution gets closer to the mean of the probability distribution (also known as the expected value). \n",
        "\n",
        "Let's look at the mean of the empirical distribution for different numbers of experiments."
      ]
    },
    {
      "cell_type": "code",
      "execution_count": null,
      "metadata": {
        "colab": {
          "base_uri": "https://localhost:8080/"
        },
        "id": "wUFGvtwhC_eZ",
        "outputId": "e6c207e8-faf6-43c5-d5f0-1ffd52e8c1aa"
      },
      "outputs": [
        {
          "name": "stderr",
          "output_type": "stream",
          "text": [
            "/usr/local/lib/python3.9/site-packages/numpy/core/fromnumeric.py:3430: FutureWarning: In a future version, DataFrame.mean(axis=None) will return a scalar mean over the entire DataFrame. To retain the old behavior, use 'frame.mean(axis=0)' or just 'frame.mean()'\n",
            "  return mean(axis=axis, dtype=dtype, out=out, **kwargs)\n"
          ]
        },
        {
          "data": {
            "text/plain": [
              "Face    3.47\n",
              "dtype: float64"
            ]
          },
          "execution_count": 9,
          "metadata": {},
          "output_type": "execute_result"
        }
      ],
      "source": [
        "np.mean(die.sample(100, replace=True))"
      ]
    },
    {
      "cell_type": "code",
      "execution_count": null,
      "metadata": {
        "colab": {
          "base_uri": "https://localhost:8080/"
        },
        "id": "qfUpMS29DbYA",
        "outputId": "a7c20bf5-cee8-42ca-ee3d-11e3bbed74cb"
      },
      "outputs": [
        {
          "data": {
            "text/plain": [
              "Face    3.488\n",
              "dtype: float64"
            ]
          },
          "execution_count": 10,
          "metadata": {},
          "output_type": "execute_result"
        }
      ],
      "source": [
        "np.mean(die.sample(1_000, replace=True))"
      ]
    },
    {
      "cell_type": "code",
      "execution_count": null,
      "metadata": {
        "colab": {
          "base_uri": "https://localhost:8080/"
        },
        "id": "R4fMWl5jDdgt",
        "outputId": "8dc17452-8d2e-44c0-be3b-54977b9cdaab"
      },
      "outputs": [
        {
          "data": {
            "text/plain": [
              "Face    3.499081\n",
              "dtype: float64"
            ]
          },
          "execution_count": 11,
          "metadata": {},
          "output_type": "execute_result"
        }
      ],
      "source": [
        "np.mean(die.sample(1_000_000, replace=True))"
      ]
    },
    {
      "cell_type": "markdown",
      "metadata": {
        "id": "d1Bzx04Vioap"
      },
      "source": [
        "<font color=\"purple\"> \n",
        "\n",
        "\n",
        "\n",
        "\n",
        "\n",
        "</font>"
      ]
    },
    {
      "cell_type": "markdown",
      "metadata": {
        "id": "0iIkmIngD0AC"
      },
      "source": [
        "These seem to be approaching 3.5, but in order to know for sure, we need to know more about the probability distribution for our dice rolling example: the Uniform Distribution."
      ]
    },
    {
      "cell_type": "markdown",
      "metadata": {
        "id": "UHdrlKmNi5s-"
      },
      "source": [
        "## Discrete Uniform Probability Distribution\n",
        "\n",
        "How do we define this rolling of a six-sided die mathematically? We saw above that repeating this experiment yielded a collection of samples from the population for samples of sizes 1000, 100000, and larger.\n",
        "\n",
        "In the case where each outcome is equally likely to occur, the function that assigns probabilities is the **uniform distribution**. For a sample space containing $n$ elements, the pmf is defined by $P(X=x)=\\frac{1}{n}$. Further, if $E$ is an event containing multiple elements from the sample space, then $P(E)=\\frac{\\text{\\# elements in E}}{n}$.\n",
        "\n",
        "For our example of rolling a six-sided die, each roll has a probability of exactly $\\frac{1}{6} \\approx 0.1666$ of occuring. If we take the example of rolling a six-sided die 1000 times and computing the probabilities of each result, we find that, in practice, the empirical probability we rolled a 1 was $0.171$, not the $0.1666$ given by the theorical probability."
      ]
    },
    {
      "cell_type": "code",
      "execution_count": null,
      "metadata": {
        "colab": {
          "base_uri": "https://localhost:8080/"
        },
        "id": "FJw6VaEXtAu9",
        "outputId": "3d5805ce-38f8-468c-d563-660246966e0b"
      },
      "outputs": [
        {
          "data": {
            "text/plain": [
              "Face\n",
              "1       0.171\n",
              "6       0.170\n",
              "3       0.169\n",
              "2       0.166\n",
              "5       0.164\n",
              "4       0.160\n",
              "dtype: float64"
            ]
          },
          "execution_count": 12,
          "metadata": {},
          "output_type": "execute_result"
        }
      ],
      "source": [
        "#both the np.random.choice and DataFrame.sample functions sample from a uniform distribution by default\n",
        "empirical_probabilites = (die.sample(1_000, replace=True,random_state=1).value_counts())/1_000\n",
        "empirical_probabilites "
      ]
    },
    {
      "cell_type": "markdown",
      "metadata": {
        "id": "VH-dBUEZFahB"
      },
      "source": [
        "Returning to our discussion of the Law of Large Numbers, what is the expected value (mean) of the Uniform Probability Distribution? The mean of a uniform distrubution with pmf $P(X=x)=\\frac{1}{n}$ is $\\mu(X)=\\frac{n+1}{2}$. This corresponds to the average of the elements in our sample space: $\\frac{1+2+...+n}{n}= \\frac{\\frac{n(n+1)}{2}}{n}= \\frac{n+1}{2}$.\n",
        "\n",
        "In our dice rolling example, n is 6 so the mean of our probability distribution is $\\frac{6+1}{2} = 3.5$. So the means of our empirical distributions are indeed approaching 3.5 as the samples get larger. We can also calculate the variance and standard deviation for the probability distribution of dice rolling. The variance of a uniform probability distribution is $\\sigma^2(X)=\\frac{n^2 - 1}{12}$ which for our example is $\\frac{6^2 - 1}{12} = 2.92$. As the standard deviation is the square root of the variance, the standard deviation of our dice rolling example is 1.71. Let's check this against our empirical distribution."
      ]
    },
    {
      "cell_type": "code",
      "execution_count": null,
      "metadata": {
        "colab": {
          "base_uri": "https://localhost:8080/"
        },
        "id": "iN3k77zT6tIM",
        "outputId": "5d180719-2e9c-4231-a8a4-5d5c9a32552c"
      },
      "outputs": [
        {
          "data": {
            "text/plain": [
              "Face    1.708976\n",
              "dtype: float64"
            ]
          },
          "execution_count": 13,
          "metadata": {},
          "output_type": "execute_result"
        }
      ],
      "source": [
        "np.std(die.sample(1_000_000, replace=True))"
      ]
    },
    {
      "cell_type": "markdown",
      "metadata": {
        "id": "7IPo4vii6zvd"
      },
      "source": [
        "What we see in our empirical distribution matches what we would expect mathematically knowing the probability distribution it is approximating. In fact, the Law of Large Numbers says that when $n$, or the number of samples, is large, the mean and standard deviation from our empirical distribution serves as a good estimate for the mean and standard deviation of the probability distribution."
      ]
    },
    {
      "attachments": {},
      "cell_type": "markdown",
      "metadata": {
        "id": "ybzaJh-ngX5C"
      },
      "source": [
        "## Continuous Uniform Probability Distribution\n",
        "\n",
        "Imagine that instead of sampling from a discrete sample space, as in our dice rolling example, we sample with replacement from a continuous sample space also between 1 and 6. Now, our random variable can take on any real number in this interval. When no outcome has a higher chance than another of being selected (imagine throwing a dart at a number line), this random variable is continuous uniform. We denote a continuous uniform random variable, $X$, on the interval $[a, b]$ with $X \\sim U(a,b)$. Therefore, a random variable that takes values between 1 and 6 would be denoted by $X \\sim U(1,6)$. The pdf for a continuous uniform random variable is $P(X=x) = \\frac{1}{b-a}$ when $x$ is between $a$ and $b$ and 0 otherwise. From this distribution, we have $\\mu = \\frac{b-a}{2}$ (i.e. the middle of the interval) and $\\sigma = \\sqrt{\\frac{(b-a)^2}{12}}.$"
      ]
    }
  ],
  "metadata": {
    "colab": {
      "provenance": []
    },
    "kernelspec": {
      "display_name": "Python 3",
      "language": "python",
      "name": "python3"
    },
    "language_info": {
      "codemirror_mode": {
        "name": "ipython",
        "version": 3
      },
      "file_extension": ".py",
      "mimetype": "text/x-python",
      "name": "python",
      "nbconvert_exporter": "python",
      "pygments_lexer": "ipython3",
      "version": "3.10.9 (main, Dec 15 2022, 18:18:30) [Clang 14.0.0 (clang-1400.0.29.202)]"
    },
    "toc": {
      "base_numbering": 1,
      "nav_menu": {},
      "number_sections": true,
      "sideBar": true,
      "skip_h1_title": false,
      "title_cell": "Table of Contents",
      "title_sidebar": "Contents",
      "toc_cell": false,
      "toc_position": {},
      "toc_section_display": true,
      "toc_window_display": false
    },
    "vscode": {
      "interpreter": {
        "hash": "aee8b7b246df8f9039afb4144a1f6fd8d2ca17a180786b69acc140d282b71a49"
      }
    }
  },
  "nbformat": 4,
  "nbformat_minor": 0
}
