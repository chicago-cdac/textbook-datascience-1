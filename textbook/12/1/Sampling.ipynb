{
 "cells": [
  {
   "cell_type": "markdown",
   "metadata": {},
   "source": [
    "## Sampling\n",
    "\n",
    "We have discussed methods of sampling individuals from a population and how biased samples can affect the generalizability of our data. We have also seen how to slice dataframes or select elelments from arrays. This is another type of sampling known as *deterministic sampling* since there is no chance involved. In this section, we will build on our use of the ``sample`` and ``random.choice`` functions from Chapter 9 to create *probabalistic samples* where the probability of each unit being chosen is known *before* sampling is done. Simple random samples (SRS), as we learned in the previous chapter, are samples in which each unit has equal probability of being chosen (1/N where N is the sample space being chosen from). Since we know the probability of each unit being chosen, a SRS is an example of a probabilistic sample. Sampling is used to make inferences about a population when gathering information about the entire population is difficult or impossible. We make these inferences through calculating statistics on our sample with the goal of using the statistic to estimate the true population parameter we are interested in studying. Therefore, it is important for us to understand how much uncertainty is present in our statistical estimate. Quantifying and understanding this uncertainty is much easier mathematically when samples are probabilistic as we can use laws of probability. \n",
    "\n",
    "The amount that the value of a statistic varies based on different samples is known as *sampling variability*. When we look at all possible values a statistic could take over all possible samples of the same size taken from the same population, we are building a *probability distribution* or *sampling distribution* of that statistic. As a probability distribution depicts all possible samples of the same size from a population, it is not based on observed data. However, we can estimate a probability distribution *empirically* by taking many samples from a population and plotting the distribution of the *observed* values of a statistic. This is known as an *empirical distribution*.\n",
    "\n",
    "Let's return to our dice rolling example from Chapter 9. This is an example of a probabilitic sample as the chance of each face landing upright is 1/6 and we know this before rolling the die. Therefore, our probability distribution is uniform. As we roll more dice and plot the restults, we see the empirical distribution (our observed distribution of dice rolls) get closer to the probability distribution, looking more uniform."
   ]
  },
  {
   "cell_type": "code",
   "execution_count": null,
   "metadata": {},
   "outputs": [],
   "source": [
    "import numpy as np\n",
    "import pandas as pd\n",
    "import matplotlib.pyplot as plt\n",
    "%matplotlib inline\n",
    "\n",
    "die = pd.DataFrame(\n",
    "    {\n",
    "        'Face': np.arange(1, 7),\n",
    "    }\n",
    ")\n",
    "roll_bins = np.arange(0.5, 7, 1)\n",
    "fig, axs = plt.subplots(3)\n",
    "fig.suptitle('Dice Rolls: 10, 1000, and 10000')\n",
    "axs[0].hist(die.sample(10, replace=True),bins=roll_bins);\n",
    "axs[1].hist(die.sample(1000, replace=True),bins=roll_bins);\n",
    "axs[2].hist(die.sample(10000, replace=True),bins=roll_bins);"
   ]
  }
 ],
 "metadata": {
  "kernelspec": {
   "display_name": "Python 3.9.13 64-bit",
   "language": "python",
   "name": "python3"
  },
  "language_info": {
   "name": "python",
   "version": "3.9.13"
  },
  "orig_nbformat": 4,
  "vscode": {
   "interpreter": {
    "hash": "aee8b7b246df8f9039afb4144a1f6fd8d2ca17a180786b69acc140d282b71a49"
   }
  }
 },
 "nbformat": 4,
 "nbformat_minor": 2
}
