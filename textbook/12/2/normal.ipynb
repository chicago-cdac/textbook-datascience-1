{
 "cells": [
  {
   "cell_type": "markdown",
   "metadata": {
    "id": "HtrRcRR0uFAM"
   },
   "source": [
    "# Normal Empirical Distribution"
   ]
  },
  {
   "cell_type": "markdown",
   "metadata": {
    "id": "EvrgC9pP1Rg4"
   },
   "source": [
    "Now, suppose I am not interested in each roll but in the average value of all the dice rolls of students in my classroom. I have 50 students present and each student rolls 1 die. I then take the mean of all 50 dice rolls. What is the probability distribution for the average dice roll? This is another question can be easily answered through simulation!"
   ]
  },
  {
   "cell_type": "markdown",
   "metadata": {
    "id": "3-gnT0Dp0qqf"
   },
   "source": [
    "Simulations use a computer to mimic real experiments. Returning to our dice-rolling example from the [the previous section](../1/uniform.ipynb), instead of asking all of my students to roll dice and take the mean 100s or 1000s of times to plot an empirical distribution (which would be both noisy and time consuming), I can have the computer do it for us. First, we can write code that does this experiment one time. We use `sample` to roll our die and `np.mean` to take the average."
   ]
  },
  {
   "cell_type": "code",
   "execution_count": 1,
   "metadata": {
    "colab": {
     "base_uri": "https://localhost:8080/"
    },
    "id": "hKfpyHL90qqg",
    "outputId": "c6b01859-fb15-4061-add9-b45b47395fe5"
   },
   "outputs": [
    {
     "name": "stderr",
     "output_type": "stream",
     "text": [
      "/usr/local/lib/python3.9/site-packages/numpy/core/fromnumeric.py:3430: FutureWarning: In a future version, DataFrame.mean(axis=None) will return a scalar mean over the entire DataFrame. To retain the old behavior, use 'frame.mean(axis=0)' or just 'frame.mean()'\n",
      "  return mean(axis=axis, dtype=dtype, out=out, **kwargs)\n"
     ]
    },
    {
     "data": {
      "text/plain": [
       "Face    3.54\n",
       "dtype: float64"
      ]
     },
     "execution_count": 1,
     "metadata": {},
     "output_type": "execute_result"
    }
   ],
   "source": [
    "import numpy as np\n",
    "import pandas as pd\n",
    "import matplotlib.pyplot as plt\n",
    "%matplotlib inline\n",
    "\n",
    "die = pd.DataFrame(\n",
    "    {\n",
    "        'Face': np.arange(1, 7),\n",
    "    }\n",
    ")\n",
    "np.mean(die.sample(50, replace=True))"
   ]
  },
  {
   "cell_type": "markdown",
   "metadata": {
    "id": "jw3scddc0qqg"
   },
   "source": [
    "The next step is to write a function that can repeat the experiment a certain number of times. We can do this using a `for loop` and saving the results of each experiment in a `numpy` array."
   ]
  },
  {
   "cell_type": "code",
   "execution_count": 2,
   "metadata": {
    "id": "vWcmm54V0qqg"
   },
   "outputs": [],
   "source": [
    "def face_mean_sim(nsim):\n",
    "    \"\"\"Simulates nsim repetions of 50 dice rolls and returns their sample mean.\"\"\"\n",
    "    means = np.array([])\n",
    "    for i in np.arange(nsim):\n",
    "        means = np.append(means, np.mean(die.sample(50, replace=True)))\n",
    "    return means"
   ]
  },
  {
   "cell_type": "markdown",
   "metadata": {
    "id": "XFod8VdI0qqg"
   },
   "source": [
    "The code below plots the empirical distributions of results from 100, 1000, and 10000 replications of the dice rolling experiment."
   ]
  },
  {
   "cell_type": "code",
   "execution_count": 3,
   "metadata": {
    "colab": {
     "base_uri": "https://localhost:8080/",
     "height": 585
    },
    "id": "2OAHXHU80qqg",
    "outputId": "f6b22a23-c817-4079-d9c7-f37b016cbadf"
   },
   "outputs": [
    {
     "data": {
      "image/png": "[encoded data removed]",
      "text/plain": [
       "<Figure size 576x576 with 3 Axes>"
      ]
     },
     "metadata": {
      "needs_background": "light"
     },
     "output_type": "display_data"
    }
   ],
   "source": [
    "fig, axs = plt.subplots(3, figsize=(8, 8))\n",
    "fig.suptitle('Mean Dice Roll Simulation: 100, 1000, and 10000')\n",
    "fig.tight_layout()\n",
    "axs[0].hist(face_mean_sim(100));\n",
    "axs[1].hist(face_mean_sim(1_000));\n",
    "axs[2].hist(face_mean_sim(10_000));"
   ]
  },
  {
   "cell_type": "markdown",
   "metadata": {
    "id": "YXasPZ5g0qqg"
   },
   "source": [
    "As we saw with our Uniform Distribution experiment, with larger numbers of experiments/samples our empirical distribution approaches the true probability distribution.\n",
    "\n",
    "Based on our empirical distribution, we can see that the average value of the dice rolls is symmetric and approximately bell-shaped with a mean of around 3.5. \n",
    "\n",
    "Using another important mathematical theorem, the Central Limit Theorem[^***], we can tell what probability distribution our empirical distribution is approaching. The Central Limit Theorem states that if you take sufficiently large random samples from a population with replacement, the distribution of sample means will be approximately normally distributed.\n",
    "\n",
    "As we are plotting the distribution means of samples from a uniform distribution, the resulting probability distribution will be approximately normal."
   ]
  },
  {
   "cell_type": "markdown",
   "metadata": {
    "id": "enl-eesG43G0"
   },
   "source": [
    "## Normal  Probability Distribution\n",
    "\n",
    "A normal distribution is symmetric and bell-shaped, giving it the nickname \"bell-curve\". This distribution is continuous and its pdf is defined by $P(X=x)=\\frac{1}{\\sigma \\sqrt{2\\pi}}e^{\\left(-\\frac{1}{2}\\left(\\frac{x-\\mu}{\\sigma}\\right)^{2}\\right)}$ and we can say $X \\sim N(\\mu,\\sigma)$, where $\\mu$ and $\\sigma$ are the mean and standard deviation of the distribution, respectively."
   ]
  },
  {
   "cell_type": "markdown",
   "metadata": {
    "id": "0VW8nyQG4Vot"
   },
   "source": [
    "We can use our simulated data to calculate the mean and standard deviation of our distribution, and we can check this work mathematically as well. According to the Central Limit Theorem, if the mean and standard deviation of the population you are sampling from are $\\mu$ and $σ$ respectively, then the mean and standard deviation of the distribution of sample means are $\\mu$ and $\\frac{σ}{\\sqrt{n}}$ respectively where n is the sample size. Therefore, since we know from above that the mean of the uniform dice rolling distribution is 3.5 and the standard deviation is 1.71, the mean of the distribution of sample means is also 3.5 and the standard deviation is $\\frac{1.71}{\\sqrt{50}} = 0.24$. Let's check this using our empirical distribution."
   ]
  },
  {
   "cell_type": "code",
   "execution_count": 4,
   "metadata": {
    "colab": {
     "base_uri": "https://localhost:8080/"
    },
    "id": "LhLQc4oD3zUB",
    "outputId": "1c38e57a-04d1-4d1b-ddd3-9dace39f8bf0"
   },
   "outputs": [
    {
     "data": {
      "text/plain": [
       "3.4967740000000007"
      ]
     },
     "execution_count": 4,
     "metadata": {},
     "output_type": "execute_result"
    }
   ],
   "source": [
    "np.mean(face_mean_sim(10_000))"
   ]
  },
  {
   "cell_type": "code",
   "execution_count": 5,
   "metadata": {
    "colab": {
     "base_uri": "https://localhost:8080/"
    },
    "id": "05URqhM234nV",
    "outputId": "8599cfc7-2f21-4e2c-93e5-a140323e1eba"
   },
   "outputs": [
    {
     "data": {
      "text/plain": [
       "0.23814748707471173"
      ]
     },
     "execution_count": 5,
     "metadata": {},
     "output_type": "execute_result"
    }
   ],
   "source": [
    "np.std(face_mean_sim(10_000))"
   ]
  },
  {
   "cell_type": "markdown",
   "metadata": {
    "id": "cnPp3SB24KBQ"
   },
   "source": [
    "Our empirical distribution matches what we expect to see mathematically according to the Central Limit Theorem!"
   ]
  },
  {
   "cell_type": "markdown",
   "metadata": {
    "id": "T4wWMnTK3tpE"
   },
   "source": [
    "### Bias and Variance\n",
    "There is something else that is clear from the histograms we saw above. As the number of simulations increases, the distribution has less spread or *variability*. The amount that the value of a statistic varies based on different samples is known as *sampling variability*. Probabilistic samples are useful in making inferences because we can use laws of probability that we learned in the previous chapter to help quantify and understand the uncertainty that is present in our statistical estimates. "
   ]
  },
  {
   "cell_type": "markdown",
   "metadata": {
    "id": "v-gYvLdY3tpF"
   },
   "source": [
    "In general, as sample size increases, variance decreases. We can calculate the mean and variance of our statistic using the empirical distribution we simulated. Statistics with mean that approaches the true value of the parameter being estimated are known as unbiased estimators. The bias of the estimator is the amount the estimator deviates from the true parameter. The figure below shows how bias and variance affect estimation.\n",
    "\n",
    "![biasvariance](bias-variance.png)\n",
    "\n",
    "Assuming the true value is the bullseye on the target, you want your estimates to hit that bullseye reliably. This means you want both low bias and low variance. However, this is often a difficult problem, especially in machine learning, due to a concept known as the bias-variance tradeoff. This phenomenon will be discussed further in later chapters when we discuss machine learning and generalizability error. For now, it is important to understand how bias and variance affect the accuracy of estimates. Estimates with high bias are far from the true value, while estimates with high variance are far from each other."
   ]
  },
  {
   "cell_type": "markdown",
   "metadata": {},
   "source": [
    "[^***]: For more information on the Central Limit Theorem, see the online Statistics Textbook at ![OpenStax](https://cnx.org/contents/MBiUQmmY@25.39:MVbL0vFO@10/Introduction)"
   ]
  }
 ],
 "metadata": {
  "kernelspec": {
   "display_name": "Python 3.9.13 64-bit",
   "language": "python",
   "name": "python3"
  },
  "language_info": {
   "codemirror_mode": {
    "name": "ipython",
    "version": 3
   },
   "file_extension": ".py",
   "mimetype": "text/x-python",
   "name": "python",
   "nbconvert_exporter": "python",
   "pygments_lexer": "ipython3",
   "version": "3.9.13"
  },
  "vscode": {
   "interpreter": {
    "hash": "aee8b7b246df8f9039afb4144a1f6fd8d2ca17a180786b69acc140d282b71a49"
   }
  }
 },
 "nbformat": 4,
 "nbformat_minor": 1
}
