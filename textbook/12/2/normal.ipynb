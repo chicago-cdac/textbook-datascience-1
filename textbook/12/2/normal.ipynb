{
  "cells": [
    {
      "cell_type": "markdown",
      "metadata": {
        "id": "HtrRcRR0uFAM"
      },
      "source": [
        "# Normal Empirical Distribution"
      ]
    },
    {
      "cell_type": "markdown",
      "metadata": {
        "id": "EvrgC9pP1Rg4"
      },
      "source": [
        "Now, suppose I am not interested in each roll but in the average value of all the dice rolls of students in my classroom. I have 50 students present and each student rolls 1 die. I then take the mean of all 50 dice rolls. What is the probability distribution for the average dice roll? This is another question can be easily answered through simulation!"
      ]
    },
    {
      "cell_type": "markdown",
      "metadata": {
        "id": "3-gnT0Dp0qqf"
      },
      "source": [
        "Simulations use a computer to mimic real experiments. Returning to our dice-rolling example from the [the previous section](../1/uniform.ipynb), instead of asking all of my students to roll dice and take the mean 100s or 1000s of times to plot an empirical distribution (which would be both cumbersome and time consuming), I can have the computer do it for us. First, we can write code that does this experiment one time. We use `sample` to roll our die and `np.mean` to take the average."
      ]
    },
    {
      "cell_type": "code",
      "execution_count": null,
      "metadata": {
        "colab": {
          "base_uri": "https://localhost:8080/"
        },
        "id": "hKfpyHL90qqg",
        "outputId": "dd3d4011-2fc9-4a26-dbef-80989804cd1b"
      },
      "outputs": [
        {
          "output_type": "execute_result",
          "data": {
            "text/plain": [
              "Face    3.6\n",
              "dtype: float64"
            ]
          },
          "metadata": {},
          "execution_count": 2
        }
      ],
      "source": [
        "import numpy as np\n",
        "import pandas as pd\n",
        "import matplotlib.pyplot as plt\n",
        "%matplotlib inline\n",
        "\n",
        "die = pd.DataFrame(\n",
        "    {\n",
        "        'Face': np.arange(1, 7),\n",
        "    }\n",
        ")\n",
        "np.mean(die.sample(50, replace=True))"
      ]
    },
    {
      "cell_type": "markdown",
      "metadata": {
        "id": "jw3scddc0qqg"
      },
      "source": [
        "The next step is to write a function that can repeat the experiment a certain number of times. We can do this using a `for loop` and saving the results of each experiment in a `numpy` array."
      ]
    },
    {
      "cell_type": "code",
      "execution_count": null,
      "metadata": {
        "id": "vWcmm54V0qqg"
      },
      "outputs": [],
      "source": [
        "def face_mean_sim(nsim):\n",
        "    \"\"\"Simulates nsim repetions of 50 dice rolls and returns their sample mean.\"\"\"\n",
        "    np.random.seed(1234)\n",
        "    means = np.array([])\n",
        "    for i in np.arange(nsim):\n",
        "        means = np.append(means, np.mean(die.sample(50, replace=True)))\n",
        "    return means"
      ]
    },
    {
      "cell_type": "markdown",
      "source": [
        "If we repeat the experiment 10 times we get an idea of what the means look like. Plotting a histogram we see the empirical distribution of these 10 experiments. In particular, we find that 3 of these 10 experiments have a mean of around 3.45, while all experiments have a mean in the range 3.22 to 3.76."
      ],
      "metadata": {
        "id": "BLV1ElBdDYRC"
      }
    },
    {
      "cell_type": "code",
      "source": [
        "ten_runs = face_mean_sim(10)\n",
        "ten_runs"
      ],
      "metadata": {
        "colab": {
          "base_uri": "https://localhost:8080/"
        },
        "id": "vdGI2hEGDTn-",
        "outputId": "88008e86-b9bb-4869-c128-3242640e9180"
      },
      "execution_count": null,
      "outputs": [
        {
          "output_type": "execute_result",
          "data": {
            "text/plain": [
              "array([3.42, 3.5 , 3.24, 3.44, 3.22, 3.6 , 3.08, 3.76, 3.66, 3.46])"
            ]
          },
          "metadata": {},
          "execution_count": 3
        }
      ]
    },
    {
      "cell_type": "code",
      "source": [
        "plt.hist(ten_runs);\n",
        "plt.xlabel('Mean')\n",
        "plt.ylabel('Frequency')\n",
        "plt.title('Mean Dice Roll Simulation: Ten Runs')\n",
        "plt.show() "
      ],
      "metadata": {
        "colab": {
          "base_uri": "https://localhost:8080/",
          "height": 295
        },
        "id": "hWV_0YWlD7C5",
        "outputId": "ffff25a8-2fb5-48ff-d139-89c5f672febb"
      },
      "execution_count": null,
      "outputs": [
        {
          "output_type": "display_data",
          "data": {
            "text/plain": [
              "<Figure size 432x288 with 1 Axes>"
            ],
            "image/png": "[encoded data removed]"
          },
          "metadata": {
            "needs_background": "light"
          }
        }
      ]
    },
    {
      "cell_type": "markdown",
      "metadata": {
        "id": "XFod8VdI0qqg"
      },
      "source": [
        "It is difficult to determine what this distribution looks like with only 10 runs, so we experiment by ploting the empirical distributions of results from 100, 1000, and 10000 replications of the dice rolling experiment."
      ]
    },
    {
      "cell_type": "code",
      "execution_count": null,
      "metadata": {
        "colab": {
          "base_uri": "https://localhost:8080/",
          "height": 585
        },
        "id": "2OAHXHU80qqg",
        "outputId": "2121369d-e903-4d89-b726-5abf80360976"
      },
      "outputs": [
        {
          "output_type": "display_data",
          "data": {
            "text/plain": [
              "<Figure size 576x576 with 3 Axes>"
            ],
            "image/png": "[encoded data removed]"
          },
          "metadata": {
            "needs_background": "light"
          }
        }
      ],
      "source": [
        "fig, axs = plt.subplots(3, figsize=(8, 8))\n",
        "fig.suptitle('Mean Dice Roll Simulation: 100, 1000, and 10000', fontsize=16)\n",
        "fig.tight_layout()\n",
        "axs[0].hist(face_mean_sim(100), 30);\n",
        "axs[1].hist(face_mean_sim(1_000), 30);\n",
        "axs[2].hist(face_mean_sim(10_000),30);\n",
        "# axs[0].tick_params(axis='both', which='major', labelsize=10)\n",
        "# axs[1].tick_params(axis='both', which='major', labelsize=10)\n",
        "# axs[2].tick_params(axis='both', which='major', labelsize=10)\n",
        "\n"
      ]
    },
    {
      "cell_type": "code",
      "source": [
        "print(axs)"
      ],
      "metadata": {
        "colab": {
          "base_uri": "https://localhost:8080/"
        },
        "id": "5pHD4V9KiEyd",
        "outputId": "c2245e64-dda8-442c-abab-aa77341a711d"
      },
      "execution_count": null,
      "outputs": [
        {
          "output_type": "stream",
          "name": "stdout",
          "text": [
            "[<matplotlib.axes._subplots.AxesSubplot object at 0x7f80cbe4e610>\n",
            " <matplotlib.axes._subplots.AxesSubplot object at 0x7f80caf2dcd0>\n",
            " <matplotlib.axes._subplots.AxesSubplot object at 0x7f80caee70d0>]\n"
          ]
        }
      ]
    },
    {
      "cell_type": "markdown",
      "metadata": {
        "id": "YXasPZ5g0qqg"
      },
      "source": [
        "As we saw with our Uniform Distribution experiment, with larger numbers of experiments/samples our empirical distribution approaches the true probability distribution.\n",
        "\n",
        "Based on our empirical distribution with 10000 experiments, we can see that the average value of the dice rolls is symmetric and approximately bell-shaped with a mean of around 3.5. In fact, these properties of being approximately bell-shaped and symmetric are distinct to the empirical *normal distribution*.\n",
        "\n",
        "As we are plotting the distribution means of samples from a uniform distribution, the resulting probability distribution will always take on this shape, that is it will always be approximately normal, as long as the sample size is sufficiently large. This is due to an important mathematical theorem, the *Central Limit Theorem*[^***]. The Central Limit Theorem (CLT) states that if you take sufficiently large random samples from a population with replacement, the distribution of sample means will be approximately normally distributed. The CLT is a property of sample means and holds true for samples from *any* distribution, not just the uniform distribution of dice rolls. For example, the distribution of average heights, average weights, and average test scores of data science students would all be approximately normally distributed as long as we take large enough random samples from our population with replacement.\n",
        "\n"
      ]
    },
    {
      "cell_type": "markdown",
      "metadata": {
        "id": "enl-eesG43G0"
      },
      "source": [
        "## Normal  Probability Distribution\n",
        "\n",
        "A normal distribution is symmetric and bell-shaped, giving it the nickname \"bell-curve\". This distribution is continuous and its pdf is defined by $P(X=x)=\\frac{1}{\\sigma \\sqrt{2\\pi}}e^{\\left(-\\frac{1}{2}\\left(\\frac{x-\\mu}{\\sigma}\\right)^{2}\\right)}$ and we can say $X \\sim N(\\mu,\\sigma)$, where $\\mu$ and $\\sigma$ are the mean and standard deviation of the distribution, respectively."
      ]
    },
    {
      "cell_type": "markdown",
      "metadata": {
        "id": "0VW8nyQG4Vot"
      },
      "source": [
        "In the (previous section)[../1/uniform.ipynb] we calculated the mean and standard deviation of the uniform distribution of our dice rolls. The CLT allows us to use these to learn the mean (μ) and standard deviation (σ) of our distribution of sample means. According to the Central Limit Theorem, if the mean and standard deviation of the population you are sampling from are $\\mu$ and $\\sigma$ respectively, then the mean and standard deviation of the distribution of sample means are $\\mu$ and $\\frac{σ}{\\sqrt{n}}$ respectively where n is the sample size. Therefore, since we know from earlier that the mean of the uniform dice rolling distribution is 3.5 and the standard deviation is 1.71, the mean of the distribution of sample means is also 3.5 and the standard deviation is $\\frac{1.71}{\\sqrt{50}} = 0.24$. Let's investigate this further using our empirical distribution."
      ]
    },
    {
      "cell_type": "code",
      "execution_count": null,
      "metadata": {
        "colab": {
          "base_uri": "https://localhost:8080/"
        },
        "id": "LhLQc4oD3zUB",
        "outputId": "1c38e57a-04d1-4d1b-ddd3-9dace39f8bf0"
      },
      "outputs": [
        {
          "data": {
            "text/plain": [
              "3.4967740000000007"
            ]
          },
          "execution_count": 4,
          "metadata": {},
          "output_type": "execute_result"
        }
      ],
      "source": [
        "np.mean(face_mean_sim(10_000))"
      ]
    },
    {
      "cell_type": "code",
      "execution_count": null,
      "metadata": {
        "colab": {
          "base_uri": "https://localhost:8080/"
        },
        "id": "05URqhM234nV",
        "outputId": "8599cfc7-2f21-4e2c-93e5-a140323e1eba"
      },
      "outputs": [
        {
          "data": {
            "text/plain": [
              "0.23814748707471173"
            ]
          },
          "execution_count": 5,
          "metadata": {},
          "output_type": "execute_result"
        }
      ],
      "source": [
        "np.std(face_mean_sim(10_000))"
      ]
    },
    {
      "cell_type": "markdown",
      "metadata": {
        "id": "cnPp3SB24KBQ"
      },
      "source": [
        "Our empirical distribution matches what we expected to see mathematically according to the Central Limit Theorem!"
      ]
    },
    {
      "cell_type": "markdown",
      "metadata": {
        "id": "T4wWMnTK3tpE"
      },
      "source": [
        "### Bias and Variance\n",
        "There is something else that is clear from the histograms we saw above. As the number of simulations increases, the distribution appears taller in the center and less wide at the base, it has reduced spread or *variability*. The amount that a value varies based on different samples is known as *sampling variability*. Probabilistic samples are useful in making inferences because we can use laws of probability to help quantify and understand the uncertainty that is present in our statistical estimates. "
      ]
    },
    {
      "cell_type": "markdown",
      "metadata": {
        "id": "v-gYvLdY3tpF"
      },
      "source": [
        "In general, as sample size $n$ increases, variance, $\\frac{σ}{\\sqrt{n}}$, decreases. We can calculate the mean and variance of our statistic using the empirical distribution we simulated. Statistics with mean that approaches the true value of the parameter being estimated are known as unbiased estimators. The bias of the estimator is the amount the estimator deviates from the true parameter. The figure below shows how bias and variance affect estimation.\n",
        "\n",
        "![biasvariance](bias-variance.png)\n",
        "\n",
        "Assuming the true value is the bullseye on the target, you want your estimates to hit that bullseye reliably. This means you want both low bias and low variance. However, this is often a difficult problem, especially in machine learning, due to a concept known as the bias-variance tradeoff. This phenomenon will be discussed further in later chapters when we discuss machine learning and generalizability error. For now, it is important to understand how bias and variance affect the accuracy of estimates. Estimates with high bias are far from the true value, while estimates with high variance are far from each other."
      ]
    },
    {
      "cell_type": "markdown",
      "metadata": {
        "id": "wrdpcFZg8BaL"
      },
      "source": [
        "[^***]: For more information on the Central Limit Theorem, see the online Statistics Textbook at [OpenStax](https://cnx.org/contents/MBiUQmmY@25.39:MVbL0vFO@10/Introduction)"
      ]
    }
  ],
  "metadata": {
    "kernelspec": {
      "display_name": "Python 3.9.13 64-bit",
      "language": "python",
      "name": "python3"
    },
    "language_info": {
      "codemirror_mode": {
        "name": "ipython",
        "version": 3
      },
      "file_extension": ".py",
      "mimetype": "text/x-python",
      "name": "python",
      "nbconvert_exporter": "python",
      "pygments_lexer": "ipython3",
      "version": "3.9.13"
    },
    "vscode": {
      "interpreter": {
        "hash": "aee8b7b246df8f9039afb4144a1f6fd8d2ca17a180786b69acc140d282b71a49"
      }
    },
    "colab": {
      "provenance": []
    }
  },
  "nbformat": 4,
  "nbformat_minor": 0
}