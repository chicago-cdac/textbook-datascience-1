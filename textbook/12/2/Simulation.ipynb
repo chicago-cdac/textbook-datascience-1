{
 "cells": [
  {
   "cell_type": "markdown",
   "metadata": {},
   "source": [
    "## Simulation\n",
    "\n",
    "Now, suppose I am not interested in each roll but in the average value of all the dice rolls of students in my classroom. I have 50 students present and each student rolls 1 die. I then take the mean of all 50 dice rolls. What is the probability distribution for the average dice roll? This question can be easily answered through simulation! Simulations use a computer to mimic real experiments. Instead of asking all of my students to roll dice and take the mean 100s or 1000s of times to plot an empirical distribution, which would be both noisy and time consuming, I can have the computer do it for us. First, we can write code that does this experiment one time. We use `sample` to roll our die and `np.mean` to take the average. "
   ]
  },
  {
   "cell_type": "code",
   "execution_count": 1,
   "metadata": {},
   "outputs": [
    {
     "data": {
      "text/plain": [
       "Face    3.24\n",
       "dtype: float64"
      ]
     },
     "execution_count": 1,
     "metadata": {},
     "output_type": "execute_result"
    }
   ],
   "source": [
    "import numpy as np\n",
    "import pandas as pd\n",
    "import matplotlib.pyplot as plt\n",
    "%matplotlib inline\n",
    "\n",
    "die = pd.DataFrame(\n",
    "    {\n",
    "        'Face': np.arange(1, 7),\n",
    "    }\n",
    ")\n",
    "np.mean(die.sample(50, replace=True))"
   ]
  },
  {
   "cell_type": "code",
   "execution_count": 2,
   "metadata": {},
   "outputs": [],
   "source": [
    "def face_mean_sim(nsim):\n",
    "    \"\"\"Simulates nsim repetions of 50 dice rolls and returns their sample mean.\"\"\"\n",
    "    means = np.array([])\n",
    "    for i in np.arange(nsim):\n",
    "        means = np.append(means, np.mean(die.sample(50, replace=True)))\n",
    "    return means"
   ]
  },
  {
   "cell_type": "code",
   "execution_count": 4,
   "metadata": {},
   "outputs": [
    {
     "data": {
      "image/png": "[encoded data removed]",
      "text/plain": [
       "<Figure size 432x288 with 3 Axes>"
      ]
     },
     "metadata": {
      "needs_background": "light"
     },
     "output_type": "display_data"
    }
   ],
   "source": [
    "fig, axs = plt.subplots(3)\n",
    "fig.suptitle('Mean Dice Roll Simulation: 100, 1000, and 10000')\n",
    "axs[0].hist(face_mean_sim(100));\n",
    "axs[1].hist(face_mean_sim(1000));\n",
    "axs[2].hist(face_mean_sim(10000));"
   ]
  },
  {
   "cell_type": "markdown",
   "metadata": {},
   "source": [
    "Based on our empirical distribution, we can see that the average value of the dice rolls is approximately normally distributed (bell-shaped) with a mean of around 3.5. We can use our simulated data to calculate the mean and standard deviation of our distribution, and we can check this work mathematically as well. However, doing so involves calculus and is beyond the scope of this course. Therefore, we are able to use simulation to study what would be a difficult or intractible mathematical problem. \n",
    "(Central Limit Theorem here???)"
   ]
  }
 ],
 "metadata": {
  "kernelspec": {
   "display_name": "Python 3.9.13 64-bit",
   "language": "python",
   "name": "python3"
  },
  "language_info": {
   "codemirror_mode": {
    "name": "ipython",
    "version": 3
   },
   "file_extension": ".py",
   "mimetype": "text/x-python",
   "name": "python",
   "nbconvert_exporter": "python",
   "pygments_lexer": "ipython3",
   "version": "3.9.13"
  },
  "orig_nbformat": 4,
  "vscode": {
   "interpreter": {
    "hash": "aee8b7b246df8f9039afb4144a1f6fd8d2ca17a180786b69acc140d282b71a49"
   }
  }
 },
 "nbformat": 4,
 "nbformat_minor": 2
}
