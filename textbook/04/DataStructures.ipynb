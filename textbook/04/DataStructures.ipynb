{
 "cells": [
  {
   "cell_type": "markdown",
   "metadata": {},
   "source": [
    "# Collections of Data\n",
    "\n",
    "We have previously learned several ways to manipulate data using Python (and will investiagte more later in this book). Some ways of manipulating or analyzing data require (or are made much simpler when) data to be in a certain format. Python and its libraries provide many ways to group data together. In this chapter and the next, we will discuss some important ones:\n",
    "\n",
    "* Lists\n",
    "* Dictionaries\n",
    "* Arrays\n",
    "* DataFrames (discussed in the next chapter)\n",
    "\n",
    "The above are listed in order of increasing functionality and sophistication and, in general, you should use the simplest one that meets your needs."
   ]
  }
 ],
 "metadata": {
  "kernelspec": {
   "display_name": "Python 3.9.13 64-bit",
   "language": "python",
   "name": "python3"
  },
  "language_info": {
   "name": "python",
   "version": "3.9.13"
  },
  "orig_nbformat": 4,
  "vscode": {
   "interpreter": {
    "hash": "aee8b7b246df8f9039afb4144a1f6fd8d2ca17a180786b69acc140d282b71a49"
   }
  }
 },
 "nbformat": 4,
 "nbformat_minor": 2
}
