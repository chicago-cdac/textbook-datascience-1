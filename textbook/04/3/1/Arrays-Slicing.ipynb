{
 "cells": [
  {
   "cell_type": "markdown",
   "id": "2eeb5048",
   "metadata": {},
   "source": [
    "# Indexing and Slicing"
   ]
  },
  {
   "cell_type": "markdown",
   "id": "89700eb9",
   "metadata": {},
   "source": [
    "Quite often, certain data needs to be extracted from data structures for a myriad of purposes. Each data structure has particular ways in which data can be accessed or indexed. In this section, we will discuss common methods used to access data from arrays. Let's start by making an array of string elements called `flowers`:"
   ]
  },
  {
   "cell_type": "code",
   "execution_count": 1,
   "id": "ac3fad2b",
   "metadata": {},
   "outputs": [
    {
     "data": {
      "text/plain": [
       "array(['orchid', 'rose', 'lilac', 'peony', 'tulip', 'dahlia', 'lily',\n",
       "       'violet'], dtype='<U6')"
      ]
     },
     "execution_count": 1,
     "metadata": {},
     "output_type": "execute_result"
    }
   ],
   "source": [
    "import numpy as np\n",
    "flowers = np.array(['orchid', 'rose', 'lilac', 'peony', 'tulip', 'dahlia', 'lily', 'violet'])\n",
    "flowers"
   ]
  },
  {
   "cell_type": "markdown",
   "id": "d8b545b5",
   "metadata": {},
   "source": [
    "1D arrays can be indexed similarly to how lists are indexed, as mentioned in the [Lists](../../1/Lists) section of Chapter 4.\n",
    "\n",
    "A single colon (:) can be used to slice a range of elements. If used between the numbers *j* and *k*, slicing the elements of an array will return all elements between *j* and *k*, **excluding** ***k***:"
   ]
  },
  {
   "cell_type": "code",
   "execution_count": 2,
   "id": "70d9d0c6",
   "metadata": {},
   "outputs": [
    {
     "data": {
      "text/plain": [
       "array(['lilac', 'peony', 'tulip', 'dahlia'], dtype='<U6')"
      ]
     },
     "execution_count": 2,
     "metadata": {},
     "output_type": "execute_result"
    }
   ],
   "source": [
    "flowers[2:6]"
   ]
  },
  {
   "cell_type": "markdown",
   "id": "0ada3d3b",
   "metadata": {},
   "source": [
    "When slicing with a single colon to the <u>left</u> of the *jth* index, all elements from the beginning of the array to the *jth* index, **excluding the element at the *jth* index**, will be returned:"
   ]
  },
  {
   "cell_type": "code",
   "execution_count": 3,
   "id": "89e9161b",
   "metadata": {},
   "outputs": [
    {
     "data": {
      "text/plain": [
       "array(['orchid', 'rose', 'lilac', 'peony', 'tulip'], dtype='<U6')"
      ]
     },
     "execution_count": 3,
     "metadata": {},
     "output_type": "execute_result"
    }
   ],
   "source": [
    "flowers[:5]"
   ]
  },
  {
   "cell_type": "markdown",
   "id": "41ba7ec0",
   "metadata": {},
   "source": [
    "When slicing with a single colon to the <u>right</u> of the *jth* index, all elements from the *jth* index to the very end of the array will be returned:"
   ]
  },
  {
   "cell_type": "code",
   "execution_count": 4,
   "id": "03869836",
   "metadata": {},
   "outputs": [
    {
     "data": {
      "text/plain": [
       "array(['dahlia', 'lily', 'violet'], dtype='<U6')"
      ]
     },
     "execution_count": 4,
     "metadata": {},
     "output_type": "execute_result"
    }
   ],
   "source": [
    "flowers[5:]"
   ]
  },
  {
   "cell_type": "markdown",
   "id": "ada871ae",
   "metadata": {},
   "source": [
    "The double colon (::) is used to access elements with a specified step. For example, if we wanted to get an array of every other element in `flowers` starting from the penultimate element working our way to the <u>front</u> of the array (including the very first element), we could do:"
   ]
  },
  {
   "cell_type": "code",
   "execution_count": 5,
   "id": "90bd9ccb",
   "metadata": {
    "scrolled": true
   },
   "outputs": [
    {
     "data": {
      "text/plain": [
       "array(['lily', 'tulip', 'lilac', 'orchid'], dtype='<U6')"
      ]
     },
     "execution_count": 5,
     "metadata": {},
     "output_type": "execute_result"
    }
   ],
   "source": [
    "flowers[-2::-2]"
   ]
  },
  {
   "cell_type": "markdown",
   "id": "a6578d67",
   "metadata": {},
   "source": [
    "The above indexing method counts from the end of the array using a negative number (remember that when doing **negative indexing**, <u> the last element in a list or array is -1, not 0</u>). The spacing that we used above (-2) tells Python to count every second element toward the <u>left</u> direction, as opposed to counting every other element toward the right if we used a spacing of 2."
   ]
  },
  {
   "cell_type": "markdown",
   "id": "8f1e37bc",
   "metadata": {},
   "source": [
    "When working with a multidimensional array, the same rules apply, but we have to keep in mind that the arrays within the a 2D array themselves have indices. Let's construct two more arrays called `fruits` and `pantone` and make a combined array with `flowers`."
   ]
  },
  {
   "cell_type": "code",
   "execution_count": 6,
   "id": "b74bf5a7",
   "metadata": {},
   "outputs": [
    {
     "data": {
      "text/plain": [
       "array([['orchid', 'rose', 'lilac', 'peony', 'tulip', 'dahlia', 'lily',\n",
       "        'violet'],\n",
       "       ['strawberry', 'banana', 'blueberry', 'pineapple', 'cherry',\n",
       "        'papaya', 'lychee', 'mango'],\n",
       "       ['emerald', 'polignac', 'saffron', 'fuchsia rose', 'marsala',\n",
       "        'ultra violet', 'mustard', 'lapis blue']], dtype='<U12')"
      ]
     },
     "execution_count": 6,
     "metadata": {},
     "output_type": "execute_result"
    }
   ],
   "source": [
    "fruits = np.array(['strawberry', 'banana', 'blueberry', 'pineapple', 'cherry', 'papaya', 'lychee', 'mango'])\n",
    "pantone = np.array(['emerald', 'polignac', 'saffron', 'fuchsia rose', 'marsala', 'ultra violet', 'mustard', 'lapis blue'])\n",
    "combined = np.row_stack((flowers, fruits, pantone))\n",
    "combined"
   ]
  },
  {
   "cell_type": "markdown",
   "id": "f8885b61",
   "metadata": {},
   "source": [
    "Now, we are working with an array of arrays. As such, we have to be able to determine the index of each array to be able to even access the individual elements within them. For instance, if we wanted to identify the 3rd color within `pantone`, we first have to be able to index that array:"
   ]
  },
  {
   "cell_type": "code",
   "execution_count": 7,
   "id": "da64d3e8",
   "metadata": {},
   "outputs": [
    {
     "data": {
      "text/plain": [
       "array(['emerald', 'polignac', 'saffron', 'fuchsia rose', 'marsala',\n",
       "       'ultra violet', 'mustard', 'lapis blue'], dtype='<U12')"
      ]
     },
     "execution_count": 7,
     "metadata": {},
     "output_type": "execute_result"
    }
   ],
   "source": [
    "combined[2]"
   ]
  },
  {
   "cell_type": "markdown",
   "id": "7568fc89",
   "metadata": {},
   "source": [
    "Once we can get that array, getting the 3rd element would be as easy as identifying the index within `pantone`"
   ]
  },
  {
   "cell_type": "code",
   "execution_count": 8,
   "id": "1f598df5",
   "metadata": {},
   "outputs": [
    {
     "data": {
      "text/plain": [
       "'saffron'"
      ]
     },
     "execution_count": 8,
     "metadata": {},
     "output_type": "execute_result"
    }
   ],
   "source": [
    "combined[2][2]"
   ]
  },
  {
   "cell_type": "markdown",
   "id": "f28d8e84",
   "metadata": {},
   "source": [
    "To this point, all of these slicing mechanisms are interchangable between lists and arrays. However, if we wanted to take a particular index in all arrays of `combined`, the following would work for an array of arrays, but not a list of lists:"
   ]
  },
  {
   "cell_type": "code",
   "execution_count": 9,
   "id": "2fb35250",
   "metadata": {},
   "outputs": [
    {
     "data": {
      "text/plain": [
       "array(['lilac', 'blueberry', 'saffron'], dtype='<U12')"
      ]
     },
     "execution_count": 9,
     "metadata": {},
     "output_type": "execute_result"
    }
   ],
   "source": [
    "combined[:,2]"
   ]
  },
  {
   "cell_type": "markdown",
   "id": "a02ce2a8",
   "metadata": {},
   "source": [
    "Above, we returned an array of the 3rd element in every array of `combined`. Likewise, we could also take a range of indices in all arrays of `combined`:"
   ]
  },
  {
   "cell_type": "code",
   "execution_count": 10,
   "id": "b8967671",
   "metadata": {},
   "outputs": [
    {
     "data": {
      "text/plain": [
       "array([['lilac', 'peony', 'tulip', 'dahlia'],\n",
       "       ['blueberry', 'pineapple', 'cherry', 'papaya'],\n",
       "       ['saffron', 'fuchsia rose', 'marsala', 'ultra violet']],\n",
       "      dtype='<U12')"
      ]
     },
     "execution_count": 10,
     "metadata": {},
     "output_type": "execute_result"
    }
   ],
   "source": [
    "combined[:,2:6]"
   ]
  },
  {
   "cell_type": "markdown",
   "id": "0e31be38",
   "metadata": {},
   "source": [
    "The rules around slicing for lists and arrays can be a bit tricky. It's important to practice to get used to the exceptions of zero-indexing and to understand how to access arrays within arrays vs elements of said arrays."
   ]
  }
 ],
 "metadata": {
  "kernelspec": {
   "display_name": "Python 3 (ipykernel)",
   "language": "python",
   "name": "python3"
  },
  "language_info": {
   "codemirror_mode": {
    "name": "ipython",
    "version": 3
   },
   "file_extension": ".py",
   "mimetype": "text/x-python",
   "name": "python",
   "nbconvert_exporter": "python",
   "pygments_lexer": "ipython3",
   "version": "3.10.6"
  }
 },
 "nbformat": 4,
 "nbformat_minor": 5
}
