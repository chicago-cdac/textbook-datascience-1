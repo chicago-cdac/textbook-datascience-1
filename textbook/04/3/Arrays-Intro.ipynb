{
 "cells": [
  {
   "cell_type": "markdown",
   "id": "c6234d0a",
   "metadata": {},
   "source": [
    "# Arrays\n",
    "*Evelyn Campbell, Ph.D.*"
   ]
  },
  {
   "cell_type": "markdown",
   "id": "e72d9bce",
   "metadata": {},
   "source": [
    "An *array* is a data structure that consists of a collection of elements organized into a grid-like shape. In Python, arrays can be one-dimensional, akin to a list, or multidimensional (2D, 3D, etc.). However, unlike a list, an array consists of elements that are all of the same data type. This makes arrays ideal for convienent for storage and fast manipulation of data elements. Arrays are offered through the `NumPy` library, and are often used in conjunction with other Python libraries, such as `pandas`, `SciPy`, and `Scikit-learn`. We will explore arrays in this section, along with commonly used functions used with arrays."
   ]
  },
  {
   "cell_type": "markdown",
   "id": "77369985",
   "metadata": {},
   "source": [
    "To make an array, we first need to import `NumPy`. We can then build an array from a list using the `np.array()` function."
   ]
  },
  {
   "cell_type": "code",
   "execution_count": 2,
   "id": "ab8b729c",
   "metadata": {},
   "outputs": [
    {
     "data": {
      "text/plain": [
       "array([30, 50, 70, 90])"
      ]
     },
     "execution_count": 2,
     "metadata": {},
     "output_type": "execute_result"
    }
   ],
   "source": [
    "import numpy as np\n",
    "\n",
    "my_list = [30, 50, 70, 90]\n",
    "my_array = np.array(my_list)\n",
    "my_array"
   ]
  },
  {
   "cell_type": "markdown",
   "id": "0b31777b",
   "metadata": {},
   "source": [
    "Another way an array can be made is by using the `np.arange()` function. With this function, one can build an array with a given inclusive start value and exclusive stop value."
   ]
  },
  {
   "cell_type": "code",
   "execution_count": 3,
   "id": "9f09fedf",
   "metadata": {},
   "outputs": [
    {
     "data": {
      "text/plain": [
       "array([ 4,  6,  8, 10])"
      ]
     },
     "execution_count": 3,
     "metadata": {},
     "output_type": "execute_result"
    }
   ],
   "source": [
    "my_array2 = np.arange(4, 11, 2)\n",
    "my_array2"
   ]
  },
  {
   "cell_type": "markdown",
   "id": "ed9c9a2b",
   "metadata": {},
   "source": [
    "Above, we made a one-dimensional array with four elements. We started the array at 4 and stopped it at 11. Because we specified the spacing as 2, our array gave us the values 4, 6, 8, and 10 because 11 is exclusive. Therefore, the `np.arange()` function will evenly space out the elements of our array just before the stop value."
   ]
  },
  {
   "cell_type": "markdown",
   "id": "7e71b117",
   "metadata": {},
   "source": [
    "As previously stated, arrays are a data structure that allow for fast calculations. For example, we can easily multiply our two arrays to obtain a new array of values. "
   ]
  },
  {
   "cell_type": "code",
   "execution_count": 4,
   "id": "a8c411f9",
   "metadata": {},
   "outputs": [
    {
     "data": {
      "text/plain": [
       "array([120, 300, 560, 900])"
      ]
     },
     "execution_count": 4,
     "metadata": {},
     "output_type": "execute_result"
    }
   ],
   "source": [
    "my_array3 = my_array * my_array2\n",
    "my_array3"
   ]
  },
  {
   "cell_type": "markdown",
   "id": "2c972b46",
   "metadata": {},
   "source": [
    "The resulting array consists of the products of element-by-element multiplication of the first two arrays. Keep in mind that when performing calculations with multiple arrays, the dimensions of the arrays must be compatible. A discussion on array shape compatibility in mathematical operations can be found in the referenced documentation on *Array Broadcasting in Numpy* below."
   ]
  },
  {
   "cell_type": "markdown",
   "id": "e7cefaca",
   "metadata": {},
   "source": [
    "More simply, we can also perform a desired calculation on all elements of an array"
   ]
  },
  {
   "cell_type": "code",
   "execution_count": 5,
   "id": "1fa0c046",
   "metadata": {},
   "outputs": [
    {
     "data": {
      "text/plain": [
       "array([13., 22., 35., 52.])"
      ]
     },
     "execution_count": 5,
     "metadata": {},
     "output_type": "execute_result"
    }
   ],
   "source": [
    "my_array3 / 20 + 7"
   ]
  },
  {
   "cell_type": "markdown",
   "id": "5e772d89",
   "metadata": {},
   "source": [
    "Arrays can also be reshaped and combined. We can use the `np.reshape()` function to change the first two arrays from a 1-dimensional 1x4 array to a 2-dimensional 2x2 array."
   ]
  },
  {
   "cell_type": "code",
   "execution_count": 6,
   "id": "63529f0f",
   "metadata": {},
   "outputs": [],
   "source": [
    "reshape1 = np.reshape(my_array, (2,2))\n",
    "reshape2 = np.reshape(my_array2, (2,2))"
   ]
  },
  {
   "cell_type": "code",
   "execution_count": 7,
   "id": "49021c50",
   "metadata": {},
   "outputs": [
    {
     "data": {
      "text/plain": [
       "array([[30, 50],\n",
       "       [70, 90]])"
      ]
     },
     "execution_count": 7,
     "metadata": {},
     "output_type": "execute_result"
    }
   ],
   "source": [
    "reshape1"
   ]
  },
  {
   "cell_type": "code",
   "execution_count": 8,
   "id": "42083368",
   "metadata": {},
   "outputs": [
    {
     "data": {
      "text/plain": [
       "array([[ 4,  6],\n",
       "       [ 8, 10]])"
      ]
     },
     "execution_count": 8,
     "metadata": {},
     "output_type": "execute_result"
    }
   ],
   "source": [
    "reshape2"
   ]
  },
  {
   "cell_type": "markdown",
   "id": "a4b25524",
   "metadata": {},
   "source": [
    "When combining arrays that have the same shape, we can use the `np.row_stack()` and `np.column_stack()` functions to concatenate the rows and columns of multiple arrays, respectively. "
   ]
  },
  {
   "cell_type": "code",
   "execution_count": 9,
   "id": "136613c5",
   "metadata": {},
   "outputs": [
    {
     "data": {
      "text/plain": [
       "array([[30, 50,  4,  6],\n",
       "       [70, 90,  8, 10]])"
      ]
     },
     "execution_count": 9,
     "metadata": {},
     "output_type": "execute_result"
    }
   ],
   "source": [
    "np.column_stack((reshape1, reshape2))"
   ]
  },
  {
   "cell_type": "code",
   "execution_count": 10,
   "id": "4bef6c20",
   "metadata": {},
   "outputs": [
    {
     "data": {
      "text/plain": [
       "array([[30, 50],\n",
       "       [70, 90],\n",
       "       [ 4,  6],\n",
       "       [ 8, 10]])"
      ]
     },
     "execution_count": 10,
     "metadata": {},
     "output_type": "execute_result"
    }
   ],
   "source": [
    "np.row_stack((reshape1, reshape2))"
   ]
  },
  {
   "cell_type": "markdown",
   "id": "3b6bc94d",
   "metadata": {},
   "source": [
    "Construction and reshaping of arrays is an important consideration if you wish to perform aggregate functions on them. Some useful aggregate functions that can be performed on arrays include `np.min()`, `np.max()`, `np.sum()`, and `np.average()`. These functions can be applied to the entire array or across rows and columns."
   ]
  },
  {
   "cell_type": "code",
   "execution_count": 12,
   "id": "09ec58cd",
   "metadata": {},
   "outputs": [
    {
     "data": {
      "text/plain": [
       "30"
      ]
     },
     "execution_count": 12,
     "metadata": {},
     "output_type": "execute_result"
    }
   ],
   "source": [
    "np.min(reshape1)"
   ]
  },
  {
   "cell_type": "markdown",
   "id": "73ee6b57",
   "metadata": {},
   "source": [
    "To apply these functions across columns of the array, use an `axis=0` argument. To apply them across rows, use an `axis=1` argument. The returned array will be the same length as the number of columns or rows."
   ]
  },
  {
   "cell_type": "code",
   "execution_count": 11,
   "id": "4856de65",
   "metadata": {},
   "outputs": [
    {
     "data": {
      "text/plain": [
       "array([100, 140])"
      ]
     },
     "execution_count": 11,
     "metadata": {},
     "output_type": "execute_result"
    }
   ],
   "source": [
    "np.sum(reshape1, axis=0)"
   ]
  },
  {
   "cell_type": "code",
   "execution_count": 12,
   "id": "dc5a9be6",
   "metadata": {},
   "outputs": [
    {
     "data": {
      "text/plain": [
       "array([40., 80.])"
      ]
     },
     "execution_count": 12,
     "metadata": {},
     "output_type": "execute_result"
    }
   ],
   "source": [
    "np.average(reshape1, axis=1)"
   ]
  },
  {
   "cell_type": "markdown",
   "id": "92056223",
   "metadata": {},
   "source": [
    "A number of other aggregate functions can be applied to transform elements within an array. These include `np.sqrt()`, `np.square()`, `np.power()`, `np.log()`, and many others."
   ]
  },
  {
   "cell_type": "code",
   "execution_count": 13,
   "id": "a7ac141b",
   "metadata": {},
   "outputs": [
    {
     "data": {
      "text/plain": [
       "array([[  64,  216],\n",
       "       [ 512, 1000]])"
      ]
     },
     "execution_count": 13,
     "metadata": {},
     "output_type": "execute_result"
    }
   ],
   "source": [
    "np.power(reshape2, 3)"
   ]
  },
  {
   "cell_type": "markdown",
   "id": "6655852a",
   "metadata": {},
   "source": [
    "Documentation on the available aggregate functions offered by `NumPy` is listed below. In the next section, we will learn how to subset and index arrays."
   ]
  },
  {
   "cell_type": "markdown",
   "id": "8d8570bb",
   "metadata": {},
   "source": [
    "## Resources\n",
    "\n",
    "- <a target=\"_blank\" href=\"https://numpy.org/doc/stable/reference/routines.math.html\">Mathematical aggregate functions by NumPy</a>\n",
    "- <a target=\"_blank\" href=\"https://numpy.org/doc/1.20/user/theory.broadcasting.html\">Array Broadcasting in Numpy</a>"
   ]
  },
  {
   "cell_type": "code",
   "execution_count": null,
   "id": "0e5e643e",
   "metadata": {},
   "outputs": [],
   "source": []
  }
 ],
 "metadata": {
  "kernelspec": {
   "display_name": "Python 3 (ipykernel)",
   "language": "python",
   "name": "python3"
  },
  "language_info": {
   "codemirror_mode": {
    "name": "ipython",
    "version": 3
   },
   "file_extension": ".py",
   "mimetype": "text/x-python",
   "name": "python",
   "nbconvert_exporter": "python",
   "pygments_lexer": "ipython3",
   "version": "3.9.12"
  }
 },
 "nbformat": 4,
 "nbformat_minor": 5
}
