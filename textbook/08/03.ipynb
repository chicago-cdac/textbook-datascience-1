{
 "cells": [
  {
   "cell_type": "markdown",
   "id": "0fb30d10",
   "metadata": {},
   "source": [
    "# Numerical Data\n",
    "\n",
    "Numerical data is data that consists of number values that include whole number integers as well as fractional numbers, like decimals. Temperature collections, height recordings, and numerical grades in a class are examples of numerical data. Numerical data can be represented as histograms, scatter plots, and line graphs."
   ]
  },
  {
   "cell_type": "markdown",
   "id": "5190be46",
   "metadata": {},
   "source": [
    "## Histograms\n",
    "\n",
    "Histograms are a great way to view distributions within numerical data. In histogram plots, a numerical component of data is divided into what are called *bins*. As data points are assigned to their respective bins, the total number of data points in each bin is quantified and plotted, visualizing a distribution of values. In the upcoming exercise, we will explore how to visualize a distribution of values in our dataset.\n",
    "\n",
    "\n",
    "Let's examine military spending in the United States from 1960 to 2020. We can look at multiple ranges of dollar amounts spent on the military as our independent variable and organize them into bins. After, we can determine how many fiscal years fall into each of these bins and visualize the distribution. First, we will need to extract the data pertaining to the military spending in the United States. We will call it `hist_data`. Then, we will need to determine the minimum and maximum values of this subset of data so that we can determine the range of values:"
   ]
  },
  {
   "cell_type": "code",
   "execution_count": null,
   "id": "a45eb875",
   "metadata": {},
   "outputs": [],
   "source": [
    "hist_data = military[\"USA-USD\"]\n",
    "print(hist_data.min())\n",
    "print(hist_data.max())"
   ]
  },
  {
   "cell_type": "markdown",
   "id": "b21d2e3e",
   "metadata": {},
   "source": [
    "We can see that the minimum amount the United States spent on the military between the years of 1960 and 2020 was about \\\\$47 Billion, while the maximum amount was about \\\\$780 Billion. With this information, we can create an element called `binnum` that ranges from 0 to 801 so that it is inclusive of all the data values. We can make the interval of the range 100, giving us eight evenly spaced bins"
   ]
  },
  {
   "cell_type": "code",
   "execution_count": null,
   "id": "ccfb3ade",
   "metadata": {},
   "outputs": [],
   "source": [
    "binnum=range(0,801,100)\n",
    "list(binnum)"
   ]
  },
  {
   "cell_type": "markdown",
   "id": "55e62707",
   "metadata": {},
   "source": [
    "To visually graph the distribution of military spending, we will make a histogram by calling the `plt.hist()` funtion. Minimally, this function needs an input set of values, but additionally, we will specify the bins so that they are evenly distributed on the x-axis. We will do this by inputting `binnum` as our `bins` argument."
   ]
  },
  {
   "cell_type": "code",
   "execution_count": null,
   "id": "daae9915",
   "metadata": {
    "scrolled": true
   },
   "outputs": [],
   "source": [
    "plt.hist(hist_data, bins = binnum)\n",
    "plt.show()"
   ]
  },
  {
   "cell_type": "markdown",
   "id": "6043632d",
   "metadata": {},
   "source": [
    "Now that we have our plot, let's add additional details to make it more easily understable:"
   ]
  },
  {
   "cell_type": "code",
   "execution_count": null,
   "id": "942043f1",
   "metadata": {},
   "outputs": [],
   "source": [
    "plt.hist(hist_data, bins = binnum)\n",
    "plt.title(\"Distribution of Military Spending in the United States from 1960 to 2020\")\n",
    "plt.ylabel('Counts of Fiscal Years')\n",
    "plt.xlabel(\"Dollar Amount (USD)\")\n",
    "plt.show()"
   ]
  },
  {
   "cell_type": "markdown",
   "id": "5e52c962",
   "metadata": {},
   "source": [
    "Awesome! From this plot, we can see that the United States had the highest frequency of fiscal years where 0 - \\\\$100 billion was spent on the military. We can also see that the \\\\$400 - \\\\$500 billion bin had the lowest frequency with only two years spending that range of money."
   ]
  },
  {
   "cell_type": "markdown",
   "id": "1af7e1d3",
   "metadata": {},
   "source": [
    "## Scatter plots\n",
    "\n",
    "Next, we'll examine the use of a scatter plot as another visualization tool for numerical data. Scatter plots visualize two numerical variables against one another. For this exercise, let's examine the percentage of the GDP of Mexico spent on the military versus the absolute dollar amount (in USD) from 1960 - 2020. We can simply extract the columns for this data and assign them to `mex_gdp` and `mex_usd`, respectively. Then, we can plot this data using the `plt.scatter()` function."
   ]
  },
  {
   "cell_type": "code",
   "execution_count": null,
   "id": "deb40aae",
   "metadata": {},
   "outputs": [],
   "source": [
    "mex_gdp = military.iloc[:,5]\n",
    "mex_usd = military.iloc[:,2]\n",
    "\n",
    "\n",
    "plt.scatter(mex_gdp, mex_usd) #mex_gdp on the x-axis, mex_usd on the y axis\n",
    "plt.show()"
   ]
  },
  {
   "cell_type": "markdown",
   "id": "2c8c3406",
   "metadata": {},
   "source": [
    "We can see from the data points that there appears to be an overall negative association between the percentage of the GDP and the dollars spent. This relationship can be described through performing a linear regression. We can plot this regression analysis, along with the associated equation, to visualize this relationship."
   ]
  },
  {
   "cell_type": "code",
   "execution_count": null,
   "id": "85f333fa",
   "metadata": {},
   "outputs": [],
   "source": [
    "#did I do this correctly?\n",
    "m, b = np.polyfit(mex_gdp, mex_usd, 1)\n",
    "plt.plot(mex_gdp, m*mex_gdp+b)\n",
    "plt.text(7.2,0.49, 'y = ' + ' {:.2f}'.format(m) + 'x + ' + '{:.2f}'.format(b), size=15)\n",
    "plt.show()"
   ]
  },
  {
   "cell_type": "markdown",
   "id": "3ecc69a6",
   "metadata": {},
   "source": [
    "Results of the regression analysis confirms that there is a negative association between the percentage of the GDP and the dollars spent. Let's combine the plots of the data points and the regression analysis into one graph. We can also add descriptive details to the plot."
   ]
  },
  {
   "cell_type": "code",
   "execution_count": null,
   "id": "eaf1477b",
   "metadata": {},
   "outputs": [],
   "source": [
    "fig, ax = plt.subplots()\n",
    "plt.scatter(mex_gdp, mex_usd)\n",
    "plt.plot(mex_gdp, m*mex_gdp+b)\n",
    "plt.text(7.2,0.53, 'y = ' + '{:.2f}'.format(m) + 'x + ' + '{:.2f}'.format(b), size=15)\n",
    "plt.title(\"% GDP vs Absolute Spending on Military in Mexico from 1960 - 2020\", pad = 10)\n",
    "ax.set_ylabel('Spending in USD (Billions)')\n",
    "ax.set_xlabel('Percentage of GDP')\n",
    "plt.show()"
   ]
  },
  {
   "cell_type": "markdown",
   "id": "76ffd622",
   "metadata": {},
   "source": [
    "Together, these plots easily show the relationship between the percentage of the GDP spent on the military and the total money spent (in USD) in Mexico between 1960 and 2020. By overlaying the regression line onto the data points, one can clearly see that there is a negative association with the data."
   ]
  },
  {
   "cell_type": "markdown",
   "id": "30ba35e7",
   "metadata": {},
   "source": [
    "## Line graphs\n",
    "\n",
    "Line graphs are used to visualize sequential numerical data. By using line graphs, we can easily see trends within data over time. Lets examine the spending (in USD) on the military in Canada in the 21st century (from  2000 - 2020). First, we extract the years of interest and assign it to the variable `years`. Then, we will extract the spending in Canada from the years of interest and assign it to `can_usd`. Lastly, we can plot this by calling `plt.plot()` and specifiy the years on the x-axis and the spending on the y-axis."
   ]
  },
  {
   "cell_type": "code",
   "execution_count": null,
   "id": "2f9a252d",
   "metadata": {
    "scrolled": true
   },
   "outputs": [],
   "source": [
    "years = military.iloc[40:61 ,0]\n",
    "can_usd = military.iloc[40:61,4]\n",
    "\n",
    "can_plot = plt.plot(years, can_usd)"
   ]
  },
  {
   "cell_type": "markdown",
   "id": "d90f500d",
   "metadata": {},
   "source": [
    "We can see from the graph that Canada's spending on the military has increased overall since 2000. The country had a period of time (around 2011 to 2017) where military spending was decreased every year consistently. Let's add the data for Mexico as well to see the country's spending in the 21st century."
   ]
  },
  {
   "cell_type": "code",
   "execution_count": null,
   "id": "3eff4b2a",
   "metadata": {},
   "outputs": [],
   "source": [
    "mex_usd = military.iloc[40:61,5]\n",
    "\n",
    "can_plot = plt.plot(years, can_usd)\n",
    "mex_plot = plt.plot(years, mex_usd)"
   ]
  },
  {
   "cell_type": "markdown",
   "id": "81e3e39f",
   "metadata": {},
   "source": [
    "We can now see that the military spending for both Mexico and Canada is vastly different. However, just looking at this graph out of context, we wouldn't be able to tell which line corresponds to which country. Let's add some descriptive details, such as line labels, a title, and axis labels."
   ]
  },
  {
   "cell_type": "code",
   "execution_count": null,
   "id": "50c364ea",
   "metadata": {},
   "outputs": [],
   "source": [
    "can_plot = plt.plot(years, can_usd, label = 'Canada')\n",
    "mex_plot = plt.plot(years, mex_usd, label = 'Mexico')\n",
    "\n",
    "plt.title(\"Military Spending in Mexico and Canada in the 21st Century\", pad = 10)\n",
    "plt.ylabel('USD (Billions)')\n",
    "plt.xlabel('Year')\n",
    "plt.xticks(list(np.arange(2000, 2025, 5)))\n",
    "\n",
    "plt.legend(loc = \"best\")\n",
    "\n",
    "\n",
    "plt.show()"
   ]
  },
  {
   "cell_type": "markdown",
   "id": "3ab35d3c",
   "metadata": {},
   "source": [
    "We can see that the overall trend of military spending in Mexico also increased from 2000 to 2020. However, this increase was a lot less drastic than observed in Canada. Mexico's military spending was a steady rise from about \\\\$3 billion to \\\\$6 billion over the course of 20 years, while Canada's spending rose from \\\\$8 billion to about \\\\$23 billion. Let's add data from the United States to see the trends in all North American countries."
   ]
  },
  {
   "cell_type": "code",
   "execution_count": null,
   "id": "18c12059",
   "metadata": {},
   "outputs": [],
   "source": [
    "usa_usd = military.iloc[40:61,6]\n",
    "\n",
    "can_plot = plt.plot(years, can_usd, label = 'Canada')\n",
    "mex_plot = plt.plot(years, mex_usd, label = 'Mexico')\n",
    "usa_plot = plt.plot(years, usa_usd, label = 'United States')\n",
    "\n",
    "plt.title(\"Military Spending in North America in the 21st Century\", pad = 10)\n",
    "plt.ylabel('USD (Billions)')\n",
    "plt.xlabel('Year')\n",
    "plt.xticks(list(np.arange(2000, 2025, 5)))\n",
    "\n",
    "plt.legend(loc = \"best\")\n",
    "\n",
    "\n",
    "\n",
    "plt.show()"
   ]
  },
  {
   "cell_type": "markdown",
   "id": "ae241382",
   "metadata": {},
   "source": [
    "With the addition of the data from the United States, it's diffiult to discern the data from Canada and Mexico. Because the spending on the military in the United States was a lot higher, plotting all three datasets on the same graph with the same axis does not allow us to clearly see trends in the other countries. To address this, we can graph the data for each country separately with axis limits that are tailored to each country. If we graph this data side by side, we can see the trends in each country while acknowledging that the axis intervals for each country provides a numerical context for cross-comparisons."
   ]
  },
  {
   "cell_type": "code",
   "execution_count": null,
   "id": "af08cad2",
   "metadata": {},
   "outputs": [],
   "source": [
    "fig, (ax1, ax2, ax3) = plt.subplots(1, 3, figsize=(12, 3))\n",
    "\n",
    "\n",
    "fig.suptitle('Military Spending in North America in the 21st Century', y=1.1, fontsize = 15)\n",
    "\n",
    "\n",
    "ax1.plot(years, can_usd)\n",
    "ax1.set_title('Canada')\n",
    "ax1.set_ylim([8, 24])\n",
    "ax1.set_xlabel('Years')\n",
    "ax1.set_ylabel('USD (Billions)')\n",
    "\n",
    "ax2.plot(years, mex_usd, color='orange')\n",
    "ax2.set_title('Mexico')\n",
    "ax2.set_ylim([2.5, 7])\n",
    "ax2.set_xlabel('Years')\n",
    "ax2.set_ylabel('USD (Billions)')\n",
    "\n",
    "ax3.plot(years, usa_usd, color = 'green')\n",
    "ax3.set_title('United States')\n",
    "ax3.set_ylim([300, 800])\n",
    "ax3.set_xlabel('Years')\n",
    "ax3.set_ylabel('USD (Billions)')\n",
    "\n",
    "\n",
    "plt.show()"
   ]
  },
  {
   "cell_type": "markdown",
   "id": "efee0c99",
   "metadata": {},
   "source": [
    "Now that we've created separate plots, we can see the trends for all three countries over the last 20 years. All three countries seemed to have decreased spending around 2011 and 2018. By observing the difference in scale, we can also see that while the trends are similar, the magnitude of spending was very different between Canada, Mexico, and the United States.\n",
    "\n",
    "In creating these plots, we used `plt.subplots()` in a way that we had not used it before. Here, we defined our `fig` argument, as well as three `axes` arguments, `ax1`, `ax2`, and `ax3`. This allowed us to create <u>three</u> separate plotting areas, bounded by <u>three</u> different axes, that are contained within <u>one</u> figure."
   ]
  },
  {
   "cell_type": "markdown",
   "id": "886787a1",
   "metadata": {},
   "source": [
    "## Conclusions:\n",
    "\n",
    "In this section, we learned how to use `plt.hist()`, `plt.scatter()`, and `plt.plot()` to create histograms, scatter plots, and line graphs as a means of visualizing numerical data. The `plt.scatter()` and `plt.plot()` functions requires numerical arrays that serve as `x` and `y` arugments. The `plt.hist()` function requires an array of values for plotting distributions of data. We also learned about a number of other functions that can be used to enhance and annotate our plots. Documentation for the functions used in this section are listed below:\n",
    "\n",
    "- <a href=\"https://matplotlib.org/stable/api/_as_gen/matplotlib.pyplot.hist.html\">plt.hist()</a>\n",
    "- <a href=\"https://matplotlib.org/stable/api/_as_gen/matplotlib.pyplot.scatter.html\">plt.scatter()</a>\n",
    "- <a href=\"https://matplotlib.org/stable/api/_as_gen/matplotlib.pyplot.plot.html\">plt.plot()</a>\n",
    "- <a href=\"https://matplotlib.org/stable/api/_as_gen/matplotlib.pyplot.suptitle.html\">ax.suptitle()</a>\n",
    "- <a href=\"https://matplotlib.org/stable/api/_as_gen/matplotlib.axes.Axes.set_title.html\">ax.set_title()</a>\n",
    "- <a href=\"https://matplotlib.org/stable/api/_as_gen/matplotlib.axes.Axes.set_ylim.html\">ax.set_ylim()</a>\n",
    "- <a href=\"https://matplotlib.org/stable/api/_as_gen/matplotlib.axes.Axes.set_xlim.html\">ax.set_xlim()</a>\n",
    "- <a href=\"https://matplotlib.org/stable/api/_as_gen/matplotlib.axes.Axes.set_ylabel.html\">ax.set_ylabel()</a>\n",
    "- <a href=\"https://matplotlib.org/stable/api/_as_gen/matplotlib.axes.Axes.set_xlabel.html\">ax.set_xlabel()</a>\n",
    "- <a href=\"https://numpy.org/doc/stable/reference/generated/numpy.polyfit.html\">np.polyfit()</a>"
   ]
  }
 ],
 "metadata": {
  "kernelspec": {
   "display_name": "Python 3 (ipykernel)",
   "language": "python",
   "name": "python3"
  },
  "language_info": {
   "codemirror_mode": {
    "name": "ipython",
    "version": 3
   },
   "file_extension": ".py",
   "mimetype": "text/x-python",
   "name": "python",
   "nbconvert_exporter": "python",
   "pygments_lexer": "ipython3",
   "version": "3.10.6"
  }
 },
 "nbformat": 4,
 "nbformat_minor": 5
}
