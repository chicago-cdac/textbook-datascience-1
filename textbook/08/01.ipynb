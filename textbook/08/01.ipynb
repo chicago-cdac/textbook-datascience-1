{
 "cells": [
  {
   "cell_type": "markdown",
   "id": "ccaa9364",
   "metadata": {},
   "source": [
    "# Data Visualization\n",
    "\n",
    "Distilling large and complex sets of data into a more easily digestible form is an important component of data science. Through effective data visualization, we can concisely communicate the story that our data is telling. We do this by choosing appropriate visual depictions of our data so that we can accurately represent what the data means. The visual that we chose is dependent on the type of data. Two major data types that can be visualized graphically are numerical data and categorical data. Numerical data is commonly visualized using histograms, scatter plots, and line graphs, while categorical data can be depicted using bar graphs and pie charts. There are a vast number of other methods to visualize these data types (i.e. box plots, cartograms, heatmaps etc.), but the aforementioned graphs are the most commonly used amongst data scientists."
   ]
  },
  {
   "cell_type": "markdown",
   "id": "a7571e9f",
   "metadata": {},
   "source": [
    "To create data visualizations, we will need to import the necessary libraries. We will be using library `matplotlib` and the sublibrary `pyplot`, which are popular libraries that can be used to visualize data from `pandas` dataframes.\n",
    "\n",
    "For our visualizations, we will be using the seaborn style with a white grid background. A list of other styles, as well as documentation for `matplotlib` and `pyplot` can be found at the end of this section."
   ]
  },
  {
   "cell_type": "code",
   "execution_count": null,
   "id": "85ee9e74-01e3-416f-8a12-bda151809cfd",
   "metadata": {},
   "outputs": [],
   "source": [
    "import pandas as pd\n",
    "import numpy as np\n",
    "import matplotlib\n",
    "from matplotlib import pyplot as plt\n",
    "plt.style.use('seaborn-whitegrid')\n"
   ]
  },
  {
   "cell_type": "markdown",
   "id": "93f974fc",
   "metadata": {},
   "source": [
    "To practice making these visualizations, we will be working with data from the World Bank (Indicator Codes: MS.MIL.XPND.GD.ZS and MS.MIL.XPND.CD). This data examines the military spending in each country in North America from 1960 - 2020. Let's load the data and begin to explore it."
   ]
  },
  {
   "cell_type": "code",
   "execution_count": null,
   "id": "3fb13d36",
   "metadata": {},
   "outputs": [],
   "source": [
    "military = pd.read_csv('NorthAmerica_Military_USD-PercentGDP_Combined.csv', header = [0])\n",
    "military"
   ]
  },
  {
   "cell_type": "markdown",
   "id": "729aaca8",
   "metadata": {},
   "source": [
    "The data consists of a dataframe with seven columns:\n",
    "    \n",
    "\n",
    "- Year: The year of the collected data\n",
    "- CAN-PercentGDP: Percentage of the Gross Domestic Product of Canada spent on the military\n",
    "- MEX-PercentGDP: Percentage of the Gross Domestic Product of Mexico spent on the military\n",
    "- USA-PercentGDP: Percentage of the Gross Domestic Product of the United States spent on the military\n",
    "- CAN-USD: Amount of money (in billions, USD) spent on the military in Canada\n",
    "- MEX-USD: Amount of money (in billions, USD) spent on the military in Mexico\n",
    "- USA-USD: Amount of money (in billions, USD) spent on the military in the United States\n",
    "\n",
    "In the upcoming exercises, we will explore this data to create various visualizations. With these visualizations, we can create a narrative of what the data shows and what it means."
   ]
  },
  {
   "cell_type": "markdown",
   "id": "1c1745e2",
   "metadata": {},
   "source": [
    "## Resources\n",
    "\n",
    "- <a href=\"https://matplotlib.org/stable/api/matplotlib_configuration_api.html\">Matplotlib documentation</a>\n",
    "- <a href=\"https://matplotlib.org/stable/api/pyplot_summary.html\">Pyplot documentation</a>\n",
    "- <a href=\"https://matplotlib.org/stable/gallery/style_sheets/style_sheets_reference.html\">List of styles for plots in matplotlib</a>\n",
    "\n",
    "\n",
    "\n"
   ]
  },
  {
   "cell_type": "code",
   "execution_count": null,
   "id": "282d7d27",
   "metadata": {},
   "outputs": [],
   "source": []
  }
 ],
 "metadata": {
  "kernelspec": {
   "display_name": "Python 3 (ipykernel)",
   "language": "python",
   "name": "python3"
  },
  "language_info": {
   "codemirror_mode": {
    "name": "ipython",
    "version": 3
   },
   "file_extension": ".py",
   "mimetype": "text/x-python",
   "name": "python",
   "nbconvert_exporter": "python",
   "pygments_lexer": "ipython3",
   "version": "3.10.6"
  }
 },
 "nbformat": 4,
 "nbformat_minor": 5
}
