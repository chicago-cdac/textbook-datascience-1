{
 "cells": [
  {
   "cell_type": "markdown",
   "metadata": {},
   "source": [
    "# Sampling\n",
    "\n",
    "In both experimental and observational studies, the goal is to come to a conclusion about a certain *population*. That population may consist of cancer patients, residents of Hyde Park, or students in this data science course. A survey of every *unit* – or individual member – of a population is known as a *census*. Often, it is not possible to collect data on every subject in a population. For example, I may be able to survey all students in this course, but it would be difficult to survey every Hyde Park resident. This is due to logistical issues, the amount of time it would take, and the expense. For these reasons, researchers often study a *sample* of the population and use that sample to gain information about the entire population through statistical inference. The numerical characteristic of the sample gained through statistical inference is known as a *statistic*. Statistics are used to estimate values of *parameters*, which are numerical characteristics of the entire population.\n",
    "\n",
    "## Sampling Designs\n",
    "\n",
    "In order to be able to generalize from the sample to the population as a whole, the sample must be *representative* of the population. Otherwise, inference on that sample may produce misleading conclusions. For example, if a researcher is interested in understanding how those living on the southside of Chicago view the University of Chicago, and the researcher collects a sample of 50 first years attending the University of Chicago, the feelings of this sample of first years is most likely not representative of the feelings of everyone living on the southside. Similarly, if a cancer researcher wants to know how well a drug works on cancer patients, but uses a sample consisting only of men under 30, any conclusions she might draw from the experiment cannot be generalized to the entire population but rather to only the population of men under 30.\n",
    "\n",
    "There are two *sampling designs*, or processes by which a sample is collected, that suffer from this lack of generalizability yet sometimes cannot be avoided. The first is known as a *convenience sample*. A convenience sample is, as its name suggests, a sample that is collected out of ease of access for the researchers. Looking through research in psychology in particular, many researchers collect a convenience sample of students from introductory psychology courses. Though this is an easy way of gathering a sample, it is not the most generalizable, as introductory psychology students are likely not representative of the broader population the researchers seek to understand. A second example of a sampling design that is not generalizable is the *voluntary response sample*, where participants volunteer to be part of the study. Restaurant reviews provide a nice example of a voluntary response sample. Those with strong opinions of the restaurant (either positive or negative) are more likely to write reviews. Voluntary response samples oversample those who feel strongly about the topic being studied and undersample those who do not care as much. These samples are always *biased*, or not representative of the broader population.\n",
    "\n",
    "There are several sampling designs that are meant to help collect a more representative sample. The first is a *simple random sample (SRS)*. In a simple random sample of size `n`, every group of `n` units in the population has an equal chance of being selected as the sample. This eliminates sampling bias by ensuring that portions of the population are not over- or under-sampled. In addition, SRS allows a researcher to mathematically or computationally quantify variation due to sampling (*i.e.* the precision of a statistic). The downside of SRS is that it requires a *sampling frame*, or list of names or IDs of all units in a population. Aquiring such a sampling frame is impractical for large populations. \n",
    "\n",
    "The next sampling design is a *stratified random sample* which divides the population into sub-populations of similar units (called strata) and chooses a separate SRS for each stratum. This allows a researcher to gain more exact information than SRS of the same size, by ensuring that each stratum is equally represented in the sample. Many universities employ stratified random sampling when conducting surveys gauging student or factulty opinions. Those conducting the survey split the population of university students into strata by year (*e.g.* first years, second years, third years, and fourth years); then, they take a simple random sample of students from each stratum. This sampling design works well when cases within a stratum are similar but there are large differences between strata. However, it has the same downside as a SRS as it too needs sampling frames for each stratum.\n",
    "\n",
    "The next sampling design is *cluster sampling*, which is commonly confused with stratified random sampling as both split the population into sub-populations. However, cluster sampling splits the population into clusters and takes a random sample *of* those clusters. Rather than taking a random sample *within* subpopulations as in stratified random sampling. This sampling design works well when there is small variation between clusters but large variation within clusters. Cluster sampling is commonly used for geographical and market research. For example, the head of a major department store may be interested in how well a particular product is selling. Rather than analyzing all sales for all stores across the whole country, the market research team would cluster sales by store and take a random sample of stores.\n",
    "\n",
    "The image below depicts each type of sampling (in maroon) from a population of 100 (in grey). Panel *a* shows the full population before sampling. Panel *b* shows a simple random sample of 10 units. Panel *c* shows a stratified random sample of 10 units with 5 strata. Panel *d* shows a cluster sample of 10 units with 20 clusters.\n",
    "\n",
    "```{figure} ./sampling-schemes.png\n",
    "---\n",
    "align: center\n",
    "---\n",
    "Sampling Designs\n",
    "```\n",
    "\n",
    "The last type of sampling we will discuss, *multistage sampling*, conducts sampling in stages and is often used for large nationwide samples of households or individuals. The major advantage of multistage sampling is that it does not require a complete sampling frame. For example, consider a polling company interested in obtaining a generalizable sample of American households. First, they might stratify households by state to ensure sampling from each state. Within states, they might cluster households by county and take a simple random sample of those counties. Lastly, they take a simple random sample of `n` households from each of the sampled counties. This sampling strategy is depicted below. Multistage sampling mixes stratified and cluster sampling in stages and, as a result, the researcher never requires a list of all households in the US, but rather a sampling frame of US counties and then a sampling frame of households within a much smaller subset of US counties.\n",
    "\n",
    "```{figure} ./multistage-sampling.png\n",
    "---\n",
    "align: center\n",
    "---\n",
    "Example of Multistage Sampling\n",
    "```\n",
    "\n",
    "## Biases\n",
    "\n",
    "Recall the introduction to this chapter where we stated that bigger data is not always better. This is often due to the sampling method used to gather that \"Big Data\". We have already discussed the need for representative samples to ensure generalization of the sample to the population. The bias introduced by oversampling some portions of the population over others is known as *selection bias*. However, this is not the only bias that can be introduced during the data collection process. Imagine sampling participants and emailing each participant a survey to complete. Some participants might not complete that survey. *Non-response bias* occurs when the people who decline to respond are different in some meaningful way than those who do respond. Perhaps you wish to study parenting and all single parents were too busy to complete the survey. Your study would be missing an important perspective.\n",
    "\n",
    "Let's simulate data that suffers from non-response bias. First, we create a ground truth dataset. Imagine we are studying student satisfaction at UChicago and we send surveys to 400 students using stratified random sampling by year in school. Students are asked to rank their satisfaction on a scale of 1 to 5 with 5 being more satisfied and 1 being less satisfied. We also ask students to report their average letter grade. We assume that students with lower grades are more likely to be less satisfied and those with high grades are more likely to be more satisfied."
   ]
  },
  {
   "cell_type": "code",
   "execution_count": null,
   "metadata": {},
   "outputs": [],
   "source": [
    "import numpy as np\n",
    "import pandas as pd\n",
    "\n",
    "%matplotlib inline\n",
    "import matplotlib.pyplot as plt\n",
    "\n",
    "grades = [\"A\",\"B\",\"C\",\"D\",\"F\"]\n",
    "satisfaction = [1,2,3,4,5]\n",
    "\n",
    "def get_satisfaction(grade):\n",
    "    if grade == \"A\":\n",
    "        sat = np.random.choice(satisfaction, 1, p=[])\n",
    "    elif grade == \"D\" | grade == \"F\":\n",
    "        sat = np.random.choice(satisfaction, 1, p = [])\n",
    "    else:\n",
    "        sat = np.random.choice(satisfaction, 1)\n",
    "    return sat"
   ]
  },
  {
   "cell_type": "code",
   "execution_count": null,
   "metadata": {},
   "outputs": [],
   "source": [
    "student_grades = np.random.choice(grades, 400)\n",
    "student_satisfaction = student_grades.apply(lambda x: get_satisfaction(x))\n",
    "\n",
    "student_survey = pd.DataFrame({'student_grades':student_grades,'student_satisfaction':student_satisfaction})\n",
    "\n",
    "plt.hist(student_survey.student_satisfaction)\n",
    "plt.show()"
   ]
  },
  {
   "cell_type": "markdown",
   "metadata": {},
   "source": [
    "Now, imagine we run this survey and not all students respond. Perhaps those with lower grades are less likely to complete the survey. Let's add this non-response bias to our survey responses."
   ]
  },
  {
   "cell_type": "code",
   "execution_count": null,
   "metadata": {},
   "outputs": [],
   "source": [
    "plt.hist(student_survey_biased.student_satisfaction)\n",
    "plt.show()"
   ]
  },
  {
   "cell_type": "markdown",
   "metadata": {},
   "source": [
    "Turning attention from those who did not respond to those who did, their responses can suffer from *response bias*. Response bias can appear in multiple formats. Sometimes, participants have an incentive to respond in ways that might not be truthful, especially if questions are sensitive or embarrassing. For example, in a survey of campus sexual health, students might be embarrassed to report STIs, and therefore trends in these data may be misleading. This can be influenced by the wording or tone of the questions as well as if participants have been ensured their data will be kept private. Some response bias can be due more to boredom than truthfulness. For example, especially in long surveys, participants may care more about completing the task than completing the task well. Some participants may choose to select random answers, select the same answer for every question, or answer questions in a pattern. It is important for a researcher to consider the wording, tone and length of a survey carefully, and to check all surveys for possible response bias before analyzing data."
   ]
  },
  {
   "cell_type": "code",
   "execution_count": null,
   "metadata": {},
   "outputs": [],
   "source": []
  }
 ],
 "metadata": {
  "kernelspec": {
   "display_name": "Python 3.9.13 64-bit",
   "language": "python",
   "name": "python3"
  },
  "language_info": {
   "name": "python",
   "version": "3.9.13"
  },
  "orig_nbformat": 4,
  "vscode": {
   "interpreter": {
    "hash": "aee8b7b246df8f9039afb4144a1f6fd8d2ca17a180786b69acc140d282b71a49"
   }
  }
 },
 "nbformat": 4,
 "nbformat_minor": 2
}
