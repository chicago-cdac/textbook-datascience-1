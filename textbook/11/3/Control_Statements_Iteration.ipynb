{
 "cells": [
  {
   "cell_type": "markdown",
   "id": "0f1488a2",
   "metadata": {},
   "source": [
    "# Iteration and Simulation"
   ]
  },
  {
   "cell_type": "markdown",
   "id": "d1b34e0f",
   "metadata": {},
   "source": [
    "In the case we want to repeat an experiment or a process multiple times, a <i> for </i> statement can be used. Before we continue with the example from the previous section, we focus on the foundation of this iteration tool.\n",
    "\n",
    "A <i> for </i> statement can iterate through a sequence and perform some action on each element. This sequence can be a list, a string, or a range of numbers to name a few. To iterate through a sequence we use a choice of iterator that loops through each item in the sequence. The general format of a <i> for </i> statement is below. Notice we specify some iterator that loops through each element <i> in </i> some sequence. The body of the <i> for </i> statement is excuted each pass through the sequence.\n",
    "```python\n",
    "for iterator in sequence:\n",
    "    action    \n",
    "```"
   ]
  },
  {
   "cell_type": "code",
   "execution_count": 1,
   "id": "733fae98",
   "metadata": {},
   "outputs": [],
   "source": [
    "import numpy as np\n",
    "import pandas as pd"
   ]
  },
  {
   "cell_type": "markdown",
   "id": "5501cc72",
   "metadata": {},
   "source": [
    "For example, to print out each element in a given list we use the following code."
   ]
  },
  {
   "cell_type": "code",
   "execution_count": 8,
   "id": "d5f6f805",
   "metadata": {},
   "outputs": [],
   "source": [
    "adj = [\"red\",\"rotten\",\"tasty\"]"
   ]
  },
  {
   "cell_type": "code",
   "execution_count": 9,
   "id": "00e96998",
   "metadata": {},
   "outputs": [
    {
     "name": "stdout",
     "output_type": "stream",
     "text": [
      "red\n",
      "rotten\n",
      "tasty\n"
     ]
    }
   ],
   "source": [
    "for y in adj:\n",
    "    print(y)"
   ]
  },
  {
   "cell_type": "markdown",
   "id": "bac686e1",
   "metadata": {},
   "source": [
    "This says for every single element <i> y </i> in the list <i>adj</i>, we execute the indented body: <i>print(y)</i>. The y serves as a placeholder or iterator that represents each element in the list. We can alternately use something else since the choice of iterator does not matter. The <i> for </i> statement below also prints out each element in the list <i>adj</i>."
   ]
  },
  {
   "cell_type": "code",
   "execution_count": 10,
   "id": "e96c6705",
   "metadata": {},
   "outputs": [
    {
     "name": "stdout",
     "output_type": "stream",
     "text": [
      "red\n",
      "rotten\n",
      "tasty\n"
     ]
    }
   ],
   "source": [
    "for item in adj:\n",
    "    print(item)"
   ]
  },
  {
   "cell_type": "markdown",
   "id": "e4b2916d",
   "metadata": {},
   "source": [
    "Note what we iterate over does not need to be directly related to the body of the <i>for</i> statement. In fact <i>for</i> statements are very useful in telling us to execute the body or action a given number of times.\n",
    "\n",
    "Below is an example where the iterator is in the body of the <i>for</i> statement and an alternate example where we use <i> for </i> statements to repeat or loop through the body statement. "
   ]
  },
  {
   "cell_type": "code",
   "execution_count": 11,
   "id": "2b5265a5",
   "metadata": {},
   "outputs": [
    {
     "name": "stdout",
     "output_type": "stream",
     "text": [
      "0\n",
      "1\n",
      "2\n"
     ]
    }
   ],
   "source": [
    "for i in range(3):\n",
    "    print(i)"
   ]
  },
  {
   "cell_type": "code",
   "execution_count": 12,
   "id": "07407de0",
   "metadata": {},
   "outputs": [
    {
     "name": "stdout",
     "output_type": "stream",
     "text": [
      "potato\n",
      "potato\n",
      "potato\n"
     ]
    }
   ],
   "source": [
    "for i in range(3):\n",
    "    print('potato')\n",
    "    "
   ]
  },
  {
   "cell_type": "markdown",
   "id": "e193997c",
   "metadata": {},
   "source": [
    "# Nested For Loops"
   ]
  },
  {
   "cell_type": "markdown",
   "id": "7d29a465",
   "metadata": {},
   "source": [
    "Suppose we want to repeat a process for each element in a sequence. We can accomplish this by nesting a <i> for </i> statement within a <i> for </i> statement. \n",
    "For example, suppose our sequences are lists and we want to pair every element in list_1 with each element in list_2. We could write out all the possible combinations of list_1, list_2 pairs by hand or we could use a nested <i> for </i> statement to systematically take each element in list_1 and cycle through all elements in list_2. This takes the following form\n",
    "```python\n",
    "for item_1 in list_1:\n",
    "    for item_2 in list_2:\n",
    "        print(item_1, item_2)\n",
    "```"
   ]
  },
  {
   "cell_type": "markdown",
   "id": "b8bba1fa",
   "metadata": {},
   "source": [
    "For a more concrete example, consider the list <i> adj </i> above and a new list <i> fruits </i>. We use a nested <i> for </i> statement to print all possible adj, fruit combinations. "
   ]
  },
  {
   "cell_type": "code",
   "execution_count": 13,
   "id": "84bd7b3c",
   "metadata": {},
   "outputs": [],
   "source": [
    "fruits = [\"apple\",\"banana\",\"cherry\"]"
   ]
  },
  {
   "cell_type": "code",
   "execution_count": 14,
   "id": "821e88e2",
   "metadata": {},
   "outputs": [
    {
     "name": "stdout",
     "output_type": "stream",
     "text": [
      "red apple\n",
      "red banana\n",
      "red cherry\n",
      "rotten apple\n",
      "rotten banana\n",
      "rotten cherry\n",
      "tasty apple\n",
      "tasty banana\n",
      "tasty cherry\n"
     ]
    }
   ],
   "source": [
    "for a in adj:\n",
    "    for f in fruits:\n",
    "        print(a,f)"
   ]
  },
  {
   "cell_type": "markdown",
   "id": "23a1bac8",
   "metadata": {},
   "source": [
    "We could pick random combinations, but in doing so we do not guarantee that generating more than one will be distinct. Setting <code> combos =5 </code> below, the <i> for </i> statement then outputs a random adjective coupled with a random fruit for each number in the range combos. Feel free to experiment with the number of combinations to print below."
   ]
  },
  {
   "cell_type": "code",
   "execution_count": 15,
   "id": "d4ac14c0",
   "metadata": {},
   "outputs": [
    {
     "name": "stdout",
     "output_type": "stream",
     "text": [
      "rotten apple\n",
      "tasty banana\n",
      "tasty cherry\n",
      "red cherry\n",
      "tasty banana\n"
     ]
    }
   ],
   "source": [
    "combos = 5 \n",
    "for i in np.arange(int(combos)):\n",
    "    print(np.random.choice(adj) + ' ' + np.random.choice(fruits))"
   ]
  },
  {
   "cell_type": "markdown",
   "id": "f81034dd",
   "metadata": {},
   "source": [
    "# Simulating six sided die experiment: How many evens?"
   ]
  },
  {
   "cell_type": "markdown",
   "id": "820e6565",
   "metadata": {},
   "source": [
    "In the last section we experimented with finding the number of even rolls when rolling a six sided die 100 times. Now we can simulate repeating this experiment many times using the process of iteration.<br>\n",
    "We redefine the six sided die below and relevant definitions used in the last section."
   ]
  },
  {
   "cell_type": "code",
   "execution_count": 11,
   "id": "872b3ac8",
   "metadata": {},
   "outputs": [],
   "source": [
    "die = np.arange(1, 7)\n",
    "\n",
    "\n",
    "def parity(input_integer): \n",
    "    if (input_integer % 2) == 0:\n",
    "        return \"even\"\n",
    "    else:\n",
    "        return \"odd\"\n",
    "    \n",
    "vec_parity = np.vectorize(parity) "
   ]
  },
  {
   "cell_type": "markdown",
   "id": "ce404c99",
   "metadata": {},
   "source": [
    "We set the desired number of iterations for this experiment and create a <i>for</i> loop that executes the experiment of rolling a die 100 times, checking whether the rolls are even, and then appending the number of evens to an array. <br>\n",
    "\n",
    "After the experiments are simulated, we use the results array to calculate experiment information. Finding the minimum and maximum number of evens rolled out of the total 100 rolls as well as the average of evens gives us useful and interesting information. \n",
    "\n",
    "Experiment below with different values for num_experiments, but be careful as it is easy to set up a long run time!"
   ]
  },
  {
   "cell_type": "code",
   "execution_count": 12,
   "id": "6c07eef4",
   "metadata": {},
   "outputs": [
    {
     "name": "stdout",
     "output_type": "stream",
     "text": [
      "    Number of experiments: 100000\n",
      "    Min Evens (out of 100): 29.0\n",
      "    Max Evens (out of 100): 72.0\n",
      "    Mean Evens (out of 100): 50\n"
     ]
    }
   ],
   "source": [
    "num_experiments = 100000\n",
    "total_evens = np.empty(0)\n",
    "\n",
    "for i in np.arange(num_experiments): #Alternatively we could use range(num_experiments)\n",
    "    total_evens = np.append(total_evens, sum(vec_parity(np.random.choice(die,100)) == 'even'))\n",
    "    \n",
    "\n",
    "# Since these aren't indented, they are outside of the \"for\" loop\n",
    "print('    Number of experiments:', len(total_evens))\n",
    "print('    Min Evens (out of 100):', min(total_evens))\n",
    "print('    Max Evens (out of 100):', max(total_evens))\n",
    "print('    Mean Evens (out of 100):', round(np.mean(total_evens)))"
   ]
  },
  {
   "cell_type": "markdown",
   "id": "74bd01f9",
   "metadata": {},
   "source": [
    "If you want to see the contents of the result array you can run the following line."
   ]
  },
  {
   "cell_type": "code",
   "execution_count": 17,
   "id": "bf3f78af",
   "metadata": {},
   "outputs": [
    {
     "data": {
      "text/plain": [
       "array([51., 45., 50., ..., 55., 57., 54.])"
      ]
     },
     "execution_count": 17,
     "metadata": {},
     "output_type": "execute_result"
    }
   ],
   "source": [
    "total_evens"
   ]
  },
  {
   "cell_type": "markdown",
   "id": "03c16359",
   "metadata": {},
   "source": [
    "We can visualize these results using a histogram."
   ]
  },
  {
   "cell_type": "code",
   "execution_count": 42,
   "id": "ad50d9c7",
   "metadata": {},
   "outputs": [
    {
     "data": {
      "text/plain": [
       "array([[<AxesSubplot:title={'center':'Even numbers in 100000 tosses'}>]],\n",
       "      dtype=object)"
      ]
     },
     "execution_count": 42,
     "metadata": {},
     "output_type": "execute_result"
    },
    {
     "data": {
      "image/png": "[encoded data removed]",
      "text/plain": [
       "<Figure size 432x288 with 1 Axes>"
      ]
     },
     "metadata": {},
     "output_type": "display_data"
    }
   ],
   "source": [
    "legend = 'Even numbers in ' + str(num_experiments) + ' tosses'\n",
    "pd.DataFrame(\n",
    "    {legend: total_evens\n",
    "    }).hist(bins = np.arange(25, 76))"
   ]
  },
  {
   "cell_type": "markdown",
   "id": "6adffc73",
   "metadata": {},
   "source": [
    "For a large enough num_experiments input, we find that the distribution of evens is symmetric with an average of 50 out of 100 even rolls of the die! We can also see that a majority of the data is contained in the range 40-60, thus rolling a six sided die 100 times, the most common outcomes occur in that range."
   ]
  }
 ],
 "metadata": {
  "kernelspec": {
   "display_name": "Python 3 (ipykernel)",
   "language": "python",
   "name": "python3"
  },
  "language_info": {
   "codemirror_mode": {
    "name": "ipython",
    "version": 3
   },
   "file_extension": ".py",
   "mimetype": "text/x-python",
   "name": "python",
   "nbconvert_exporter": "python",
   "pygments_lexer": "ipython3",
   "version": "3.10.6"
  }
 },
 "nbformat": 4,
 "nbformat_minor": 5
}
