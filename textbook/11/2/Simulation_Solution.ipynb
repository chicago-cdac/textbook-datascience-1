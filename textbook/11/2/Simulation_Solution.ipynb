{
 "cells": [
  {
   "cell_type": "markdown",
   "metadata": {},
   "source": [
    "# A simulation-based solution\n",
    "\n",
    "Simulations are used to imitate real-world scenarios. They can have many roles, ranging from obtaining insight into a physical system to testing and training of models and algorithms. In this chapter, we will use simulations to estimate probabilities. We will explore other applications later, such as gaining insight into probability distributions.\n",
    "\n",
    "Here we use the computer to run/execute our simulations and we will develop code that will allow us to do that. There are several steps in designing and executing a simulation:\n",
    "\n",
    "- Conceptualize what to simulate;\n",
    "- Simulate one instance;\n",
    "- Decide on the number of repetitions;\n",
    "- Summarize the results of the simulation.\n",
    "\n",
    "There are two important issues that we would like to note here:\n",
    "\n",
    "- Simulations will give us only an estimate/approximation of the probability we are interested in; more repetitions, better the approximation.\n",
    "- The number of repetitions is important and strategies for selecting them will be discussed in more detail later in the chapter.\n",
    "\n",
    "## Conceptualize and simulate one instance\n",
    "\n",
    "In the birthday problem described at the beginning of this chapter (30 people at a party), the only information that is needed for deciding on matching birthdays is the set of birthdates. The simulation we will construct will focus on that - we just need a function that generates 30 random birthdays. It turns out we have already seen a function in Python (and in `numpy`) that can do that: `random.choice` (and `random.choices`).\n",
    "\n",
    "The code cell below shows the results of simulating a group of 30 birthdates, where birthdates are described by the integer range from 1 to 365 (ending before 366)."
   ]
  },
  {
   "cell_type": "code",
   "execution_count": 1,
   "metadata": {},
   "outputs": [
    {
     "data": {
      "text/plain": [
       "[61,\n",
       " 58,\n",
       " 155,\n",
       " 147,\n",
       " 357,\n",
       " 239,\n",
       " 265,\n",
       " 87,\n",
       " 217,\n",
       " 173,\n",
       " 126,\n",
       " 106,\n",
       " 313,\n",
       " 276,\n",
       " 51,\n",
       " 226,\n",
       " 86,\n",
       " 120,\n",
       " 265,\n",
       " 100,\n",
       " 66,\n",
       " 356,\n",
       " 72,\n",
       " 134,\n",
       " 161,\n",
       " 85,\n",
       " 78,\n",
       " 356,\n",
       " 146,\n",
       " 195]"
      ]
     },
     "execution_count": 1,
     "metadata": {},
     "output_type": "execute_result"
    }
   ],
   "source": [
    "import random\n",
    "\n",
    "\n",
    "birthdays = range(1, 366)\n",
    "\n",
    "n = 30\n",
    "\n",
    "# random.choices is equivalent to numpy.random.choice for 1-dimensional input and where k > 1\n",
    "\n",
    "one_run = random.choices(birthdays, k=n)\n",
    "\n",
    "one_run"
   ]
  },
  {
   "cell_type": "markdown",
   "metadata": {},
   "source": [
    "Are there duplicates in `one_run`? It is not easy to answer by just looking at the above output, but we can use sort the result to help with that."
   ]
  },
  {
   "cell_type": "code",
   "execution_count": 2,
   "metadata": {},
   "outputs": [
    {
     "data": {
      "text/plain": [
       "[51,\n",
       " 58,\n",
       " 61,\n",
       " 66,\n",
       " 72,\n",
       " 78,\n",
       " 85,\n",
       " 86,\n",
       " 87,\n",
       " 100,\n",
       " 106,\n",
       " 120,\n",
       " 126,\n",
       " 134,\n",
       " 146,\n",
       " 147,\n",
       " 155,\n",
       " 161,\n",
       " 173,\n",
       " 195,\n",
       " 217,\n",
       " 226,\n",
       " 239,\n",
       " 265,\n",
       " 265,\n",
       " 276,\n",
       " 313,\n",
       " 356,\n",
       " 356,\n",
       " 357]"
      ]
     },
     "execution_count": 2,
     "metadata": {},
     "output_type": "execute_result"
    }
   ],
   "source": [
    "sorted(one_run)"
   ]
  },
  {
   "cell_type": "markdown",
   "metadata": {},
   "source": [
    "Really, we need a function that will give us the number of occurences of the most frequent day. There are many ways to achieve this, _e.g._:\n",
    "\n",
    "- use the `Counter` function we introduced before;\n",
    "- `numpy` has a useful function called `bincount`;\n",
    "- write your own function.\n",
    "\n",
    "We will use the first option; using the other two are useful exercises for developing your coding skills. Let's first recall the `Counter` function output:"
   ]
  },
  {
   "cell_type": "code",
   "execution_count": 3,
   "metadata": {},
   "outputs": [
    {
     "data": {
      "text/plain": [
       "Counter({15: 1, 2: 3, 7: 2, 1: 1})"
      ]
     },
     "execution_count": 3,
     "metadata": {},
     "output_type": "execute_result"
    }
   ],
   "source": [
    "from collections import Counter\n",
    "\n",
    "\n",
    "Counter([15, 2, 7, 2, 2, 1, 7])"
   ]
  },
  {
   "cell_type": "markdown",
   "metadata": {},
   "source": [
    "As you can see in the above output, `Counter` calculates for each element in the list or array the number of occurences. The most frequent occurence can be obtained as below; (in case of ties, it is the one that occurs first in our list/array).\n",
    "\n",
    "The following cells show the code for extracting: (i) the most frequent element and the number of times it appears in our list or array; (ii) the number of times in the list of the most frequent element."
   ]
  },
  {
   "cell_type": "code",
   "execution_count": 4,
   "metadata": {},
   "outputs": [
    {
     "data": {
      "text/plain": [
       "[(2, 3)]"
      ]
     },
     "execution_count": 4,
     "metadata": {},
     "output_type": "execute_result"
    }
   ],
   "source": [
    "Counter([15, 2, 7, 2, 2, 1, 7]).most_common(1)"
   ]
  },
  {
   "cell_type": "code",
   "execution_count": 5,
   "metadata": {},
   "outputs": [
    {
     "data": {
      "text/plain": [
       "3"
      ]
     },
     "execution_count": 5,
     "metadata": {},
     "output_type": "execute_result"
    }
   ],
   "source": [
    "Counter([15, 2, 7, 2, 2, 1, 7]).most_common(1)[0][1]"
   ]
  },
  {
   "cell_type": "markdown",
   "metadata": {},
   "source": [
    "## Repeated simulations and summary\n",
    "\n",
    "We now create a function that will simulate `nrep` repetitions of the birthday setting for `n` subjects. The function returns an array that has `nrep` entries, each showing the count (frequency) of the most frequent birthday in one simulation."
   ]
  },
  {
   "cell_type": "code",
   "execution_count": 6,
   "metadata": {},
   "outputs": [],
   "source": [
    "import numpy as np\n",
    "\n",
    "\n",
    "def birthday_sim(n, nrep):\n",
    "    '''Estimate birthday matching probabilities using nrep simulations.'''\n",
    "    return np.array([\n",
    "        Counter(random.choices(birthdays, k=n)).most_common(1)[0][1]\n",
    "        for _rep in range(nrep)\n",
    "    ])"
   ]
  },
  {
   "cell_type": "markdown",
   "metadata": {},
   "source": [
    "With this function, we calculate the results for ten repetitions of a group of 23 people."
   ]
  },
  {
   "cell_type": "code",
   "execution_count": 7,
   "metadata": {
    "scrolled": true
   },
   "outputs": [
    {
     "data": {
      "text/plain": [
       "array([1, 1, 2, 1, 2, 1, 2, 1, 1, 2])"
      ]
     },
     "execution_count": 7,
     "metadata": {},
     "output_type": "execute_result"
    }
   ],
   "source": [
    "birthday_sim(23, 10)"
   ]
  },
  {
   "cell_type": "markdown",
   "metadata": {},
   "source": [
    "We are ready now to estimate the probability that at least two people share a birthday in a group of n random subjects. In a similar fashion to the coin toss example where the probability of heads was given by the long run frequency (number of heads / number of tosses), the estimated probability is:\n",
    "\n",
    "$$\\frac{\\mbox{number of repetitions with shared birthdays}}{\\mbox{nrep}}$$\n",
    "\n",
    "As mentioned above, the number of repetitions affects both accuracy (better accuracy for more repetitions) and computational time. Section ?? provides more details on this issue. In the cell code below we use 1000 repetitions."
   ]
  },
  {
   "cell_type": "code",
   "execution_count": 8,
   "metadata": {},
   "outputs": [
    {
     "data": {
      "text/plain": [
       "0.52"
      ]
     },
     "execution_count": 8,
     "metadata": {},
     "output_type": "execute_result"
    }
   ],
   "source": [
    "n = 23\n",
    "nrep = 1000\n",
    "\n",
    "sum(birthday_sim(n, nrep) >= 2) / nrep"
   ]
  },
  {
   "cell_type": "markdown",
   "metadata": {},
   "source": [
    "Note that the result we obtain is close but not equal to the probability we calculated at the beginning of this chapter (0.5073). Increasing the number of repetitions will lead to an estimate that is closer to the exact probability.\n",
    "\n",
    "## On the assumptions used in simulations\n",
    "\n",
    "It is important to consider whether the assumptions made in the simulations are the same or different than the ones we made in the mathematical derivation. The answer is yes (same assumptions) because: (i) the `birthdays` range has 365 elements (so we implicitly assume the year has 365 days); and (ii) birthdates are independent and equally likely (because the `random.choice` function is designed to sample elements this way when only sample size is provided).\n",
    "\n",
    "We will talk in a later section about ways to relax these assumptions."
   ]
  }
 ],
 "metadata": {
  "kernelspec": {
   "display_name": "Python 3 (ipykernel)",
   "language": "python",
   "name": "python3"
  },
  "language_info": {
   "codemirror_mode": {
    "name": "ipython",
    "version": 3
   },
   "file_extension": ".py",
   "mimetype": "text/x-python",
   "name": "python",
   "nbconvert_exporter": "python",
   "pygments_lexer": "ipython3",
   "version": "3.10.6"
  }
 },
 "nbformat": 4,
 "nbformat_minor": 4
}
