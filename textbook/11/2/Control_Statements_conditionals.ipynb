{
 "cells": [
  {
   "cell_type": "markdown",
   "id": "aea500c9",
   "metadata": {},
   "source": [
    "# Conditional Statements"
   ]
  },
  {
   "cell_type": "markdown",
   "id": "bfc72bf7",
   "metadata": {},
   "source": [
    "There are some situations where we want to proceed with a task or perform an action dependent on whether a certain condition, or perhaps conditions, have been satified. For example, suppose we want to go on a walk outside if it is sunny. The action of going on a walk depends on whether it is sunny. In general, <i>conditional statements </i> are statements where an action or event occurs dependent on <i>if</i> a condition is true. We will investigate how to express these types of statements in python."
   ]
  },
  {
   "cell_type": "markdown",
   "id": "23d1355a",
   "metadata": {},
   "source": [
    "Conditional statements have the format of an if-then statement, <i>if</i> statement P, the hypothesis, occurs <i>then</i> statement Q, the conclusion, also occurs. How do we write this in code? We ultitize the <i>if</i> expression in python. The statement below will output the indented body <i> conclusion  </i> if <i>hypothesis </i> is true, otherwise if <i>hypothesis </i> is not True nothing is returned.\n",
    "```python\n",
    "if hypothesis:\n",
    "    conclusion\n",
    "```"
   ]
  },
  {
   "cell_type": "code",
   "execution_count": 4,
   "id": "a7c13d13",
   "metadata": {},
   "outputs": [],
   "source": [
    "import numpy as np\n",
    "import pandas as pd"
   ]
  },
  {
   "cell_type": "markdown",
   "id": "6fb74e06",
   "metadata": {},
   "source": [
    "Perhaps we want to output whether a number is even. There is more than one method to code this! We could \n",
    " - Extract the last digit and see if it equals 0,2,4,6, or 8.\n",
    " - Check the remainder when divided by 2 to see if it is 0.\n",
    " -  Take our input $n$ and check if $(-1)^n == 1$. \n",
    " - Convert it to a binary number (a sequence of 0's and 1's that can uniquely represent each number) and check the last bit. \n",
    " \n",
    "The approach we will use is to check if the remainder when divided by 2 is 0. If the remainder is 0, then the input is divisible by 2 and thus even! Recall we use the <code> % </code> operator to compute the remainder.\n",
    "We use the following <i> if </i> expression to write a function that tests if the input is even."
   ]
  },
  {
   "cell_type": "code",
   "execution_count": 32,
   "id": "fa0bde85",
   "metadata": {},
   "outputs": [],
   "source": [
    "def test_even(input_number):\n",
    "    if (input_number % 2) == 0:\n",
    "        print(input_number, \"is even\")"
   ]
  },
  {
   "cell_type": "markdown",
   "id": "2be3619d",
   "metadata": {},
   "source": [
    "If the input to this function is even, the string will be returned, otherwise this function returns nothing."
   ]
  },
  {
   "cell_type": "code",
   "execution_count": 40,
   "id": "daab9a32-331e-42bd-aefc-de9c22ab4c11",
   "metadata": {},
   "outputs": [
    {
     "name": "stdout",
     "output_type": "stream",
     "text": [
      "4 is even\n"
     ]
    }
   ],
   "source": [
    "test_even(4)"
   ]
  },
  {
   "cell_type": "markdown",
   "id": "c0aa45ef-cf3b-4dba-853b-07fe2477161d",
   "metadata": {},
   "source": [
    "We can revise this function to also include information on odd integers. If we divide a number by 2 and get a remainder of 1, then the number is odd! Our revised function below takes an input integer then evaluates the first condition <i> Is the remainder 0? </i>, if so the corresponding string is printed. The next condition is then evaluated <i> Is the remainder 1? </i>, if so the corresponding string is printed. Notice that both conditions are always checked in the test_parity function. "
   ]
  },
  {
   "cell_type": "code",
   "execution_count": 41,
   "id": "9b12c151",
   "metadata": {},
   "outputs": [],
   "source": [
    "def test_parity(input_number):\n",
    "    if (input_number % 2) == 0: \n",
    "        print(input_number, \"is even\")\n",
    "    if (input_number % 2) == 1: \n",
    "        print(input_number, \"is odd\")        "
   ]
  },
  {
   "cell_type": "code",
   "execution_count": 43,
   "id": "aaa27258-7dba-4cff-88f7-5c37a2e15ede",
   "metadata": {},
   "outputs": [
    {
     "name": "stdout",
     "output_type": "stream",
     "text": [
      "5 is odd\n"
     ]
    }
   ],
   "source": [
    "test_parity(5)"
   ]
  },
  {
   "cell_type": "markdown",
   "id": "cba72a3a",
   "metadata": {},
   "source": [
    "In the case above where we have more than one conditional statement, it is computationally more efficient to utilize an elif statement. The format of an elif statement is\n",
    "```python\n",
    "if hypothesis_1:\n",
    "    conclusion_1\n",
    "elif hypothesis_2:\n",
    "    conclusion_2\n",
    "... \n",
    "elif hypothesis_n:\n",
    "    conclusion_n\n",
    "```\n",
    "In an <i> elif </i> statement, once a condition is true the remaining condition or conditions are not evaulated.   \n",
    "We revise the function test_parity to use an <i> elif </i> statement in a new function test_parity_revised."
   ]
  },
  {
   "cell_type": "code",
   "execution_count": 1,
   "id": "738009f7",
   "metadata": {},
   "outputs": [],
   "source": [
    "def test_parity_revised(input_number):\n",
    "    if (input_number % 2) == 0: \n",
    "        print(input_number, \"is even\")\n",
    "    elif (input_number % 2) == 1: \n",
    "        print(input_number, \"is odd\")  "
   ]
  },
  {
   "cell_type": "code",
   "execution_count": 46,
   "id": "19895386-69b2-4911-899c-3831ce9db88a",
   "metadata": {},
   "outputs": [
    {
     "name": "stdout",
     "output_type": "stream",
     "text": [
      "9 is odd\n"
     ]
    }
   ],
   "source": [
    "test_parity_revised(9)"
   ]
  },
  {
   "cell_type": "markdown",
   "id": "70258669",
   "metadata": {},
   "source": [
    "Now our function can take any integer and output whether or not that value is even or odd. But what if our user enters the number 5.7? What if they enter a fraction or an irrational number?? We can make test_parity_revised more complete by indicting what to do in that case. \n",
    "\n",
    "Since we have a condition that checks all even numbers and a condition that checks all odd numbers, we want to group all other possibilities into one category - neither even nor odd. We can do this with the <i>else</i> statement. The <i> else </i> statement takes one of the following forms: We could have exactly two possible conclusions which leads to the format\n",
    "```python\n",
    "if hypothesis_1:\n",
    "    conclusion_1\n",
    "else:\n",
    "    conclusion_2\n",
    "```\n",
    "    \n",
    "or we could have $n+1$ conclusions for a chosen $n$ in which case we have the format\n",
    "    \n",
    "```python\n",
    "if hypothesis_1:\n",
    "    conclusion_1\n",
    "elif hypothesis_2:\n",
    "    conclusion_2\n",
    "... \n",
    "elif hypothesis_n:\n",
    "    conclusion_n\n",
    "else:\n",
    "    conclusion    \n",
    "```    \n",
    "    \n",
    "Similar to an <i>elif </i> statement, once a condition is true in an <i> else </i> statement the remaining condition or conditions are not evaulated. Therefore when the <i>else </i> is reached in the code, it is the last option. At this point, all other conditions have been evaulated and none executed. Thus, there is no condition or hypothesis associated with the <i> else </i> statement. If it is reached in the code, the body of the <i>else </i> statement is executed.\n",
    "    \n",
    "\n",
    "    \n",
    "We alter the function test_partity_revised to use an <i> else </i> statement in a new function test_parity_final."
   ]
  },
  {
   "cell_type": "code",
   "execution_count": null,
   "id": "e71875b8",
   "metadata": {},
   "outputs": [],
   "source": [
    "def test_parity_final(input_number):\n",
    "    if (input_number % 2) == 0: \n",
    "        print(input_number, \"is even\")\n",
    "    elif (input_number % 2) == 1: \n",
    "        print(input_number, \"is odd\")        \n",
    "    else: \n",
    "        print(input_number, \"is neither even nor odd\") "
   ]
  },
  {
   "cell_type": "markdown",
   "id": "e2a26033-158f-4847-a1a6-c06f00a0f3a3",
   "metadata": {},
   "source": [
    "Comparing the output of this function to test_parity_revised, we see that the past functions cannot handle a decimal input like 5.7, whereas test_parity_final can!"
   ]
  },
  {
   "cell_type": "code",
   "execution_count": 48,
   "id": "7016e71d",
   "metadata": {},
   "outputs": [
    {
     "name": "stdout",
     "output_type": "stream",
     "text": [
      "5 is odd\n"
     ]
    }
   ],
   "source": [
    "test_parity_final(5)"
   ]
  },
  {
   "cell_type": "code",
   "execution_count": 49,
   "id": "62193d1e-6e31-4dbe-9449-6693919483a0",
   "metadata": {},
   "outputs": [
    {
     "name": "stdout",
     "output_type": "stream",
     "text": [
      "5.7 is neither even nor odd\n"
     ]
    }
   ],
   "source": [
    "test_parity_final(5.7)"
   ]
  },
  {
   "cell_type": "code",
   "execution_count": 50,
   "id": "b88d3085-a31a-4e78-aa97-bb4984ca0891",
   "metadata": {},
   "outputs": [],
   "source": [
    "test_parity_revised(5.7)"
   ]
  },
  {
   "cell_type": "markdown",
   "id": "8ae24d0e",
   "metadata": {},
   "source": [
    "A note of caution when using the <i> else </i> statement. Since the <i> else </i> statement is executed without checking a condition you want to be absolutely certain all desired possibilies are accounted for in the previous condition(s). For example if we change test_parity_revised as below to check if a number is even but assuming everything else must be odd we get an error when testing something like 5.7 in this function, as 5.7 is not odd.\n",
    "```python \n",
    "def test_parity_revised(input_number):\n",
    "    if (input_number % 2) == 0: \n",
    "        print(input_number, \"is even\")\n",
    "    else: \n",
    "        print(input_number, \"is odd\")\n",
    "```       \n",
    "\n",
    "<code>test_parity_revised(5.7) </code>\n",
    "\n",
    "<code>5.7 is odd </code>"
   ]
  },
  {
   "cell_type": "markdown",
   "id": "e3b7843c",
   "metadata": {},
   "source": [
    "# Example: six-sided die\n"
   ]
  },
  {
   "cell_type": "markdown",
   "id": "927a460c",
   "metadata": {},
   "source": [
    "We can use random selection in combination with conditional statements to investigate situations. For example, suppose we want to consider how often even versus odd numbers are rolled in 100 rolls of a fair six-sided die. \n",
    "We can illustrate this using the random choice function in addition to our parity function above.\n",
    "<br>\n",
    "First we create a six sided die by creating an array containing the numbers 1-6. When we randomly select a choice from this list we are simulating rolling a die. Repeating this 100 times gives us an array containing the outcomes of 100 tosses."
   ]
  },
  {
   "cell_type": "code",
   "execution_count": 5,
   "id": "38d8bac1",
   "metadata": {},
   "outputs": [
    {
     "data": {
      "text/plain": [
       "array([1, 2, 3, 4, 5, 6])"
      ]
     },
     "execution_count": 5,
     "metadata": {},
     "output_type": "execute_result"
    }
   ],
   "source": [
    "die = np.arange(1, 7)\n",
    "die"
   ]
  },
  {
   "cell_type": "code",
   "execution_count": 6,
   "id": "313272ef",
   "metadata": {},
   "outputs": [
    {
     "data": {
      "text/plain": [
       "array([5, 4, 1, 6, 1, 1, 6, 5, 5, 5, 6, 6, 3, 3, 1, 1, 6, 5, 2, 5, 3, 6,\n",
       "       1, 6, 3, 2, 4, 3, 5, 1, 5, 2, 3, 5, 5, 6, 2, 2, 3, 6, 6, 1, 6, 4,\n",
       "       4, 4, 2, 4, 2, 2, 2, 2, 4, 2, 5, 2, 2, 2, 1, 6, 4, 5, 4, 6, 4, 4,\n",
       "       1, 6, 5, 4, 3, 6, 3, 4, 2, 4, 6, 2, 2, 3, 3, 5, 3, 3, 1, 1, 6, 2,\n",
       "       3, 4, 1, 4, 1, 3, 2, 4, 5, 1, 5, 5])"
      ]
     },
     "execution_count": 6,
     "metadata": {},
     "output_type": "execute_result"
    }
   ],
   "source": [
    "results = np.random.choice(die,100)\n",
    "results"
   ]
  },
  {
   "cell_type": "markdown",
   "id": "3343a1fd",
   "metadata": {},
   "source": [
    "Our random roll generator outputs a number between 1 and 6, but we are only interested in if that number is even or odd. We cannot directly put an entire array through our parity function! We instead call np.vectorize which takes a function as input and returns a function that acts on an entire array as output, that is it allows for elementwise evaulation of the parity function!\n",
    "\n",
    "Here we redefine our original parity function, then define a new function <i> vec_parity </i> that takes an array containing the roll results, that is an array of numbers 1-6, as input and produces an array denoting even or odd rolls. Note that in the function below we use an <i> if else </i> statement because we are assuming inputs are integer values from 1 to 6."
   ]
  },
  {
   "cell_type": "code",
   "execution_count": 7,
   "id": "c6158c27",
   "metadata": {},
   "outputs": [
    {
     "data": {
      "text/plain": [
       "array(['odd', 'even', 'odd', 'even', 'odd', 'odd', 'even', 'odd', 'odd',\n",
       "       'odd', 'even', 'even', 'odd', 'odd', 'odd', 'odd', 'even', 'odd',\n",
       "       'even', 'odd', 'odd', 'even', 'odd', 'even', 'odd', 'even', 'even',\n",
       "       'odd', 'odd', 'odd', 'odd', 'even', 'odd', 'odd', 'odd', 'even',\n",
       "       'even', 'even', 'odd', 'even', 'even', 'odd', 'even', 'even',\n",
       "       'even', 'even', 'even', 'even', 'even', 'even', 'even', 'even',\n",
       "       'even', 'even', 'odd', 'even', 'even', 'even', 'odd', 'even',\n",
       "       'even', 'odd', 'even', 'even', 'even', 'even', 'odd', 'even',\n",
       "       'odd', 'even', 'odd', 'even', 'odd', 'even', 'even', 'even',\n",
       "       'even', 'even', 'even', 'odd', 'odd', 'odd', 'odd', 'odd', 'odd',\n",
       "       'odd', 'even', 'even', 'odd', 'even', 'odd', 'even', 'odd', 'odd',\n",
       "       'even', 'even', 'odd', 'odd', 'odd', 'odd'], dtype='<U4')"
      ]
     },
     "execution_count": 7,
     "metadata": {},
     "output_type": "execute_result"
    }
   ],
   "source": [
    "def parity(input_integer):\n",
    "    if (input_integer % 2) == 0:\n",
    "        return \"even\"\n",
    "    else:\n",
    "        return \"odd\"\n",
    "\n",
    "    \n",
    "vec_parity = np.vectorize(parity)\n",
    "results = vec_parity(results)\n",
    "results     "
   ]
  },
  {
   "cell_type": "markdown",
   "id": "8db5c45b",
   "metadata": {},
   "source": [
    "Our goal is to compare the total number of even rolls out of the total 100 rolls of the die. Recall we can count all the even rolls in the array by elemetwise comparing each result to 'even' and summing over the True instances."
   ]
  },
  {
   "cell_type": "code",
   "execution_count": 8,
   "id": "a671b84b",
   "metadata": {},
   "outputs": [
    {
     "data": {
      "text/plain": [
       "53"
      ]
     },
     "execution_count": 8,
     "metadata": {},
     "output_type": "execute_result"
    }
   ],
   "source": [
    "total_even = sum(results == 'even')\n",
    "total_even"
   ]
  },
  {
   "cell_type": "markdown",
   "id": "60aff5c9",
   "metadata": {},
   "source": [
    "Suppose we want to repeat this experiment a few times and record the results. We create a <i> results </i> array containing the total evens in the first 100 rolls and extend this list with each new experiment."
   ]
  },
  {
   "cell_type": "code",
   "execution_count": 9,
   "id": "81fa0e91",
   "metadata": {},
   "outputs": [
    {
     "data": {
      "text/plain": [
       "array([53])"
      ]
     },
     "execution_count": 9,
     "metadata": {},
     "output_type": "execute_result"
    }
   ],
   "source": [
    "results = np.array([total_even]) \n",
    "results"
   ]
  },
  {
   "cell_type": "markdown",
   "id": "ed929f1d",
   "metadata": {},
   "source": [
    "We first generate the 100 random rolls of the die using <code> np.random.choice(die,100)</code>. From this array, the vec_parity function will tell us which rolls were even and which rolls were odd. We sum over the even elements and append this to the current list. Recall the append call does not modify the original list, so the assignment is necessary."
   ]
  },
  {
   "cell_type": "code",
   "execution_count": 10,
   "id": "e34a918b",
   "metadata": {},
   "outputs": [
    {
     "data": {
      "text/plain": [
       "array([53, 45])"
      ]
     },
     "execution_count": 10,
     "metadata": {},
     "output_type": "execute_result"
    }
   ],
   "source": [
    "results = np.append(results, sum(vec_parity(np.random.choice(die,100)) == 'even'))\n",
    "results"
   ]
  },
  {
   "cell_type": "markdown",
   "id": "9ebf6df5",
   "metadata": {},
   "source": [
    "We can run this experiment again!"
   ]
  },
  {
   "cell_type": "code",
   "execution_count": 11,
   "id": "8d0691a6",
   "metadata": {},
   "outputs": [
    {
     "data": {
      "text/plain": [
       "array([53, 45, 63])"
      ]
     },
     "execution_count": 11,
     "metadata": {},
     "output_type": "execute_result"
    }
   ],
   "source": [
    "results = np.append(results, sum(vec_parity(np.random.choice(die,100)) == 'even'))\n",
    "results"
   ]
  },
  {
   "cell_type": "markdown",
   "id": "9e816601",
   "metadata": {},
   "source": [
    "And again!"
   ]
  },
  {
   "cell_type": "code",
   "execution_count": 12,
   "id": "4bf2f396",
   "metadata": {},
   "outputs": [
    {
     "data": {
      "text/plain": [
       "array([53, 45, 63, 60])"
      ]
     },
     "execution_count": 12,
     "metadata": {},
     "output_type": "execute_result"
    }
   ],
   "source": [
    "results = np.append(results, sum(vec_parity(np.random.choice(die,100)) == 'even'))\n",
    "results"
   ]
  },
  {
   "cell_type": "markdown",
   "id": "6df57f95",
   "metadata": {},
   "source": [
    "And again?"
   ]
  },
  {
   "cell_type": "code",
   "execution_count": 13,
   "id": "419d2c3f",
   "metadata": {},
   "outputs": [
    {
     "data": {
      "text/plain": [
       "array([53, 45, 63, 60, 49])"
      ]
     },
     "execution_count": 13,
     "metadata": {},
     "output_type": "execute_result"
    }
   ],
   "source": [
    "results = np.append(results, sum(vec_parity(np.random.choice(die,100)) == 'even'))\n",
    "results"
   ]
  },
  {
   "cell_type": "markdown",
   "id": "1fcc74f2",
   "metadata": {},
   "source": [
    "Is there a more automated way? In the next section we explore how we can streamline this process of running an experiment multiple times."
   ]
  }
 ],
 "metadata": {
  "kernelspec": {
   "display_name": "Python 3 (ipykernel)",
   "language": "python",
   "name": "python3"
  },
  "language_info": {
   "codemirror_mode": {
    "name": "ipython",
    "version": 3
   },
   "file_extension": ".py",
   "mimetype": "text/x-python",
   "name": "python",
   "nbconvert_exporter": "python",
   "pygments_lexer": "ipython3",
   "version": "3.10.6"
  }
 },
 "nbformat": 4,
 "nbformat_minor": 5
}
