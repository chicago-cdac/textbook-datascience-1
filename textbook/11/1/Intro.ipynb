{
 "cells": [
  {
   "cell_type": "markdown",
   "id": "e72d7d94",
   "metadata": {},
   "source": [
    "# Chapter 11: Randomness and Sampling"
   ]
  },
  {
   "cell_type": "markdown",
   "id": "d9fa1e44",
   "metadata": {},
   "source": [
    "Whether modeling a real world example like rolling a die or tossing a coin, or randomly selecting a subset of the population for a survey, the process of selecting a choice from a list of options at random is very useful! This chapter will focus on the foundations of random selection including how to implement a random choice in python and extend this random sampling to dataframes. Additionally, we introduce control statements that allow us to select or iterate a statement or process. We ultilize these ideas to <i> simulate</i> experiments, or imitate real world examples using code.\n"
   ]
  },
  {
   "cell_type": "code",
   "execution_count": 1,
   "id": "b9a0e327",
   "metadata": {},
   "outputs": [],
   "source": [
    "import numpy as np\n",
    "import pandas as pd"
   ]
  },
  {
   "cell_type": "markdown",
   "id": "f5b35352",
   "metadata": {},
   "source": [
    "To start, suppose we have a list of choices that are equally likely to occur and we want to choose one. In python, the function\n",
    "```python\n",
    "np.random.choice(list)\n",
    "```\n",
    "will output exactly one item from the input list and it will do so randomly.\n",
    "\n",
    "To illustrate, suppose we toss a fair coin and want to know the outcome. Since we expect a random output of heads or tails, we create a list titled <i> coin </i> with those options and call the random.choice function on <i> coin </i> to give us exactly one result from the list as below."
   ]
  },
  {
   "cell_type": "code",
   "execution_count": 2,
   "id": "27e2d159",
   "metadata": {},
   "outputs": [
    {
     "data": {
      "text/plain": [
       "'tails'"
      ]
     },
     "execution_count": 2,
     "metadata": {},
     "output_type": "execute_result"
    }
   ],
   "source": [
    "coin = ['heads', 'tails']\n",
    "\n",
    "flip = np.random.choice(coin)\n",
    "flip"
   ]
  },
  {
   "cell_type": "markdown",
   "id": "80d3e9b8",
   "metadata": {},
   "source": [
    "The random choice function does not have a fixed output and running it multiple times will eventually provide a different result. In fact, if we want to run this experiment more than once it might be useful to keep track of the results in an array. "
   ]
  },
  {
   "cell_type": "markdown",
   "id": "7ba8b623",
   "metadata": {},
   "source": [
    "# Investigation with Arrays"
   ]
  },
  {
   "cell_type": "markdown",
   "id": "6cc829cd",
   "metadata": {},
   "source": [
    "We can store information in arrays as seen in Chapter (chapter number here). Below we create an array that contans our first experiment result, our first flip, and append our next outcome."
   ]
  },
  {
   "cell_type": "code",
   "execution_count": 4,
   "id": "43319a1f",
   "metadata": {},
   "outputs": [
    {
     "data": {
      "text/plain": [
       "array(['tails'], dtype='<U5')"
      ]
     },
     "execution_count": 4,
     "metadata": {},
     "output_type": "execute_result"
    }
   ],
   "source": [
    "first = np.array([flip])\n",
    "first"
   ]
  },
  {
   "cell_type": "markdown",
   "id": "d5156863",
   "metadata": {},
   "source": [
    "Tossing the coin again, that is choosing randomly from our list of possible outcomes, and then adding this outcome to our list <i> first </i> we use the append function call. This takes an array and elements to be appended as input and outputs an extended array where elements are attached to a copy of the input array."
   ]
  },
  {
   "cell_type": "code",
   "execution_count": 5,
   "id": "3a957ebd",
   "metadata": {},
   "outputs": [
    {
     "data": {
      "text/plain": [
       "'heads'"
      ]
     },
     "execution_count": 5,
     "metadata": {},
     "output_type": "execute_result"
    }
   ],
   "source": [
    "flip_2 = np.random.choice(coin)\n",
    "flip_2"
   ]
  },
  {
   "cell_type": "code",
   "execution_count": 6,
   "id": "af5cdf80",
   "metadata": {},
   "outputs": [
    {
     "data": {
      "text/plain": [
       "array(['tails', 'heads'], dtype='<U5')"
      ]
     },
     "execution_count": 6,
     "metadata": {},
     "output_type": "execute_result"
    }
   ],
   "source": [
    "np.append(first, flip_2)"
   ]
  },
  {
   "cell_type": "markdown",
   "id": "49bec18a",
   "metadata": {},
   "source": [
    "Since elements are attached to a copy of the input array, appending an item to a list creates a new list and does not change the original. For exampling printing out <i>first</i> gives us the original list with one coin flip result."
   ]
  },
  {
   "cell_type": "code",
   "execution_count": 7,
   "id": "9db578b5",
   "metadata": {},
   "outputs": [
    {
     "data": {
      "text/plain": [
       "array(['tails'], dtype='<U5')"
      ]
     },
     "execution_count": 7,
     "metadata": {},
     "output_type": "execute_result"
    }
   ],
   "source": [
    "first"
   ]
  },
  {
   "cell_type": "markdown",
   "id": "deeb5c88",
   "metadata": {},
   "source": [
    "To remedy this, we must use assignment. We can either rename our new list <i>first </i> or assign it a new name entirely."
   ]
  },
  {
   "cell_type": "code",
   "execution_count": 8,
   "id": "0bed681d",
   "metadata": {},
   "outputs": [
    {
     "data": {
      "text/plain": [
       "array(['tails', 'tails'], dtype='<U5')"
      ]
     },
     "execution_count": 8,
     "metadata": {},
     "output_type": "execute_result"
    }
   ],
   "source": [
    "first = np.append(first,'tails')\n",
    "first"
   ]
  },
  {
   "cell_type": "markdown",
   "id": "bed8391d",
   "metadata": {},
   "source": [
    "Appending items to lists is an important tool when working with python. However the random choice function allows an additional argument that corresponds to repeating an experiment with results automatically output in an array format. In fact we can repeat the coin flip experiment as many times as we want. Here we repeat 7 times!"
   ]
  },
  {
   "cell_type": "code",
   "execution_count": 9,
   "id": "7ed7e165",
   "metadata": {},
   "outputs": [
    {
     "data": {
      "text/plain": [
       "array(['heads', 'tails', 'heads', 'heads', 'tails', 'heads', 'tails'],\n",
       "      dtype='<U5')"
      ]
     },
     "execution_count": 9,
     "metadata": {},
     "output_type": "execute_result"
    }
   ],
   "source": [
    "outcomes = np.random.choice(coin, 7)\n",
    "outcomes"
   ]
  },
  {
   "cell_type": "markdown",
   "id": "f9b5283f",
   "metadata": {},
   "source": [
    "Since our experiment is small, we can easily count how many 'heads' or 'tails' we have. If we have a large experiment it might be tedious, even erroneous, to count by hand. We can instead find all instances where our <i>outcomes </i> array is equal to 'heads' and sum over these instances.\n",
    "\n",
    "\n",
    " To do this, we consider the array <i>outcomes == 'heads'</i>, which elementwise compares the array <i>outcomes</i> with 'heads' and outputs a Boolean array. That is, each element in <i> outcomes </i> is compared to 'heads' and the truth value of each comparison is output in an array."
   ]
  },
  {
   "cell_type": "code",
   "execution_count": 10,
   "id": "4c92e2fd",
   "metadata": {},
   "outputs": [
    {
     "data": {
      "text/plain": [
       "array([ True, False,  True,  True, False,  True, False])"
      ]
     },
     "execution_count": 10,
     "metadata": {},
     "output_type": "execute_result"
    }
   ],
   "source": [
    "outcomes == 'heads'"
   ]
  },
  {
   "cell_type": "markdown",
   "id": "5940d415",
   "metadata": {},
   "source": [
    "To count the number of 'heads' in our array <i> outcomes </i>, we can now sum over this Boolean array. Summing over a Boolean array counts all True instances, which is exactly the number of heads in this example."
   ]
  },
  {
   "cell_type": "code",
   "execution_count": 11,
   "id": "2fe5343d",
   "metadata": {},
   "outputs": [
    {
     "data": {
      "text/plain": [
       "4"
      ]
     },
     "execution_count": 11,
     "metadata": {},
     "output_type": "execute_result"
    }
   ],
   "source": [
    "sum(outcomes == 'heads')"
   ]
  },
  {
   "cell_type": "markdown",
   "id": "55ce8895",
   "metadata": {},
   "source": [
    "We can do the same with 'tails'."
   ]
  },
  {
   "cell_type": "code",
   "execution_count": 12,
   "id": "5072f1e8",
   "metadata": {},
   "outputs": [
    {
     "data": {
      "text/plain": [
       "3"
      ]
     },
     "execution_count": 12,
     "metadata": {},
     "output_type": "execute_result"
    }
   ],
   "source": [
    "sum(outcomes == 'tails')"
   ]
  },
  {
   "cell_type": "markdown",
   "id": "59167949",
   "metadata": {},
   "source": [
    "Since summing over a Boolean array counts all True instances, another way to count the number of 'tails' is by creating the Boolean array <i>outcomes !='heads'</i>, and summing over this instead. Here the Boolean array we create has a True instance when our coin flip landed on 'tails' and false when 'heads' was the result of our flip."
   ]
  },
  {
   "cell_type": "code",
   "execution_count": 13,
   "id": "323fe2be",
   "metadata": {},
   "outputs": [
    {
     "data": {
      "text/plain": [
       "array([False,  True, False, False,  True, False,  True])"
      ]
     },
     "execution_count": 13,
     "metadata": {},
     "output_type": "execute_result"
    }
   ],
   "source": [
    "outcomes !='heads'"
   ]
  },
  {
   "cell_type": "markdown",
   "id": "e3551d93",
   "metadata": {},
   "source": [
    "Summing over this array also counts the number of tails!"
   ]
  },
  {
   "cell_type": "code",
   "execution_count": 14,
   "id": "8407735f",
   "metadata": {},
   "outputs": [
    {
     "data": {
      "text/plain": [
       "3"
      ]
     },
     "execution_count": 14,
     "metadata": {},
     "output_type": "execute_result"
    }
   ],
   "source": [
    "sum(outcomes !='heads')"
   ]
  }
 ],
 "metadata": {
  "kernelspec": {
   "display_name": "Python 3 (ipykernel)",
   "language": "python",
   "name": "python3"
  },
  "language_info": {
   "codemirror_mode": {
    "name": "ipython",
    "version": 3
   },
   "file_extension": ".py",
   "mimetype": "text/x-python",
   "name": "python",
   "nbconvert_exporter": "python",
   "pygments_lexer": "ipython3",
   "version": "3.10.6"
  }
 },
 "nbformat": 4,
 "nbformat_minor": 5
}
