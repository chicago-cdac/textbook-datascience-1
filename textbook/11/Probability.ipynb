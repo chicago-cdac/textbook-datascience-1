{
 "cells": [
  {
   "cell_type": "markdown",
   "metadata": {},
   "source": [
    "# Probability: Mathematical/Theoretical and Computational Approaches\n",
    "\n",
    "*Dan L. Nicolae* \n",
    "\n",
    "We'll illustrate the concepts we want to introduce in this chapter with a classic probability problem called **the birthday problem**. Suppose you and a friend go to a party where there are 30 people, (all unknown to both of you), and your friend wants to bet you that there are two people at that party who share their birthday. Would you be willing to take that bet? \n",
    "\n",
    "Your willingness to take the bet should be related to the chance of winning the bet. What do you think is more likely to happen: Finding a pair with shared birthdays? Or having 30 distinct birthdays?\n",
    "\n",
    "We will answer this question using the language of probability: we will calculate the probability of the event that at least two people share the birthdays in a group of 30 people. The next section will introduce the rules we need for deriving this probability.\n",
    "\n",
    "Let's start with a simpler problem: What is the probability that two people share their birthday. Can you justify the following result?\n",
    "\n",
    "$$P(\\mbox{two random people have the same birthday}) ~=~ \\frac{1}{365}$$\n",
    "\n",
    "Think about the assumptions you implicitly or explicitly made in your justification. \n",
    "\n",
    "We will show in the next section that, given a number of people, **n** (with $2\\leq n\\leq 365$), the probability, $P_n$, that at least two share a birthday is given by:\n",
    "\n",
    "$$P_n ~=~ 1-\\frac{365\\times364\\times ...\\times (365-n+1)}{365^n}$$\n",
    "\n",
    "which can also be written as:\n",
    "\n",
    "$$P_n ~=~ 1-\\frac{365}{365}\\times\\frac{364}{365}\\times\\frac{363}{365}\\times ...\\times \\frac{(365-n+1)}{365}$$\n",
    "\n",
    "The asssumptions used for this calculation are:\n",
    "\n",
    "* There are 365 days in a year;\n",
    "\n",
    "* All days are equally likely to be a birthday;\n",
    "\n",
    "* Subjects' birthdays are independent of each other (for example, no twins in the room).\n",
    "\n",
    "The function below calculates these probabilities. "
   ]
  },
  {
   "cell_type": "code",
   "execution_count": 1,
   "metadata": {},
   "outputs": [],
   "source": [
    "def birthday_prob(n):\n",
    "    \"\"\"Calculate the probability that at least 2 people \n",
    "       out of `n` have the same birthday.\n",
    "    \n",
    "    \"\"\"\n",
    "    prob = 1\n",
    "    \n",
    "    for index in range(n):\n",
    "        prob *= (365 - index) / 365\n",
    "    \n",
    "    return round(1 - prob, 4)"
   ]
  },
  {
   "cell_type": "markdown",
   "metadata": {},
   "source": [
    "We can use this function to calculate the probability for the above scenario (a group of 30 random people):"
   ]
  },
  {
   "cell_type": "code",
   "execution_count": 2,
   "metadata": {
    "scrolled": true
   },
   "outputs": [
    {
     "data": {
      "text/plain": [
       "0.7063"
      ]
     },
     "execution_count": 2,
     "metadata": {},
     "output_type": "execute_result"
    }
   ],
   "source": [
    "birthday_prob(30)"
   ]
  },
  {
   "cell_type": "markdown",
   "metadata": {},
   "source": [
    "The probability is close to 0.7 which means it is more likely your friend wins the bet.\n",
    "\n",
    "Let's also look on how these probabilities change with $n$. We construct below a DataFrame that contains these probabilities for $n$ ranging from 2 to 60."
   ]
  },
  {
   "cell_type": "code",
   "execution_count": 3,
   "metadata": {},
   "outputs": [
    {
     "data": {
      "text/html": [
       "<div>\n",
       "<style scoped>\n",
       "    .dataframe tbody tr th:only-of-type {\n",
       "        vertical-align: middle;\n",
       "    }\n",
       "\n",
       "    .dataframe tbody tr th {\n",
       "        vertical-align: top;\n",
       "    }\n",
       "\n",
       "    .dataframe thead th {\n",
       "        text-align: right;\n",
       "    }\n",
       "</style>\n",
       "<table border=\"1\" class=\"dataframe\">\n",
       "  <thead>\n",
       "    <tr style=\"text-align: right;\">\n",
       "      <th></th>\n",
       "      <th>Probability</th>\n",
       "    </tr>\n",
       "    <tr>\n",
       "      <th>Number of people</th>\n",
       "      <th></th>\n",
       "    </tr>\n",
       "  </thead>\n",
       "  <tbody>\n",
       "    <tr>\n",
       "      <th>2</th>\n",
       "      <td>0.0027</td>\n",
       "    </tr>\n",
       "    <tr>\n",
       "      <th>3</th>\n",
       "      <td>0.0082</td>\n",
       "    </tr>\n",
       "    <tr>\n",
       "      <th>4</th>\n",
       "      <td>0.0164</td>\n",
       "    </tr>\n",
       "    <tr>\n",
       "      <th>5</th>\n",
       "      <td>0.0271</td>\n",
       "    </tr>\n",
       "    <tr>\n",
       "      <th>6</th>\n",
       "      <td>0.0405</td>\n",
       "    </tr>\n",
       "    <tr>\n",
       "      <th>7</th>\n",
       "      <td>0.0562</td>\n",
       "    </tr>\n",
       "    <tr>\n",
       "      <th>8</th>\n",
       "      <td>0.0743</td>\n",
       "    </tr>\n",
       "  </tbody>\n",
       "</table>\n",
       "</div>"
      ],
      "text/plain": [
       "                  Probability\n",
       "Number of people             \n",
       "2                      0.0027\n",
       "3                      0.0082\n",
       "4                      0.0164\n",
       "5                      0.0271\n",
       "6                      0.0405\n",
       "7                      0.0562\n",
       "8                      0.0743"
      ]
     },
     "execution_count": 3,
     "metadata": {},
     "output_type": "execute_result"
    }
   ],
   "source": [
    "import pandas as pd\n",
    "\n",
    "\n",
    "# Construct a DataFrame with probabilities for a range of n.\n",
    "\n",
    "number_people = range(2, 61)\n",
    "\n",
    "Birthday_probs = pd.DataFrame(\n",
    "    {\n",
    "        \"Probability\": [birthday_prob(number) for number in number_people],\n",
    "    },\n",
    "    index=pd.Index(number_people, name=\"Number of people\"),\n",
    ")\n",
    "\n",
    "Birthday_probs.head(7)"
   ]
  },
  {
   "cell_type": "markdown",
   "metadata": {},
   "source": [
    "We construct below a line graph of these probabilities that shows the trend. "
   ]
  },
  {
   "cell_type": "code",
   "execution_count": 4,
   "metadata": {},
   "outputs": [
    {
     "data": {
      "image/png": "[encoded data removed]",
      "text/plain": [
       "<Figure size 640x480 with 1 Axes>"
      ]
     },
     "metadata": {},
     "output_type": "display_data"
    }
   ],
   "source": [
    "import matplotlib.pyplot as plots\n",
    "\n",
    "\n",
    "plots.style.use('fivethirtyeight')\n",
    "\n",
    "\n",
    "Birthday_probs.plot();"
   ]
  },
  {
   "cell_type": "markdown",
   "metadata": {},
   "source": [
    "Are the above probabilities surprising? Can you provide an intuition for them?\n",
    "\n",
    "Note that the number of people that yields the probability closest to a fair bet is 23:"
   ]
  },
  {
   "cell_type": "code",
   "execution_count": 5,
   "metadata": {},
   "outputs": [
    {
     "data": {
      "text/plain": [
       "0.5073"
      ]
     },
     "execution_count": 5,
     "metadata": {},
     "output_type": "execute_result"
    }
   ],
   "source": [
    "birthday_prob(23)"
   ]
  }
 ],
 "metadata": {
  "kernelspec": {
   "display_name": "Python 3 (ipykernel)",
   "language": "python",
   "name": "python3"
  },
  "language_info": {
   "codemirror_mode": {
    "name": "ipython",
    "version": 3
   },
   "file_extension": ".py",
   "mimetype": "text/x-python",
   "name": "python",
   "nbconvert_exporter": "python",
   "pygments_lexer": "ipython3",
   "version": "3.10.6"
  }
 },
 "nbformat": 4,
 "nbformat_minor": 4
}
