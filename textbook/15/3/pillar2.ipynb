{
 "cells": [
  {
   "cell_type": "markdown",
   "metadata": {},
   "source": [
    "# Pillar 2\n",
    "\n",
    "**Collected human data should be shared and maintained in a way that protects the privacy of subjects**\n",
    "\n",
    "Just as with our medical, financial, and educational records, our personal data needs to be maintained securely due to its sensitive and personally identifying nature. In the age of the Internet, technology has advanced rapidly, arguably faster than the ability for common audiences to fully understand its implications. Because use of the Web is ubiquitous, many users take for granted or are simply unaware of how their personal data is collected and used. For example, cookies are small files that can store personal preferences and data to enhance our online experience. When browsing websites, third-party cookies can communicate with their home servers to inform them about a user’s visit to a website. This is often how companies like Facebook, YouTube, and Google are able to know about someone’s online shopping habits and thus use targeted advertising on other unrelated websites. Because of legislations like the General Data Protection Regulation (GDPR)[^*] - an international legal framework that guides the processing and collection of personal data on the Internet, websites have become more transparent about their cookie usage and provide the opportunity for website visitors to opt out of certain cookies. Some websites, however, do not offer these opportunities and may use cookies in an unregulated fashion.\n",
    "\n",
    "Apart from cookies, there are other means by which personal information can be obtained, such as collecting data through third-party services and apps or purchasing data from these services or data brokers. These data can be aggregated with geolocation data, device identifiers, financial transactions, and other data that may not legally be defined as “personally identifying” but can allow for specific targeting of users. Further processing, such as pseudonymization and anonymization, may be done prior to external release of data as a way to de-identify the data and protect personal identities. Pseudonymization is the assignment of pseudonyms to data entries, while anonymization is the complete removal of identifier variables. Pseudonymization can potentially re-identify individuals if corresponding metadata is supplied. Once collected and processed, this data is treated as property of the collection company or data broker, rather than the user it was collected from, and can be sold to government agencies and other private companies.\n",
    "\n",
    "While collection and selling of data has grown to be an extremely profitable market, ethical faults have caused personal and collective damages to citizens. Data brokers have come into legal battles over the sale of sensitive personal information which has been posed as concerns of safety and exploitation in cases such as the ones involving scams against the elderly[^**] and the homicide of Amy Boyer[^***]. As data continues to be a growing commodity, regulations and ethics will need to rapidly develop to meet the dynamic ecosystem around the selling of personal data to maximize social and economic benefit while minimizing harm."
   ]
  },
  {
   "cell_type": "markdown",
   "metadata": {},
   "source": [
    "[^*]: European Parliament, Council of the European Union, General Data Protection Regulation (GDPR), 25 May 2018, available at: https://gdpr-info.eu/\n",
    "[^**]: UNITED STATES v. MACROMARK, INC. 20-CR-147-AWT, 18 Dec. 2020, https://www.justice.gov/civil/case/file/1326376/download.\n",
    "[^***]: REMSBURG v. DOCUSEARCH, INC. No. 2002-255, 18 Feb. 2003, https://www.nhd.uscourts.gov/sites/default/files/Opinions/02/02NH090.pdf.\n"
   ]
  },
  {
   "cell_type": "code",
   "execution_count": null,
   "metadata": {},
   "outputs": [],
   "source": []
  }
 ],
 "metadata": {
  "kernelspec": {
   "display_name": "Python 3 (ipykernel)",
   "language": "python",
   "name": "python3"
  },
  "language_info": {
   "codemirror_mode": {
    "name": "ipython",
    "version": 3
   },
   "file_extension": ".py",
   "mimetype": "text/x-python",
   "name": "python",
   "nbconvert_exporter": "python",
   "pygments_lexer": "ipython3",
   "version": "3.9.12"
  },
  "vscode": {
   "interpreter": {
    "hash": "aee8b7b246df8f9039afb4144a1f6fd8d2ca17a180786b69acc140d282b71a49"
   }
  }
 },
 "nbformat": 4,
 "nbformat_minor": 2
}
