{
 "cells": [
  {
   "cell_type": "markdown",
   "metadata": {},
   "source": [
    "# Pillar 3\n",
    "\n",
    "**Acquisition and collection of data should involve informed consent and volition of human subjects**\n",
    "\n",
    "Many research studies and commercial entities collect data from human subjects. The type of data may range from personal information (e.g. name, phone number, address, etc.) to usage and activity metrics from apps, websites, and other inputs. In informed research efforts, researchers often explain to subjects the purpose of the study, the data being collected, and why it is being collected. On the other hand, commercial entities often do not take as much of a personable approach when collecting data. Usually, prior to the collection of data, subjects are presented with an extensive “Terms and Conditions” document, which may have to be accepted for the use of a product or service. Often times, people do not thoroughly read these documents, and simply “accept” these terms and conditions. While presenting human subjects with an exhaustive document containing technical and legal jargon can be viewed has providing the opportunity for informed consent, considering the context in which these “Terms of Use” is presented can be an important basis for determining if such an approach effectively aligns with ethical informed consent.\n",
    "\n",
    "In 2019, the New York Times published an opinion piece investigating the readability of 150 privacy policies of popular platforms and companies, such as Airbnb, Facebook, Apple, and Yelp[^*]. The article described that the readability of most of these privacy policies exceeded college-level reading and took at least 15 minutes to read, which doesn’t necessarily correlate with comprehension. While this experiment was brief in nature and accounted the experience of one journalist, it highlights some important concerns regarding the data policies used by companies. The complexities of many policies could serve as a barrier for users to truly understand and consent to the collection and use of their data. Because of this, facilitating volition is an important and effective mechanism for involving consensual collection of data from human subjects. This may require a policy document to use simplified, specific language that is more understandable to a layperson audience. It may also include the use of representatives or liaisons from a company to converse with users, provide opportunities for questions, and explain important highlights and details regarding the use of their data. The trade-off of this approach is the limitation of time and resources to facilitate volition, which could reduce the use of a company’s product or service en masse. It may also limit a company’s ability to maintain and distribute data that would be for the benefit of the company. As there are important points to consider in the development of data collection protocols, one must weigh organizational interests with ethical implications to determine the most suitable mechanisms to inform product users and research subjects.\n",
    "\n",
    "<img align=\"center\" src=\"./img/NYT-readability.png\" width=\"85%\"/>\n",
    "\n",
    "<center>Reading level and time (in minutes) required to read internet privacy policies for 150 popular websites and apps, along with popular books, according to Lexile scoring</center>"
   ]
  },
  {
   "cell_type": "markdown",
   "metadata": {},
   "source": [
    "[^*]: Litman-Navarro, Kevin. “Opinion | We Read 150 Privacy Policies. They Were an Incomprehensible Disaster.” The New York Times, 12 June 2019, https://www.nytimes.com/interactive/2019/06/12/opinion/facebook-google-privacy-policies.html."
   ]
  },
  {
   "cell_type": "code",
   "execution_count": null,
   "metadata": {},
   "outputs": [],
   "source": []
  }
 ],
 "metadata": {
  "kernelspec": {
   "display_name": "Python 3 (ipykernel)",
   "language": "python",
   "name": "python3"
  },
  "language_info": {
   "codemirror_mode": {
    "name": "ipython",
    "version": 3
   },
   "file_extension": ".py",
   "mimetype": "text/x-python",
   "name": "python",
   "nbconvert_exporter": "python",
   "pygments_lexer": "ipython3",
   "version": "3.9.12"
  },
  "vscode": {
   "interpreter": {
    "hash": "aee8b7b246df8f9039afb4144a1f6fd8d2ca17a180786b69acc140d282b71a49"
   }
  }
 },
 "nbformat": 4,
 "nbformat_minor": 2
}
