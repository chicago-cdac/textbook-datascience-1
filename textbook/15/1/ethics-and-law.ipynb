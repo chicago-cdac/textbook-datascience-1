{
 "cells": [
  {
   "cell_type": "markdown",
   "metadata": {},
   "source": [
    "# Data Ethics and the Law\n",
    "\n",
    "According to the Britannica Encyclopedia, ethics is a branch of philosophy concerned with “what is morally good and bad and morally right and wrong.” While this sounds quite simple and matter of fact in nature, like most academic disciplines, the field of ethics consists of many diverse perspectives, approaches, and analyses in defining what is “good,” “bad,” “right,” and “wrong.” In data science, there is constant debate on the gray area behind ethical conduct around data. Furthermore, with the rapid growth of data science, computer science, and other related fields, ethical considerations and standards lag behind technological advancements. \n",
    "\n",
    "In an attempt to keep up with the use of data in these advancements, many countries have adopted policies, regulations, and legislations around the collection, use, and maintenance of data. The Convention for the Protection of Individuals with Regard to Automatic Processing of Personal Data (or ETS 108)[^*] is a treaty adopted by The Council of Europe which aims to protect individual freedoms and privacy in the context of data processing, security, transparency, and other parameters. The United States federal government has developed the Data Ethics Framework[^**] to serve as a guideline for federal employees in making decisions involving the acquisition, management, and use of data on behalf of federal agencies. However, there are currently no federal rules and regulations around data usage by commercial and personal entities. State legislatures have aimed to fill in this gap, although there is great variability and effectiveness across states. Moreover, data ethics laws have largely not been enacted in countries representing the Global South. In the development of new technological advancements and accompanying provisions, representation from these countries will have important implications in the global economy, environmental and agricultural landscape, and sociopolitical relations.\n",
    "\n",
    "\n",
    "# Ethical Framework\n",
    "\n",
    "Many legal and ethical concerns surrounding data-centered conduct and decision-making involves maximizing human benefits while minimizing unintended damage. This approach can be summarized into 4 major pillars that should serve as the basis of all decisions, research, and usage of data involving human subjects:\n",
    "\n",
    "\n",
    "1. The attainment, usage, storage, analysis, and maintenance of human data should be transparent, accountable, honest, and intended for some sort of human benefit.\n",
    "2. Collected human data should be shared and maintained in a way that protects the privacy of subjects.\n",
    "3. Acquisition and collection of data should involve informed consent and volition of human subjects. \n",
    "4. Communication, interpretation, and application of human data should be accurate and consider social, political, and economic contexts and ramifications, especially when involving vulnerable populations. \n"
   ]
  },
  {
   "cell_type": "markdown",
   "metadata": {},
   "source": [
    "\n",
    "[^*]: Council of Europe, Convention for the Protection of Individuals with Regard to the Automatic Processing of Individual Data, 28 January 1981, ETS 108, https://www.refworld.org/docid/3dde1005a.html \n",
    "[^**]: General Services Administration. 2020. Federal Data Strategy - Data Ethics Framework. https://resources.data.gov/assets/documents/fds-data-ethics-framework.pdf "
   ]
  }
 ],
 "metadata": {
  "kernelspec": {
   "display_name": "Python 3 (ipykernel)",
   "language": "python",
   "name": "python3"
  },
  "language_info": {
   "codemirror_mode": {
    "name": "ipython",
    "version": 3
   },
   "file_extension": ".py",
   "mimetype": "text/x-python",
   "name": "python",
   "nbconvert_exporter": "python",
   "pygments_lexer": "ipython3",
   "version": "3.9.12"
  },
  "vscode": {
   "interpreter": {
    "hash": "aee8b7b246df8f9039afb4144a1f6fd8d2ca17a180786b69acc140d282b71a49"
   }
  }
 },
 "nbformat": 4,
 "nbformat_minor": 4
}
