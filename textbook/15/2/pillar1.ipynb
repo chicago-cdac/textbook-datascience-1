{
 "cells": [
  {
   "cell_type": "markdown",
   "metadata": {},
   "source": [
    "# Pillar 1\n",
    "\n",
    "**The attainment, usage, storage, analysis, and maintenance of human data should be transparent, accountable, honest, and intended for some sort of human benefit**\n",
    "\n",
    "In order to facilitate reproducibility, trusted participation, and complete comprehension of terminal goals and results, a policy of transparency and trustworthiness should be embedded into the protocol of handling human data. As with most endeavors involving humans as research subjects or participants, accountability is important to maintain high ethical standards. Transparency and honesty as it pertains to acquiring, using, storing, and analyzing data includes sharing information of these methods not only with stakeholders, but relevant government and regulatory agencies and the people that the data is collected from when possible. Use of transparent and honest practices in each of these areas may increase the likelihood that the use of the data will in fact be beneficial to humans and may include, but are not limited to, the following practices:\n",
    "\n",
    "- Attainment - data was gathered through ethical and honest means, with the consent and compensation of subjects (See Pillar 2)\n",
    "- Usage - data is used to help inform decisions that will benefit the scientific, social, and economic advancement of humans and does not hurt or maliciously target one or more groups of people based on a particular demographic (See Pillar 4). The use of data coincides with the intended use communicated to the subjects.\n",
    "- Analysis - proper analytical methods are applied to garner understanding of data and does not include biased or inappropriate statistical applications, such as p-hacking, cherry picking, selective omission, and other problematic research practices[^*].\n",
    "- Storage & Maintenance - secure means, such as encryption and deanonymization, are used to preserve and house data physically or on an online server to ensure the privacy of subjects. Prior to collection, subjects are informed about what these privacy and security measures are (See Pillar 2)\n",
    "\n",
    "Use of these practices not only builds trust in the participants, but it also creates a way to make the holder of the data accountable. In 2015, the Harvard Business Review published an article surveying consumers across several countries on sentiments around data privacy and security[^**]. Interestingly, the entities people trusted most with their data were healthcare providers and financial institutions, while the least trusted were entertainment companies and social media firms. Arguably, the level of trust may coincide with mechanisms of accountability, such as HIPPA legislations and financial privacy laws like the Gramm–Leach–Bliley Act, which may not apply to entertainment and social media platforms in the same way. While legal obligation is a strong way to enforce accountability, providing open and accessible information on conduct around data security and privacy and protocols for when someone has questions or ailments about them shows an organization’s intrinsic commitment to transparent practices, which may reduce the likelihood of subjects to provide inaccurate or false information. All-in-all, when it comes to human data, honesty is truly the best policy. \n",
    "\n",
    "<img align=\"center\" src=\"./img/trust.png\" width=\"75%\"/>"
   ]
  },
  {
   "cell_type": "markdown",
   "metadata": {},
   "source": [
    "[^*]: Andrade, Chittaranjan. “HARKing, Cherry-Picking, P-Hacking, Fishing Expeditions, and Data Dredging and Mining as Questionable Research Practices.” The Journal of Clinical Psychiatry, vol. 82, no. 1, Feb. 2021, p. 20f13804, https://doi.org/10.4088/JCP.20f13804.\n",
    "[^**]: Morey, Timothy, et al. “Customer Data: Designing for Transparency and Trust.” Harvard Business Review, 1 May 2015, https://hbr.org/2015/05/customer-data-designing-for-transparency-and-trust."
   ]
  },
  {
   "cell_type": "code",
   "execution_count": null,
   "metadata": {},
   "outputs": [],
   "source": []
  }
 ],
 "metadata": {
  "kernelspec": {
   "display_name": "Python 3 (ipykernel)",
   "language": "python",
   "name": "python3"
  },
  "language_info": {
   "codemirror_mode": {
    "name": "ipython",
    "version": 3
   },
   "file_extension": ".py",
   "mimetype": "text/x-python",
   "name": "python",
   "nbconvert_exporter": "python",
   "pygments_lexer": "ipython3",
   "version": "3.9.12"
  },
  "vscode": {
   "interpreter": {
    "hash": "aee8b7b246df8f9039afb4144a1f6fd8d2ca17a180786b69acc140d282b71a49"
   }
  }
 },
 "nbformat": 4,
 "nbformat_minor": 2
}
