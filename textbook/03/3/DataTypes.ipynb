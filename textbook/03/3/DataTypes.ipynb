{
 "cells": [
  {
   "cell_type": "markdown",
   "id": "0fe21b87",
   "metadata": {},
   "source": [
    "# Data Types\n",
    "*Evelyn Campbell, Ph.D.*\n",
    "\n",
    "Python offers a number of different data types that can be manipulated and used by various functions. Some important built-in Python data types include booleans, strings, integers, and floats. These data types can be used to build various data structures, such as lists, dictionaries, arrays, and dataframes, which will be covered in Chapters 4 and 6. Here we will explore each data type and corresponding functions that are useful when working with these data types."
   ]
  },
  {
   "cell_type": "markdown",
   "id": "5f59dfb7",
   "metadata": {},
   "source": [
    "## Booleans\n",
    "\n",
    "Booleans are a data type that consists of two possible outcomes: `True` or `False`. Under the hood, these values take on a binary value, where `True` is equal to 1 and `False` is equal to 0. Booleans are very commonly used with comparison operators, and because they also can have a numeric meaning, they can be used in calculations as well. Let's start with a simple example of a Boolean."
   ]
  },
  {
   "cell_type": "code",
   "execution_count": 1,
   "id": "0856f3c4",
   "metadata": {},
   "outputs": [
    {
     "data": {
      "text/plain": [
       "False"
      ]
     },
     "execution_count": 1,
     "metadata": {},
     "output_type": "execute_result"
    }
   ],
   "source": [
    "boolval = 2 + 5 < 3 + 1\n",
    "boolval"
   ]
  },
  {
   "cell_type": "code",
   "execution_count": 2,
   "id": "9474bdc6",
   "metadata": {},
   "outputs": [
    {
     "data": {
      "text/plain": [
       "5"
      ]
     },
     "execution_count": 2,
     "metadata": {},
     "output_type": "execute_result"
    }
   ],
   "source": [
    "boolval = boolval + 5\n",
    "boolval"
   ]
  },
  {
   "cell_type": "code",
   "execution_count": 3,
   "id": "7b762697",
   "metadata": {},
   "outputs": [
    {
     "data": {
      "text/plain": [
       "True"
      ]
     },
     "execution_count": 3,
     "metadata": {},
     "output_type": "execute_result"
    }
   ],
   "source": [
    "boolval < 10"
   ]
  },
  {
   "cell_type": "markdown",
   "id": "37df7040",
   "metadata": {},
   "source": [
    "The `bool()` function converts an input (i.e. a numeric value, string, or even data structures) to a boolean value."
   ]
  },
  {
   "cell_type": "code",
   "execution_count": 4,
   "id": "eb07c4ae",
   "metadata": {},
   "outputs": [
    {
     "data": {
      "text/plain": [
       "True"
      ]
     },
     "execution_count": 4,
     "metadata": {},
     "output_type": "execute_result"
    }
   ],
   "source": [
    "j = 5\n",
    "k = bool(j)\n",
    "k"
   ]
  },
  {
   "cell_type": "markdown",
   "id": "bf200212",
   "metadata": {},
   "source": [
    "Any input that has value will give an output of `True` when called into the `bool()` function. Any input that is null or empty will give a `False` output."
   ]
  },
  {
   "cell_type": "code",
   "execution_count": 5,
   "id": "96368899",
   "metadata": {},
   "outputs": [
    {
     "name": "stdout",
     "output_type": "stream",
     "text": [
      "True\n",
      "False\n"
     ]
    }
   ],
   "source": [
    "something = 6542\n",
    "nothing = 0 # an empty list\n",
    "print(bool(something))\n",
    "print(bool(nothing))"
   ]
  },
  {
   "cell_type": "markdown",
   "id": "102cae84",
   "metadata": {},
   "source": [
    "## Strings\n",
    "\n",
    "Strings are a data type that can consist of concatenated alphanumeric and punctuation characters. Strings are recognized by Python through the use of single (' ') or double (\" \") quotation marks. "
   ]
  },
  {
   "cell_type": "code",
   "execution_count": 6,
   "id": "9868b82e",
   "metadata": {},
   "outputs": [
    {
     "name": "stdout",
     "output_type": "stream",
     "text": [
      "This is a sentence.\n"
     ]
    }
   ],
   "source": [
    "words = 'This is a sentence.'\n",
    "print(words)"
   ]
  },
  {
   "cell_type": "markdown",
   "id": "71e0ea9c",
   "metadata": {},
   "source": [
    "Double quotes are recommened as a first option use, as they allow for the use of single quotations inside."
   ]
  },
  {
   "cell_type": "code",
   "execution_count": 7,
   "id": "4e147421",
   "metadata": {},
   "outputs": [
    {
     "name": "stdout",
     "output_type": "stream",
     "text": [
      "This isn't easy.\n"
     ]
    }
   ],
   "source": [
    "print(\"This isn't easy.\")"
   ]
  },
  {
   "cell_type": "code",
   "execution_count": 8,
   "id": "5b4ec625",
   "metadata": {
    "tags": [
     "raises-exception"
    ]
   },
   "outputs": [
    {
     "ename": "SyntaxError",
     "evalue": "unterminated string literal (detected at line 1) (3546504085.py, line 1)",
     "output_type": "error",
     "traceback": [
      "\u001b[0;36m  Cell \u001b[0;32mIn [8], line 1\u001b[0;36m\u001b[0m\n\u001b[0;31m    print('This isn't easy.')\u001b[0m\n\u001b[0m                           ^\u001b[0m\n\u001b[0;31mSyntaxError\u001b[0m\u001b[0;31m:\u001b[0m unterminated string literal (detected at line 1)\n"
     ]
    }
   ],
   "source": [
    "print('This isn't easy.')"
   ]
  },
  {
   "cell_type": "markdown",
   "id": "a46d5107",
   "metadata": {},
   "source": [
    "Strings can be used in simple additive mathematical operations, like addition and multiplication."
   ]
  },
  {
   "cell_type": "code",
   "execution_count": 9,
   "id": "3b40b622",
   "metadata": {},
   "outputs": [
    {
     "name": "stdout",
     "output_type": "stream",
     "text": [
      "This is a sentence.This is a sentence.\n",
      "This is a sentence.This is a sentence.\n"
     ]
    }
   ],
   "source": [
    "print(words+words)\n",
    "\n",
    "words2 = words * 2\n",
    "print(words2)"
   ]
  },
  {
   "cell_type": "markdown",
   "id": "80d3ecc4",
   "metadata": {},
   "source": [
    "In the above example, we see that Python prints the sentence twice, but these sentences run into each other (i.e. there is no space in between). We have to specifically tell Python to add this space. We can do this by printing the string variables that we want along with a space in quotation marks (\" \"). We can also do this by adding multiple arguments to the `print()` function, separated by a comma."
   ]
  },
  {
   "cell_type": "code",
   "execution_count": 10,
   "id": "c57fbd1b",
   "metadata": {},
   "outputs": [
    {
     "name": "stdout",
     "output_type": "stream",
     "text": [
      "This is a sentence. This is a sentence.\n",
      "This is a sentence. This is a sentence.\n"
     ]
    }
   ],
   "source": [
    "print(words + \" \" + words)\n",
    "print(words, words)"
   ]
  },
  {
   "cell_type": "markdown",
   "id": "396964f1",
   "metadata": {},
   "source": [
    "When manipulating string variables, data scientist will often used what are called *methods*. A method is piece of code that is associated with a defined variable, as opposed to a *function* which uses defined variables as input parameters. Functions will be further discussed in the upcoming section.\n",
    "\n",
    "\n",
    "Some methods can be used on strings to quickly and efficiently alter them. A few include the `.upper()`, `.lower()`, `.capitalize()`, `.title()`, and `.swapcase()` methods. There are many others, but these few are great to start exploring the different ways string variables can be manipulated:"
   ]
  },
  {
   "cell_type": "code",
   "execution_count": 11,
   "id": "5cb25a6e",
   "metadata": {},
   "outputs": [
    {
     "name": "stdout",
     "output_type": "stream",
     "text": [
      "CANDY IS MY FAVORITE TREAT. MY FAVORITE CANDY IS BUBBLE GUM.\n",
      "candy is my favorite treat. my favorite candy is bubble gum.\n",
      "Candy is my favorite treat. my favorite candy is bubble gum.\n",
      "Candy Is My Favorite Treat. My Favorite Candy Is Bubble Gum.\n",
      "CANDY IS MY FAVORITE TREAT. MY FAVORITE CANDY IS bubble gum.\n"
     ]
    }
   ],
   "source": [
    "candy = \"candy is my favorite treat. my favorite candy is BUBBLE GUM.\"\n",
    "print(candy.upper())\n",
    "print(candy.lower())\n",
    "print(candy.capitalize())\n",
    "print(candy.title())\n",
    "print(candy.swapcase())"
   ]
  },
  {
   "cell_type": "markdown",
   "id": "eee7e73f",
   "metadata": {},
   "source": [
    "A really useful method that can be used on strings is the `.replace()` method. This method allows you to replace a given string expression with a new one of your choosing:"
   ]
  },
  {
   "cell_type": "code",
   "execution_count": 12,
   "id": "cf0c34b1",
   "metadata": {},
   "outputs": [
    {
     "name": "stdout",
     "output_type": "stream",
     "text": [
      "candy is my favorite treat. my favorite candy is LICORICE.\n"
     ]
    }
   ],
   "source": [
    "print(candy.replace(\"BUBBLE GUM\", \"LICORICE\"))"
   ]
  },
  {
   "cell_type": "markdown",
   "id": "ee598b42",
   "metadata": {},
   "source": [
    "Numeric values can also be recognized as a string by putting them within quotation marks or using them as an argument in the `str()` function."
   ]
  },
  {
   "cell_type": "code",
   "execution_count": 13,
   "id": "2357bb90",
   "metadata": {},
   "outputs": [
    {
     "name": "stdout",
     "output_type": "stream",
     "text": [
      "2\n",
      "True\n"
     ]
    }
   ],
   "source": [
    "two = \"2\"\n",
    "true = str(True)\n",
    "print(two)\n",
    "print(true)"
   ]
  },
  {
   "cell_type": "markdown",
   "id": "01d68864",
   "metadata": {},
   "source": [
    "We can confirm that these are indeed strings by calling these variables into the `type()` function, which can be used on any variable to check its data type."
   ]
  },
  {
   "cell_type": "code",
   "execution_count": 14,
   "id": "eeb05252",
   "metadata": {
    "scrolled": true
   },
   "outputs": [
    {
     "name": "stdout",
     "output_type": "stream",
     "text": [
      "<class 'str'>\n",
      "<class 'str'>\n"
     ]
    }
   ],
   "source": [
    "print(type(two))\n",
    "print(type(true))"
   ]
  },
  {
   "cell_type": "markdown",
   "id": "c8160dd5",
   "metadata": {},
   "source": [
    "Keep in mind that when a numerical value is converted to a string, it can no longer be used to perform advanced mathematical calculations, such as division, subtraction, or exponentiation."
   ]
  },
  {
   "cell_type": "code",
   "execution_count": 15,
   "id": "4b93c80d",
   "metadata": {
    "tags": [
     "raises-exception"
    ]
   },
   "outputs": [
    {
     "ename": "TypeError",
     "evalue": "unsupported operand type(s) for ** or pow(): 'str' and 'int'",
     "output_type": "error",
     "traceback": [
      "\u001b[0;31m---------------------------------------------------------------------------\u001b[0m",
      "\u001b[0;31mTypeError\u001b[0m                                 Traceback (most recent call last)",
      "Cell \u001b[0;32mIn [15], line 1\u001b[0m\n\u001b[0;32m----> 1\u001b[0m \u001b[43mtwo\u001b[49m\u001b[43m \u001b[49m\u001b[38;5;241;43m*\u001b[39;49m\u001b[38;5;241;43m*\u001b[39;49m\u001b[43m \u001b[49m\u001b[38;5;241;43m2\u001b[39;49m\n",
      "\u001b[0;31mTypeError\u001b[0m: unsupported operand type(s) for ** or pow(): 'str' and 'int'"
     ]
    }
   ],
   "source": [
    "two ** 2"
   ]
  },
  {
   "cell_type": "markdown",
   "id": "9199c7f8",
   "metadata": {},
   "source": [
    "It can be used in addition and multiplication, but more so in a \"stringy\" way and not a \"mathy\" way:"
   ]
  },
  {
   "cell_type": "code",
   "execution_count": 16,
   "id": "c679b2cf",
   "metadata": {},
   "outputs": [
    {
     "data": {
      "text/plain": [
       "'22'"
      ]
     },
     "execution_count": 16,
     "metadata": {},
     "output_type": "execute_result"
    }
   ],
   "source": [
    "two + two"
   ]
  },
  {
   "cell_type": "markdown",
   "id": "8cfb2a07",
   "metadata": {},
   "source": [
    "This is the only time when 2 + 2 equals 22. <span class=\"emoji\">🙃</span>"
   ]
  },
  {
   "cell_type": "markdown",
   "id": "962e14a6",
   "metadata": {},
   "source": [
    "## Integers & Floats\n",
    "\n",
    "Integers and floats are numerical data types that are often used to perform mathematical operations. Integers consists of whole numbers, while floats consists of whole numbers with floating decimal places. Floats can hold up to 15 significant figures following the decimal point and can be used to obtain more accurate calculations. However, it is easier and faster for a computer to do calculations using integers. Thus, one must weigh the pros and cons of using these data types when doing calculations and writing functions to obtain outcomes that are most aligned with their end goals. Let's take a look at these data types in use.\n"
   ]
  },
  {
   "cell_type": "code",
   "execution_count": 17,
   "id": "4999e805",
   "metadata": {},
   "outputs": [],
   "source": [
    "a = 4567\n",
    "b = 45.67"
   ]
  },
  {
   "cell_type": "code",
   "execution_count": 18,
   "id": "d80c645c",
   "metadata": {},
   "outputs": [
    {
     "data": {
      "text/plain": [
       "int"
      ]
     },
     "execution_count": 18,
     "metadata": {},
     "output_type": "execute_result"
    }
   ],
   "source": [
    "type(a)"
   ]
  },
  {
   "cell_type": "code",
   "execution_count": 19,
   "id": "63f1f22a",
   "metadata": {},
   "outputs": [
    {
     "data": {
      "text/plain": [
       "float"
      ]
     },
     "execution_count": 19,
     "metadata": {},
     "output_type": "execute_result"
    }
   ],
   "source": [
    "type(b)"
   ]
  },
  {
   "cell_type": "markdown",
   "id": "a554c356",
   "metadata": {},
   "source": [
    "These numerical data types can be converted between floats and integers using the `float()` and `int()` functions. Let's see what happens when we convert the integer value 4567 to a float and the float value 45.67 to an integer:"
   ]
  },
  {
   "cell_type": "code",
   "execution_count": 20,
   "id": "e27b3d6b",
   "metadata": {},
   "outputs": [
    {
     "data": {
      "text/plain": [
       "4567.0"
      ]
     },
     "execution_count": 20,
     "metadata": {},
     "output_type": "execute_result"
    }
   ],
   "source": [
    "float(a)"
   ]
  },
  {
   "cell_type": "code",
   "execution_count": 21,
   "id": "25c550da",
   "metadata": {},
   "outputs": [
    {
     "data": {
      "text/plain": [
       "45"
      ]
     },
     "execution_count": 21,
     "metadata": {},
     "output_type": "execute_result"
    }
   ],
   "source": [
    "int(b)"
   ]
  },
  {
   "cell_type": "markdown",
   "id": "0b7c63c9",
   "metadata": {},
   "source": [
    "We can see that the conversion of an integer to a float simply adds one significant figure after the decimal place. Moreover, converting a float to an integer rounds the number <u>down</u> to the nearest whole number. We can also convert numerical values in strings and boolean data types to integers and floats"
   ]
  },
  {
   "cell_type": "code",
   "execution_count": 22,
   "id": "96fb03d7",
   "metadata": {},
   "outputs": [
    {
     "name": "stdout",
     "output_type": "stream",
     "text": [
      "0\n",
      "1.0\n",
      "45\n",
      "45.0\n"
     ]
    }
   ],
   "source": [
    "print(int(False))\n",
    "print(float(True))\n",
    "print(int('45'))\n",
    "print(float('45'))"
   ]
  },
  {
   "cell_type": "markdown",
   "id": "530fbad4",
   "metadata": {},
   "source": [
    "Remember, the `int()` and `float()` functions can only convert recognized numerical values. A string of letters cannot be converted to a float or integer."
   ]
  },
  {
   "cell_type": "code",
   "execution_count": 23,
   "id": "24d13d34",
   "metadata": {
    "tags": [
     "raises-exception"
    ]
   },
   "outputs": [
    {
     "ename": "ValueError",
     "evalue": "invalid literal for int() with base 10: 'Sorry'",
     "output_type": "error",
     "traceback": [
      "\u001b[0;31m---------------------------------------------------------------------------\u001b[0m",
      "\u001b[0;31mValueError\u001b[0m                                Traceback (most recent call last)",
      "Cell \u001b[0;32mIn [23], line 1\u001b[0m\n\u001b[0;32m----> 1\u001b[0m \u001b[38;5;28;43mint\u001b[39;49m\u001b[43m(\u001b[49m\u001b[38;5;124;43m'\u001b[39;49m\u001b[38;5;124;43mSorry\u001b[39;49m\u001b[38;5;124;43m'\u001b[39;49m\u001b[43m)\u001b[49m\n",
      "\u001b[0;31mValueError\u001b[0m: invalid literal for int() with base 10: 'Sorry'"
     ]
    }
   ],
   "source": [
    "int('Sorry')"
   ]
  },
  {
   "cell_type": "markdown",
   "id": "e37e3887",
   "metadata": {},
   "source": [
    "## Conclusions\n",
    "\n",
    "In this section, we learned about various different data types. These include the `boolean`, `string`, `int`, and `float` data types. As you become more acquainted with Python, you will see the ubiquity of these data types in many data structures, which we will discuss in upcoming chapters. For now, explore these data types and relevant functions to learn how and when these data types can be used. Happy coding!\n"
   ]
  }
 ],
 "metadata": {
  "kernelspec": {
   "display_name": "Python 3 (ipykernel)",
   "language": "python",
   "name": "python3"
  },
  "language_info": {
   "codemirror_mode": {
    "name": "ipython",
    "version": 3
   },
   "file_extension": ".py",
   "mimetype": "text/x-python",
   "name": "python",
   "nbconvert_exporter": "python",
   "pygments_lexer": "ipython3",
   "version": "3.10.6"
  }
 },
 "nbformat": 4,
 "nbformat_minor": 5
}
