{
 "cells": [
  {
   "cell_type": "markdown",
   "metadata": {
    "tags": []
   },
   "source": [
    "# User-Defined Functions\n",
    "\n",
    "In the case where we want to compute something multiple times but there is no built-in function to rely on, we can write our own function! Replacing multiple lines of code with a function allows seemless reuse of a process or computation.\n"
   ]
  },
  {
   "cell_type": "markdown",
   "metadata": {},
   "source": [
    "The general format for defining a function is given below.\n",
    "\n",
    "```python \n",
    "\n",
    "def function_name(input_arguments):\n",
    "    \"\"\" Documentation on what your function does \"\"\"\n",
    "    \n",
    "    body of function\n",
    "    \n",
    "    return output\n",
    "```\n",
    "\n",
    "\n",
    "- The `def` keyword indicates defining a function\n",
    "- function_name: We can name our function however we please\n",
    "- input_arguments: We decide how many values our function takes as input\n",
    "- We document the key characteristics of our function by using a string - typically triple quotes\n",
    "- body of fuction: We perform some computation in the indented body\n",
    "- output: The output is returned"
   ]
  },
  {
   "cell_type": "markdown",
   "metadata": {},
   "source": [
    "When might we use functions? Suppose we're in the United States working on the Mars probe launch of 1999. We accidentally sent data to our metric loving friends with measurements provided in inches. Let's make sure the Mars probe doesn't get lost in space and define a function to convert inches to centimeters before sending that data over."
   ]
  },
  {
   "cell_type": "code",
   "execution_count": 3,
   "metadata": {},
   "outputs": [],
   "source": [
    "import pandas\n",
    "\n",
    "\n",
    "def convert_inches_to_cm(x_inches):\n",
    "    \"\"\"Takes input of inches and converts to centimeters\"\"\"\n",
    "    \n",
    "    x_cms = x_inches * 2.54\n",
    "    \n",
    "    return x_cms"
   ]
  },
  {
   "cell_type": "markdown",
   "metadata": {},
   "source": [
    "Above we created a function that converts inches to centimeters, but it does not *do* anything unless we call it. Now that it is defined, we call it exactly as we would a built-in function - with our function_name followed by parentheses into our input."
   ]
  },
  {
   "cell_type": "code",
   "execution_count": 5,
   "metadata": {},
   "outputs": [
    {
     "data": {
      "text/plain": [
       "12.7"
      ]
     },
     "execution_count": 5,
     "metadata": {},
     "output_type": "execute_result"
    }
   ],
   "source": [
    "convert_inches_to_cm(5)"
   ]
  },
  {
   "cell_type": "markdown",
   "metadata": {},
   "source": [
    "And the documentation we provided when we defined our function is accessible to us with the help function!"
   ]
  },
  {
   "cell_type": "code",
   "execution_count": 7,
   "metadata": {},
   "outputs": [
    {
     "name": "stdout",
     "output_type": "stream",
     "text": [
      "Help on function convert_inches_to_cm in module __main__:\n",
      "\n",
      "convert_inches_to_cm(x_inches)\n",
      "    Takes input of inches and converts to centimeters\n",
      "\n"
     ]
    }
   ],
   "source": [
    "help(convert_inches_to_cm)"
   ]
  },
  {
   "cell_type": "markdown",
   "metadata": {},
   "source": [
    "Let's try another example. Here we write a function that takes two values as input and computes the sum of squares."
   ]
  },
  {
   "cell_type": "code",
   "execution_count": 19,
   "metadata": {},
   "outputs": [],
   "source": [
    "def sum_squares(x, y):\n",
    "    \"\"\" Takes two numbers x and y and returns the sum of squares\"\"\"\n",
    "    \n",
    "    z = x**2 + y**2\n",
    "    \n",
    "    return z"
   ]
  },
  {
   "cell_type": "markdown",
   "metadata": {},
   "source": [
    "Here the function body is defined in terms of x and y, which we must specify when calling the function."
   ]
  },
  {
   "cell_type": "code",
   "execution_count": 20,
   "metadata": {},
   "outputs": [
    {
     "data": {
      "text/plain": [
       "5"
      ]
     },
     "execution_count": 20,
     "metadata": {},
     "output_type": "execute_result"
    }
   ],
   "source": [
    "sum_squares(2,1)"
   ]
  },
  {
   "cell_type": "markdown",
   "metadata": {},
   "source": [
    "If we wanted to extend the function `sum_squares` to calculate the sum of cubes or the sum of any given powers we can make the power itself an argument to the function. Further, we can assume a default option for the exponent to be 2. We do this by assigning our variable a value, in this case a number, in the input_arguments of the function definition. We then have the option to change this argument, or exclude it entirely and use the default option when calling the function."
   ]
  },
  {
   "cell_type": "code",
   "execution_count": 35,
   "metadata": {},
   "outputs": [],
   "source": [
    "def sum_powers(x, y, power=2):\n",
    "    \"\"\" Takes two numbers x and y and returns the sum of powers.\n",
    "    If not specified the default compute the sum of squares, that is power = 2 \"\"\"\n",
    "    \n",
    "    z = x**power + y**power\n",
    "    \n",
    "    return z"
   ]
  },
  {
   "cell_type": "markdown",
   "metadata": {},
   "source": [
    "Calling this function without the power argument gives the same outcome as `sum_squares`, but when we include an additional argument of 3, we're computing the sum of cubes!"
   ]
  },
  {
   "cell_type": "code",
   "execution_count": 36,
   "metadata": {},
   "outputs": [
    {
     "data": {
      "text/plain": [
       "5"
      ]
     },
     "execution_count": 36,
     "metadata": {},
     "output_type": "execute_result"
    }
   ],
   "source": [
    "sum_powers(2,1)"
   ]
  },
  {
   "cell_type": "code",
   "execution_count": 37,
   "metadata": {},
   "outputs": [
    {
     "data": {
      "text/plain": [
       "9"
      ]
     },
     "execution_count": 37,
     "metadata": {},
     "output_type": "execute_result"
    }
   ],
   "source": [
    "sum_powers(2,1,3)"
   ]
  },
  {
   "cell_type": "markdown",
   "metadata": {},
   "source": [
    "The order of the arguments does matter when calling a function. If we switch order of inputs 1 and 3 we do get a different answer. "
   ]
  },
  {
   "cell_type": "code",
   "execution_count": 38,
   "metadata": {},
   "outputs": [
    {
     "data": {
      "text/plain": [
       "5"
      ]
     },
     "execution_count": 38,
     "metadata": {},
     "output_type": "execute_result"
    }
   ],
   "source": [
    "sum_powers(2,3,1)"
   ]
  },
  {
   "cell_type": "markdown",
   "metadata": {},
   "source": [
    "If we want to more explicit about which variable in which in our input, we can call the function with the given function variables assigned. This allows us to rearrange the order of inputs without affecting the function output."
   ]
  },
  {
   "cell_type": "code",
   "execution_count": 44,
   "metadata": {},
   "outputs": [
    {
     "data": {
      "text/plain": [
       "9"
      ]
     },
     "execution_count": 44,
     "metadata": {},
     "output_type": "execute_result"
    }
   ],
   "source": [
    "sum_powers(x=1, y=2, power=3)"
   ]
  },
  {
   "cell_type": "code",
   "execution_count": 45,
   "metadata": {},
   "outputs": [
    {
     "data": {
      "text/plain": [
       "9"
      ]
     },
     "execution_count": 45,
     "metadata": {},
     "output_type": "execute_result"
    }
   ],
   "source": [
    "sum_powers(x=1, power=3, y=2)"
   ]
  },
  {
   "cell_type": "markdown",
   "metadata": {},
   "source": [
    "Functions are extremely important and useful methods to reuse, organize, and simplify code. We will see functions used throughout this textbook. As we explore more Python, we will find that functions are very versatile and can be applied to many different objects while streamlining repeatable processes.\n"
   ]
  }
 ],
 "metadata": {
  "kernelspec": {
   "display_name": "Python 3 (ipykernel)",
   "language": "python",
   "name": "python3"
  },
  "language_info": {
   "codemirror_mode": {
    "name": "ipython",
    "version": 3
   },
   "file_extension": ".py",
   "mimetype": "text/x-python",
   "name": "python",
   "nbconvert_exporter": "python",
   "pygments_lexer": "ipython3",
   "version": "3.9.13"
  }
 },
 "nbformat": 4,
 "nbformat_minor": 4
}
