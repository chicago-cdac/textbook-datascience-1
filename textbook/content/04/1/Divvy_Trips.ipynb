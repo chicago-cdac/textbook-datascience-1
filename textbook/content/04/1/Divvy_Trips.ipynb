{
 "cells": [
  {
   "cell_type": "code",
   "execution_count": 19,
   "metadata": {},
   "outputs": [],
   "source": [
    "\"\"\"Load data from data.cityofchicago.org\n",
    "\n",
    "Note: You can request an app token from data.cityofchicago.org / socrata.com,\n",
    "and thereby avoid API throttling; however, this didn't appear to be necessary\n",
    "for this here.\n",
    "\n",
    "\"\"\"\n",
    "import requests\n",
    "\n",
    "\n",
    "API_URI = 'https://data.cityofchicago.org/resource/{resource_id}'\n",
    "\n",
    "API_DATETIME_FORMAT = '%Y-%m-%dT%H:%M:%S'\n",
    "\n",
    "\n",
    "def get_data_url_info(resource_id, between=(), limit=1_000_000, api_uri=API_URI):\n",
    "    f\"\"\"Construct API URL base and query parameters\n",
    "    \n",
    "    Returns tuple of URL base (str) and query parameters (dict).\n",
    "    \n",
    "    Arguments:\n",
    "    \n",
    "    resource_id: api resource identifier (str)\n",
    "    between: start and end datetimes (tuple[datetime]) (optional)\n",
    "    limit: maximum number of results to return (int) (default: 1 million)\n",
    "    api_uri: api url base template (str) (default: {API_URI})\n",
    "    \n",
    "    \"\"\"\n",
    "    params = {\n",
    "        '$limit': limit,\n",
    "    }\n",
    "\n",
    "    if between:\n",
    "        params['$where'] = (\"start_time between '{:{datetime_format}}' and '{:{datetime_format}}'\"\n",
    "                            .format(*between, datetime_format=API_DATETIME_FORMAT))\n",
    "\n",
    "    return (\n",
    "        api_uri.format(resource_id=resource_id),\n",
    "        params,\n",
    "    )\n",
    "\n",
    "\n",
    "def request_data(*args, stream=True, **kwargs):\n",
    "    \"\"\"Make a request of the API\n",
    "    \n",
    "    Returns a Response.\n",
    "    \n",
    "    Arguments:\n",
    "    \n",
    "    [Same as get_data_url_info.]\n",
    "    stream: load response content lazily, such that it can be retrieved\n",
    "            by iter_content or iter_lines\n",
    "    \n",
    "    \"\"\"\n",
    "    (url, params) = get_data_url_info(*args, **kwargs)\n",
    "    return requests.get(\n",
    "        url,\n",
    "        params=params,\n",
    "        stream=stream,\n",
    "    )"
   ]
  },
  {
   "cell_type": "code",
   "execution_count": 20,
   "metadata": {},
   "outputs": [],
   "source": [
    "from datetime import datetime\n",
    "\n",
    "\n",
    "DIVVY_RESOURCE_ID = 'fg6s-gzvg'\n",
    "\n",
    "\n",
    "(url_base, url_params) = get_data_url_info(\n",
    "    DIVVY_RESOURCE_ID,\n",
    "    between=(\n",
    "        datetime(2019, 7, 1),\n",
    "        datetime(2019, 8, 1),\n",
    "    )\n",
    ")"
   ]
  },
  {
   "cell_type": "code",
   "execution_count": 21,
   "metadata": {},
   "outputs": [
    {
     "data": {
      "text/plain": [
       "'https://data.cityofchicago.org/resource/fg6s-gzvg'"
      ]
     },
     "execution_count": 21,
     "metadata": {},
     "output_type": "execute_result"
    }
   ],
   "source": [
    "url_base"
   ]
  },
  {
   "cell_type": "code",
   "execution_count": 22,
   "metadata": {},
   "outputs": [
    {
     "data": {
      "text/plain": [
       "{'$limit': 1000000,\n",
       " '$where': \"start_time between '2019-07-01T00:00:00' and '2019-08-01T00:00:00'\"}"
      ]
     },
     "execution_count": 22,
     "metadata": {},
     "output_type": "execute_result"
    }
   ],
   "source": [
    "url_params"
   ]
  },
  {
   "cell_type": "code",
   "execution_count": 23,
   "metadata": {},
   "outputs": [
    {
     "data": {
      "text/plain": [
       "<Response [200]>"
      ]
     },
     "execution_count": 23,
     "metadata": {},
     "output_type": "execute_result"
    }
   ],
   "source": [
    "response = request_data(\n",
    "    DIVVY_RESOURCE_ID,\n",
    "    between=(\n",
    "        datetime(2019, 7, 1),\n",
    "        datetime(2019, 8, 1),\n",
    "    )\n",
    ")\n",
    "\n",
    "response"
   ]
  },
  {
   "cell_type": "code",
   "execution_count": 24,
   "metadata": {},
   "outputs": [
    {
     "data": {
      "text/plain": [
       "<generator object Response.iter_lines at 0x79b91d93acf0>"
      ]
     },
     "execution_count": 24,
     "metadata": {},
     "output_type": "execute_result"
    }
   ],
   "source": [
    "content_iterator = response.iter_lines()\n",
    "\n",
    "content_iterator"
   ]
  },
  {
   "cell_type": "code",
   "execution_count": 25,
   "metadata": {},
   "outputs": [
    {
     "data": {
      "text/plain": [
       "b'[{\"trip_id\":\"23479388\",\"start_time\":\"2019-07-01T00:00:27.000\",\"stop_time\":\"2019-07-01T00:20:41.000\",\"bike_id\":\"3591\",\"trip_duration\":\"1214\",\"from_station_id\":\"117\",\"from_station_name\":\"Wilton Ave & Belmont Ave\",\"to_station_id\":\"497\",\"to_station_name\":\"Kimball Ave & Belmont Ave\",\"user_type\":\"Subscriber\",\"gender\":\"Male\",\"birth_year\":\"1992\",\"from_latitude\":\"41.94018\",\"from_longitude\":\"-87.65304\",\"from_location\":{\"type\":\"Point\",\"coordinates\":[-87.65304,41.94018]},\"to_latitude\":\"41.939398\",\"to_longitude\":\"-87.711561\",\"to_location\":{\"type\":\"Point\",\"coordinates\":[-87.711561,41.939398]}}'"
      ]
     },
     "execution_count": 25,
     "metadata": {},
     "output_type": "execute_result"
    }
   ],
   "source": [
    "next(content_iterator)"
   ]
  },
  {
   "cell_type": "code",
   "execution_count": 26,
   "metadata": {},
   "outputs": [
    {
     "data": {
      "text/plain": [
       "'%24limit=1000000&%24where=start_time+between+%272019-07-01T00%3A00%3A00%27+and+%272019-08-01T00%3A00%3A00%27'"
      ]
     },
     "execution_count": 26,
     "metadata": {},
     "output_type": "execute_result"
    }
   ],
   "source": [
    "import urllib\n",
    "\n",
    "url_qs = urllib.parse.urlencode(url_params)\n",
    "\n",
    "url_qs"
   ]
  },
  {
   "cell_type": "code",
   "execution_count": 27,
   "metadata": {},
   "outputs": [],
   "source": [
    "import pandas as pd\n",
    "\n",
    "\n",
    "df = pd.read_json(f'{url_base}?{url_qs}') "
   ]
  },
  {
   "cell_type": "code",
   "execution_count": 28,
   "metadata": {
    "scrolled": true
   },
   "outputs": [
    {
     "data": {
      "text/html": [
       "<div>\n",
       "<style scoped>\n",
       "    .dataframe tbody tr th:only-of-type {\n",
       "        vertical-align: middle;\n",
       "    }\n",
       "\n",
       "    .dataframe tbody tr th {\n",
       "        vertical-align: top;\n",
       "    }\n",
       "\n",
       "    .dataframe thead th {\n",
       "        text-align: right;\n",
       "    }\n",
       "</style>\n",
       "<table border=\"1\" class=\"dataframe\">\n",
       "  <thead>\n",
       "    <tr style=\"text-align: right;\">\n",
       "      <th></th>\n",
       "      <th>trip_id</th>\n",
       "      <th>start_time</th>\n",
       "      <th>stop_time</th>\n",
       "      <th>bike_id</th>\n",
       "      <th>trip_duration</th>\n",
       "      <th>from_station_id</th>\n",
       "      <th>from_station_name</th>\n",
       "      <th>to_station_id</th>\n",
       "      <th>to_station_name</th>\n",
       "      <th>user_type</th>\n",
       "      <th>gender</th>\n",
       "      <th>birth_year</th>\n",
       "      <th>from_latitude</th>\n",
       "      <th>from_longitude</th>\n",
       "      <th>from_location</th>\n",
       "      <th>to_latitude</th>\n",
       "      <th>to_longitude</th>\n",
       "      <th>to_location</th>\n",
       "    </tr>\n",
       "  </thead>\n",
       "  <tbody>\n",
       "    <tr>\n",
       "      <td>0</td>\n",
       "      <td>23479388</td>\n",
       "      <td>2019-07-01 00:00:27</td>\n",
       "      <td>2019-07-01 00:20:41</td>\n",
       "      <td>3591</td>\n",
       "      <td>1214</td>\n",
       "      <td>117</td>\n",
       "      <td>Wilton Ave &amp; Belmont Ave</td>\n",
       "      <td>497</td>\n",
       "      <td>Kimball Ave &amp; Belmont Ave</td>\n",
       "      <td>Subscriber</td>\n",
       "      <td>Male</td>\n",
       "      <td>1992.0</td>\n",
       "      <td>41.940180</td>\n",
       "      <td>-87.653040</td>\n",
       "      <td>{'type': 'Point', 'coordinates': [-87.65304, 4...</td>\n",
       "      <td>41.939398</td>\n",
       "      <td>-87.711561</td>\n",
       "      <td>{'type': 'Point', 'coordinates': [-87.711561, ...</td>\n",
       "    </tr>\n",
       "    <tr>\n",
       "      <td>1</td>\n",
       "      <td>23479389</td>\n",
       "      <td>2019-07-01 00:01:16</td>\n",
       "      <td>2019-07-01 00:18:44</td>\n",
       "      <td>5353</td>\n",
       "      <td>1048</td>\n",
       "      <td>381</td>\n",
       "      <td>Western Ave &amp; Monroe St</td>\n",
       "      <td>203</td>\n",
       "      <td>Western Ave &amp; 21st St</td>\n",
       "      <td>Customer</td>\n",
       "      <td>NaN</td>\n",
       "      <td>NaN</td>\n",
       "      <td>41.879788</td>\n",
       "      <td>-87.686113</td>\n",
       "      <td>{'type': 'Point', 'coordinates': [-87.68611280...</td>\n",
       "      <td>41.854109</td>\n",
       "      <td>-87.685838</td>\n",
       "      <td>{'type': 'Point', 'coordinates': [-87.685838, ...</td>\n",
       "    </tr>\n",
       "    <tr>\n",
       "      <td>2</td>\n",
       "      <td>23479390</td>\n",
       "      <td>2019-07-01 00:01:48</td>\n",
       "      <td>2019-07-01 00:27:42</td>\n",
       "      <td>6180</td>\n",
       "      <td>1554</td>\n",
       "      <td>313</td>\n",
       "      <td>Lakeview Ave &amp; Fullerton Pkwy</td>\n",
       "      <td>144</td>\n",
       "      <td>Larrabee St &amp; Webster Ave</td>\n",
       "      <td>Customer</td>\n",
       "      <td>NaN</td>\n",
       "      <td>NaN</td>\n",
       "      <td>41.925858</td>\n",
       "      <td>-87.638973</td>\n",
       "      <td>{'type': 'Point', 'coordinates': [-87.638973, ...</td>\n",
       "      <td>41.921822</td>\n",
       "      <td>-87.644140</td>\n",
       "      <td>{'type': 'Point', 'coordinates': [-87.64414, 4...</td>\n",
       "    </tr>\n",
       "    <tr>\n",
       "      <td>3</td>\n",
       "      <td>23479391</td>\n",
       "      <td>2019-07-01 00:02:07</td>\n",
       "      <td>2019-07-01 00:27:10</td>\n",
       "      <td>5540</td>\n",
       "      <td>1503</td>\n",
       "      <td>313</td>\n",
       "      <td>Lakeview Ave &amp; Fullerton Pkwy</td>\n",
       "      <td>144</td>\n",
       "      <td>Larrabee St &amp; Webster Ave</td>\n",
       "      <td>Customer</td>\n",
       "      <td>NaN</td>\n",
       "      <td>NaN</td>\n",
       "      <td>41.925858</td>\n",
       "      <td>-87.638973</td>\n",
       "      <td>{'type': 'Point', 'coordinates': [-87.638973, ...</td>\n",
       "      <td>41.921822</td>\n",
       "      <td>-87.644140</td>\n",
       "      <td>{'type': 'Point', 'coordinates': [-87.64414, 4...</td>\n",
       "    </tr>\n",
       "    <tr>\n",
       "      <td>4</td>\n",
       "      <td>23479392</td>\n",
       "      <td>2019-07-01 00:02:13</td>\n",
       "      <td>2019-07-01 00:22:26</td>\n",
       "      <td>6014</td>\n",
       "      <td>1213</td>\n",
       "      <td>168</td>\n",
       "      <td>Michigan Ave &amp; 14th St</td>\n",
       "      <td>62</td>\n",
       "      <td>McCormick Place</td>\n",
       "      <td>Customer</td>\n",
       "      <td>NaN</td>\n",
       "      <td>NaN</td>\n",
       "      <td>41.864059</td>\n",
       "      <td>-87.623727</td>\n",
       "      <td>{'type': 'Point', 'coordinates': [-87.623727, ...</td>\n",
       "      <td>41.851375</td>\n",
       "      <td>-87.618835</td>\n",
       "      <td>{'type': 'Point', 'coordinates': [-87.61883464...</td>\n",
       "    </tr>\n",
       "  </tbody>\n",
       "</table>\n",
       "</div>"
      ],
      "text/plain": [
       "    trip_id          start_time           stop_time  bike_id  trip_duration  \\\n",
       "0  23479388 2019-07-01 00:00:27 2019-07-01 00:20:41     3591           1214   \n",
       "1  23479389 2019-07-01 00:01:16 2019-07-01 00:18:44     5353           1048   \n",
       "2  23479390 2019-07-01 00:01:48 2019-07-01 00:27:42     6180           1554   \n",
       "3  23479391 2019-07-01 00:02:07 2019-07-01 00:27:10     5540           1503   \n",
       "4  23479392 2019-07-01 00:02:13 2019-07-01 00:22:26     6014           1213   \n",
       "\n",
       "   from_station_id              from_station_name  to_station_id  \\\n",
       "0              117       Wilton Ave & Belmont Ave            497   \n",
       "1              381        Western Ave & Monroe St            203   \n",
       "2              313  Lakeview Ave & Fullerton Pkwy            144   \n",
       "3              313  Lakeview Ave & Fullerton Pkwy            144   \n",
       "4              168         Michigan Ave & 14th St             62   \n",
       "\n",
       "             to_station_name   user_type gender  birth_year  from_latitude  \\\n",
       "0  Kimball Ave & Belmont Ave  Subscriber   Male      1992.0      41.940180   \n",
       "1      Western Ave & 21st St    Customer    NaN         NaN      41.879788   \n",
       "2  Larrabee St & Webster Ave    Customer    NaN         NaN      41.925858   \n",
       "3  Larrabee St & Webster Ave    Customer    NaN         NaN      41.925858   \n",
       "4            McCormick Place    Customer    NaN         NaN      41.864059   \n",
       "\n",
       "   from_longitude                                      from_location  \\\n",
       "0      -87.653040  {'type': 'Point', 'coordinates': [-87.65304, 4...   \n",
       "1      -87.686113  {'type': 'Point', 'coordinates': [-87.68611280...   \n",
       "2      -87.638973  {'type': 'Point', 'coordinates': [-87.638973, ...   \n",
       "3      -87.638973  {'type': 'Point', 'coordinates': [-87.638973, ...   \n",
       "4      -87.623727  {'type': 'Point', 'coordinates': [-87.623727, ...   \n",
       "\n",
       "   to_latitude  to_longitude  \\\n",
       "0    41.939398    -87.711561   \n",
       "1    41.854109    -87.685838   \n",
       "2    41.921822    -87.644140   \n",
       "3    41.921822    -87.644140   \n",
       "4    41.851375    -87.618835   \n",
       "\n",
       "                                         to_location  \n",
       "0  {'type': 'Point', 'coordinates': [-87.711561, ...  \n",
       "1  {'type': 'Point', 'coordinates': [-87.685838, ...  \n",
       "2  {'type': 'Point', 'coordinates': [-87.64414, 4...  \n",
       "3  {'type': 'Point', 'coordinates': [-87.64414, 4...  \n",
       "4  {'type': 'Point', 'coordinates': [-87.61883464...  "
      ]
     },
     "execution_count": 28,
     "metadata": {},
     "output_type": "execute_result"
    }
   ],
   "source": [
    "df.head()"
   ]
  },
  {
   "cell_type": "code",
   "execution_count": 31,
   "metadata": {},
   "outputs": [
    {
     "data": {
      "text/html": [
       "<div>\n",
       "<style scoped>\n",
       "    .dataframe tbody tr th:only-of-type {\n",
       "        vertical-align: middle;\n",
       "    }\n",
       "\n",
       "    .dataframe tbody tr th {\n",
       "        vertical-align: top;\n",
       "    }\n",
       "\n",
       "    .dataframe thead th {\n",
       "        text-align: right;\n",
       "    }\n",
       "</style>\n",
       "<table border=\"1\" class=\"dataframe\">\n",
       "  <thead>\n",
       "    <tr style=\"text-align: right;\">\n",
       "      <th></th>\n",
       "      <th>start_time</th>\n",
       "      <th>stop_time</th>\n",
       "      <th>bike_id</th>\n",
       "      <th>trip_duration</th>\n",
       "      <th>from_station_id</th>\n",
       "      <th>from_station_name</th>\n",
       "      <th>to_station_id</th>\n",
       "      <th>to_station_name</th>\n",
       "      <th>user_type</th>\n",
       "      <th>gender</th>\n",
       "      <th>birth_year</th>\n",
       "      <th>from_latitude</th>\n",
       "      <th>from_longitude</th>\n",
       "      <th>from_location</th>\n",
       "      <th>to_latitude</th>\n",
       "      <th>to_longitude</th>\n",
       "      <th>to_location</th>\n",
       "    </tr>\n",
       "    <tr>\n",
       "      <th>trip_id</th>\n",
       "      <th></th>\n",
       "      <th></th>\n",
       "      <th></th>\n",
       "      <th></th>\n",
       "      <th></th>\n",
       "      <th></th>\n",
       "      <th></th>\n",
       "      <th></th>\n",
       "      <th></th>\n",
       "      <th></th>\n",
       "      <th></th>\n",
       "      <th></th>\n",
       "      <th></th>\n",
       "      <th></th>\n",
       "      <th></th>\n",
       "      <th></th>\n",
       "      <th></th>\n",
       "    </tr>\n",
       "  </thead>\n",
       "  <tbody>\n",
       "    <tr>\n",
       "      <td>23479388</td>\n",
       "      <td>2019-07-01 00:00:27</td>\n",
       "      <td>2019-07-01 00:20:41</td>\n",
       "      <td>3591</td>\n",
       "      <td>1214</td>\n",
       "      <td>117</td>\n",
       "      <td>Wilton Ave &amp; Belmont Ave</td>\n",
       "      <td>497</td>\n",
       "      <td>Kimball Ave &amp; Belmont Ave</td>\n",
       "      <td>Subscriber</td>\n",
       "      <td>Male</td>\n",
       "      <td>1992.0</td>\n",
       "      <td>41.940180</td>\n",
       "      <td>-87.653040</td>\n",
       "      <td>{'type': 'Point', 'coordinates': [-87.65304, 4...</td>\n",
       "      <td>41.939398</td>\n",
       "      <td>-87.711561</td>\n",
       "      <td>{'type': 'Point', 'coordinates': [-87.711561, ...</td>\n",
       "    </tr>\n",
       "    <tr>\n",
       "      <td>23479389</td>\n",
       "      <td>2019-07-01 00:01:16</td>\n",
       "      <td>2019-07-01 00:18:44</td>\n",
       "      <td>5353</td>\n",
       "      <td>1048</td>\n",
       "      <td>381</td>\n",
       "      <td>Western Ave &amp; Monroe St</td>\n",
       "      <td>203</td>\n",
       "      <td>Western Ave &amp; 21st St</td>\n",
       "      <td>Customer</td>\n",
       "      <td>NaN</td>\n",
       "      <td>NaN</td>\n",
       "      <td>41.879788</td>\n",
       "      <td>-87.686113</td>\n",
       "      <td>{'type': 'Point', 'coordinates': [-87.68611280...</td>\n",
       "      <td>41.854109</td>\n",
       "      <td>-87.685838</td>\n",
       "      <td>{'type': 'Point', 'coordinates': [-87.685838, ...</td>\n",
       "    </tr>\n",
       "    <tr>\n",
       "      <td>23479390</td>\n",
       "      <td>2019-07-01 00:01:48</td>\n",
       "      <td>2019-07-01 00:27:42</td>\n",
       "      <td>6180</td>\n",
       "      <td>1554</td>\n",
       "      <td>313</td>\n",
       "      <td>Lakeview Ave &amp; Fullerton Pkwy</td>\n",
       "      <td>144</td>\n",
       "      <td>Larrabee St &amp; Webster Ave</td>\n",
       "      <td>Customer</td>\n",
       "      <td>NaN</td>\n",
       "      <td>NaN</td>\n",
       "      <td>41.925858</td>\n",
       "      <td>-87.638973</td>\n",
       "      <td>{'type': 'Point', 'coordinates': [-87.638973, ...</td>\n",
       "      <td>41.921822</td>\n",
       "      <td>-87.644140</td>\n",
       "      <td>{'type': 'Point', 'coordinates': [-87.64414, 4...</td>\n",
       "    </tr>\n",
       "    <tr>\n",
       "      <td>23479391</td>\n",
       "      <td>2019-07-01 00:02:07</td>\n",
       "      <td>2019-07-01 00:27:10</td>\n",
       "      <td>5540</td>\n",
       "      <td>1503</td>\n",
       "      <td>313</td>\n",
       "      <td>Lakeview Ave &amp; Fullerton Pkwy</td>\n",
       "      <td>144</td>\n",
       "      <td>Larrabee St &amp; Webster Ave</td>\n",
       "      <td>Customer</td>\n",
       "      <td>NaN</td>\n",
       "      <td>NaN</td>\n",
       "      <td>41.925858</td>\n",
       "      <td>-87.638973</td>\n",
       "      <td>{'type': 'Point', 'coordinates': [-87.638973, ...</td>\n",
       "      <td>41.921822</td>\n",
       "      <td>-87.644140</td>\n",
       "      <td>{'type': 'Point', 'coordinates': [-87.64414, 4...</td>\n",
       "    </tr>\n",
       "    <tr>\n",
       "      <td>23479392</td>\n",
       "      <td>2019-07-01 00:02:13</td>\n",
       "      <td>2019-07-01 00:22:26</td>\n",
       "      <td>6014</td>\n",
       "      <td>1213</td>\n",
       "      <td>168</td>\n",
       "      <td>Michigan Ave &amp; 14th St</td>\n",
       "      <td>62</td>\n",
       "      <td>McCormick Place</td>\n",
       "      <td>Customer</td>\n",
       "      <td>NaN</td>\n",
       "      <td>NaN</td>\n",
       "      <td>41.864059</td>\n",
       "      <td>-87.623727</td>\n",
       "      <td>{'type': 'Point', 'coordinates': [-87.623727, ...</td>\n",
       "      <td>41.851375</td>\n",
       "      <td>-87.618835</td>\n",
       "      <td>{'type': 'Point', 'coordinates': [-87.61883464...</td>\n",
       "    </tr>\n",
       "  </tbody>\n",
       "</table>\n",
       "</div>"
      ],
      "text/plain": [
       "                  start_time           stop_time  bike_id  trip_duration  \\\n",
       "trip_id                                                                    \n",
       "23479388 2019-07-01 00:00:27 2019-07-01 00:20:41     3591           1214   \n",
       "23479389 2019-07-01 00:01:16 2019-07-01 00:18:44     5353           1048   \n",
       "23479390 2019-07-01 00:01:48 2019-07-01 00:27:42     6180           1554   \n",
       "23479391 2019-07-01 00:02:07 2019-07-01 00:27:10     5540           1503   \n",
       "23479392 2019-07-01 00:02:13 2019-07-01 00:22:26     6014           1213   \n",
       "\n",
       "          from_station_id              from_station_name  to_station_id  \\\n",
       "trip_id                                                                   \n",
       "23479388              117       Wilton Ave & Belmont Ave            497   \n",
       "23479389              381        Western Ave & Monroe St            203   \n",
       "23479390              313  Lakeview Ave & Fullerton Pkwy            144   \n",
       "23479391              313  Lakeview Ave & Fullerton Pkwy            144   \n",
       "23479392              168         Michigan Ave & 14th St             62   \n",
       "\n",
       "                    to_station_name   user_type gender  birth_year  \\\n",
       "trip_id                                                              \n",
       "23479388  Kimball Ave & Belmont Ave  Subscriber   Male      1992.0   \n",
       "23479389      Western Ave & 21st St    Customer    NaN         NaN   \n",
       "23479390  Larrabee St & Webster Ave    Customer    NaN         NaN   \n",
       "23479391  Larrabee St & Webster Ave    Customer    NaN         NaN   \n",
       "23479392            McCormick Place    Customer    NaN         NaN   \n",
       "\n",
       "          from_latitude  from_longitude  \\\n",
       "trip_id                                   \n",
       "23479388      41.940180      -87.653040   \n",
       "23479389      41.879788      -87.686113   \n",
       "23479390      41.925858      -87.638973   \n",
       "23479391      41.925858      -87.638973   \n",
       "23479392      41.864059      -87.623727   \n",
       "\n",
       "                                              from_location  to_latitude  \\\n",
       "trip_id                                                                    \n",
       "23479388  {'type': 'Point', 'coordinates': [-87.65304, 4...    41.939398   \n",
       "23479389  {'type': 'Point', 'coordinates': [-87.68611280...    41.854109   \n",
       "23479390  {'type': 'Point', 'coordinates': [-87.638973, ...    41.921822   \n",
       "23479391  {'type': 'Point', 'coordinates': [-87.638973, ...    41.921822   \n",
       "23479392  {'type': 'Point', 'coordinates': [-87.623727, ...    41.851375   \n",
       "\n",
       "          to_longitude                                        to_location  \n",
       "trip_id                                                                    \n",
       "23479388    -87.711561  {'type': 'Point', 'coordinates': [-87.711561, ...  \n",
       "23479389    -87.685838  {'type': 'Point', 'coordinates': [-87.685838, ...  \n",
       "23479390    -87.644140  {'type': 'Point', 'coordinates': [-87.64414, 4...  \n",
       "23479391    -87.644140  {'type': 'Point', 'coordinates': [-87.64414, 4...  \n",
       "23479392    -87.618835  {'type': 'Point', 'coordinates': [-87.61883464...  "
      ]
     },
     "execution_count": 31,
     "metadata": {},
     "output_type": "execute_result"
    }
   ],
   "source": [
    "df.set_index('trip_id', inplace=True)\n",
    "\n",
    "df.head()"
   ]
  },
  {
   "cell_type": "code",
   "execution_count": 35,
   "metadata": {},
   "outputs": [
    {
     "data": {
      "text/plain": [
       "(557315, 17)"
      ]
     },
     "execution_count": 35,
     "metadata": {},
     "output_type": "execute_result"
    }
   ],
   "source": [
    "df.shape"
   ]
  },
  {
   "cell_type": "code",
   "execution_count": 33,
   "metadata": {},
   "outputs": [
    {
     "data": {
      "text/plain": [
       "trip_id\n",
       "23479388   2019-07-01 00:00:27\n",
       "23479389   2019-07-01 00:01:16\n",
       "23479390   2019-07-01 00:01:48\n",
       "23479391   2019-07-01 00:02:07\n",
       "23479392   2019-07-01 00:02:13\n",
       "                   ...        \n",
       "24089800   2019-07-31 23:58:22\n",
       "24089801   2019-07-31 23:58:42\n",
       "24089802   2019-07-31 23:58:58\n",
       "24089803   2019-07-31 23:59:17\n",
       "24089804   2019-07-31 23:59:31\n",
       "Name: start_time, Length: 557315, dtype: datetime64[ns]"
      ]
     },
     "execution_count": 33,
     "metadata": {},
     "output_type": "execute_result"
    }
   ],
   "source": [
    "df.start_time"
   ]
  },
  {
   "cell_type": "code",
   "execution_count": 36,
   "metadata": {},
   "outputs": [
    {
     "data": {
      "text/plain": [
       "Timestamp('2019-07-01 00:00:27')"
      ]
     },
     "execution_count": 36,
     "metadata": {},
     "output_type": "execute_result"
    }
   ],
   "source": [
    "df.start_time.min()"
   ]
  },
  {
   "cell_type": "code",
   "execution_count": 37,
   "metadata": {},
   "outputs": [
    {
     "data": {
      "text/plain": [
       "Timestamp('2019-07-31 23:59:31')"
      ]
     },
     "execution_count": 37,
     "metadata": {},
     "output_type": "execute_result"
    }
   ],
   "source": [
    "df.start_time.max()"
   ]
  },
  {
   "cell_type": "code",
   "execution_count": 38,
   "metadata": {},
   "outputs": [
    {
     "data": {
      "text/plain": [
       "14.316666666666666"
      ]
     },
     "execution_count": 38,
     "metadata": {},
     "output_type": "execute_result"
    }
   ],
   "source": [
    "df.trip_duration.median() / 60"
   ]
  },
  {
   "cell_type": "code",
   "execution_count": 39,
   "metadata": {},
   "outputs": [
    {
     "data": {
      "text/plain": [
       "1988.0"
      ]
     },
     "execution_count": 39,
     "metadata": {},
     "output_type": "execute_result"
    }
   ],
   "source": [
    "df.birth_year.median()"
   ]
  },
  {
   "cell_type": "code",
   "execution_count": 40,
   "metadata": {},
   "outputs": [
    {
     "data": {
      "text/plain": [
       "Male      317333\n",
       "Female    136327\n",
       "Name: gender, dtype: int64"
      ]
     },
     "execution_count": 40,
     "metadata": {},
     "output_type": "execute_result"
    }
   ],
   "source": [
    "df.gender.value_counts()"
   ]
  },
  {
   "cell_type": "code",
   "execution_count": 44,
   "metadata": {},
   "outputs": [
    {
     "data": {
      "text/plain": [
       "gender\n",
       "Female    1990.0\n",
       "Male      1988.0\n",
       "Name: birth_year, dtype: float64"
      ]
     },
     "execution_count": 44,
     "metadata": {},
     "output_type": "execute_result"
    }
   ],
   "source": [
    "df.groupby('gender').birth_year.median()"
   ]
  },
  {
   "cell_type": "code",
   "execution_count": 45,
   "metadata": {},
   "outputs": [
    {
     "data": {
      "text/plain": [
       "gender\n",
       "Female    881\n",
       "Male      691\n",
       "Name: trip_duration, dtype: int64"
      ]
     },
     "execution_count": 45,
     "metadata": {},
     "output_type": "execute_result"
    }
   ],
   "source": [
    "df.groupby('gender').trip_duration.median()"
   ]
  },
  {
   "cell_type": "code",
   "execution_count": 46,
   "metadata": {},
   "outputs": [
    {
     "data": {
      "text/plain": [
       "gender\n",
       "Female    1265.502526\n",
       "Male      1015.173967\n",
       "Name: trip_duration, dtype: float64"
      ]
     },
     "execution_count": 46,
     "metadata": {},
     "output_type": "execute_result"
    }
   ],
   "source": [
    "df.groupby('gender').trip_duration.mad()"
   ]
  },
  {
   "cell_type": "code",
   "execution_count": 47,
   "metadata": {},
   "outputs": [
    {
     "data": {
      "text/plain": [
       "gender\n",
       "Female    AxesSubplot(0.125,0.11;0.775x0.77)\n",
       "Male      AxesSubplot(0.125,0.11;0.775x0.77)\n",
       "Name: trip_duration, dtype: object"
      ]
     },
     "execution_count": 47,
     "metadata": {},
     "output_type": "execute_result"
    }
   ],
   "source": [
    "df.groupby('gender').trip_duration.plot()"
   ]
  },
  {
   "cell_type": "code",
   "execution_count": null,
   "metadata": {},
   "outputs": [],
   "source": []
  }
 ],
 "metadata": {
  "kernelspec": {
   "display_name": "Python 3",
   "language": "python",
   "name": "python3"
  },
  "language_info": {
   "codemirror_mode": {
    "name": "ipython",
    "version": 3
   },
   "file_extension": ".py",
   "mimetype": "text/x-python",
   "name": "python",
   "nbconvert_exporter": "python",
   "pygments_lexer": "ipython3",
   "version": "3.7.3"
  }
 },
 "nbformat": 4,
 "nbformat_minor": 2
}
