{
 "cells": [
  {
   "cell_type": "markdown",
   "metadata": {},
   "source": [
    "# The birthday problem: relaxed assumptions\n",
    "\n",
    "There are two assumptions we used (equally likely birthdates and ignoring February 29 as a possible birth date). While relaxing these can complicate the mathematical calculation, the simulations can be easily modified to account for more complicated scenarios.\n",
    "\n",
    "We use below a dataset from FiveThirtyEight that contains the number of daily births in US between 2000 and 2014 to estimate the odds of each day of the year to be a birthday:\n",
    "\n",
    "https://github.com/fivethirtyeight/data/tree/master/births\n",
    "\n",
    "Note that in the following dataset, the variable for day of week is coded 1 for Monday and 7 for Sunday. Also note that there are four leap years in this dataset &ndash; finding the correct probability for being born in a leap year is beyond the scope of this section."
   ]
  },
  {
   "cell_type": "code",
   "execution_count": 1,
   "metadata": {},
   "outputs": [
    {
     "data": {
      "text/html": [
       "<div>\n",
       "<style scoped>\n",
       "    .dataframe tbody tr th:only-of-type {\n",
       "        vertical-align: middle;\n",
       "    }\n",
       "\n",
       "    .dataframe tbody tr th {\n",
       "        vertical-align: top;\n",
       "    }\n",
       "\n",
       "    .dataframe thead th {\n",
       "        text-align: right;\n",
       "    }\n",
       "</style>\n",
       "<table border=\"1\" class=\"dataframe\">\n",
       "  <thead>\n",
       "    <tr style=\"text-align: right;\">\n",
       "      <th></th>\n",
       "      <th></th>\n",
       "      <th></th>\n",
       "      <th>day_of_week</th>\n",
       "      <th>births</th>\n",
       "    </tr>\n",
       "    <tr>\n",
       "      <th>year</th>\n",
       "      <th>month</th>\n",
       "      <th>date_of_month</th>\n",
       "      <th></th>\n",
       "      <th></th>\n",
       "    </tr>\n",
       "  </thead>\n",
       "  <tbody>\n",
       "    <tr>\n",
       "      <th rowspan=\"5\" valign=\"top\">2000</th>\n",
       "      <th rowspan=\"5\" valign=\"top\">1</th>\n",
       "      <th>1</th>\n",
       "      <td>6</td>\n",
       "      <td>9083</td>\n",
       "    </tr>\n",
       "    <tr>\n",
       "      <th>2</th>\n",
       "      <td>7</td>\n",
       "      <td>8006</td>\n",
       "    </tr>\n",
       "    <tr>\n",
       "      <th>3</th>\n",
       "      <td>1</td>\n",
       "      <td>11363</td>\n",
       "    </tr>\n",
       "    <tr>\n",
       "      <th>4</th>\n",
       "      <td>2</td>\n",
       "      <td>13032</td>\n",
       "    </tr>\n",
       "    <tr>\n",
       "      <th>5</th>\n",
       "      <td>3</td>\n",
       "      <td>12558</td>\n",
       "    </tr>\n",
       "    <tr>\n",
       "      <th>...</th>\n",
       "      <th>...</th>\n",
       "      <th>...</th>\n",
       "      <td>...</td>\n",
       "      <td>...</td>\n",
       "    </tr>\n",
       "    <tr>\n",
       "      <th rowspan=\"5\" valign=\"top\">2014</th>\n",
       "      <th rowspan=\"5\" valign=\"top\">12</th>\n",
       "      <th>27</th>\n",
       "      <td>6</td>\n",
       "      <td>8656</td>\n",
       "    </tr>\n",
       "    <tr>\n",
       "      <th>28</th>\n",
       "      <td>7</td>\n",
       "      <td>7724</td>\n",
       "    </tr>\n",
       "    <tr>\n",
       "      <th>29</th>\n",
       "      <td>1</td>\n",
       "      <td>12811</td>\n",
       "    </tr>\n",
       "    <tr>\n",
       "      <th>30</th>\n",
       "      <td>2</td>\n",
       "      <td>13634</td>\n",
       "    </tr>\n",
       "    <tr>\n",
       "      <th>31</th>\n",
       "      <td>3</td>\n",
       "      <td>11990</td>\n",
       "    </tr>\n",
       "  </tbody>\n",
       "</table>\n",
       "<p>5479 rows × 2 columns</p>\n",
       "</div>"
      ],
      "text/plain": [
       "                          day_of_week  births\n",
       "year month date_of_month                     \n",
       "2000 1     1                        6    9083\n",
       "           2                        7    8006\n",
       "           3                        1   11363\n",
       "           4                        2   13032\n",
       "           5                        3   12558\n",
       "...                               ...     ...\n",
       "2014 12    27                       6    8656\n",
       "           28                       7    7724\n",
       "           29                       1   12811\n",
       "           30                       2   13634\n",
       "           31                       3   11990\n",
       "\n",
       "[5479 rows x 2 columns]"
      ]
     },
     "execution_count": 1,
     "metadata": {},
     "output_type": "execute_result"
    }
   ],
   "source": [
    "import numpy as np\n",
    "import pandas as pd\n",
    "\n",
    "import matplotlib.pyplot as plots\n",
    "\n",
    "\n",
    "plots.style.use('fivethirtyeight')\n",
    "\n",
    "\n",
    "birth_data = pd.read_csv(\n",
    "    \"https://raw.githubusercontent.com\"\n",
    "    \"/fivethirtyeight/data/18a5be518548601fdc77176481da105573ef704f/births/US_births_2000-2014_SSA.csv\",\n",
    "    index_col=(\"year\", \"month\", \"date_of_month\"),\n",
    ")\n",
    "\n",
    "birth_data"
   ]
  },
  {
   "cell_type": "markdown",
   "metadata": {},
   "source": [
    "This is an interesting dataset and we encourage you to use it to answer questions like: what is least frequent day of the week for giving birth?\n",
    "\n",
    "The pandas library features commands that allow you to group rows by unique values in a column. We used it before and we will use it below. You will learn more about it in Section ???.\n",
    "\n",
    "Below we'll sum births for each day of the year across the years of the dataset."
   ]
  },
  {
   "cell_type": "code",
   "execution_count": 2,
   "metadata": {},
   "outputs": [
    {
     "data": {
      "text/html": [
       "<div>\n",
       "<style scoped>\n",
       "    .dataframe tbody tr th:only-of-type {\n",
       "        vertical-align: middle;\n",
       "    }\n",
       "\n",
       "    .dataframe tbody tr th {\n",
       "        vertical-align: top;\n",
       "    }\n",
       "\n",
       "    .dataframe thead th {\n",
       "        text-align: right;\n",
       "    }\n",
       "</style>\n",
       "<table border=\"1\" class=\"dataframe\">\n",
       "  <thead>\n",
       "    <tr style=\"text-align: right;\">\n",
       "      <th></th>\n",
       "      <th></th>\n",
       "      <th>births</th>\n",
       "    </tr>\n",
       "    <tr>\n",
       "      <th>month</th>\n",
       "      <th>date_of_month</th>\n",
       "      <th></th>\n",
       "    </tr>\n",
       "  </thead>\n",
       "  <tbody>\n",
       "    <tr>\n",
       "      <th rowspan=\"5\" valign=\"top\">1</th>\n",
       "      <th>1</th>\n",
       "      <td>116030</td>\n",
       "    </tr>\n",
       "    <tr>\n",
       "      <th>2</th>\n",
       "      <td>144083</td>\n",
       "    </tr>\n",
       "    <tr>\n",
       "      <th>3</th>\n",
       "      <td>170115</td>\n",
       "    </tr>\n",
       "    <tr>\n",
       "      <th>4</th>\n",
       "      <td>171663</td>\n",
       "    </tr>\n",
       "    <tr>\n",
       "      <th>5</th>\n",
       "      <td>166682</td>\n",
       "    </tr>\n",
       "    <tr>\n",
       "      <th>...</th>\n",
       "      <th>...</th>\n",
       "      <td>...</td>\n",
       "    </tr>\n",
       "    <tr>\n",
       "      <th rowspan=\"5\" valign=\"top\">12</th>\n",
       "      <th>27</th>\n",
       "      <td>182839</td>\n",
       "    </tr>\n",
       "    <tr>\n",
       "      <th>28</th>\n",
       "      <td>182888</td>\n",
       "    </tr>\n",
       "    <tr>\n",
       "      <th>29</th>\n",
       "      <td>181021</td>\n",
       "    </tr>\n",
       "    <tr>\n",
       "      <th>30</th>\n",
       "      <td>178769</td>\n",
       "    </tr>\n",
       "    <tr>\n",
       "      <th>31</th>\n",
       "      <td>158230</td>\n",
       "    </tr>\n",
       "  </tbody>\n",
       "</table>\n",
       "<p>366 rows × 1 columns</p>\n",
       "</div>"
      ],
      "text/plain": [
       "                     births\n",
       "month date_of_month        \n",
       "1     1              116030\n",
       "      2              144083\n",
       "      3              170115\n",
       "      4              171663\n",
       "      5              166682\n",
       "...                     ...\n",
       "12    27             182839\n",
       "      28             182888\n",
       "      29             181021\n",
       "      30             178769\n",
       "      31             158230\n",
       "\n",
       "[366 rows x 1 columns]"
      ]
     },
     "execution_count": 2,
     "metadata": {},
     "output_type": "execute_result"
    }
   ],
   "source": [
    "birth_counts = birth_data.groupby(['month', 'date_of_month']).sum()[['births']]\n",
    "\n",
    "birth_counts"
   ]
  },
  {
   "cell_type": "markdown",
   "metadata": {},
   "source": [
    "We see that there were 116,030 birth on January 1<sup>st</sup>, 144,083 (much larger! why?) on January 2<sup>nd</sup>, _etc_.\n",
    "\n",
    "A histogram of the counts in the above DataFrame:"
   ]
  },
  {
   "cell_type": "code",
   "execution_count": 3,
   "metadata": {},
   "outputs": [
    {
     "data": {
      "image/png": "[encoded data removed]",
      "text/plain": [
       "<Figure size 640x480 with 1 Axes>"
      ]
     },
     "metadata": {},
     "output_type": "display_data"
    }
   ],
   "source": [
    "birth_counts.hist(bins=range(116000, 195000, 2000));"
   ]
  },
  {
   "cell_type": "markdown",
   "metadata": {},
   "source": [
    "Note that some days of the year are outliers in number of births. Can you guess which?\n",
    "\n",
    "We will use these counts to estimate the probability that a given date is a birthday for a random US subject."
   ]
  },
  {
   "cell_type": "code",
   "execution_count": 4,
   "metadata": {},
   "outputs": [
    {
     "data": {
      "text/plain": [
       "month  date_of_month\n",
       "1      1                0.001866\n",
       "       2                0.002317\n",
       "       3                0.002736\n",
       "       4                0.002760\n",
       "       5                0.002680\n",
       "                          ...   \n",
       "12     27               0.002940\n",
       "       28               0.002941\n",
       "       29               0.002911\n",
       "       30               0.002875\n",
       "       31               0.002544\n",
       "Name: births, Length: 366, dtype: float64"
      ]
     },
     "execution_count": 4,
     "metadata": {},
     "output_type": "execute_result"
    }
   ],
   "source": [
    "bday_probs = birth_counts.births / sum(birth_counts.births)\n",
    "\n",
    "bday_probs"
   ]
  },
  {
   "cell_type": "markdown",
   "metadata": {},
   "source": [
    "These probabilities are added to the simulation when using the `random.choice` function. Look at the function below and compare it to the `birthday_sim` function introduced in Section 2."
   ]
  },
  {
   "cell_type": "code",
   "execution_count": 5,
   "metadata": {},
   "outputs": [],
   "source": [
    "from collections import Counter\n",
    "\n",
    "\n",
    "# Adding February 29 -- the number of possible birthdays is now 366!\n",
    "\n",
    "birthdays2 = range(1, 367)\n",
    "\n",
    "\n",
    "def birthday_sim2(n, nrep, pr):\n",
    "    '''Estimate birthday matching probabilities using nrep simulations.\n",
    "       \n",
    "       The 366 possible birthdays are weighted by given probabilities.\n",
    "       \n",
    "    '''\n",
    "    return np.array([\n",
    "        Counter(np.random.choice(birthdays2, n, p=pr)).most_common(1)[0][1]\n",
    "        for _rep in range(nrep)\n",
    "    ])"
   ]
  },
  {
   "cell_type": "markdown",
   "metadata": {},
   "source": [
    "We calculate below the probability for the case $n=23$ using these relaxed assumptions. Do you think the probabililty will be higher or lower? "
   ]
  },
  {
   "cell_type": "code",
   "execution_count": 6,
   "metadata": {},
   "outputs": [
    {
     "data": {
      "text/plain": [
       "0.514"
      ]
     },
     "execution_count": 6,
     "metadata": {},
     "output_type": "execute_result"
    }
   ],
   "source": [
    "n = 23\n",
    "nrep = 10_000\n",
    "\n",
    "sum(birthday_sim2(n, nrep, bday_probs) > 1) / nrep"
   ]
  },
  {
   "cell_type": "markdown",
   "metadata": {},
   "source": [
    "**Note**: more accurate simulation experiments do not always lead to different results &ndash; but we do not know that before performing them!\n"
   ]
  }
 ],
 "metadata": {
  "kernelspec": {
   "display_name": "Python 3 (ipykernel)",
   "language": "python",
   "name": "python3"
  },
  "language_info": {
   "codemirror_mode": {
    "name": "ipython",
    "version": 3
   },
   "file_extension": ".py",
   "mimetype": "text/x-python",
   "name": "python",
   "nbconvert_exporter": "python",
   "pygments_lexer": "ipython3",
   "version": "3.10.6"
  }
 },
 "nbformat": 4,
 "nbformat_minor": 4
}
