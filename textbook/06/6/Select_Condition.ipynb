{
 "cells": [
  {
   "cell_type": "markdown",
   "id": "b35f050c-9197-4eb2-bc2d-00da7ca021ee",
   "metadata": {},
   "source": [
    "# Selection by condition\n",
    "\n",
    "So far we've selected individuals based on their position in the row index and based on their row index value or label. But particularly in larger data sets, this may not be practical.\n",
    "\n",
    "To begin, we might sort our data by a column or a set of columns. Say we were having trouble finding Earth – we could produce a new `DataFrame`, sorted by the `name` feature."
   ]
  },
  {
   "cell_type": "code",
   "execution_count": 52,
   "id": "eacca2f2-5228-4f14-aff9-2a057ae08300",
   "metadata": {},
   "outputs": [
    {
     "data": {
      "text/html": [
       "<div>\n",
       "<style scoped>\n",
       "    .dataframe tbody tr th:only-of-type {\n",
       "        vertical-align: middle;\n",
       "    }\n",
       "\n",
       "    .dataframe tbody tr th {\n",
       "        vertical-align: top;\n",
       "    }\n",
       "\n",
       "    .dataframe thead th {\n",
       "        text-align: right;\n",
       "    }\n",
       "</style>\n",
       "<table border=\"1\" class=\"dataframe\">\n",
       "  <thead>\n",
       "    <tr style=\"text-align: right;\">\n",
       "      <th></th>\n",
       "      <th>name</th>\n",
       "      <th>solar_distance_km_6</th>\n",
       "      <th>mass_kg_24</th>\n",
       "      <th>density_kg_m3</th>\n",
       "      <th>gravity_m_s2</th>\n",
       "    </tr>\n",
       "    <tr>\n",
       "      <th>number</th>\n",
       "      <th></th>\n",
       "      <th></th>\n",
       "      <th></th>\n",
       "      <th></th>\n",
       "      <th></th>\n",
       "    </tr>\n",
       "  </thead>\n",
       "  <tbody>\n",
       "    <tr>\n",
       "      <td>3</td>\n",
       "      <td>Earth</td>\n",
       "      <td>149.6</td>\n",
       "      <td>5.970</td>\n",
       "      <td>5514.0</td>\n",
       "      <td>9.8</td>\n",
       "    </tr>\n",
       "    <tr>\n",
       "      <td>5</td>\n",
       "      <td>Jupiter</td>\n",
       "      <td>778.6</td>\n",
       "      <td>1898.000</td>\n",
       "      <td>1326.0</td>\n",
       "      <td>23.1</td>\n",
       "    </tr>\n",
       "    <tr>\n",
       "      <td>4</td>\n",
       "      <td>Mars</td>\n",
       "      <td>227.9</td>\n",
       "      <td>0.642</td>\n",
       "      <td>3933.0</td>\n",
       "      <td>3.7</td>\n",
       "    </tr>\n",
       "    <tr>\n",
       "      <td>1</td>\n",
       "      <td>Mercury</td>\n",
       "      <td>57.9</td>\n",
       "      <td>0.330</td>\n",
       "      <td>5427.0</td>\n",
       "      <td>3.7</td>\n",
       "    </tr>\n",
       "    <tr>\n",
       "      <td>8</td>\n",
       "      <td>Neptune</td>\n",
       "      <td>4495.1</td>\n",
       "      <td>102.000</td>\n",
       "      <td>1638.0</td>\n",
       "      <td>11.0</td>\n",
       "    </tr>\n",
       "    <tr>\n",
       "      <td>6</td>\n",
       "      <td>Saturn</td>\n",
       "      <td>1433.5</td>\n",
       "      <td>568.000</td>\n",
       "      <td>687.0</td>\n",
       "      <td>9.0</td>\n",
       "    </tr>\n",
       "    <tr>\n",
       "      <td>7</td>\n",
       "      <td>Uranus</td>\n",
       "      <td>2872.5</td>\n",
       "      <td>86.800</td>\n",
       "      <td>1271.0</td>\n",
       "      <td>8.7</td>\n",
       "    </tr>\n",
       "    <tr>\n",
       "      <td>2</td>\n",
       "      <td>Venus</td>\n",
       "      <td>108.2</td>\n",
       "      <td>4.870</td>\n",
       "      <td>5243.0</td>\n",
       "      <td>8.9</td>\n",
       "    </tr>\n",
       "  </tbody>\n",
       "</table>\n",
       "</div>"
      ],
      "text/plain": [
       "           name  solar_distance_km_6  mass_kg_24  density_kg_m3  gravity_m_s2\n",
       "number                                                                       \n",
       "3         Earth                149.6       5.970         5514.0           9.8\n",
       "5       Jupiter                778.6    1898.000         1326.0          23.1\n",
       "4          Mars                227.9       0.642         3933.0           3.7\n",
       "1       Mercury                 57.9       0.330         5427.0           3.7\n",
       "8       Neptune               4495.1     102.000         1638.0          11.0\n",
       "6        Saturn               1433.5     568.000          687.0           9.0\n",
       "7        Uranus               2872.5      86.800         1271.0           8.7\n",
       "2         Venus                108.2       4.870         5243.0           8.9"
      ]
     },
     "execution_count": 52,
     "metadata": {},
     "output_type": "execute_result"
    }
   ],
   "source": [
    "planets.sort_values('name')"
   ]
  },
  {
   "cell_type": "markdown",
   "id": "3e87aa3a-6227-43a1-8470-65059e98cea9",
   "metadata": {},
   "source": [
    "By default, this sorts individuals in \"ascending\" order – from alphabetical \"first\" to \"last\" and numerical smallest to greatest.\n",
    "\n",
    "If instead we wanted to see the most massive planets, we would sort by the `mass_kg_24` feature, but in \"descending\" order."
   ]
  },
  {
   "cell_type": "code",
   "execution_count": 53,
   "id": "fd5e324c-448d-4d13-92f3-6aa046485a9e",
   "metadata": {},
   "outputs": [
    {
     "data": {
      "text/html": [
       "<div>\n",
       "<style scoped>\n",
       "    .dataframe tbody tr th:only-of-type {\n",
       "        vertical-align: middle;\n",
       "    }\n",
       "\n",
       "    .dataframe tbody tr th {\n",
       "        vertical-align: top;\n",
       "    }\n",
       "\n",
       "    .dataframe thead th {\n",
       "        text-align: right;\n",
       "    }\n",
       "</style>\n",
       "<table border=\"1\" class=\"dataframe\">\n",
       "  <thead>\n",
       "    <tr style=\"text-align: right;\">\n",
       "      <th></th>\n",
       "      <th>name</th>\n",
       "      <th>solar_distance_km_6</th>\n",
       "      <th>mass_kg_24</th>\n",
       "      <th>density_kg_m3</th>\n",
       "      <th>gravity_m_s2</th>\n",
       "    </tr>\n",
       "    <tr>\n",
       "      <th>number</th>\n",
       "      <th></th>\n",
       "      <th></th>\n",
       "      <th></th>\n",
       "      <th></th>\n",
       "      <th></th>\n",
       "    </tr>\n",
       "  </thead>\n",
       "  <tbody>\n",
       "    <tr>\n",
       "      <td>5</td>\n",
       "      <td>Jupiter</td>\n",
       "      <td>778.6</td>\n",
       "      <td>1898.000</td>\n",
       "      <td>1326.0</td>\n",
       "      <td>23.1</td>\n",
       "    </tr>\n",
       "    <tr>\n",
       "      <td>6</td>\n",
       "      <td>Saturn</td>\n",
       "      <td>1433.5</td>\n",
       "      <td>568.000</td>\n",
       "      <td>687.0</td>\n",
       "      <td>9.0</td>\n",
       "    </tr>\n",
       "    <tr>\n",
       "      <td>8</td>\n",
       "      <td>Neptune</td>\n",
       "      <td>4495.1</td>\n",
       "      <td>102.000</td>\n",
       "      <td>1638.0</td>\n",
       "      <td>11.0</td>\n",
       "    </tr>\n",
       "    <tr>\n",
       "      <td>7</td>\n",
       "      <td>Uranus</td>\n",
       "      <td>2872.5</td>\n",
       "      <td>86.800</td>\n",
       "      <td>1271.0</td>\n",
       "      <td>8.7</td>\n",
       "    </tr>\n",
       "    <tr>\n",
       "      <td>3</td>\n",
       "      <td>Earth</td>\n",
       "      <td>149.6</td>\n",
       "      <td>5.970</td>\n",
       "      <td>5514.0</td>\n",
       "      <td>9.8</td>\n",
       "    </tr>\n",
       "    <tr>\n",
       "      <td>2</td>\n",
       "      <td>Venus</td>\n",
       "      <td>108.2</td>\n",
       "      <td>4.870</td>\n",
       "      <td>5243.0</td>\n",
       "      <td>8.9</td>\n",
       "    </tr>\n",
       "    <tr>\n",
       "      <td>4</td>\n",
       "      <td>Mars</td>\n",
       "      <td>227.9</td>\n",
       "      <td>0.642</td>\n",
       "      <td>3933.0</td>\n",
       "      <td>3.7</td>\n",
       "    </tr>\n",
       "    <tr>\n",
       "      <td>1</td>\n",
       "      <td>Mercury</td>\n",
       "      <td>57.9</td>\n",
       "      <td>0.330</td>\n",
       "      <td>5427.0</td>\n",
       "      <td>3.7</td>\n",
       "    </tr>\n",
       "  </tbody>\n",
       "</table>\n",
       "</div>"
      ],
      "text/plain": [
       "           name  solar_distance_km_6  mass_kg_24  density_kg_m3  gravity_m_s2\n",
       "number                                                                       \n",
       "5       Jupiter                778.6    1898.000         1326.0          23.1\n",
       "6        Saturn               1433.5     568.000          687.0           9.0\n",
       "8       Neptune               4495.1     102.000         1638.0          11.0\n",
       "7        Uranus               2872.5      86.800         1271.0           8.7\n",
       "3         Earth                149.6       5.970         5514.0           9.8\n",
       "2         Venus                108.2       4.870         5243.0           8.9\n",
       "4          Mars                227.9       0.642         3933.0           3.7\n",
       "1       Mercury                 57.9       0.330         5427.0           3.7"
      ]
     },
     "execution_count": 53,
     "metadata": {},
     "output_type": "execute_result"
    }
   ],
   "source": [
    "planets_massive = planets.sort_values('mass_kg_24', ascending=False)\n",
    "\n",
    "planets_massive"
   ]
  },
  {
   "cell_type": "markdown",
   "id": "a5e38fb0-f8c4-48e8-bcdc-9fb476c4d3b1",
   "metadata": {},
   "source": [
    "In both cases, we are interested in the first-listed rows. For example, we can extract the most massive planet, Jupiter, from the sorted `DataFrame`."
   ]
  },
  {
   "cell_type": "code",
   "execution_count": 54,
   "id": "561149a2-bdc2-4748-842f-cce68fdfc61c",
   "metadata": {},
   "outputs": [
    {
     "data": {
      "text/plain": [
       "name                   Jupiter\n",
       "solar_distance_km_6      778.6\n",
       "mass_kg_24                1898\n",
       "density_kg_m3             1326\n",
       "gravity_m_s2              23.1\n",
       "Name: 5, dtype: object"
      ]
     },
     "execution_count": 54,
     "metadata": {},
     "output_type": "execute_result"
    }
   ],
   "source": [
    "planets_massive.iloc[0]"
   ]
  },
  {
   "cell_type": "markdown",
   "id": "9b5d9236-d47b-4efc-a0ed-04eeee0d2f07",
   "metadata": {},
   "source": [
    "Sorting in this way can get you pretty far. But more powerfully, you can specify a *condition* or a set of conditions which individuals must pass in order to be selected.\n",
    "\n",
    "Again, the `DataFrame` property `loc` does the job for us. It supports the output of a `DataFrame` with the same features as the original but only the individuals whose features satisfy the condition.\n",
    "\n",
    "Rather than using an offset, label or slice, this is specified to `loc` using a *boolean* sequence, which itself indicates the rows satisfying our condition, such as:\n",
    "\n",
    "    [True, False, True]\n",
    "\n",
    "But don't worry! We needn't produce this `list` ourselves. We can generate it from a simple conditional expression in Python, applied to the `Series` of data underlying the feature itself."
   ]
  },
  {
   "cell_type": "code",
   "execution_count": 55,
   "id": "45bb9b65-ee89-43cd-b6c5-b3c1c324d140",
   "metadata": {},
   "outputs": [
    {
     "data": {
      "text/plain": [
       "number\n",
       "1       0.330\n",
       "2       4.870\n",
       "3       5.970\n",
       "4       0.642\n",
       "5    1898.000\n",
       "6     568.000\n",
       "7      86.800\n",
       "8     102.000\n",
       "Name: mass_kg_24, dtype: float64"
      ]
     },
     "execution_count": 55,
     "metadata": {},
     "output_type": "execute_result"
    }
   ],
   "source": [
    "planets.mass_kg_24"
   ]
  },
  {
   "cell_type": "markdown",
   "id": "7519f00e-8578-4bd2-97bd-4e88b2941bab",
   "metadata": {},
   "source": [
    "Our solar system's inner planets never get any more massive than Earth – less than 6 x 10<sup>24</sup> kilograms in mass. We can exclude such lightweights with the *mask* produced by the following comparison expression."
   ]
  },
  {
   "cell_type": "code",
   "execution_count": 56,
   "id": "c53ce5da-908e-4891-8557-4bd624d61eb8",
   "metadata": {},
   "outputs": [
    {
     "data": {
      "text/plain": [
       "number\n",
       "1    False\n",
       "2    False\n",
       "3    False\n",
       "4    False\n",
       "5     True\n",
       "6     True\n",
       "7     True\n",
       "8     True\n",
       "Name: mass_kg_24, dtype: bool"
      ]
     },
     "execution_count": 56,
     "metadata": {},
     "output_type": "execute_result"
    }
   ],
   "source": [
    "planets.mass_kg_24 > 6"
   ]
  },
  {
   "cell_type": "markdown",
   "id": "f0e0e6d9-f8eb-4bfe-bac1-ffaa57bfb92a",
   "metadata": {},
   "source": [
    "As you can see, we've produced a new `Series`, populated by Boolean values which reflect that the \"statement\" of our comparison – that the planets' masses are \"greater than 6\" thousand yottagrams – is `False` for the first four planets, but `True` for the remainder.\n",
    "\n",
    "We can specify to `loc` this mask – if we like, of course, the expression itself – and produce our new `DataFrame` of individuals satisfying our condition."
   ]
  },
  {
   "cell_type": "code",
   "execution_count": 57,
   "id": "36147f10-ef68-4929-8ace-3c87929e59fe",
   "metadata": {},
   "outputs": [
    {
     "data": {
      "text/html": [
       "<div>\n",
       "<style scoped>\n",
       "    .dataframe tbody tr th:only-of-type {\n",
       "        vertical-align: middle;\n",
       "    }\n",
       "\n",
       "    .dataframe tbody tr th {\n",
       "        vertical-align: top;\n",
       "    }\n",
       "\n",
       "    .dataframe thead th {\n",
       "        text-align: right;\n",
       "    }\n",
       "</style>\n",
       "<table border=\"1\" class=\"dataframe\">\n",
       "  <thead>\n",
       "    <tr style=\"text-align: right;\">\n",
       "      <th></th>\n",
       "      <th>name</th>\n",
       "      <th>solar_distance_km_6</th>\n",
       "      <th>mass_kg_24</th>\n",
       "      <th>density_kg_m3</th>\n",
       "      <th>gravity_m_s2</th>\n",
       "    </tr>\n",
       "    <tr>\n",
       "      <th>number</th>\n",
       "      <th></th>\n",
       "      <th></th>\n",
       "      <th></th>\n",
       "      <th></th>\n",
       "      <th></th>\n",
       "    </tr>\n",
       "  </thead>\n",
       "  <tbody>\n",
       "    <tr>\n",
       "      <td>5</td>\n",
       "      <td>Jupiter</td>\n",
       "      <td>778.6</td>\n",
       "      <td>1898.0</td>\n",
       "      <td>1326.0</td>\n",
       "      <td>23.1</td>\n",
       "    </tr>\n",
       "    <tr>\n",
       "      <td>6</td>\n",
       "      <td>Saturn</td>\n",
       "      <td>1433.5</td>\n",
       "      <td>568.0</td>\n",
       "      <td>687.0</td>\n",
       "      <td>9.0</td>\n",
       "    </tr>\n",
       "    <tr>\n",
       "      <td>7</td>\n",
       "      <td>Uranus</td>\n",
       "      <td>2872.5</td>\n",
       "      <td>86.8</td>\n",
       "      <td>1271.0</td>\n",
       "      <td>8.7</td>\n",
       "    </tr>\n",
       "    <tr>\n",
       "      <td>8</td>\n",
       "      <td>Neptune</td>\n",
       "      <td>4495.1</td>\n",
       "      <td>102.0</td>\n",
       "      <td>1638.0</td>\n",
       "      <td>11.0</td>\n",
       "    </tr>\n",
       "  </tbody>\n",
       "</table>\n",
       "</div>"
      ],
      "text/plain": [
       "           name  solar_distance_km_6  mass_kg_24  density_kg_m3  gravity_m_s2\n",
       "number                                                                       \n",
       "5       Jupiter                778.6      1898.0         1326.0          23.1\n",
       "6        Saturn               1433.5       568.0          687.0           9.0\n",
       "7        Uranus               2872.5        86.8         1271.0           8.7\n",
       "8       Neptune               4495.1       102.0         1638.0          11.0"
      ]
     },
     "execution_count": 57,
     "metadata": {},
     "output_type": "execute_result"
    }
   ],
   "source": [
    "planets.loc[planets.mass_kg_24 > 6]"
   ]
  },
  {
   "cell_type": "markdown",
   "id": "361520d9-7bec-4c51-98c3-d18bd4c269c6",
   "metadata": {},
   "source": [
    "Or, even simpler, we can construct the same sort of look-up to find Earth."
   ]
  },
  {
   "cell_type": "code",
   "execution_count": 58,
   "id": "dbe868d9-8c75-4492-901c-08826df16740",
   "metadata": {},
   "outputs": [
    {
     "data": {
      "text/html": [
       "<div>\n",
       "<style scoped>\n",
       "    .dataframe tbody tr th:only-of-type {\n",
       "        vertical-align: middle;\n",
       "    }\n",
       "\n",
       "    .dataframe tbody tr th {\n",
       "        vertical-align: top;\n",
       "    }\n",
       "\n",
       "    .dataframe thead th {\n",
       "        text-align: right;\n",
       "    }\n",
       "</style>\n",
       "<table border=\"1\" class=\"dataframe\">\n",
       "  <thead>\n",
       "    <tr style=\"text-align: right;\">\n",
       "      <th></th>\n",
       "      <th>name</th>\n",
       "      <th>solar_distance_km_6</th>\n",
       "      <th>mass_kg_24</th>\n",
       "      <th>density_kg_m3</th>\n",
       "      <th>gravity_m_s2</th>\n",
       "    </tr>\n",
       "    <tr>\n",
       "      <th>number</th>\n",
       "      <th></th>\n",
       "      <th></th>\n",
       "      <th></th>\n",
       "      <th></th>\n",
       "      <th></th>\n",
       "    </tr>\n",
       "  </thead>\n",
       "  <tbody>\n",
       "    <tr>\n",
       "      <td>3</td>\n",
       "      <td>Earth</td>\n",
       "      <td>149.6</td>\n",
       "      <td>5.97</td>\n",
       "      <td>5514.0</td>\n",
       "      <td>9.8</td>\n",
       "    </tr>\n",
       "  </tbody>\n",
       "</table>\n",
       "</div>"
      ],
      "text/plain": [
       "         name  solar_distance_km_6  mass_kg_24  density_kg_m3  gravity_m_s2\n",
       "number                                                                     \n",
       "3       Earth                149.6        5.97         5514.0           9.8"
      ]
     },
     "execution_count": 58,
     "metadata": {},
     "output_type": "execute_result"
    }
   ],
   "source": [
    "planets.loc[planets.name == 'Earth']"
   ]
  },
  {
   "cell_type": "markdown",
   "id": "e5da33e3-99c4-4cbd-871f-e8195dfd219e",
   "metadata": {},
   "source": [
    "Above we built our conditions from a known value, such as `6`. We can build a value look-up into our comparison as well.\n",
    "\n",
    "Another look-up property, `at`, provides a shortcut to scalar values."
   ]
  },
  {
   "cell_type": "code",
   "execution_count": 59,
   "id": "809283f7-2612-41d5-939f-71717c8eea88",
   "metadata": {},
   "outputs": [
    {
     "data": {
      "text/plain": [
       "5.97"
      ]
     },
     "execution_count": 59,
     "metadata": {},
     "output_type": "execute_result"
    }
   ],
   "source": [
    "planets.at[3, 'mass_kg_24']"
   ]
  },
  {
   "cell_type": "code",
   "execution_count": 60,
   "id": "fa335e8f-85ab-448b-8a80-812fa709d5b0",
   "metadata": {},
   "outputs": [
    {
     "data": {
      "text/html": [
       "<div>\n",
       "<style scoped>\n",
       "    .dataframe tbody tr th:only-of-type {\n",
       "        vertical-align: middle;\n",
       "    }\n",
       "\n",
       "    .dataframe tbody tr th {\n",
       "        vertical-align: top;\n",
       "    }\n",
       "\n",
       "    .dataframe thead th {\n",
       "        text-align: right;\n",
       "    }\n",
       "</style>\n",
       "<table border=\"1\" class=\"dataframe\">\n",
       "  <thead>\n",
       "    <tr style=\"text-align: right;\">\n",
       "      <th></th>\n",
       "      <th>name</th>\n",
       "      <th>solar_distance_km_6</th>\n",
       "      <th>mass_kg_24</th>\n",
       "      <th>density_kg_m3</th>\n",
       "      <th>gravity_m_s2</th>\n",
       "    </tr>\n",
       "    <tr>\n",
       "      <th>number</th>\n",
       "      <th></th>\n",
       "      <th></th>\n",
       "      <th></th>\n",
       "      <th></th>\n",
       "      <th></th>\n",
       "    </tr>\n",
       "  </thead>\n",
       "  <tbody>\n",
       "    <tr>\n",
       "      <td>5</td>\n",
       "      <td>Jupiter</td>\n",
       "      <td>778.6</td>\n",
       "      <td>1898.0</td>\n",
       "      <td>1326.0</td>\n",
       "      <td>23.1</td>\n",
       "    </tr>\n",
       "    <tr>\n",
       "      <td>6</td>\n",
       "      <td>Saturn</td>\n",
       "      <td>1433.5</td>\n",
       "      <td>568.0</td>\n",
       "      <td>687.0</td>\n",
       "      <td>9.0</td>\n",
       "    </tr>\n",
       "    <tr>\n",
       "      <td>7</td>\n",
       "      <td>Uranus</td>\n",
       "      <td>2872.5</td>\n",
       "      <td>86.8</td>\n",
       "      <td>1271.0</td>\n",
       "      <td>8.7</td>\n",
       "    </tr>\n",
       "    <tr>\n",
       "      <td>8</td>\n",
       "      <td>Neptune</td>\n",
       "      <td>4495.1</td>\n",
       "      <td>102.0</td>\n",
       "      <td>1638.0</td>\n",
       "      <td>11.0</td>\n",
       "    </tr>\n",
       "  </tbody>\n",
       "</table>\n",
       "</div>"
      ],
      "text/plain": [
       "           name  solar_distance_km_6  mass_kg_24  density_kg_m3  gravity_m_s2\n",
       "number                                                                       \n",
       "5       Jupiter                778.6      1898.0         1326.0          23.1\n",
       "6        Saturn               1433.5       568.0          687.0           9.0\n",
       "7        Uranus               2872.5        86.8         1271.0           8.7\n",
       "8       Neptune               4495.1       102.0         1638.0          11.0"
      ]
     },
     "execution_count": 60,
     "metadata": {},
     "output_type": "execute_result"
    }
   ],
   "source": [
    "planets.loc[\n",
    "    planets.mass_kg_24 > planets.at[3, 'mass_kg_24']\n",
    "]"
   ]
  },
  {
   "cell_type": "markdown",
   "id": "0d185d2a-b38b-4530-9bf6-46ae16132832",
   "metadata": {},
   "source": [
    "We can also select individuals that satisfy multiple conditions.\n",
    "\n",
    "Let's compare the planets of our solar system to the Earth. We can begin by selecting only those planets whose gravity is within approximately 50% of Earth's – less than $14.8\\frac{m}{s^2}$ and more than $4.8\\frac{m}{s^2}$."
   ]
  },
  {
   "cell_type": "code",
   "execution_count": 61,
   "id": "8787161b-a28f-4907-9313-839c9533f1ca",
   "metadata": {},
   "outputs": [
    {
     "data": {
      "text/plain": [
       "number\n",
       "1     True\n",
       "2     True\n",
       "3     True\n",
       "4     True\n",
       "5    False\n",
       "6     True\n",
       "7     True\n",
       "8     True\n",
       "Name: gravity_m_s2, dtype: bool"
      ]
     },
     "execution_count": 61,
     "metadata": {},
     "output_type": "execute_result"
    }
   ],
   "source": [
    "not_too_much_gravity = planets.gravity_m_s2 < planets.at[3, 'gravity_m_s2'] + 5\n",
    "\n",
    "not_too_much_gravity"
   ]
  },
  {
   "cell_type": "code",
   "execution_count": 62,
   "id": "82ad342b-98f3-4342-9276-fbbe46dd1836",
   "metadata": {},
   "outputs": [
    {
     "data": {
      "text/plain": [
       "number\n",
       "1    False\n",
       "2     True\n",
       "3     True\n",
       "4    False\n",
       "5     True\n",
       "6     True\n",
       "7     True\n",
       "8     True\n",
       "Name: gravity_m_s2, dtype: bool"
      ]
     },
     "execution_count": 62,
     "metadata": {},
     "output_type": "execute_result"
    }
   ],
   "source": [
    "not_too_little_gravity = planets.gravity_m_s2 > planets.at[3, 'gravity_m_s2'] - 5\n",
    "\n",
    "not_too_little_gravity"
   ]
  },
  {
   "cell_type": "markdown",
   "id": "8f4a2986-9f19-465b-83d5-92b837d4d286",
   "metadata": {},
   "source": [
    "We might simply invoke `loc` twice, once for each condition."
   ]
  },
  {
   "cell_type": "code",
   "execution_count": 63,
   "id": "d27820b4-1841-4c32-b9bb-16d021e3b8d0",
   "metadata": {},
   "outputs": [
    {
     "data": {
      "text/html": [
       "<div>\n",
       "<style scoped>\n",
       "    .dataframe tbody tr th:only-of-type {\n",
       "        vertical-align: middle;\n",
       "    }\n",
       "\n",
       "    .dataframe tbody tr th {\n",
       "        vertical-align: top;\n",
       "    }\n",
       "\n",
       "    .dataframe thead th {\n",
       "        text-align: right;\n",
       "    }\n",
       "</style>\n",
       "<table border=\"1\" class=\"dataframe\">\n",
       "  <thead>\n",
       "    <tr style=\"text-align: right;\">\n",
       "      <th></th>\n",
       "      <th>name</th>\n",
       "      <th>solar_distance_km_6</th>\n",
       "      <th>mass_kg_24</th>\n",
       "      <th>density_kg_m3</th>\n",
       "      <th>gravity_m_s2</th>\n",
       "    </tr>\n",
       "    <tr>\n",
       "      <th>number</th>\n",
       "      <th></th>\n",
       "      <th></th>\n",
       "      <th></th>\n",
       "      <th></th>\n",
       "      <th></th>\n",
       "    </tr>\n",
       "  </thead>\n",
       "  <tbody>\n",
       "    <tr>\n",
       "      <td>2</td>\n",
       "      <td>Venus</td>\n",
       "      <td>108.2</td>\n",
       "      <td>4.87</td>\n",
       "      <td>5243.0</td>\n",
       "      <td>8.9</td>\n",
       "    </tr>\n",
       "    <tr>\n",
       "      <td>3</td>\n",
       "      <td>Earth</td>\n",
       "      <td>149.6</td>\n",
       "      <td>5.97</td>\n",
       "      <td>5514.0</td>\n",
       "      <td>9.8</td>\n",
       "    </tr>\n",
       "    <tr>\n",
       "      <td>6</td>\n",
       "      <td>Saturn</td>\n",
       "      <td>1433.5</td>\n",
       "      <td>568.00</td>\n",
       "      <td>687.0</td>\n",
       "      <td>9.0</td>\n",
       "    </tr>\n",
       "    <tr>\n",
       "      <td>7</td>\n",
       "      <td>Uranus</td>\n",
       "      <td>2872.5</td>\n",
       "      <td>86.80</td>\n",
       "      <td>1271.0</td>\n",
       "      <td>8.7</td>\n",
       "    </tr>\n",
       "    <tr>\n",
       "      <td>8</td>\n",
       "      <td>Neptune</td>\n",
       "      <td>4495.1</td>\n",
       "      <td>102.00</td>\n",
       "      <td>1638.0</td>\n",
       "      <td>11.0</td>\n",
       "    </tr>\n",
       "  </tbody>\n",
       "</table>\n",
       "</div>"
      ],
      "text/plain": [
       "           name  solar_distance_km_6  mass_kg_24  density_kg_m3  gravity_m_s2\n",
       "number                                                                       \n",
       "2         Venus                108.2        4.87         5243.0           8.9\n",
       "3         Earth                149.6        5.97         5514.0           9.8\n",
       "6        Saturn               1433.5      568.00          687.0           9.0\n",
       "7        Uranus               2872.5       86.80         1271.0           8.7\n",
       "8       Neptune               4495.1      102.00         1638.0          11.0"
      ]
     },
     "execution_count": 63,
     "metadata": {},
     "output_type": "execute_result"
    }
   ],
   "source": [
    "planets.loc[not_too_much_gravity].loc[not_too_little_gravity]"
   ]
  },
  {
   "cell_type": "markdown",
   "id": "c6d065db-7714-4cf5-a8d5-f37fd32961dd",
   "metadata": {},
   "source": [
    "Or, more powerfully, we can combine our conditions into a single conditional mask. In this case, we want *both* conditions to be satisfied, and so we'll combine them using the *bitwise AND* operator: `&`."
   ]
  },
  {
   "cell_type": "code",
   "execution_count": 64,
   "id": "5c17f0fd-0911-439f-8742-f13f313aaa88",
   "metadata": {},
   "outputs": [
    {
     "data": {
      "text/plain": [
       "number\n",
       "1    False\n",
       "2     True\n",
       "3     True\n",
       "4    False\n",
       "5    False\n",
       "6     True\n",
       "7     True\n",
       "8     True\n",
       "Name: gravity_m_s2, dtype: bool"
      ]
     },
     "execution_count": 64,
     "metadata": {},
     "output_type": "execute_result"
    }
   ],
   "source": [
    "not_too_much_gravity & not_too_little_gravity"
   ]
  },
  {
   "cell_type": "code",
   "execution_count": 65,
   "id": "c9abd9d3-04c5-4b44-a324-60a8fe2ae6b1",
   "metadata": {},
   "outputs": [
    {
     "data": {
      "text/html": [
       "<div>\n",
       "<style scoped>\n",
       "    .dataframe tbody tr th:only-of-type {\n",
       "        vertical-align: middle;\n",
       "    }\n",
       "\n",
       "    .dataframe tbody tr th {\n",
       "        vertical-align: top;\n",
       "    }\n",
       "\n",
       "    .dataframe thead th {\n",
       "        text-align: right;\n",
       "    }\n",
       "</style>\n",
       "<table border=\"1\" class=\"dataframe\">\n",
       "  <thead>\n",
       "    <tr style=\"text-align: right;\">\n",
       "      <th></th>\n",
       "      <th>name</th>\n",
       "      <th>solar_distance_km_6</th>\n",
       "      <th>mass_kg_24</th>\n",
       "      <th>density_kg_m3</th>\n",
       "      <th>gravity_m_s2</th>\n",
       "    </tr>\n",
       "    <tr>\n",
       "      <th>number</th>\n",
       "      <th></th>\n",
       "      <th></th>\n",
       "      <th></th>\n",
       "      <th></th>\n",
       "      <th></th>\n",
       "    </tr>\n",
       "  </thead>\n",
       "  <tbody>\n",
       "    <tr>\n",
       "      <td>2</td>\n",
       "      <td>Venus</td>\n",
       "      <td>108.2</td>\n",
       "      <td>4.87</td>\n",
       "      <td>5243.0</td>\n",
       "      <td>8.9</td>\n",
       "    </tr>\n",
       "    <tr>\n",
       "      <td>3</td>\n",
       "      <td>Earth</td>\n",
       "      <td>149.6</td>\n",
       "      <td>5.97</td>\n",
       "      <td>5514.0</td>\n",
       "      <td>9.8</td>\n",
       "    </tr>\n",
       "    <tr>\n",
       "      <td>6</td>\n",
       "      <td>Saturn</td>\n",
       "      <td>1433.5</td>\n",
       "      <td>568.00</td>\n",
       "      <td>687.0</td>\n",
       "      <td>9.0</td>\n",
       "    </tr>\n",
       "    <tr>\n",
       "      <td>7</td>\n",
       "      <td>Uranus</td>\n",
       "      <td>2872.5</td>\n",
       "      <td>86.80</td>\n",
       "      <td>1271.0</td>\n",
       "      <td>8.7</td>\n",
       "    </tr>\n",
       "    <tr>\n",
       "      <td>8</td>\n",
       "      <td>Neptune</td>\n",
       "      <td>4495.1</td>\n",
       "      <td>102.00</td>\n",
       "      <td>1638.0</td>\n",
       "      <td>11.0</td>\n",
       "    </tr>\n",
       "  </tbody>\n",
       "</table>\n",
       "</div>"
      ],
      "text/plain": [
       "           name  solar_distance_km_6  mass_kg_24  density_kg_m3  gravity_m_s2\n",
       "number                                                                       \n",
       "2         Venus                108.2        4.87         5243.0           8.9\n",
       "3         Earth                149.6        5.97         5514.0           9.8\n",
       "6        Saturn               1433.5      568.00          687.0           9.0\n",
       "7        Uranus               2872.5       86.80         1271.0           8.7\n",
       "8       Neptune               4495.1      102.00         1638.0          11.0"
      ]
     },
     "execution_count": 65,
     "metadata": {},
     "output_type": "execute_result"
    }
   ],
   "source": [
    "planets.loc[not_too_much_gravity & not_too_little_gravity]"
   ]
  },
  {
   "cell_type": "markdown",
   "id": "23ace43b-a43e-4e4a-ba0f-9912f5e7c960",
   "metadata": {},
   "source": [
    "We're left with the majority of the planets. Only Mercury, Mars and Jupiter have been excluded – Mercury and Mars for having too little gravity, and Jupiter for having too much.\n",
    "\n",
    "In fact, we know that Saturn is a gas giant, consisting almost entirely of hydrogen gas – nothing at all like Earth! This fact is indirectly evident from its density: less than 13% of the density of the Earth."
   ]
  },
  {
   "cell_type": "code",
   "execution_count": 66,
   "id": "a81e7798-19c7-4d09-a383-73ac13fa3969",
   "metadata": {},
   "outputs": [
    {
     "data": {
      "text/plain": [
       "number\n",
       "1    0.984222\n",
       "2    0.950852\n",
       "3    1.000000\n",
       "4    0.713275\n",
       "5    0.240479\n",
       "6    0.124592\n",
       "7    0.230504\n",
       "8    0.297062\n",
       "Name: density_kg_m3, dtype: float64"
      ]
     },
     "execution_count": 66,
     "metadata": {},
     "output_type": "execute_result"
    }
   ],
   "source": [
    "planets.density_kg_m3 / planets.at[3, 'density_kg_m3']"
   ]
  },
  {
   "cell_type": "markdown",
   "id": "f13529d5-83ad-422d-b404-b5f2a55d6b59",
   "metadata": {},
   "source": [
    "We can exclude the gas giants as well by combining our gravity-based conditions with a density-based condition: that the planets' densities are at least 50% of Earth's."
   ]
  },
  {
   "cell_type": "code",
   "execution_count": 67,
   "id": "e57f0547-dd6c-4c0c-82fe-b602bdf3c9d2",
   "metadata": {},
   "outputs": [
    {
     "data": {
      "text/plain": [
       "number\n",
       "1     True\n",
       "2     True\n",
       "3     True\n",
       "4     True\n",
       "5    False\n",
       "6    False\n",
       "7    False\n",
       "8    False\n",
       "Name: density_kg_m3, dtype: bool"
      ]
     },
     "execution_count": 67,
     "metadata": {},
     "output_type": "execute_result"
    }
   ],
   "source": [
    "dense_enough = planets.density_kg_m3 >= planets.at[3, 'density_kg_m3'] * 0.5\n",
    "\n",
    "dense_enough"
   ]
  },
  {
   "cell_type": "code",
   "execution_count": 68,
   "id": "3d69ed2b-35ac-46bb-989c-4fb162d41c7d",
   "metadata": {},
   "outputs": [
    {
     "data": {
      "text/html": [
       "<div>\n",
       "<style scoped>\n",
       "    .dataframe tbody tr th:only-of-type {\n",
       "        vertical-align: middle;\n",
       "    }\n",
       "\n",
       "    .dataframe tbody tr th {\n",
       "        vertical-align: top;\n",
       "    }\n",
       "\n",
       "    .dataframe thead th {\n",
       "        text-align: right;\n",
       "    }\n",
       "</style>\n",
       "<table border=\"1\" class=\"dataframe\">\n",
       "  <thead>\n",
       "    <tr style=\"text-align: right;\">\n",
       "      <th></th>\n",
       "      <th>name</th>\n",
       "      <th>solar_distance_km_6</th>\n",
       "      <th>mass_kg_24</th>\n",
       "      <th>density_kg_m3</th>\n",
       "      <th>gravity_m_s2</th>\n",
       "    </tr>\n",
       "    <tr>\n",
       "      <th>number</th>\n",
       "      <th></th>\n",
       "      <th></th>\n",
       "      <th></th>\n",
       "      <th></th>\n",
       "      <th></th>\n",
       "    </tr>\n",
       "  </thead>\n",
       "  <tbody>\n",
       "    <tr>\n",
       "      <td>2</td>\n",
       "      <td>Venus</td>\n",
       "      <td>108.2</td>\n",
       "      <td>4.87</td>\n",
       "      <td>5243.0</td>\n",
       "      <td>8.9</td>\n",
       "    </tr>\n",
       "    <tr>\n",
       "      <td>3</td>\n",
       "      <td>Earth</td>\n",
       "      <td>149.6</td>\n",
       "      <td>5.97</td>\n",
       "      <td>5514.0</td>\n",
       "      <td>9.8</td>\n",
       "    </tr>\n",
       "  </tbody>\n",
       "</table>\n",
       "</div>"
      ],
      "text/plain": [
       "         name  solar_distance_km_6  mass_kg_24  density_kg_m3  gravity_m_s2\n",
       "number                                                                     \n",
       "2       Venus                108.2        4.87         5243.0           8.9\n",
       "3       Earth                149.6        5.97         5514.0           9.8"
      ]
     },
     "execution_count": 68,
     "metadata": {},
     "output_type": "execute_result"
    }
   ],
   "source": [
    "planets.loc[not_too_much_gravity & not_too_little_gravity & dense_enough]"
   ]
  },
  {
   "cell_type": "markdown",
   "id": "4b04b1c7-39ea-48a3-8ba1-16e8c1bb068c",
   "metadata": {},
   "source": [
    "Now we're left with only Venus and Earth.\n",
    "\n",
    "And, we're given an excellent example of the danger of drawing conclusions from too-small a data set. The two planets appear similar, judging by the above. Venus *is* considerably closer to the sun – 41.4 million kilometers closer than the Earth; but, as we saw, this is the *smallest* distance between any of the planets, and it's difficult to gauge the significance of this feature with regard to its similarity to Earth … at least, this feature on its own.\n",
    "\n",
    "That said, if our data included a feature like `average_temperature_celsius` – for which Venus would be 462&deg; – then we'd know why Mars is considered the most likely habitable planet in our solar system, outside of the Earth … never mind *its* average temperature of -63&deg; Celsius, and its much lower gravity!"
   ]
  },
  {
   "cell_type": "markdown",
   "id": "bea9b8d3-4088-4649-95fc-29506bf2f64b",
   "metadata": {},
   "source": [
    "In conclusion, `pandas` and its `DataFrame` offer a great many additions to the data structures, functions and methods of Python, in support of processing and analyzing data. This introduction only covers some of the basic ways in which `pandas` builds upon and differs from what we've seen so far. But don't be overwhelmed! The best way to learn is to dive in. Apply what you've learned here, consult the <a href=\"https://pandas.pydata.org/docs/\" target=\"_blank\" rel=\"noopener\">pandas documentation</a> (and the <a href=\"https://en.wikipedia.org/wiki/Internet\" target=\"_blank\" rel=\"noopener\">Internet</a>) &hellip; and read on!"
   ]
  }
 ],
 "metadata": {
  "kernelspec": {
   "display_name": "Python 3 (ipykernel)",
   "language": "python",
   "name": "python3"
  },
  "language_info": {
   "codemirror_mode": {
    "name": "ipython",
    "version": 3
   },
   "file_extension": ".py",
   "mimetype": "text/x-python",
   "name": "python",
   "nbconvert_exporter": "python",
   "pygments_lexer": "ipython3",
   "version": "3.10.6"
  }
 },
 "nbformat": 4,
 "nbformat_minor": 5
}
