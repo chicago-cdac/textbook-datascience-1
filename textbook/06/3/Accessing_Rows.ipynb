{
 "cells": [
  {
   "cell_type": "markdown",
   "id": "9ce86c38-4410-4615-a8e9-5ef83e43830a",
   "metadata": {},
   "source": [
    "# Accessing rows\n",
    "\n",
    "The second dimension of our data consists of its rows or *individuals*.\n",
    "\n",
    "As with the columns, `pandas` has constructed an index for our rows. By default, this is the familiar `0, 1, 2, …`, and represented by the `RangeIndex` type."
   ]
  },
  {
   "cell_type": "code",
   "execution_count": 10,
   "id": "c371853a-071a-46a0-a05f-018304b0c229",
   "metadata": {},
   "outputs": [
    {
     "data": {
      "text/plain": [
       "RangeIndex(start=0, stop=8, step=1)"
      ]
     },
     "execution_count": 10,
     "metadata": {},
     "output_type": "execute_result"
    }
   ],
   "source": [
    "planets.index"
   ]
  },
  {
   "cell_type": "markdown",
   "id": "64b8f7fb-b008-4471-ae7c-a4de664045ae",
   "metadata": {},
   "source": [
    "And, as with the `list`, we can use the built-in function `len` to see that there are eight planets."
   ]
  },
  {
   "cell_type": "code",
   "execution_count": 11,
   "id": "99165f06-2808-4bad-b56c-09ab72924570",
   "metadata": {},
   "outputs": [
    {
     "data": {
      "text/plain": [
       "8"
      ]
     },
     "execution_count": 11,
     "metadata": {},
     "output_type": "execute_result"
    }
   ],
   "source": [
    "len(planets)"
   ]
  },
  {
   "cell_type": "markdown",
   "id": "fa338e1d-2d9a-4128-b514-025b6e41bd98",
   "metadata": {},
   "source": [
    "We can also *slice* the `DataFrame`, for example to extract only its first three rows."
   ]
  },
  {
   "cell_type": "code",
   "execution_count": 12,
   "id": "6291ba0f-d156-4522-839c-80a13522d7f9",
   "metadata": {},
   "outputs": [
    {
     "data": {
      "text/html": [
       "<div>\n",
       "<style scoped>\n",
       "    .dataframe tbody tr th:only-of-type {\n",
       "        vertical-align: middle;\n",
       "    }\n",
       "\n",
       "    .dataframe tbody tr th {\n",
       "        vertical-align: top;\n",
       "    }\n",
       "\n",
       "    .dataframe thead th {\n",
       "        text-align: right;\n",
       "    }\n",
       "</style>\n",
       "<table border=\"1\" class=\"dataframe\">\n",
       "  <thead>\n",
       "    <tr style=\"text-align: right;\">\n",
       "      <th></th>\n",
       "      <th>name</th>\n",
       "      <th>solar_distance_km_6</th>\n",
       "      <th>mass_kg_24</th>\n",
       "      <th>density_kg_m3</th>\n",
       "      <th>gravity_m_s2</th>\n",
       "    </tr>\n",
       "  </thead>\n",
       "  <tbody>\n",
       "    <tr>\n",
       "      <td>0</td>\n",
       "      <td>Mercury</td>\n",
       "      <td>57.9</td>\n",
       "      <td>0.33</td>\n",
       "      <td>5427.0</td>\n",
       "      <td>3.7</td>\n",
       "    </tr>\n",
       "    <tr>\n",
       "      <td>1</td>\n",
       "      <td>Venus</td>\n",
       "      <td>108.2</td>\n",
       "      <td>4.87</td>\n",
       "      <td>5243.0</td>\n",
       "      <td>8.9</td>\n",
       "    </tr>\n",
       "    <tr>\n",
       "      <td>2</td>\n",
       "      <td>Earth</td>\n",
       "      <td>149.6</td>\n",
       "      <td>5.97</td>\n",
       "      <td>5514.0</td>\n",
       "      <td>9.8</td>\n",
       "    </tr>\n",
       "  </tbody>\n",
       "</table>\n",
       "</div>"
      ],
      "text/plain": [
       "      name  solar_distance_km_6  mass_kg_24  density_kg_m3  gravity_m_s2\n",
       "0  Mercury                 57.9        0.33         5427.0           3.7\n",
       "1    Venus                108.2        4.87         5243.0           8.9\n",
       "2    Earth                149.6        5.97         5514.0           9.8"
      ]
     },
     "execution_count": 12,
     "metadata": {},
     "output_type": "execute_result"
    }
   ],
   "source": [
    "planets[:3]"
   ]
  },
  {
   "cell_type": "markdown",
   "id": "12f8031e-dcee-4898-ac0e-c34fda5a54c0",
   "metadata": {},
   "source": [
    "Above, our slice has constructed a new `DataFrame`, consisting of only the data for the first three planets.\n",
    "\n",
    "**However**: you *can't* access *individual* rows or elements in the same manner as with a `list`:"
   ]
  },
  {
   "cell_type": "code",
   "execution_count": 13,
   "id": "8ea8188a-d085-49dc-afc7-e14d6af027d3",
   "metadata": {
    "tags": [
     "raises-exception"
    ]
   },
   "outputs": [
    {
     "ename": "KeyError",
     "evalue": "2",
     "output_type": "error",
     "traceback": [
      "\u001b[0;31m---------------------------------------------------------------------------\u001b[0m",
      "\u001b[0;31mKeyError\u001b[0m                                  Traceback (most recent call last)",
      "\u001b[0;32m/opt/conda/lib/python3.7/site-packages/pandas/core/indexes/base.py\u001b[0m in \u001b[0;36mget_loc\u001b[0;34m(self, key, method, tolerance)\u001b[0m\n\u001b[1;32m   2896\u001b[0m             \u001b[0;32mtry\u001b[0m\u001b[0;34m:\u001b[0m\u001b[0;34m\u001b[0m\u001b[0;34m\u001b[0m\u001b[0m\n\u001b[0;32m-> 2897\u001b[0;31m                 \u001b[0;32mreturn\u001b[0m \u001b[0mself\u001b[0m\u001b[0;34m.\u001b[0m\u001b[0m_engine\u001b[0m\u001b[0;34m.\u001b[0m\u001b[0mget_loc\u001b[0m\u001b[0;34m(\u001b[0m\u001b[0mkey\u001b[0m\u001b[0;34m)\u001b[0m\u001b[0;34m\u001b[0m\u001b[0;34m\u001b[0m\u001b[0m\n\u001b[0m\u001b[1;32m   2898\u001b[0m             \u001b[0;32mexcept\u001b[0m \u001b[0mKeyError\u001b[0m\u001b[0;34m:\u001b[0m\u001b[0;34m\u001b[0m\u001b[0;34m\u001b[0m\u001b[0m\n",
      "\u001b[0;32mpandas/_libs/index.pyx\u001b[0m in \u001b[0;36mpandas._libs.index.IndexEngine.get_loc\u001b[0;34m()\u001b[0m\n",
      "\u001b[0;32mpandas/_libs/index.pyx\u001b[0m in \u001b[0;36mpandas._libs.index.IndexEngine.get_loc\u001b[0;34m()\u001b[0m\n",
      "\u001b[0;32mpandas/_libs/hashtable_class_helper.pxi\u001b[0m in \u001b[0;36mpandas._libs.hashtable.PyObjectHashTable.get_item\u001b[0;34m()\u001b[0m\n",
      "\u001b[0;32mpandas/_libs/hashtable_class_helper.pxi\u001b[0m in \u001b[0;36mpandas._libs.hashtable.PyObjectHashTable.get_item\u001b[0;34m()\u001b[0m\n",
      "\u001b[0;31mKeyError\u001b[0m: 2",
      "\nDuring handling of the above exception, another exception occurred:\n",
      "\u001b[0;31mKeyError\u001b[0m                                  Traceback (most recent call last)",
      "\u001b[0;32m<ipython-input-13-e3d749a015ed>\u001b[0m in \u001b[0;36m<module>\u001b[0;34m\u001b[0m\n\u001b[0;32m----> 1\u001b[0;31m \u001b[0mplanets\u001b[0m\u001b[0;34m[\u001b[0m\u001b[0;36m2\u001b[0m\u001b[0;34m]\u001b[0m\u001b[0;34m\u001b[0m\u001b[0;34m\u001b[0m\u001b[0m\n\u001b[0m",
      "\u001b[0;32m/opt/conda/lib/python3.7/site-packages/pandas/core/frame.py\u001b[0m in \u001b[0;36m__getitem__\u001b[0;34m(self, key)\u001b[0m\n\u001b[1;32m   2978\u001b[0m             \u001b[0;32mif\u001b[0m \u001b[0mself\u001b[0m\u001b[0;34m.\u001b[0m\u001b[0mcolumns\u001b[0m\u001b[0;34m.\u001b[0m\u001b[0mnlevels\u001b[0m \u001b[0;34m>\u001b[0m \u001b[0;36m1\u001b[0m\u001b[0;34m:\u001b[0m\u001b[0;34m\u001b[0m\u001b[0;34m\u001b[0m\u001b[0m\n\u001b[1;32m   2979\u001b[0m                 \u001b[0;32mreturn\u001b[0m \u001b[0mself\u001b[0m\u001b[0;34m.\u001b[0m\u001b[0m_getitem_multilevel\u001b[0m\u001b[0;34m(\u001b[0m\u001b[0mkey\u001b[0m\u001b[0;34m)\u001b[0m\u001b[0;34m\u001b[0m\u001b[0;34m\u001b[0m\u001b[0m\n\u001b[0;32m-> 2980\u001b[0;31m             \u001b[0mindexer\u001b[0m \u001b[0;34m=\u001b[0m \u001b[0mself\u001b[0m\u001b[0;34m.\u001b[0m\u001b[0mcolumns\u001b[0m\u001b[0;34m.\u001b[0m\u001b[0mget_loc\u001b[0m\u001b[0;34m(\u001b[0m\u001b[0mkey\u001b[0m\u001b[0;34m)\u001b[0m\u001b[0;34m\u001b[0m\u001b[0;34m\u001b[0m\u001b[0m\n\u001b[0m\u001b[1;32m   2981\u001b[0m             \u001b[0;32mif\u001b[0m \u001b[0mis_integer\u001b[0m\u001b[0;34m(\u001b[0m\u001b[0mindexer\u001b[0m\u001b[0;34m)\u001b[0m\u001b[0;34m:\u001b[0m\u001b[0;34m\u001b[0m\u001b[0;34m\u001b[0m\u001b[0m\n\u001b[1;32m   2982\u001b[0m                 \u001b[0mindexer\u001b[0m \u001b[0;34m=\u001b[0m \u001b[0;34m[\u001b[0m\u001b[0mindexer\u001b[0m\u001b[0;34m]\u001b[0m\u001b[0;34m\u001b[0m\u001b[0;34m\u001b[0m\u001b[0m\n",
      "\u001b[0;32m/opt/conda/lib/python3.7/site-packages/pandas/core/indexes/base.py\u001b[0m in \u001b[0;36mget_loc\u001b[0;34m(self, key, method, tolerance)\u001b[0m\n\u001b[1;32m   2897\u001b[0m                 \u001b[0;32mreturn\u001b[0m \u001b[0mself\u001b[0m\u001b[0;34m.\u001b[0m\u001b[0m_engine\u001b[0m\u001b[0;34m.\u001b[0m\u001b[0mget_loc\u001b[0m\u001b[0;34m(\u001b[0m\u001b[0mkey\u001b[0m\u001b[0;34m)\u001b[0m\u001b[0;34m\u001b[0m\u001b[0;34m\u001b[0m\u001b[0m\n\u001b[1;32m   2898\u001b[0m             \u001b[0;32mexcept\u001b[0m \u001b[0mKeyError\u001b[0m\u001b[0;34m:\u001b[0m\u001b[0;34m\u001b[0m\u001b[0;34m\u001b[0m\u001b[0m\n\u001b[0;32m-> 2899\u001b[0;31m                 \u001b[0;32mreturn\u001b[0m \u001b[0mself\u001b[0m\u001b[0;34m.\u001b[0m\u001b[0m_engine\u001b[0m\u001b[0;34m.\u001b[0m\u001b[0mget_loc\u001b[0m\u001b[0;34m(\u001b[0m\u001b[0mself\u001b[0m\u001b[0;34m.\u001b[0m\u001b[0m_maybe_cast_indexer\u001b[0m\u001b[0;34m(\u001b[0m\u001b[0mkey\u001b[0m\u001b[0;34m)\u001b[0m\u001b[0;34m)\u001b[0m\u001b[0;34m\u001b[0m\u001b[0;34m\u001b[0m\u001b[0m\n\u001b[0m\u001b[1;32m   2900\u001b[0m         \u001b[0mindexer\u001b[0m \u001b[0;34m=\u001b[0m \u001b[0mself\u001b[0m\u001b[0;34m.\u001b[0m\u001b[0mget_indexer\u001b[0m\u001b[0;34m(\u001b[0m\u001b[0;34m[\u001b[0m\u001b[0mkey\u001b[0m\u001b[0;34m]\u001b[0m\u001b[0;34m,\u001b[0m \u001b[0mmethod\u001b[0m\u001b[0;34m=\u001b[0m\u001b[0mmethod\u001b[0m\u001b[0;34m,\u001b[0m \u001b[0mtolerance\u001b[0m\u001b[0;34m=\u001b[0m\u001b[0mtolerance\u001b[0m\u001b[0;34m)\u001b[0m\u001b[0;34m\u001b[0m\u001b[0;34m\u001b[0m\u001b[0m\n\u001b[1;32m   2901\u001b[0m         \u001b[0;32mif\u001b[0m \u001b[0mindexer\u001b[0m\u001b[0;34m.\u001b[0m\u001b[0mndim\u001b[0m \u001b[0;34m>\u001b[0m \u001b[0;36m1\u001b[0m \u001b[0;32mor\u001b[0m \u001b[0mindexer\u001b[0m\u001b[0;34m.\u001b[0m\u001b[0msize\u001b[0m \u001b[0;34m>\u001b[0m \u001b[0;36m1\u001b[0m\u001b[0;34m:\u001b[0m\u001b[0;34m\u001b[0m\u001b[0;34m\u001b[0m\u001b[0m\n",
      "\u001b[0;32mpandas/_libs/index.pyx\u001b[0m in \u001b[0;36mpandas._libs.index.IndexEngine.get_loc\u001b[0;34m()\u001b[0m\n",
      "\u001b[0;32mpandas/_libs/index.pyx\u001b[0m in \u001b[0;36mpandas._libs.index.IndexEngine.get_loc\u001b[0;34m()\u001b[0m\n",
      "\u001b[0;32mpandas/_libs/hashtable_class_helper.pxi\u001b[0m in \u001b[0;36mpandas._libs.hashtable.PyObjectHashTable.get_item\u001b[0;34m()\u001b[0m\n",
      "\u001b[0;32mpandas/_libs/hashtable_class_helper.pxi\u001b[0m in \u001b[0;36mpandas._libs.hashtable.PyObjectHashTable.get_item\u001b[0;34m()\u001b[0m\n",
      "\u001b[0;31mKeyError\u001b[0m: 2"
     ]
    }
   ],
   "source": [
    "planets[2]"
   ]
  },
  {
   "cell_type": "markdown",
   "id": "20931c15-2080-490a-b01f-069a65e4c99c",
   "metadata": {},
   "source": [
    "After all, the `DataFrame` is a more complex structure than the `list` – the above reference to the offset `2` was treated as a reference to a column!\n",
    "\n",
    "Indeed, this is an alternate syntax *for extracting columns*, and which is useful and necessary when columns are given complex names. (Complex names are any including characters which are part of Python's syntax, and therefore invalid names of assignment, such as spaces, quotes, brackets, *etc.*)"
   ]
  },
  {
   "cell_type": "code",
   "execution_count": 14,
   "id": "ac0c8c52-50af-42f5-a280-8f47f3687f49",
   "metadata": {},
   "outputs": [
    {
     "data": {
      "text/plain": [
       "0    Mercury\n",
       "1      Venus\n",
       "2      Earth\n",
       "3       Mars\n",
       "4    Jupiter\n",
       "5     Saturn\n",
       "6     Uranus\n",
       "7    Neptune\n",
       "Name: name, dtype: object"
      ]
     },
     "execution_count": 14,
     "metadata": {},
     "output_type": "execute_result"
    }
   ],
   "source": [
    "planets['name']"
   ]
  },
  {
   "cell_type": "markdown",
   "id": "b3cbe32b-07e8-4fa7-b4e0-00bb14ac7197",
   "metadata": {},
   "source": [
    "Instead, `DataFrame` offers the properties `iloc` and `loc`, which may themselves be queried with a syntax similar to that of retrieving elements from a `list`.\n",
    "\n",
    "`iloc` is intended for *integer-location* based look-up of elements by their position in the index.\n",
    "\n",
    "We can reproduce our slice explicitly using `iloc`:"
   ]
  },
  {
   "cell_type": "code",
   "execution_count": 15,
   "id": "ff61c581-d3d1-4638-8591-f26685b4a772",
   "metadata": {},
   "outputs": [
    {
     "data": {
      "text/html": [
       "<div>\n",
       "<style scoped>\n",
       "    .dataframe tbody tr th:only-of-type {\n",
       "        vertical-align: middle;\n",
       "    }\n",
       "\n",
       "    .dataframe tbody tr th {\n",
       "        vertical-align: top;\n",
       "    }\n",
       "\n",
       "    .dataframe thead th {\n",
       "        text-align: right;\n",
       "    }\n",
       "</style>\n",
       "<table border=\"1\" class=\"dataframe\">\n",
       "  <thead>\n",
       "    <tr style=\"text-align: right;\">\n",
       "      <th></th>\n",
       "      <th>name</th>\n",
       "      <th>solar_distance_km_6</th>\n",
       "      <th>mass_kg_24</th>\n",
       "      <th>density_kg_m3</th>\n",
       "      <th>gravity_m_s2</th>\n",
       "    </tr>\n",
       "  </thead>\n",
       "  <tbody>\n",
       "    <tr>\n",
       "      <td>0</td>\n",
       "      <td>Mercury</td>\n",
       "      <td>57.9</td>\n",
       "      <td>0.33</td>\n",
       "      <td>5427.0</td>\n",
       "      <td>3.7</td>\n",
       "    </tr>\n",
       "    <tr>\n",
       "      <td>1</td>\n",
       "      <td>Venus</td>\n",
       "      <td>108.2</td>\n",
       "      <td>4.87</td>\n",
       "      <td>5243.0</td>\n",
       "      <td>8.9</td>\n",
       "    </tr>\n",
       "    <tr>\n",
       "      <td>2</td>\n",
       "      <td>Earth</td>\n",
       "      <td>149.6</td>\n",
       "      <td>5.97</td>\n",
       "      <td>5514.0</td>\n",
       "      <td>9.8</td>\n",
       "    </tr>\n",
       "  </tbody>\n",
       "</table>\n",
       "</div>"
      ],
      "text/plain": [
       "      name  solar_distance_km_6  mass_kg_24  density_kg_m3  gravity_m_s2\n",
       "0  Mercury                 57.9        0.33         5427.0           3.7\n",
       "1    Venus                108.2        4.87         5243.0           8.9\n",
       "2    Earth                149.6        5.97         5514.0           9.8"
      ]
     },
     "execution_count": 15,
     "metadata": {},
     "output_type": "execute_result"
    }
   ],
   "source": [
    "planets.iloc[:3]"
   ]
  },
  {
   "cell_type": "markdown",
   "id": "7f75be6d-3fd3-478f-92a0-198d61116d0d",
   "metadata": {},
   "source": [
    "We can also do something new – construct a new `DataFrame` consisting of only the rows at the specified offsets."
   ]
  },
  {
   "cell_type": "code",
   "execution_count": 16,
   "id": "fdc3794e-041f-44c0-99b7-f779d13fe53e",
   "metadata": {},
   "outputs": [
    {
     "data": {
      "text/html": [
       "<div>\n",
       "<style scoped>\n",
       "    .dataframe tbody tr th:only-of-type {\n",
       "        vertical-align: middle;\n",
       "    }\n",
       "\n",
       "    .dataframe tbody tr th {\n",
       "        vertical-align: top;\n",
       "    }\n",
       "\n",
       "    .dataframe thead th {\n",
       "        text-align: right;\n",
       "    }\n",
       "</style>\n",
       "<table border=\"1\" class=\"dataframe\">\n",
       "  <thead>\n",
       "    <tr style=\"text-align: right;\">\n",
       "      <th></th>\n",
       "      <th>name</th>\n",
       "      <th>solar_distance_km_6</th>\n",
       "      <th>mass_kg_24</th>\n",
       "      <th>density_kg_m3</th>\n",
       "      <th>gravity_m_s2</th>\n",
       "    </tr>\n",
       "  </thead>\n",
       "  <tbody>\n",
       "    <tr>\n",
       "      <td>0</td>\n",
       "      <td>Mercury</td>\n",
       "      <td>57.9</td>\n",
       "      <td>0.33</td>\n",
       "      <td>5427.0</td>\n",
       "      <td>3.7</td>\n",
       "    </tr>\n",
       "    <tr>\n",
       "      <td>7</td>\n",
       "      <td>Neptune</td>\n",
       "      <td>4495.1</td>\n",
       "      <td>102.00</td>\n",
       "      <td>1638.0</td>\n",
       "      <td>11.0</td>\n",
       "    </tr>\n",
       "  </tbody>\n",
       "</table>\n",
       "</div>"
      ],
      "text/plain": [
       "      name  solar_distance_km_6  mass_kg_24  density_kg_m3  gravity_m_s2\n",
       "0  Mercury                 57.9        0.33         5427.0           3.7\n",
       "7  Neptune               4495.1      102.00         1638.0          11.0"
      ]
     },
     "execution_count": 16,
     "metadata": {},
     "output_type": "execute_result"
    }
   ],
   "source": [
    "planets.iloc[[0, 7]]"
   ]
  },
  {
   "cell_type": "markdown",
   "id": "27bb62aa-780d-47c6-97d9-373157d16355",
   "metadata": {},
   "source": [
    "Above, we've specified to our `iloc`-based look-up a `list` – `[0, 7]` – indicating that we are interested in selecting out the rows at those offsets.\n",
    "\n",
    "Note that in the new `DataFrame`, the planets' row index values have been preserved. This is highly useful – indeed, Neptune is still the same planet as it was before. But `iloc` is **strictly** intended for offsets, like in a `list`. If we were to repeat our selection of `[0, 7]` on the above, this would fail. Rather, the offset references for these two planets in the new `DataFrame` are now given by `[0, 1]`. According to `iloc` in this new `DataFrame`, Neptune will now be available at offset `1`."
   ]
  },
  {
   "cell_type": "code",
   "execution_count": 17,
   "id": "dedc53f5-3eb7-446a-8908-7279c2fa2e6a",
   "metadata": {},
   "outputs": [
    {
     "data": {
      "text/plain": [
       "name                   Neptune\n",
       "solar_distance_km_6     4495.1\n",
       "mass_kg_24                 102\n",
       "density_kg_m3             1638\n",
       "gravity_m_s2                11\n",
       "Name: 7, dtype: object"
      ]
     },
     "execution_count": 17,
     "metadata": {},
     "output_type": "execute_result"
    }
   ],
   "source": [
    "bookends = planets.iloc[[0, 7]]\n",
    "\n",
    "bookends.iloc[1]"
   ]
  },
  {
   "cell_type": "markdown",
   "id": "d4e47f45-c0ff-4b52-bd98-1b9f52a5f7a0",
   "metadata": {},
   "source": [
    "In the next section, we will explore selection of elements by index value or label.\n",
    "\n",
    "But now we can retrieve the features of another individual of our data set – Earth, the third planet from the sun."
   ]
  },
  {
   "cell_type": "code",
   "execution_count": 18,
   "id": "5b7837ac-d333-4bae-8a65-e669782e6886",
   "metadata": {},
   "outputs": [
    {
     "data": {
      "text/plain": [
       "name                   Earth\n",
       "solar_distance_km_6    149.6\n",
       "mass_kg_24              5.97\n",
       "density_kg_m3           5514\n",
       "gravity_m_s2             9.8\n",
       "Name: 2, dtype: object"
      ]
     },
     "execution_count": 18,
     "metadata": {},
     "output_type": "execute_result"
    }
   ],
   "source": [
    "earth = planets.iloc[2]\n",
    "\n",
    "earth"
   ]
  },
  {
   "cell_type": "markdown",
   "id": "c14e1e35-fb9e-41f5-ad1f-c0c45bcf262a",
   "metadata": {},
   "source": [
    "We can further extract from this just the Earth's distance from the Sun."
   ]
  },
  {
   "cell_type": "code",
   "execution_count": 19,
   "id": "d3361887-da8c-46d8-9e73-89abc347e114",
   "metadata": {},
   "outputs": [
    {
     "data": {
      "text/plain": [
       "149.6"
      ]
     },
     "execution_count": 19,
     "metadata": {},
     "output_type": "execute_result"
    }
   ],
   "source": [
    "earth.solar_distance_km_6"
   ]
  },
  {
   "cell_type": "markdown",
   "id": "6dc13aa6-f5b2-4044-aad6-8493c26293b6",
   "metadata": {},
   "source": [
    "And we can get an idea from the above of how spread out the planets are.\n",
    "\n",
    "The Earth is the third of eight planets, yet its distance from the sun is less than 12% their average."
   ]
  },
  {
   "cell_type": "code",
   "execution_count": 20,
   "id": "5e7cd649-1696-4b79-9ff9-1e05dbc2efe7",
   "metadata": {},
   "outputs": [
    {
     "data": {
      "text/plain": [
       "0.11822231880908397"
      ]
     },
     "execution_count": 20,
     "metadata": {},
     "output_type": "execute_result"
    }
   ],
   "source": [
    "earth.solar_distance_km_6 / planets.solar_distance_km_6.mean()"
   ]
  },
  {
   "cell_type": "markdown",
   "id": "753a3a61-3742-4099-9fbd-b111678c0f61",
   "metadata": {},
   "source": [
    "Generally, we might note that the median distance of planets from the sun is less than half their mean."
   ]
  },
  {
   "cell_type": "code",
   "execution_count": 21,
   "id": "1e1f1cde-6575-49a8-9b52-b66dbd7ce26a",
   "metadata": {},
   "outputs": [
    {
     "data": {
      "text/plain": [
       "0.39769640334673473"
      ]
     },
     "execution_count": 21,
     "metadata": {},
     "output_type": "execute_result"
    }
   ],
   "source": [
    "planets.solar_distance_km_6.median() / planets.solar_distance_km_6.mean()"
   ]
  },
  {
   "cell_type": "markdown",
   "id": "123a4eca-04e8-4193-b8b1-fbfb91f136e9",
   "metadata": {},
   "source": [
    "`pandas` supports a number of statistical methods, such as standard deviation `std`, mean absolute deviation `mad`, and more.\n",
    "\n",
    "We know that the planets are spread out. Let's take a look at simply how their distances increase."
   ]
  },
  {
   "cell_type": "code",
   "execution_count": 22,
   "id": "83c2fda6-67df-448a-8764-44db2ad3b600",
   "metadata": {},
   "outputs": [
    {
     "data": {
      "text/plain": [
       "0       NaN\n",
       "1      50.3\n",
       "2      41.4\n",
       "3      78.3\n",
       "4     550.7\n",
       "5     654.9\n",
       "6    1439.0\n",
       "7    1622.6\n",
       "Name: solar_distance_km_6, dtype: float64"
      ]
     },
     "execution_count": 22,
     "metadata": {},
     "output_type": "execute_result"
    }
   ],
   "source": [
    "planets.solar_distance_km_6.diff()"
   ]
  },
  {
   "cell_type": "markdown",
   "id": "619832aa-8748-47e0-a689-dc66fd406377",
   "metadata": {},
   "source": [
    "The above `Series` tells us that Venus is 50.3 million kilometers farther from the sun than Mercury, Earth is 41.4 million kilometers farther than Venus, *etc.* (The first value, for Mercury, is `NaN` – \"not a number\" – because there is no planet closer than it to the sun, with which to compare its distance.)\n",
    "\n",
    "And, indeed, the distances between the planets increase dramatically.\n",
    "\n",
    "We can see roughly that the first big jump is in the distance between Mars and Jupiter. The distances between the outer planets then continue to be greater than those between the inner planets, and continue to increase. But there's another big intermediate jump, between Saturn and Uranus.\n",
    "\n",
    "We can express the above quantitatively as well:"
   ]
  },
  {
   "cell_type": "code",
   "execution_count": 23,
   "id": "f2161cc8-5123-4629-9029-6a3e0c23f5c1",
   "metadata": {},
   "outputs": [
    {
     "data": {
      "text/plain": [
       "0         NaN\n",
       "1    0.868739\n",
       "2    0.382625\n",
       "3    0.523396\n",
       "4    2.416411\n",
       "5    0.841125\n",
       "6    1.003837\n",
       "7    0.564874\n",
       "Name: solar_distance_km_6, dtype: float64"
      ]
     },
     "execution_count": 23,
     "metadata": {},
     "output_type": "execute_result"
    }
   ],
   "source": [
    "distance_rel_change = planets.solar_distance_km_6.pct_change()\n",
    "\n",
    "distance_rel_change"
   ]
  }
 ],
 "metadata": {
  "kernelspec": {
   "display_name": "Python 3 (ipykernel)",
   "language": "python",
   "name": "python3"
  },
  "language_info": {
   "codemirror_mode": {
    "name": "ipython",
    "version": 3
   },
   "file_extension": ".py",
   "mimetype": "text/x-python",
   "name": "python",
   "nbconvert_exporter": "python",
   "pygments_lexer": "ipython3",
   "version": "3.10.6"
  }
 },
 "nbformat": 4,
 "nbformat_minor": 5
}
