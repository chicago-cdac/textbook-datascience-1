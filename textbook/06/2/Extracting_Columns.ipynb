{
 "cells": [
  {
   "cell_type": "markdown",
   "id": "b4ecc31e-8608-47fd-9989-de4f22e03818",
   "metadata": {},
   "source": [
    "# Extracting columns\n",
    "\n",
    "We assigned the following column names:"
   ]
  },
  {
   "cell_type": "code",
   "execution_count": 4,
   "id": "f56c0b19-bd09-49fa-89e0-0c452e3aa2c6",
   "metadata": {},
   "outputs": [
    {
     "data": {
      "text/plain": [
       "Index(['name', 'solar_distance_km_6', 'mass_kg_24', 'density_kg_m3',\n",
       "       'gravity_m_s2'],\n",
       "      dtype='object')"
      ]
     },
     "execution_count": 4,
     "metadata": {},
     "output_type": "execute_result"
    }
   ],
   "source": [
    "planets.columns"
   ]
  },
  {
   "cell_type": "markdown",
   "id": "d99cf261-48e4-4fc5-a9de-29f29a607445",
   "metadata": {},
   "source": [
    "`pandas` has constructed an `Index` for our columns. But we can get back our column list with the method `tolist()`:"
   ]
  },
  {
   "cell_type": "code",
   "execution_count": 5,
   "id": "628af861-34e5-4d5b-84e8-7f15ade45993",
   "metadata": {},
   "outputs": [
    {
     "data": {
      "text/plain": [
       "['name', 'solar_distance_km_6', 'mass_kg_24', 'density_kg_m3', 'gravity_m_s2']"
      ]
     },
     "execution_count": 5,
     "metadata": {},
     "output_type": "execute_result"
    }
   ],
   "source": [
    "planets.columns.tolist()"
   ]
  },
  {
   "cell_type": "markdown",
   "id": "c3b4992b-04f3-423d-b2a4-787b9327cf93",
   "metadata": {},
   "source": [
    "So let's take a look at the first dimension of our data, the *features*, such as `name`."
   ]
  },
  {
   "cell_type": "code",
   "execution_count": 6,
   "id": "78f75d77-51cc-4d24-8eed-3a8b1b15958f",
   "metadata": {},
   "outputs": [
    {
     "data": {
      "text/plain": [
       "0    Mercury\n",
       "1      Venus\n",
       "2      Earth\n",
       "3       Mars\n",
       "4    Jupiter\n",
       "5     Saturn\n",
       "6     Uranus\n",
       "7    Neptune\n",
       "Name: name, dtype: object"
      ]
     },
     "execution_count": 6,
     "metadata": {},
     "output_type": "execute_result"
    }
   ],
   "source": [
    "planets.name"
   ]
  },
  {
   "cell_type": "markdown",
   "id": "15f9a498-e874-47d7-8471-ca3c860b3fee",
   "metadata": {},
   "source": [
    "Above, we've extracted from our data a one-dimensional sequence of the names of the planets in our solar system – (even though there was no such list in our initial input data `planets_data`).\n",
    "\n",
    "This sequence is of another data type provided by `pandas`: the `Series`."
   ]
  },
  {
   "cell_type": "code",
   "execution_count": 7,
   "id": "ac058196-6a52-4bff-803f-b8e2adab03cc",
   "metadata": {},
   "outputs": [
    {
     "data": {
      "text/plain": [
       "pandas.core.series.Series"
      ]
     },
     "execution_count": 7,
     "metadata": {},
     "output_type": "execute_result"
    }
   ],
   "source": [
    "type(planets.name)"
   ]
  },
  {
   "cell_type": "markdown",
   "id": "2c39e75f-4469-4ada-bfbe-2492aa3be822",
   "metadata": {},
   "source": [
    "We can do the same for the next column, representing the distances of these planets from the sun, in 10<sup>6</sup> km."
   ]
  },
  {
   "cell_type": "code",
   "execution_count": 8,
   "id": "cd4339f2-18ed-4092-ba8e-bd759e321482",
   "metadata": {},
   "outputs": [
    {
     "data": {
      "text/plain": [
       "0      57.9\n",
       "1     108.2\n",
       "2     149.6\n",
       "3     227.9\n",
       "4     778.6\n",
       "5    1433.5\n",
       "6    2872.5\n",
       "7    4495.1\n",
       "Name: solar_distance_km_6, dtype: float64"
      ]
     },
     "execution_count": 8,
     "metadata": {},
     "output_type": "execute_result"
    }
   ],
   "source": [
    "planets.solar_distance_km_6"
   ]
  },
  {
   "cell_type": "markdown",
   "id": "5ecfa8c2-f2d9-4c3c-8b28-6f1ff4968e8e",
   "metadata": {},
   "source": [
    "And we can compute aggregates of this data, such as the average or *mean*."
   ]
  },
  {
   "cell_type": "code",
   "execution_count": 9,
   "id": "135c28c8-37e0-4f89-bddc-bf50ad862835",
   "metadata": {},
   "outputs": [
    {
     "data": {
      "text/plain": [
       "1265.4125000000001"
      ]
     },
     "execution_count": 9,
     "metadata": {},
     "output_type": "execute_result"
    }
   ],
   "source": [
    "planets.solar_distance_km_6.mean()"
   ]
  }
 ],
 "metadata": {
  "kernelspec": {
   "display_name": "Python 3 (ipykernel)",
   "language": "python",
   "name": "python3"
  },
  "language_info": {
   "codemirror_mode": {
    "name": "ipython",
    "version": 3
   },
   "file_extension": ".py",
   "mimetype": "text/x-python",
   "name": "python",
   "nbconvert_exporter": "python",
   "pygments_lexer": "ipython3",
   "version": "3.10.6"
  }
 },
 "nbformat": 4,
 "nbformat_minor": 5
}
