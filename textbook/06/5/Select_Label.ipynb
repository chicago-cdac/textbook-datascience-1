{
 "cells": [
  {
   "cell_type": "markdown",
   "id": "75a3916e-0797-4564-9551-5ee26ca0d524",
   "metadata": {},
   "source": [
    "# Selection by label\n",
    "\n",
    "With `iloc`, we were able to slice rows of our data, selecting out individuals, according to their numeric position in the index. We can also select rows *and* columns, selecting subsets of features, (and much more!), thanks to `loc`.\n",
    "\n",
    "Let's begin by providing our `DataFrame` a more natural row index for the planets. Indexes may be modified after the fact or provided during construction."
   ]
  },
  {
   "cell_type": "code",
   "execution_count": 1,
   "id": "9665ac21-b519-4f22-98b9-57706b3f79e1",
   "metadata": {
    "tags": [
     "remove-cell"
    ]
   },
   "outputs": [],
   "source": [
    "# This cell is hidden from the textbook thanks to its tag.\n",
    "#\n",
    "# We're just re-constructing data established in other sections' notebooks.\n",
    "#\n",
    "# (Otherwise these would be undefined!)\n",
    "\n",
    "import pandas as pd\n",
    "\n",
    "planets_features = [\n",
    "    'name',                # familiar name\n",
    "    'solar_distance_km_6', # distance from sun: 10**6 km\n",
    "    'mass_kg_24',          # absolute mass: 10**24 kg\n",
    "    'density_kg_m3',       # density: kg/m**3\n",
    "    'gravity_m_s2',        # gravity: m/s**2\n",
    "]\n",
    "\n",
    "planets_data = [\n",
    "    ['Mercury', 57.9, 0.33, 5427.0, 3.7],\n",
    "    ['Venus', 108.2, 4.87, 5243.0, 8.9],\n",
    "    ['Earth', 149.6, 5.97, 5514.0, 9.8],\n",
    "    ['Mars', 227.9, 0.642, 3933.0, 3.7],\n",
    "    ['Jupiter', 778.6, 1898.0, 1326.0, 23.1],\n",
    "    ['Saturn', 1433.5, 568.0, 687.0, 9.0],\n",
    "    ['Uranus', 2872.5, 86.8, 1271.0, 8.7],\n",
    "    ['Neptune', 4495.1, 102.0, 1638.0, 11.0]\n",
    "]\n",
    "\n",
    "planets = pd.DataFrame(planets_data, columns=planets_features)\n",
    "\n",
    "distance_rel_change = planets.solar_distance_km_6.pct_change()\n",
    "\n",
    "distance_pct_change = distance_rel_change * 100"
   ]
  },
  {
   "cell_type": "code",
   "execution_count": 2,
   "id": "0b30473c-43da-4879-8feb-4b7d33dac77c",
   "metadata": {},
   "outputs": [
    {
     "data": {
      "text/html": [
       "<div>\n",
       "<style scoped>\n",
       "    .dataframe tbody tr th:only-of-type {\n",
       "        vertical-align: middle;\n",
       "    }\n",
       "\n",
       "    .dataframe tbody tr th {\n",
       "        vertical-align: top;\n",
       "    }\n",
       "\n",
       "    .dataframe thead th {\n",
       "        text-align: right;\n",
       "    }\n",
       "</style>\n",
       "<table border=\"1\" class=\"dataframe\">\n",
       "  <thead>\n",
       "    <tr style=\"text-align: right;\">\n",
       "      <th></th>\n",
       "      <th>name</th>\n",
       "      <th>solar_distance_km_6</th>\n",
       "      <th>mass_kg_24</th>\n",
       "      <th>density_kg_m3</th>\n",
       "      <th>gravity_m_s2</th>\n",
       "    </tr>\n",
       "    <tr>\n",
       "      <th>number</th>\n",
       "      <th></th>\n",
       "      <th></th>\n",
       "      <th></th>\n",
       "      <th></th>\n",
       "      <th></th>\n",
       "    </tr>\n",
       "  </thead>\n",
       "  <tbody>\n",
       "    <tr>\n",
       "      <th>1</th>\n",
       "      <td>Mercury</td>\n",
       "      <td>57.9</td>\n",
       "      <td>0.330</td>\n",
       "      <td>5427.0</td>\n",
       "      <td>3.7</td>\n",
       "    </tr>\n",
       "    <tr>\n",
       "      <th>2</th>\n",
       "      <td>Venus</td>\n",
       "      <td>108.2</td>\n",
       "      <td>4.870</td>\n",
       "      <td>5243.0</td>\n",
       "      <td>8.9</td>\n",
       "    </tr>\n",
       "    <tr>\n",
       "      <th>3</th>\n",
       "      <td>Earth</td>\n",
       "      <td>149.6</td>\n",
       "      <td>5.970</td>\n",
       "      <td>5514.0</td>\n",
       "      <td>9.8</td>\n",
       "    </tr>\n",
       "    <tr>\n",
       "      <th>4</th>\n",
       "      <td>Mars</td>\n",
       "      <td>227.9</td>\n",
       "      <td>0.642</td>\n",
       "      <td>3933.0</td>\n",
       "      <td>3.7</td>\n",
       "    </tr>\n",
       "    <tr>\n",
       "      <th>5</th>\n",
       "      <td>Jupiter</td>\n",
       "      <td>778.6</td>\n",
       "      <td>1898.000</td>\n",
       "      <td>1326.0</td>\n",
       "      <td>23.1</td>\n",
       "    </tr>\n",
       "    <tr>\n",
       "      <th>6</th>\n",
       "      <td>Saturn</td>\n",
       "      <td>1433.5</td>\n",
       "      <td>568.000</td>\n",
       "      <td>687.0</td>\n",
       "      <td>9.0</td>\n",
       "    </tr>\n",
       "    <tr>\n",
       "      <th>7</th>\n",
       "      <td>Uranus</td>\n",
       "      <td>2872.5</td>\n",
       "      <td>86.800</td>\n",
       "      <td>1271.0</td>\n",
       "      <td>8.7</td>\n",
       "    </tr>\n",
       "    <tr>\n",
       "      <th>8</th>\n",
       "      <td>Neptune</td>\n",
       "      <td>4495.1</td>\n",
       "      <td>102.000</td>\n",
       "      <td>1638.0</td>\n",
       "      <td>11.0</td>\n",
       "    </tr>\n",
       "  </tbody>\n",
       "</table>\n",
       "</div>"
      ],
      "text/plain": [
       "           name  solar_distance_km_6  mass_kg_24  density_kg_m3  gravity_m_s2\n",
       "number                                                                       \n",
       "1       Mercury                 57.9       0.330         5427.0           3.7\n",
       "2         Venus                108.2       4.870         5243.0           8.9\n",
       "3         Earth                149.6       5.970         5514.0           9.8\n",
       "4          Mars                227.9       0.642         3933.0           3.7\n",
       "5       Jupiter                778.6    1898.000         1326.0          23.1\n",
       "6        Saturn               1433.5     568.000          687.0           9.0\n",
       "7        Uranus               2872.5      86.800         1271.0           8.7\n",
       "8       Neptune               4495.1     102.000         1638.0          11.0"
      ]
     },
     "execution_count": 2,
     "metadata": {},
     "output_type": "execute_result"
    }
   ],
   "source": [
    "planets = pd.DataFrame(planets_data,\n",
    "                       columns=planets_features,\n",
    "                       index=pd.RangeIndex(1, 9, name='number'))\n",
    "\n",
    "planets"
   ]
  },
  {
   "cell_type": "markdown",
   "id": "0d597752-a854-49b3-8c97-a5ee931a5b6e",
   "metadata": {},
   "source": [
    "With `iloc`, we retrieve the third individual from this `DataFrame` by specifying the offset `2`."
   ]
  },
  {
   "cell_type": "code",
   "execution_count": 3,
   "id": "e1fd21f0-c414-4ebc-9b7b-42ff53dd798c",
   "metadata": {},
   "outputs": [
    {
     "data": {
      "text/plain": [
       "name                    Earth\n",
       "solar_distance_km_6     149.6\n",
       "mass_kg_24               5.97\n",
       "density_kg_m3          5514.0\n",
       "gravity_m_s2              9.8\n",
       "Name: 3, dtype: object"
      ]
     },
     "execution_count": 3,
     "metadata": {},
     "output_type": "execute_result"
    }
   ],
   "source": [
    "planets.iloc[2]"
   ]
  },
  {
   "cell_type": "markdown",
   "id": "d7d2a2e1-1ae7-461b-aa86-eb10a5176e19",
   "metadata": {},
   "source": [
    "But with `loc`, we can retrieve this individual – Earth – by its index value or row label – now `3`."
   ]
  },
  {
   "cell_type": "code",
   "execution_count": 4,
   "id": "ce6f5c33-8aa1-4ae7-8156-d2e5faab6775",
   "metadata": {},
   "outputs": [
    {
     "data": {
      "text/plain": [
       "name                    Earth\n",
       "solar_distance_km_6     149.6\n",
       "mass_kg_24               5.97\n",
       "density_kg_m3          5514.0\n",
       "gravity_m_s2              9.8\n",
       "Name: 3, dtype: object"
      ]
     },
     "execution_count": 4,
     "metadata": {},
     "output_type": "execute_result"
    }
   ],
   "source": [
    "planets.loc[3]"
   ]
  },
  {
   "cell_type": "markdown",
   "id": "3a18bc0f-f4d1-42fc-ac55-6a87ed015b69",
   "metadata": {},
   "source": [
    "While numeric indexes are often more practical, we can further distinguish these individuals' labels in the row index by using familiar strings instead."
   ]
  },
  {
   "cell_type": "code",
   "execution_count": 5,
   "id": "e38835a1-8391-499f-a5eb-7bdc7b6647c0",
   "metadata": {},
   "outputs": [
    {
     "data": {
      "text/html": [
       "<div>\n",
       "<style scoped>\n",
       "    .dataframe tbody tr th:only-of-type {\n",
       "        vertical-align: middle;\n",
       "    }\n",
       "\n",
       "    .dataframe tbody tr th {\n",
       "        vertical-align: top;\n",
       "    }\n",
       "\n",
       "    .dataframe thead th {\n",
       "        text-align: right;\n",
       "    }\n",
       "</style>\n",
       "<table border=\"1\" class=\"dataframe\">\n",
       "  <thead>\n",
       "    <tr style=\"text-align: right;\">\n",
       "      <th></th>\n",
       "      <th>name</th>\n",
       "      <th>solar_distance_km_6</th>\n",
       "      <th>mass_kg_24</th>\n",
       "      <th>density_kg_m3</th>\n",
       "      <th>gravity_m_s2</th>\n",
       "    </tr>\n",
       "    <tr>\n",
       "      <th>ordinal</th>\n",
       "      <th></th>\n",
       "      <th></th>\n",
       "      <th></th>\n",
       "      <th></th>\n",
       "      <th></th>\n",
       "    </tr>\n",
       "  </thead>\n",
       "  <tbody>\n",
       "    <tr>\n",
       "      <th>first</th>\n",
       "      <td>Mercury</td>\n",
       "      <td>57.9</td>\n",
       "      <td>0.330</td>\n",
       "      <td>5427.0</td>\n",
       "      <td>3.7</td>\n",
       "    </tr>\n",
       "    <tr>\n",
       "      <th>second</th>\n",
       "      <td>Venus</td>\n",
       "      <td>108.2</td>\n",
       "      <td>4.870</td>\n",
       "      <td>5243.0</td>\n",
       "      <td>8.9</td>\n",
       "    </tr>\n",
       "    <tr>\n",
       "      <th>third</th>\n",
       "      <td>Earth</td>\n",
       "      <td>149.6</td>\n",
       "      <td>5.970</td>\n",
       "      <td>5514.0</td>\n",
       "      <td>9.8</td>\n",
       "    </tr>\n",
       "    <tr>\n",
       "      <th>fourth</th>\n",
       "      <td>Mars</td>\n",
       "      <td>227.9</td>\n",
       "      <td>0.642</td>\n",
       "      <td>3933.0</td>\n",
       "      <td>3.7</td>\n",
       "    </tr>\n",
       "    <tr>\n",
       "      <th>fifth</th>\n",
       "      <td>Jupiter</td>\n",
       "      <td>778.6</td>\n",
       "      <td>1898.000</td>\n",
       "      <td>1326.0</td>\n",
       "      <td>23.1</td>\n",
       "    </tr>\n",
       "    <tr>\n",
       "      <th>sixth</th>\n",
       "      <td>Saturn</td>\n",
       "      <td>1433.5</td>\n",
       "      <td>568.000</td>\n",
       "      <td>687.0</td>\n",
       "      <td>9.0</td>\n",
       "    </tr>\n",
       "    <tr>\n",
       "      <th>seventh</th>\n",
       "      <td>Uranus</td>\n",
       "      <td>2872.5</td>\n",
       "      <td>86.800</td>\n",
       "      <td>1271.0</td>\n",
       "      <td>8.7</td>\n",
       "    </tr>\n",
       "    <tr>\n",
       "      <th>eighth</th>\n",
       "      <td>Neptune</td>\n",
       "      <td>4495.1</td>\n",
       "      <td>102.000</td>\n",
       "      <td>1638.0</td>\n",
       "      <td>11.0</td>\n",
       "    </tr>\n",
       "  </tbody>\n",
       "</table>\n",
       "</div>"
      ],
      "text/plain": [
       "            name  solar_distance_km_6  mass_kg_24  density_kg_m3  gravity_m_s2\n",
       "ordinal                                                                       \n",
       "first    Mercury                 57.9       0.330         5427.0           3.7\n",
       "second     Venus                108.2       4.870         5243.0           8.9\n",
       "third      Earth                149.6       5.970         5514.0           9.8\n",
       "fourth      Mars                227.9       0.642         3933.0           3.7\n",
       "fifth    Jupiter                778.6    1898.000         1326.0          23.1\n",
       "sixth     Saturn               1433.5     568.000          687.0           9.0\n",
       "seventh   Uranus               2872.5      86.800         1271.0           8.7\n",
       "eighth   Neptune               4495.1     102.000         1638.0          11.0"
      ]
     },
     "execution_count": 5,
     "metadata": {},
     "output_type": "execute_result"
    }
   ],
   "source": [
    "ordinals = ['first', 'second', 'third', 'fourth', 'fifth', 'sixth', 'seventh', 'eighth']\n",
    "\n",
    "planet_ordinals = pd.DataFrame(planets_data,\n",
    "                               columns=planets_features,\n",
    "                               index=pd.Index(ordinals, name='ordinal'))\n",
    "\n",
    "planet_ordinals"
   ]
  },
  {
   "cell_type": "markdown",
   "id": "cf7e5995-3822-4072-b4f1-c34d938c5172",
   "metadata": {},
   "source": [
    "`loc` supports the same selection features as `iloc`, such as slicing, even as it considers labels rather than offsets."
   ]
  },
  {
   "cell_type": "code",
   "execution_count": 6,
   "id": "62ac3a80-5af8-4131-9aa0-cf38bbf76d78",
   "metadata": {},
   "outputs": [
    {
     "data": {
      "text/html": [
       "<div>\n",
       "<style scoped>\n",
       "    .dataframe tbody tr th:only-of-type {\n",
       "        vertical-align: middle;\n",
       "    }\n",
       "\n",
       "    .dataframe tbody tr th {\n",
       "        vertical-align: top;\n",
       "    }\n",
       "\n",
       "    .dataframe thead th {\n",
       "        text-align: right;\n",
       "    }\n",
       "</style>\n",
       "<table border=\"1\" class=\"dataframe\">\n",
       "  <thead>\n",
       "    <tr style=\"text-align: right;\">\n",
       "      <th></th>\n",
       "      <th>name</th>\n",
       "      <th>solar_distance_km_6</th>\n",
       "      <th>mass_kg_24</th>\n",
       "      <th>density_kg_m3</th>\n",
       "      <th>gravity_m_s2</th>\n",
       "    </tr>\n",
       "    <tr>\n",
       "      <th>ordinal</th>\n",
       "      <th></th>\n",
       "      <th></th>\n",
       "      <th></th>\n",
       "      <th></th>\n",
       "      <th></th>\n",
       "    </tr>\n",
       "  </thead>\n",
       "  <tbody>\n",
       "    <tr>\n",
       "      <th>third</th>\n",
       "      <td>Earth</td>\n",
       "      <td>149.6</td>\n",
       "      <td>5.970</td>\n",
       "      <td>5514.0</td>\n",
       "      <td>9.8</td>\n",
       "    </tr>\n",
       "    <tr>\n",
       "      <th>fourth</th>\n",
       "      <td>Mars</td>\n",
       "      <td>227.9</td>\n",
       "      <td>0.642</td>\n",
       "      <td>3933.0</td>\n",
       "      <td>3.7</td>\n",
       "    </tr>\n",
       "    <tr>\n",
       "      <th>fifth</th>\n",
       "      <td>Jupiter</td>\n",
       "      <td>778.6</td>\n",
       "      <td>1898.000</td>\n",
       "      <td>1326.0</td>\n",
       "      <td>23.1</td>\n",
       "    </tr>\n",
       "    <tr>\n",
       "      <th>sixth</th>\n",
       "      <td>Saturn</td>\n",
       "      <td>1433.5</td>\n",
       "      <td>568.000</td>\n",
       "      <td>687.0</td>\n",
       "      <td>9.0</td>\n",
       "    </tr>\n",
       "  </tbody>\n",
       "</table>\n",
       "</div>"
      ],
      "text/plain": [
       "            name  solar_distance_km_6  mass_kg_24  density_kg_m3  gravity_m_s2\n",
       "ordinal                                                                       \n",
       "third      Earth                149.6       5.970         5514.0           9.8\n",
       "fourth      Mars                227.9       0.642         3933.0           3.7\n",
       "fifth    Jupiter                778.6    1898.000         1326.0          23.1\n",
       "sixth     Saturn               1433.5     568.000          687.0           9.0"
      ]
     },
     "execution_count": 6,
     "metadata": {},
     "output_type": "execute_result"
    }
   ],
   "source": [
    "middle_planets = planet_ordinals.loc['third':'sixth']\n",
    "\n",
    "middle_planets"
   ]
  },
  {
   "cell_type": "markdown",
   "id": "d93dc627-793e-46ab-8d84-df38d2735c39",
   "metadata": {},
   "source": [
    "**But watch out!** In the above example, `loc` interpreted our slice differently than `iloc` – *both* the elements at the slice `start` and `stop` were included in the results. This is convenient, because labels aren't necessarily incremental; we may not have in mind the label *following* the last one we want. Nonetheless, this is an inconsistency.\n",
    "\n",
    "That said, `loc` resolves the inconsistency of the reference used in selecting out individuals from slices of the original `DataFrame`."
   ]
  },
  {
   "cell_type": "code",
   "execution_count": 7,
   "id": "ea3ff803-fc82-442e-9822-a0d09ce5dd7f",
   "metadata": {},
   "outputs": [
    {
     "data": {
      "text/plain": [
       "name                    Earth\n",
       "solar_distance_km_6     149.6\n",
       "mass_kg_24               5.97\n",
       "density_kg_m3          5514.0\n",
       "gravity_m_s2              9.8\n",
       "Name: third, dtype: object"
      ]
     },
     "execution_count": 7,
     "metadata": {},
     "output_type": "execute_result"
    }
   ],
   "source": [
    "middle_planets.iloc[0]"
   ]
  },
  {
   "cell_type": "markdown",
   "id": "efb362fa-a752-401f-b80b-c4603c47c3be",
   "metadata": {},
   "source": [
    "Using `iloc` we must refer to Earth as the \"zeroeth\" (zero-offset or \"first\") in the above data subset named `middle_planets`…"
   ]
  },
  {
   "cell_type": "code",
   "execution_count": 8,
   "id": "f33e5339-54ce-4d0e-b89f-baae11a383fd",
   "metadata": {},
   "outputs": [
    {
     "data": {
      "text/plain": [
       "name                    Earth\n",
       "solar_distance_km_6     149.6\n",
       "mass_kg_24               5.97\n",
       "density_kg_m3          5514.0\n",
       "gravity_m_s2              9.8\n",
       "Name: third, dtype: object"
      ]
     },
     "execution_count": 8,
     "metadata": {},
     "output_type": "execute_result"
    }
   ],
   "source": [
    "middle_planets.loc['third']"
   ]
  },
  {
   "cell_type": "markdown",
   "id": "97fa40c2-2747-44a1-b095-3d1a00fdc5b4",
   "metadata": {},
   "source": [
    "…but using `loc`, we may continue to refer to Earth as the \"third\" planet from the sun."
   ]
  },
  {
   "cell_type": "markdown",
   "id": "45029757-2faf-4813-b149-0d3dc6e3ded5",
   "metadata": {},
   "source": [
    "In addition to selecting out individuals by row label, `loc` also allows us to select features by column label.\n",
    "\n",
    "Say we wanted to contextualize `distance_pct_change`, reproducing that `DataFrame`, but this time with only the most-relevant columns, `name` and `solar_distance_km_6`. Bear in mind that there are many ways about this! But the `assign` method, at least, enables us to create a new `DataFrame` from an existing one; while, our existing `DataFrame` of the planets contains the \"offending\" columns. To start, we want a `DataFrame` containing only those two columns.\n",
    "\n",
    "When we've focused on singular features before, such as the `name` data, it hasn't been a `DataFrame` – it's a `Series`."
   ]
  },
  {
   "cell_type": "code",
   "execution_count": 9,
   "id": "80d5152a-e050-4537-8187-82f70e8d897d",
   "metadata": {},
   "outputs": [
    {
     "data": {
      "text/plain": [
       "number\n",
       "1    Mercury\n",
       "2      Venus\n",
       "3      Earth\n",
       "4       Mars\n",
       "5    Jupiter\n",
       "6     Saturn\n",
       "7     Uranus\n",
       "8    Neptune\n",
       "Name: name, dtype: object"
      ]
     },
     "execution_count": 9,
     "metadata": {},
     "output_type": "execute_result"
    }
   ],
   "source": [
    "planets.name"
   ]
  },
  {
   "cell_type": "code",
   "execution_count": 10,
   "id": "5071ce1e-bde6-471e-b43c-a73d4dca2cd0",
   "metadata": {},
   "outputs": [
    {
     "data": {
      "text/plain": [
       "pandas.core.series.Series"
      ]
     },
     "execution_count": 10,
     "metadata": {},
     "output_type": "execute_result"
    }
   ],
   "source": [
    "type(planets.name)"
   ]
  },
  {
   "cell_type": "code",
   "execution_count": 11,
   "id": "6c81b27e-422f-4b8e-8c12-7bb2b9c36e3f",
   "metadata": {
    "tags": [
     "raises-exception"
    ]
   },
   "outputs": [
    {
     "ename": "AttributeError",
     "evalue": "'Series' object has no attribute 'assign'",
     "output_type": "error",
     "traceback": [
      "\u001b[0;31m---------------------------------------------------------------------------\u001b[0m",
      "\u001b[0;31mAttributeError\u001b[0m                            Traceback (most recent call last)",
      "Cell \u001b[0;32mIn [11], line 1\u001b[0m\n\u001b[0;32m----> 1\u001b[0m \u001b[43mplanets\u001b[49m\u001b[38;5;241;43m.\u001b[39;49m\u001b[43mname\u001b[49m\u001b[38;5;241;43m.\u001b[39;49m\u001b[43massign\u001b[49m(distance_pct_change\u001b[38;5;241m=\u001b[39mdistance_pct_change)\n",
      "File \u001b[0;32m/opt/conda/lib/python3.10/site-packages/pandas/core/generic.py:5902\u001b[0m, in \u001b[0;36mNDFrame.__getattr__\u001b[0;34m(self, name)\u001b[0m\n\u001b[1;32m   5895\u001b[0m \u001b[38;5;28;01mif\u001b[39;00m (\n\u001b[1;32m   5896\u001b[0m     name \u001b[38;5;129;01mnot\u001b[39;00m \u001b[38;5;129;01min\u001b[39;00m \u001b[38;5;28mself\u001b[39m\u001b[38;5;241m.\u001b[39m_internal_names_set\n\u001b[1;32m   5897\u001b[0m     \u001b[38;5;129;01mand\u001b[39;00m name \u001b[38;5;129;01mnot\u001b[39;00m \u001b[38;5;129;01min\u001b[39;00m \u001b[38;5;28mself\u001b[39m\u001b[38;5;241m.\u001b[39m_metadata\n\u001b[1;32m   5898\u001b[0m     \u001b[38;5;129;01mand\u001b[39;00m name \u001b[38;5;129;01mnot\u001b[39;00m \u001b[38;5;129;01min\u001b[39;00m \u001b[38;5;28mself\u001b[39m\u001b[38;5;241m.\u001b[39m_accessors\n\u001b[1;32m   5899\u001b[0m     \u001b[38;5;129;01mand\u001b[39;00m \u001b[38;5;28mself\u001b[39m\u001b[38;5;241m.\u001b[39m_info_axis\u001b[38;5;241m.\u001b[39m_can_hold_identifiers_and_holds_name(name)\n\u001b[1;32m   5900\u001b[0m ):\n\u001b[1;32m   5901\u001b[0m     \u001b[38;5;28;01mreturn\u001b[39;00m \u001b[38;5;28mself\u001b[39m[name]\n\u001b[0;32m-> 5902\u001b[0m \u001b[38;5;28;01mreturn\u001b[39;00m \u001b[38;5;28;43mobject\u001b[39;49m\u001b[38;5;241;43m.\u001b[39;49m\u001b[38;5;21;43m__getattribute__\u001b[39;49m\u001b[43m(\u001b[49m\u001b[38;5;28;43mself\u001b[39;49m\u001b[43m,\u001b[49m\u001b[43m \u001b[49m\u001b[43mname\u001b[49m\u001b[43m)\u001b[49m\n",
      "\u001b[0;31mAttributeError\u001b[0m: 'Series' object has no attribute 'assign'"
     ]
    }
   ],
   "source": [
    "planets.name.assign(distance_pct_change=distance_pct_change)"
   ]
  },
  {
   "cell_type": "markdown",
   "id": "1ac83485-4105-41f2-8513-6bde4b9567fc",
   "metadata": {},
   "source": [
    "Well, *that* didn't work….\n",
    "\n",
    "Instead, let's use `loc` to slice our `DataFrame` along its columns – and create a `DataFrame` with only the features we want.\n",
    "\n",
    "Unlike what we've seen so far, element retrieval from the `loc` property can accept multiple arguments.\n",
    "\n",
    "1. The first argument indicates row(s) to select – as above, by label, rather than offset.\n",
    "1. The second argument does the same, but for column(s).\n",
    "\n",
    "Because these arguments are positional, we can't provide the second argument without also providing the first. Luckily, we needn't supply arguments to the slice itself, so indicating that a new sequence should be constructed from the same elements. With `loc` that looks like:"
   ]
  },
  {
   "cell_type": "code",
   "execution_count": 12,
   "id": "366c4bd9-add7-463a-9c8e-6d4a38a0adea",
   "metadata": {},
   "outputs": [
    {
     "data": {
      "text/html": [
       "<div>\n",
       "<style scoped>\n",
       "    .dataframe tbody tr th:only-of-type {\n",
       "        vertical-align: middle;\n",
       "    }\n",
       "\n",
       "    .dataframe tbody tr th {\n",
       "        vertical-align: top;\n",
       "    }\n",
       "\n",
       "    .dataframe thead th {\n",
       "        text-align: right;\n",
       "    }\n",
       "</style>\n",
       "<table border=\"1\" class=\"dataframe\">\n",
       "  <thead>\n",
       "    <tr style=\"text-align: right;\">\n",
       "      <th></th>\n",
       "      <th>name</th>\n",
       "      <th>solar_distance_km_6</th>\n",
       "      <th>mass_kg_24</th>\n",
       "      <th>density_kg_m3</th>\n",
       "      <th>gravity_m_s2</th>\n",
       "    </tr>\n",
       "    <tr>\n",
       "      <th>number</th>\n",
       "      <th></th>\n",
       "      <th></th>\n",
       "      <th></th>\n",
       "      <th></th>\n",
       "      <th></th>\n",
       "    </tr>\n",
       "  </thead>\n",
       "  <tbody>\n",
       "    <tr>\n",
       "      <th>1</th>\n",
       "      <td>Mercury</td>\n",
       "      <td>57.9</td>\n",
       "      <td>0.330</td>\n",
       "      <td>5427.0</td>\n",
       "      <td>3.7</td>\n",
       "    </tr>\n",
       "    <tr>\n",
       "      <th>2</th>\n",
       "      <td>Venus</td>\n",
       "      <td>108.2</td>\n",
       "      <td>4.870</td>\n",
       "      <td>5243.0</td>\n",
       "      <td>8.9</td>\n",
       "    </tr>\n",
       "    <tr>\n",
       "      <th>3</th>\n",
       "      <td>Earth</td>\n",
       "      <td>149.6</td>\n",
       "      <td>5.970</td>\n",
       "      <td>5514.0</td>\n",
       "      <td>9.8</td>\n",
       "    </tr>\n",
       "    <tr>\n",
       "      <th>4</th>\n",
       "      <td>Mars</td>\n",
       "      <td>227.9</td>\n",
       "      <td>0.642</td>\n",
       "      <td>3933.0</td>\n",
       "      <td>3.7</td>\n",
       "    </tr>\n",
       "    <tr>\n",
       "      <th>5</th>\n",
       "      <td>Jupiter</td>\n",
       "      <td>778.6</td>\n",
       "      <td>1898.000</td>\n",
       "      <td>1326.0</td>\n",
       "      <td>23.1</td>\n",
       "    </tr>\n",
       "    <tr>\n",
       "      <th>6</th>\n",
       "      <td>Saturn</td>\n",
       "      <td>1433.5</td>\n",
       "      <td>568.000</td>\n",
       "      <td>687.0</td>\n",
       "      <td>9.0</td>\n",
       "    </tr>\n",
       "    <tr>\n",
       "      <th>7</th>\n",
       "      <td>Uranus</td>\n",
       "      <td>2872.5</td>\n",
       "      <td>86.800</td>\n",
       "      <td>1271.0</td>\n",
       "      <td>8.7</td>\n",
       "    </tr>\n",
       "    <tr>\n",
       "      <th>8</th>\n",
       "      <td>Neptune</td>\n",
       "      <td>4495.1</td>\n",
       "      <td>102.000</td>\n",
       "      <td>1638.0</td>\n",
       "      <td>11.0</td>\n",
       "    </tr>\n",
       "  </tbody>\n",
       "</table>\n",
       "</div>"
      ],
      "text/plain": [
       "           name  solar_distance_km_6  mass_kg_24  density_kg_m3  gravity_m_s2\n",
       "number                                                                       \n",
       "1       Mercury                 57.9       0.330         5427.0           3.7\n",
       "2         Venus                108.2       4.870         5243.0           8.9\n",
       "3         Earth                149.6       5.970         5514.0           9.8\n",
       "4          Mars                227.9       0.642         3933.0           3.7\n",
       "5       Jupiter                778.6    1898.000         1326.0          23.1\n",
       "6        Saturn               1433.5     568.000          687.0           9.0\n",
       "7        Uranus               2872.5      86.800         1271.0           8.7\n",
       "8       Neptune               4495.1     102.000         1638.0          11.0"
      ]
     },
     "execution_count": 12,
     "metadata": {},
     "output_type": "execute_result"
    }
   ],
   "source": [
    "planets.loc[:, :]"
   ]
  },
  {
   "cell_type": "markdown",
   "id": "79eb5e66-d9ae-4fb2-a000-e6c9f8b6205e",
   "metadata": {},
   "source": [
    "Further, we can supply just a column label. If our row slice is empty, then this is yet another way to retrieve the complete `Series` of data for this feature:"
   ]
  },
  {
   "cell_type": "code",
   "execution_count": 13,
   "id": "1131d66c-858d-487c-9094-61fe05bf4e83",
   "metadata": {},
   "outputs": [
    {
     "data": {
      "text/plain": [
       "number\n",
       "1    Mercury\n",
       "2      Venus\n",
       "3      Earth\n",
       "4       Mars\n",
       "5    Jupiter\n",
       "6     Saturn\n",
       "7     Uranus\n",
       "8    Neptune\n",
       "Name: name, dtype: object"
      ]
     },
     "execution_count": 13,
     "metadata": {},
     "output_type": "execute_result"
    }
   ],
   "source": [
    "planets.loc[:, 'name']"
   ]
  },
  {
   "cell_type": "markdown",
   "id": "820a64eb-49a6-41b1-971a-7df28b7d45a7",
   "metadata": {},
   "source": [
    "More relevant, we can suply a `list` of the features to select."
   ]
  },
  {
   "cell_type": "code",
   "execution_count": 14,
   "id": "c4a956b7-de37-4558-b280-cb2e860644cc",
   "metadata": {},
   "outputs": [
    {
     "data": {
      "text/html": [
       "<div>\n",
       "<style scoped>\n",
       "    .dataframe tbody tr th:only-of-type {\n",
       "        vertical-align: middle;\n",
       "    }\n",
       "\n",
       "    .dataframe tbody tr th {\n",
       "        vertical-align: top;\n",
       "    }\n",
       "\n",
       "    .dataframe thead th {\n",
       "        text-align: right;\n",
       "    }\n",
       "</style>\n",
       "<table border=\"1\" class=\"dataframe\">\n",
       "  <thead>\n",
       "    <tr style=\"text-align: right;\">\n",
       "      <th></th>\n",
       "      <th>name</th>\n",
       "    </tr>\n",
       "    <tr>\n",
       "      <th>number</th>\n",
       "      <th></th>\n",
       "    </tr>\n",
       "  </thead>\n",
       "  <tbody>\n",
       "    <tr>\n",
       "      <th>1</th>\n",
       "      <td>Mercury</td>\n",
       "    </tr>\n",
       "    <tr>\n",
       "      <th>2</th>\n",
       "      <td>Venus</td>\n",
       "    </tr>\n",
       "    <tr>\n",
       "      <th>3</th>\n",
       "      <td>Earth</td>\n",
       "    </tr>\n",
       "    <tr>\n",
       "      <th>4</th>\n",
       "      <td>Mars</td>\n",
       "    </tr>\n",
       "    <tr>\n",
       "      <th>5</th>\n",
       "      <td>Jupiter</td>\n",
       "    </tr>\n",
       "    <tr>\n",
       "      <th>6</th>\n",
       "      <td>Saturn</td>\n",
       "    </tr>\n",
       "    <tr>\n",
       "      <th>7</th>\n",
       "      <td>Uranus</td>\n",
       "    </tr>\n",
       "    <tr>\n",
       "      <th>8</th>\n",
       "      <td>Neptune</td>\n",
       "    </tr>\n",
       "  </tbody>\n",
       "</table>\n",
       "</div>"
      ],
      "text/plain": [
       "           name\n",
       "number         \n",
       "1       Mercury\n",
       "2         Venus\n",
       "3         Earth\n",
       "4          Mars\n",
       "5       Jupiter\n",
       "6        Saturn\n",
       "7        Uranus\n",
       "8       Neptune"
      ]
     },
     "execution_count": 14,
     "metadata": {},
     "output_type": "execute_result"
    }
   ],
   "source": [
    "planets.loc[:, ['name']]"
   ]
  },
  {
   "cell_type": "markdown",
   "id": "cb0a3e20-5bb1-4fa8-a800-9b9824742579",
   "metadata": {},
   "source": [
    "And now we know how to produce the two-feature `DataFrame` we were looking for."
   ]
  },
  {
   "cell_type": "code",
   "execution_count": 15,
   "id": "fe64cefc-9eab-4035-95d5-19fc523312aa",
   "metadata": {},
   "outputs": [
    {
     "data": {
      "text/html": [
       "<div>\n",
       "<style scoped>\n",
       "    .dataframe tbody tr th:only-of-type {\n",
       "        vertical-align: middle;\n",
       "    }\n",
       "\n",
       "    .dataframe tbody tr th {\n",
       "        vertical-align: top;\n",
       "    }\n",
       "\n",
       "    .dataframe thead th {\n",
       "        text-align: right;\n",
       "    }\n",
       "</style>\n",
       "<table border=\"1\" class=\"dataframe\">\n",
       "  <thead>\n",
       "    <tr style=\"text-align: right;\">\n",
       "      <th></th>\n",
       "      <th>name</th>\n",
       "      <th>solar_distance_km_6</th>\n",
       "      <th>distance_pct_change</th>\n",
       "    </tr>\n",
       "    <tr>\n",
       "      <th>number</th>\n",
       "      <th></th>\n",
       "      <th></th>\n",
       "      <th></th>\n",
       "    </tr>\n",
       "  </thead>\n",
       "  <tbody>\n",
       "    <tr>\n",
       "      <th>1</th>\n",
       "      <td>Mercury</td>\n",
       "      <td>57.9</td>\n",
       "      <td>86.873921</td>\n",
       "    </tr>\n",
       "    <tr>\n",
       "      <th>2</th>\n",
       "      <td>Venus</td>\n",
       "      <td>108.2</td>\n",
       "      <td>38.262477</td>\n",
       "    </tr>\n",
       "    <tr>\n",
       "      <th>3</th>\n",
       "      <td>Earth</td>\n",
       "      <td>149.6</td>\n",
       "      <td>52.339572</td>\n",
       "    </tr>\n",
       "    <tr>\n",
       "      <th>4</th>\n",
       "      <td>Mars</td>\n",
       "      <td>227.9</td>\n",
       "      <td>241.641071</td>\n",
       "    </tr>\n",
       "    <tr>\n",
       "      <th>5</th>\n",
       "      <td>Jupiter</td>\n",
       "      <td>778.6</td>\n",
       "      <td>84.112510</td>\n",
       "    </tr>\n",
       "    <tr>\n",
       "      <th>6</th>\n",
       "      <td>Saturn</td>\n",
       "      <td>1433.5</td>\n",
       "      <td>100.383676</td>\n",
       "    </tr>\n",
       "    <tr>\n",
       "      <th>7</th>\n",
       "      <td>Uranus</td>\n",
       "      <td>2872.5</td>\n",
       "      <td>56.487380</td>\n",
       "    </tr>\n",
       "    <tr>\n",
       "      <th>8</th>\n",
       "      <td>Neptune</td>\n",
       "      <td>4495.1</td>\n",
       "      <td>NaN</td>\n",
       "    </tr>\n",
       "  </tbody>\n",
       "</table>\n",
       "</div>"
      ],
      "text/plain": [
       "           name  solar_distance_km_6  distance_pct_change\n",
       "number                                                   \n",
       "1       Mercury                 57.9            86.873921\n",
       "2         Venus                108.2            38.262477\n",
       "3         Earth                149.6            52.339572\n",
       "4          Mars                227.9           241.641071\n",
       "5       Jupiter                778.6            84.112510\n",
       "6        Saturn               1433.5           100.383676\n",
       "7        Uranus               2872.5            56.487380\n",
       "8       Neptune               4495.1                  NaN"
      ]
     },
     "execution_count": 15,
     "metadata": {},
     "output_type": "execute_result"
    }
   ],
   "source": [
    "planet_distances = planets.loc[:, ['name', 'solar_distance_km_6']]\n",
    "\n",
    "planet_distances.assign(distance_pct_change=distance_pct_change)"
   ]
  },
  {
   "cell_type": "markdown",
   "id": "a6a75fb6-2de6-473c-aae8-88710c6a8444",
   "metadata": {},
   "source": [
    "**But that's not right!** Let's take another look at `distance_pct_change`."
   ]
  },
  {
   "cell_type": "code",
   "execution_count": 16,
   "id": "671e3d2d-e1c5-4d24-8691-65cc0d60b6ed",
   "metadata": {},
   "outputs": [
    {
     "data": {
      "text/plain": [
       "0           NaN\n",
       "1     86.873921\n",
       "2     38.262477\n",
       "3     52.339572\n",
       "4    241.641071\n",
       "5     84.112510\n",
       "6    100.383676\n",
       "7     56.487380\n",
       "Name: solar_distance_km_6, dtype: float64"
      ]
     },
     "execution_count": 16,
     "metadata": {},
     "output_type": "execute_result"
    }
   ],
   "source": [
    "distance_pct_change"
   ]
  },
  {
   "cell_type": "markdown",
   "id": "87430917-2309-4a24-b05a-eb50b8f143be",
   "metadata": {},
   "source": [
    "Indeed, we've changed the index of our `DataFrame` – now it's 1 through 8, rather than the 0 through 7 of `distance_pct_change`."
   ]
  },
  {
   "cell_type": "code",
   "execution_count": 17,
   "id": "35112328-dd55-4ea2-9b93-5daa3dca7601",
   "metadata": {},
   "outputs": [
    {
     "data": {
      "text/plain": [
       "RangeIndex(start=0, stop=8, step=1)"
      ]
     },
     "execution_count": 17,
     "metadata": {},
     "output_type": "execute_result"
    }
   ],
   "source": [
    "distance_pct_change.index"
   ]
  },
  {
   "cell_type": "markdown",
   "id": "3ed994f6-7ee5-48d3-ba28-1681892bf396",
   "metadata": {},
   "source": [
    "Luckily, there's more than one resolution. Let's tell the index of `distance_pct_change` to increase all of its values by `1`, using the `+=` operator."
   ]
  },
  {
   "cell_type": "code",
   "execution_count": 18,
   "id": "5928d45c-40f6-41e3-8495-dc94eefd86ec",
   "metadata": {},
   "outputs": [],
   "source": [
    "distance_pct_change.index += 1"
   ]
  },
  {
   "cell_type": "code",
   "execution_count": 19,
   "id": "0fe158af-d226-442f-9567-525c84107138",
   "metadata": {},
   "outputs": [
    {
     "data": {
      "text/plain": [
       "RangeIndex(start=1, stop=9, step=1)"
      ]
     },
     "execution_count": 19,
     "metadata": {},
     "output_type": "execute_result"
    }
   ],
   "source": [
    "distance_pct_change.index"
   ]
  },
  {
   "cell_type": "markdown",
   "id": "4ff547f2-caa1-44d9-b272-8f62844c14cb",
   "metadata": {},
   "source": [
    "Now we're set."
   ]
  },
  {
   "cell_type": "code",
   "execution_count": 20,
   "id": "1a778d0b-549c-428b-8521-9c6d6e0baf5d",
   "metadata": {},
   "outputs": [
    {
     "data": {
      "text/html": [
       "<div>\n",
       "<style scoped>\n",
       "    .dataframe tbody tr th:only-of-type {\n",
       "        vertical-align: middle;\n",
       "    }\n",
       "\n",
       "    .dataframe tbody tr th {\n",
       "        vertical-align: top;\n",
       "    }\n",
       "\n",
       "    .dataframe thead th {\n",
       "        text-align: right;\n",
       "    }\n",
       "</style>\n",
       "<table border=\"1\" class=\"dataframe\">\n",
       "  <thead>\n",
       "    <tr style=\"text-align: right;\">\n",
       "      <th></th>\n",
       "      <th>name</th>\n",
       "      <th>solar_distance_km_6</th>\n",
       "      <th>distance_pct_change</th>\n",
       "    </tr>\n",
       "    <tr>\n",
       "      <th>number</th>\n",
       "      <th></th>\n",
       "      <th></th>\n",
       "      <th></th>\n",
       "    </tr>\n",
       "  </thead>\n",
       "  <tbody>\n",
       "    <tr>\n",
       "      <th>1</th>\n",
       "      <td>Mercury</td>\n",
       "      <td>57.9</td>\n",
       "      <td>NaN</td>\n",
       "    </tr>\n",
       "    <tr>\n",
       "      <th>2</th>\n",
       "      <td>Venus</td>\n",
       "      <td>108.2</td>\n",
       "      <td>86.873921</td>\n",
       "    </tr>\n",
       "    <tr>\n",
       "      <th>3</th>\n",
       "      <td>Earth</td>\n",
       "      <td>149.6</td>\n",
       "      <td>38.262477</td>\n",
       "    </tr>\n",
       "    <tr>\n",
       "      <th>4</th>\n",
       "      <td>Mars</td>\n",
       "      <td>227.9</td>\n",
       "      <td>52.339572</td>\n",
       "    </tr>\n",
       "    <tr>\n",
       "      <th>5</th>\n",
       "      <td>Jupiter</td>\n",
       "      <td>778.6</td>\n",
       "      <td>241.641071</td>\n",
       "    </tr>\n",
       "    <tr>\n",
       "      <th>6</th>\n",
       "      <td>Saturn</td>\n",
       "      <td>1433.5</td>\n",
       "      <td>84.112510</td>\n",
       "    </tr>\n",
       "    <tr>\n",
       "      <th>7</th>\n",
       "      <td>Uranus</td>\n",
       "      <td>2872.5</td>\n",
       "      <td>100.383676</td>\n",
       "    </tr>\n",
       "    <tr>\n",
       "      <th>8</th>\n",
       "      <td>Neptune</td>\n",
       "      <td>4495.1</td>\n",
       "      <td>56.487380</td>\n",
       "    </tr>\n",
       "  </tbody>\n",
       "</table>\n",
       "</div>"
      ],
      "text/plain": [
       "           name  solar_distance_km_6  distance_pct_change\n",
       "number                                                   \n",
       "1       Mercury                 57.9                  NaN\n",
       "2         Venus                108.2            86.873921\n",
       "3         Earth                149.6            38.262477\n",
       "4          Mars                227.9            52.339572\n",
       "5       Jupiter                778.6           241.641071\n",
       "6        Saturn               1433.5            84.112510\n",
       "7        Uranus               2872.5           100.383676\n",
       "8       Neptune               4495.1            56.487380"
      ]
     },
     "execution_count": 20,
     "metadata": {},
     "output_type": "execute_result"
    }
   ],
   "source": [
    "planet_distances.assign(distance_pct_change=distance_pct_change)"
   ]
  },
  {
   "cell_type": "markdown",
   "id": "74f1f838-73c8-4b43-95b4-21c428219454",
   "metadata": {},
   "source": [
    "In fact, `pandas` often offers more than one way to achieve the same, or a similar, result. We can also select rows and columns – in this case less succinctly – by specifying what labeled elements we *don't* want, using `drop`."
   ]
  },
  {
   "cell_type": "code",
   "execution_count": 21,
   "id": "73104230-14b1-4f96-a55f-698653c4d6f7",
   "metadata": {},
   "outputs": [
    {
     "data": {
      "text/html": [
       "<div>\n",
       "<style scoped>\n",
       "    .dataframe tbody tr th:only-of-type {\n",
       "        vertical-align: middle;\n",
       "    }\n",
       "\n",
       "    .dataframe tbody tr th {\n",
       "        vertical-align: top;\n",
       "    }\n",
       "\n",
       "    .dataframe thead th {\n",
       "        text-align: right;\n",
       "    }\n",
       "</style>\n",
       "<table border=\"1\" class=\"dataframe\">\n",
       "  <thead>\n",
       "    <tr style=\"text-align: right;\">\n",
       "      <th></th>\n",
       "      <th>name</th>\n",
       "      <th>solar_distance_km_6</th>\n",
       "    </tr>\n",
       "    <tr>\n",
       "      <th>number</th>\n",
       "      <th></th>\n",
       "      <th></th>\n",
       "    </tr>\n",
       "  </thead>\n",
       "  <tbody>\n",
       "    <tr>\n",
       "      <th>1</th>\n",
       "      <td>Mercury</td>\n",
       "      <td>57.9</td>\n",
       "    </tr>\n",
       "    <tr>\n",
       "      <th>2</th>\n",
       "      <td>Venus</td>\n",
       "      <td>108.2</td>\n",
       "    </tr>\n",
       "    <tr>\n",
       "      <th>3</th>\n",
       "      <td>Earth</td>\n",
       "      <td>149.6</td>\n",
       "    </tr>\n",
       "    <tr>\n",
       "      <th>4</th>\n",
       "      <td>Mars</td>\n",
       "      <td>227.9</td>\n",
       "    </tr>\n",
       "    <tr>\n",
       "      <th>5</th>\n",
       "      <td>Jupiter</td>\n",
       "      <td>778.6</td>\n",
       "    </tr>\n",
       "    <tr>\n",
       "      <th>6</th>\n",
       "      <td>Saturn</td>\n",
       "      <td>1433.5</td>\n",
       "    </tr>\n",
       "    <tr>\n",
       "      <th>7</th>\n",
       "      <td>Uranus</td>\n",
       "      <td>2872.5</td>\n",
       "    </tr>\n",
       "    <tr>\n",
       "      <th>8</th>\n",
       "      <td>Neptune</td>\n",
       "      <td>4495.1</td>\n",
       "    </tr>\n",
       "  </tbody>\n",
       "</table>\n",
       "</div>"
      ],
      "text/plain": [
       "           name  solar_distance_km_6\n",
       "number                              \n",
       "1       Mercury                 57.9\n",
       "2         Venus                108.2\n",
       "3         Earth                149.6\n",
       "4          Mars                227.9\n",
       "5       Jupiter                778.6\n",
       "6        Saturn               1433.5\n",
       "7        Uranus               2872.5\n",
       "8       Neptune               4495.1"
      ]
     },
     "execution_count": 21,
     "metadata": {},
     "output_type": "execute_result"
    }
   ],
   "source": [
    "planets.drop(columns=['mass_kg_24', 'density_kg_m3', 'gravity_m_s2'])"
   ]
  }
 ],
 "metadata": {
  "kernelspec": {
   "display_name": "Python 3 (ipykernel)",
   "language": "python",
   "name": "python3"
  },
  "language_info": {
   "codemirror_mode": {
    "name": "ipython",
    "version": 3
   },
   "file_extension": ".py",
   "mimetype": "text/x-python",
   "name": "python",
   "nbconvert_exporter": "python",
   "pygments_lexer": "ipython3",
   "version": "3.10.6"
  }
 },
 "nbformat": 4,
 "nbformat_minor": 5
}
