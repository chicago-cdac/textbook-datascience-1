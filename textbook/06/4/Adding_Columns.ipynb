{
 "cells": [
  {
   "cell_type": "markdown",
   "id": "87387a6c-4367-4709-8aac-3764c4e8a6f3",
   "metadata": {},
   "source": [
    "# Adding columns"
   ]
  },
  {
   "cell_type": "markdown",
   "id": "348242a9-42b4-4f65-8c08-82ba66748c16",
   "metadata": {},
   "source": [
    "In preceding examples, we've used the built-in operator for division against two numeric arguments of type `float`. The result of each of these operations was appropriately also a `float`.\n",
    "\n",
    "We can also apply this operator to divide each of an entire `Series` of `float` values by a single `float`, and in so doing produce a new `Series`.\n",
    "\n",
    "Many built-in operators are supported. For clarity, let's map our percent-change values to conventional percentages, using the operator for multiplication.\n",
    "\n",
    "The `pct_change` method returns these values as ratios, comparing the distance of each planet from the sun, $distance_1$, to the distance of the planet preceding it, $distance_0$, according to:\n",
    "\n",
    "$$\n",
    "\\frac{distance_1 - distance_0}{distance_0}\n",
    "$$\n",
    "\n",
    "We can represent these as conventional percentages by simply multiplying them by `100`."
   ]
  },
  {
   "cell_type": "code",
   "execution_count": 24,
   "id": "a7b72ad9-d1ae-47ee-9270-59c3dacd1f95",
   "metadata": {},
   "outputs": [
    {
     "data": {
      "text/plain": [
       "0           NaN\n",
       "1     86.873921\n",
       "2     38.262477\n",
       "3     52.339572\n",
       "4    241.641071\n",
       "5     84.112510\n",
       "6    100.383676\n",
       "7     56.487380\n",
       "Name: solar_distance_km_6, dtype: float64"
      ]
     },
     "execution_count": 24,
     "metadata": {},
     "output_type": "execute_result"
    }
   ],
   "source": [
    "distance_pct_change = distance_rel_change * 100\n",
    "\n",
    "distance_pct_change"
   ]
  },
  {
   "cell_type": "markdown",
   "id": "04896bc2-697e-44dd-bf66-32f0ca8e1af0",
   "metadata": {},
   "source": [
    "And while we all have in mind the order of the planets, it would be more meaningful to see the above values in context, along with our other planetary data.\n",
    "\n",
    "We can use the `assign` method to construct a new `DataFrame`, one which begins with the data from `planets`, and which adds to this our new column."
   ]
  },
  {
   "cell_type": "code",
   "execution_count": 25,
   "id": "3985e453-7667-4776-9041-552dccaacb33",
   "metadata": {},
   "outputs": [
    {
     "data": {
      "text/html": [
       "<div>\n",
       "<style scoped>\n",
       "    .dataframe tbody tr th:only-of-type {\n",
       "        vertical-align: middle;\n",
       "    }\n",
       "\n",
       "    .dataframe tbody tr th {\n",
       "        vertical-align: top;\n",
       "    }\n",
       "\n",
       "    .dataframe thead th {\n",
       "        text-align: right;\n",
       "    }\n",
       "</style>\n",
       "<table border=\"1\" class=\"dataframe\">\n",
       "  <thead>\n",
       "    <tr style=\"text-align: right;\">\n",
       "      <th></th>\n",
       "      <th>name</th>\n",
       "      <th>solar_distance_km_6</th>\n",
       "      <th>mass_kg_24</th>\n",
       "      <th>density_kg_m3</th>\n",
       "      <th>gravity_m_s2</th>\n",
       "      <th>distance_pct_change</th>\n",
       "    </tr>\n",
       "  </thead>\n",
       "  <tbody>\n",
       "    <tr>\n",
       "      <td>0</td>\n",
       "      <td>Mercury</td>\n",
       "      <td>57.9</td>\n",
       "      <td>0.330</td>\n",
       "      <td>5427.0</td>\n",
       "      <td>3.7</td>\n",
       "      <td>NaN</td>\n",
       "    </tr>\n",
       "    <tr>\n",
       "      <td>1</td>\n",
       "      <td>Venus</td>\n",
       "      <td>108.2</td>\n",
       "      <td>4.870</td>\n",
       "      <td>5243.0</td>\n",
       "      <td>8.9</td>\n",
       "      <td>86.873921</td>\n",
       "    </tr>\n",
       "    <tr>\n",
       "      <td>2</td>\n",
       "      <td>Earth</td>\n",
       "      <td>149.6</td>\n",
       "      <td>5.970</td>\n",
       "      <td>5514.0</td>\n",
       "      <td>9.8</td>\n",
       "      <td>38.262477</td>\n",
       "    </tr>\n",
       "    <tr>\n",
       "      <td>3</td>\n",
       "      <td>Mars</td>\n",
       "      <td>227.9</td>\n",
       "      <td>0.642</td>\n",
       "      <td>3933.0</td>\n",
       "      <td>3.7</td>\n",
       "      <td>52.339572</td>\n",
       "    </tr>\n",
       "    <tr>\n",
       "      <td>4</td>\n",
       "      <td>Jupiter</td>\n",
       "      <td>778.6</td>\n",
       "      <td>1898.000</td>\n",
       "      <td>1326.0</td>\n",
       "      <td>23.1</td>\n",
       "      <td>241.641071</td>\n",
       "    </tr>\n",
       "    <tr>\n",
       "      <td>5</td>\n",
       "      <td>Saturn</td>\n",
       "      <td>1433.5</td>\n",
       "      <td>568.000</td>\n",
       "      <td>687.0</td>\n",
       "      <td>9.0</td>\n",
       "      <td>84.112510</td>\n",
       "    </tr>\n",
       "    <tr>\n",
       "      <td>6</td>\n",
       "      <td>Uranus</td>\n",
       "      <td>2872.5</td>\n",
       "      <td>86.800</td>\n",
       "      <td>1271.0</td>\n",
       "      <td>8.7</td>\n",
       "      <td>100.383676</td>\n",
       "    </tr>\n",
       "    <tr>\n",
       "      <td>7</td>\n",
       "      <td>Neptune</td>\n",
       "      <td>4495.1</td>\n",
       "      <td>102.000</td>\n",
       "      <td>1638.0</td>\n",
       "      <td>11.0</td>\n",
       "      <td>56.487380</td>\n",
       "    </tr>\n",
       "  </tbody>\n",
       "</table>\n",
       "</div>"
      ],
      "text/plain": [
       "      name  solar_distance_km_6  mass_kg_24  density_kg_m3  gravity_m_s2  \\\n",
       "0  Mercury                 57.9       0.330         5427.0           3.7   \n",
       "1    Venus                108.2       4.870         5243.0           8.9   \n",
       "2    Earth                149.6       5.970         5514.0           9.8   \n",
       "3     Mars                227.9       0.642         3933.0           3.7   \n",
       "4  Jupiter                778.6    1898.000         1326.0          23.1   \n",
       "5   Saturn               1433.5     568.000          687.0           9.0   \n",
       "6   Uranus               2872.5      86.800         1271.0           8.7   \n",
       "7  Neptune               4495.1     102.000         1638.0          11.0   \n",
       "\n",
       "   distance_pct_change  \n",
       "0                  NaN  \n",
       "1            86.873921  \n",
       "2            38.262477  \n",
       "3            52.339572  \n",
       "4           241.641071  \n",
       "5            84.112510  \n",
       "6           100.383676  \n",
       "7            56.487380  "
      ]
     },
     "execution_count": 25,
     "metadata": {},
     "output_type": "execute_result"
    }
   ],
   "source": [
    "planets.assign(distance_pct_change=distance_pct_change)"
   ]
  },
  {
   "cell_type": "markdown",
   "id": "8b98f9df-e73d-4500-bd5c-8a5a4b474c9b",
   "metadata": {},
   "source": [
    "As you can see, the `assign` method accepts *only* named keyword arguments. Notably, these can be *any* syntactically-valid name – `pandas` adds the sequence of values you specify to the existing data as a new column, and *assigns* to the new column this name.\n",
    "\n",
    "Arguably, of course, our multiplication by 100 was only an aesthetic change. We might instead preserve the output of our `pct_change` calculation, and merely adjust the presentation of our `DataFrame`.\n",
    "\n",
    "`pandas` offers the `DataFrame` property `style`, whose `format` method accepts either functions or strings, with which it determines how to present its data. String arguments to this `format` method follow Python's standard form for indicating how a value should be presented as text.\n",
    "\n",
    "Python's strings offer their own `format` method. And, for example, we might construct a string presenting the `float` value `0.868739` as a conventional percentage, as follows."
   ]
  },
  {
   "cell_type": "code",
   "execution_count": 26,
   "id": "c3ade539-5208-40f3-adac-f84e3d1c61d1",
   "metadata": {},
   "outputs": [
    {
     "data": {
      "text/plain": [
       "'86.87%'"
      ]
     },
     "execution_count": 26,
     "metadata": {},
     "output_type": "execute_result"
    }
   ],
   "source": [
    "'{:.2%}'.format(0.868739)"
   ]
  },
  {
   "cell_type": "markdown",
   "id": "15c54fc9-7be9-4b33-aa58-78a82d750940",
   "metadata": {},
   "source": [
    "In a similar manner we can apply this formatting to our column, without altering the underlying values."
   ]
  },
  {
   "cell_type": "code",
   "execution_count": 27,
   "id": "1f2cfd34-878b-4904-a2c2-895e4edcb96b",
   "metadata": {},
   "outputs": [
    {
     "data": {
      "text/html": [
       "<div>\n",
       "<style scoped>\n",
       "    .dataframe tbody tr th:only-of-type {\n",
       "        vertical-align: middle;\n",
       "    }\n",
       "\n",
       "    .dataframe tbody tr th {\n",
       "        vertical-align: top;\n",
       "    }\n",
       "\n",
       "    .dataframe thead th {\n",
       "        text-align: right;\n",
       "    }\n",
       "</style>\n",
       "<table border=\"1\" class=\"dataframe\">\n",
       "  <thead>\n",
       "    <tr style=\"text-align: right;\">\n",
       "      <th></th>\n",
       "      <th>name</th>\n",
       "      <th>solar_distance_km_6</th>\n",
       "      <th>mass_kg_24</th>\n",
       "      <th>density_kg_m3</th>\n",
       "      <th>gravity_m_s2</th>\n",
       "      <th>distance_rel_change</th>\n",
       "    </tr>\n",
       "  </thead>\n",
       "  <tbody>\n",
       "    <tr>\n",
       "      <td>0</td>\n",
       "      <td>Mercury</td>\n",
       "      <td>57.9</td>\n",
       "      <td>0.330</td>\n",
       "      <td>5427.0</td>\n",
       "      <td>3.7</td>\n",
       "      <td>NaN</td>\n",
       "    </tr>\n",
       "    <tr>\n",
       "      <td>1</td>\n",
       "      <td>Venus</td>\n",
       "      <td>108.2</td>\n",
       "      <td>4.870</td>\n",
       "      <td>5243.0</td>\n",
       "      <td>8.9</td>\n",
       "      <td>0.868739</td>\n",
       "    </tr>\n",
       "    <tr>\n",
       "      <td>2</td>\n",
       "      <td>Earth</td>\n",
       "      <td>149.6</td>\n",
       "      <td>5.970</td>\n",
       "      <td>5514.0</td>\n",
       "      <td>9.8</td>\n",
       "      <td>0.382625</td>\n",
       "    </tr>\n",
       "    <tr>\n",
       "      <td>3</td>\n",
       "      <td>Mars</td>\n",
       "      <td>227.9</td>\n",
       "      <td>0.642</td>\n",
       "      <td>3933.0</td>\n",
       "      <td>3.7</td>\n",
       "      <td>0.523396</td>\n",
       "    </tr>\n",
       "    <tr>\n",
       "      <td>4</td>\n",
       "      <td>Jupiter</td>\n",
       "      <td>778.6</td>\n",
       "      <td>1898.000</td>\n",
       "      <td>1326.0</td>\n",
       "      <td>23.1</td>\n",
       "      <td>2.416411</td>\n",
       "    </tr>\n",
       "    <tr>\n",
       "      <td>5</td>\n",
       "      <td>Saturn</td>\n",
       "      <td>1433.5</td>\n",
       "      <td>568.000</td>\n",
       "      <td>687.0</td>\n",
       "      <td>9.0</td>\n",
       "      <td>0.841125</td>\n",
       "    </tr>\n",
       "    <tr>\n",
       "      <td>6</td>\n",
       "      <td>Uranus</td>\n",
       "      <td>2872.5</td>\n",
       "      <td>86.800</td>\n",
       "      <td>1271.0</td>\n",
       "      <td>8.7</td>\n",
       "      <td>1.003837</td>\n",
       "    </tr>\n",
       "    <tr>\n",
       "      <td>7</td>\n",
       "      <td>Neptune</td>\n",
       "      <td>4495.1</td>\n",
       "      <td>102.000</td>\n",
       "      <td>1638.0</td>\n",
       "      <td>11.0</td>\n",
       "      <td>0.564874</td>\n",
       "    </tr>\n",
       "  </tbody>\n",
       "</table>\n",
       "</div>"
      ],
      "text/plain": [
       "      name  solar_distance_km_6  mass_kg_24  density_kg_m3  gravity_m_s2  \\\n",
       "0  Mercury                 57.9       0.330         5427.0           3.7   \n",
       "1    Venus                108.2       4.870         5243.0           8.9   \n",
       "2    Earth                149.6       5.970         5514.0           9.8   \n",
       "3     Mars                227.9       0.642         3933.0           3.7   \n",
       "4  Jupiter                778.6    1898.000         1326.0          23.1   \n",
       "5   Saturn               1433.5     568.000          687.0           9.0   \n",
       "6   Uranus               2872.5      86.800         1271.0           8.7   \n",
       "7  Neptune               4495.1     102.000         1638.0          11.0   \n",
       "\n",
       "   distance_rel_change  \n",
       "0                  NaN  \n",
       "1             0.868739  \n",
       "2             0.382625  \n",
       "3             0.523396  \n",
       "4             2.416411  \n",
       "5             0.841125  \n",
       "6             1.003837  \n",
       "7             0.564874  "
      ]
     },
     "execution_count": 27,
     "metadata": {},
     "output_type": "execute_result"
    }
   ],
   "source": [
    "planets_rel_change = planets.assign(distance_rel_change=distance_rel_change)\n",
    "\n",
    "planets_rel_change"
   ]
  },
  {
   "cell_type": "code",
   "execution_count": 28,
   "id": "d4ea371a-b289-4e77-a61d-5f90f96e0d16",
   "metadata": {},
   "outputs": [
    {
     "data": {
      "text/html": [
       "<style  type=\"text/css\" >\n",
       "</style><table id=\"T_e75a3ae8_59a5_11ea_8552_0242ac130003\" ><thead>    <tr>        <th class=\"blank level0\" ></th>        <th class=\"col_heading level0 col0\" >name</th>        <th class=\"col_heading level0 col1\" >solar_distance_km_6</th>        <th class=\"col_heading level0 col2\" >mass_kg_24</th>        <th class=\"col_heading level0 col3\" >density_kg_m3</th>        <th class=\"col_heading level0 col4\" >gravity_m_s2</th>        <th class=\"col_heading level0 col5\" >distance_rel_change</th>    </tr></thead><tbody>\n",
       "                <tr>\n",
       "                        <th id=\"T_e75a3ae8_59a5_11ea_8552_0242ac130003level0_row0\" class=\"row_heading level0 row0\" >0</th>\n",
       "                        <td id=\"T_e75a3ae8_59a5_11ea_8552_0242ac130003row0_col0\" class=\"data row0 col0\" >Mercury</td>\n",
       "                        <td id=\"T_e75a3ae8_59a5_11ea_8552_0242ac130003row0_col1\" class=\"data row0 col1\" >57.9</td>\n",
       "                        <td id=\"T_e75a3ae8_59a5_11ea_8552_0242ac130003row0_col2\" class=\"data row0 col2\" >0.33</td>\n",
       "                        <td id=\"T_e75a3ae8_59a5_11ea_8552_0242ac130003row0_col3\" class=\"data row0 col3\" >5427</td>\n",
       "                        <td id=\"T_e75a3ae8_59a5_11ea_8552_0242ac130003row0_col4\" class=\"data row0 col4\" >3.7</td>\n",
       "                        <td id=\"T_e75a3ae8_59a5_11ea_8552_0242ac130003row0_col5\" class=\"data row0 col5\" >nan%</td>\n",
       "            </tr>\n",
       "            <tr>\n",
       "                        <th id=\"T_e75a3ae8_59a5_11ea_8552_0242ac130003level0_row1\" class=\"row_heading level0 row1\" >1</th>\n",
       "                        <td id=\"T_e75a3ae8_59a5_11ea_8552_0242ac130003row1_col0\" class=\"data row1 col0\" >Venus</td>\n",
       "                        <td id=\"T_e75a3ae8_59a5_11ea_8552_0242ac130003row1_col1\" class=\"data row1 col1\" >108.2</td>\n",
       "                        <td id=\"T_e75a3ae8_59a5_11ea_8552_0242ac130003row1_col2\" class=\"data row1 col2\" >4.87</td>\n",
       "                        <td id=\"T_e75a3ae8_59a5_11ea_8552_0242ac130003row1_col3\" class=\"data row1 col3\" >5243</td>\n",
       "                        <td id=\"T_e75a3ae8_59a5_11ea_8552_0242ac130003row1_col4\" class=\"data row1 col4\" >8.9</td>\n",
       "                        <td id=\"T_e75a3ae8_59a5_11ea_8552_0242ac130003row1_col5\" class=\"data row1 col5\" >86.87%</td>\n",
       "            </tr>\n",
       "            <tr>\n",
       "                        <th id=\"T_e75a3ae8_59a5_11ea_8552_0242ac130003level0_row2\" class=\"row_heading level0 row2\" >2</th>\n",
       "                        <td id=\"T_e75a3ae8_59a5_11ea_8552_0242ac130003row2_col0\" class=\"data row2 col0\" >Earth</td>\n",
       "                        <td id=\"T_e75a3ae8_59a5_11ea_8552_0242ac130003row2_col1\" class=\"data row2 col1\" >149.6</td>\n",
       "                        <td id=\"T_e75a3ae8_59a5_11ea_8552_0242ac130003row2_col2\" class=\"data row2 col2\" >5.97</td>\n",
       "                        <td id=\"T_e75a3ae8_59a5_11ea_8552_0242ac130003row2_col3\" class=\"data row2 col3\" >5514</td>\n",
       "                        <td id=\"T_e75a3ae8_59a5_11ea_8552_0242ac130003row2_col4\" class=\"data row2 col4\" >9.8</td>\n",
       "                        <td id=\"T_e75a3ae8_59a5_11ea_8552_0242ac130003row2_col5\" class=\"data row2 col5\" >38.26%</td>\n",
       "            </tr>\n",
       "            <tr>\n",
       "                        <th id=\"T_e75a3ae8_59a5_11ea_8552_0242ac130003level0_row3\" class=\"row_heading level0 row3\" >3</th>\n",
       "                        <td id=\"T_e75a3ae8_59a5_11ea_8552_0242ac130003row3_col0\" class=\"data row3 col0\" >Mars</td>\n",
       "                        <td id=\"T_e75a3ae8_59a5_11ea_8552_0242ac130003row3_col1\" class=\"data row3 col1\" >227.9</td>\n",
       "                        <td id=\"T_e75a3ae8_59a5_11ea_8552_0242ac130003row3_col2\" class=\"data row3 col2\" >0.642</td>\n",
       "                        <td id=\"T_e75a3ae8_59a5_11ea_8552_0242ac130003row3_col3\" class=\"data row3 col3\" >3933</td>\n",
       "                        <td id=\"T_e75a3ae8_59a5_11ea_8552_0242ac130003row3_col4\" class=\"data row3 col4\" >3.7</td>\n",
       "                        <td id=\"T_e75a3ae8_59a5_11ea_8552_0242ac130003row3_col5\" class=\"data row3 col5\" >52.34%</td>\n",
       "            </tr>\n",
       "            <tr>\n",
       "                        <th id=\"T_e75a3ae8_59a5_11ea_8552_0242ac130003level0_row4\" class=\"row_heading level0 row4\" >4</th>\n",
       "                        <td id=\"T_e75a3ae8_59a5_11ea_8552_0242ac130003row4_col0\" class=\"data row4 col0\" >Jupiter</td>\n",
       "                        <td id=\"T_e75a3ae8_59a5_11ea_8552_0242ac130003row4_col1\" class=\"data row4 col1\" >778.6</td>\n",
       "                        <td id=\"T_e75a3ae8_59a5_11ea_8552_0242ac130003row4_col2\" class=\"data row4 col2\" >1898</td>\n",
       "                        <td id=\"T_e75a3ae8_59a5_11ea_8552_0242ac130003row4_col3\" class=\"data row4 col3\" >1326</td>\n",
       "                        <td id=\"T_e75a3ae8_59a5_11ea_8552_0242ac130003row4_col4\" class=\"data row4 col4\" >23.1</td>\n",
       "                        <td id=\"T_e75a3ae8_59a5_11ea_8552_0242ac130003row4_col5\" class=\"data row4 col5\" >241.64%</td>\n",
       "            </tr>\n",
       "            <tr>\n",
       "                        <th id=\"T_e75a3ae8_59a5_11ea_8552_0242ac130003level0_row5\" class=\"row_heading level0 row5\" >5</th>\n",
       "                        <td id=\"T_e75a3ae8_59a5_11ea_8552_0242ac130003row5_col0\" class=\"data row5 col0\" >Saturn</td>\n",
       "                        <td id=\"T_e75a3ae8_59a5_11ea_8552_0242ac130003row5_col1\" class=\"data row5 col1\" >1433.5</td>\n",
       "                        <td id=\"T_e75a3ae8_59a5_11ea_8552_0242ac130003row5_col2\" class=\"data row5 col2\" >568</td>\n",
       "                        <td id=\"T_e75a3ae8_59a5_11ea_8552_0242ac130003row5_col3\" class=\"data row5 col3\" >687</td>\n",
       "                        <td id=\"T_e75a3ae8_59a5_11ea_8552_0242ac130003row5_col4\" class=\"data row5 col4\" >9</td>\n",
       "                        <td id=\"T_e75a3ae8_59a5_11ea_8552_0242ac130003row5_col5\" class=\"data row5 col5\" >84.11%</td>\n",
       "            </tr>\n",
       "            <tr>\n",
       "                        <th id=\"T_e75a3ae8_59a5_11ea_8552_0242ac130003level0_row6\" class=\"row_heading level0 row6\" >6</th>\n",
       "                        <td id=\"T_e75a3ae8_59a5_11ea_8552_0242ac130003row6_col0\" class=\"data row6 col0\" >Uranus</td>\n",
       "                        <td id=\"T_e75a3ae8_59a5_11ea_8552_0242ac130003row6_col1\" class=\"data row6 col1\" >2872.5</td>\n",
       "                        <td id=\"T_e75a3ae8_59a5_11ea_8552_0242ac130003row6_col2\" class=\"data row6 col2\" >86.8</td>\n",
       "                        <td id=\"T_e75a3ae8_59a5_11ea_8552_0242ac130003row6_col3\" class=\"data row6 col3\" >1271</td>\n",
       "                        <td id=\"T_e75a3ae8_59a5_11ea_8552_0242ac130003row6_col4\" class=\"data row6 col4\" >8.7</td>\n",
       "                        <td id=\"T_e75a3ae8_59a5_11ea_8552_0242ac130003row6_col5\" class=\"data row6 col5\" >100.38%</td>\n",
       "            </tr>\n",
       "            <tr>\n",
       "                        <th id=\"T_e75a3ae8_59a5_11ea_8552_0242ac130003level0_row7\" class=\"row_heading level0 row7\" >7</th>\n",
       "                        <td id=\"T_e75a3ae8_59a5_11ea_8552_0242ac130003row7_col0\" class=\"data row7 col0\" >Neptune</td>\n",
       "                        <td id=\"T_e75a3ae8_59a5_11ea_8552_0242ac130003row7_col1\" class=\"data row7 col1\" >4495.1</td>\n",
       "                        <td id=\"T_e75a3ae8_59a5_11ea_8552_0242ac130003row7_col2\" class=\"data row7 col2\" >102</td>\n",
       "                        <td id=\"T_e75a3ae8_59a5_11ea_8552_0242ac130003row7_col3\" class=\"data row7 col3\" >1638</td>\n",
       "                        <td id=\"T_e75a3ae8_59a5_11ea_8552_0242ac130003row7_col4\" class=\"data row7 col4\" >11</td>\n",
       "                        <td id=\"T_e75a3ae8_59a5_11ea_8552_0242ac130003row7_col5\" class=\"data row7 col5\" >56.49%</td>\n",
       "            </tr>\n",
       "    </tbody></table>"
      ],
      "text/plain": [
       "<pandas.io.formats.style.Styler at 0x7ce27c948ef0>"
      ]
     },
     "execution_count": 28,
     "metadata": {},
     "output_type": "execute_result"
    }
   ],
   "source": [
    "planets_rel_change.style.format({\n",
    "    'distance_rel_change': '{:.2%}',\n",
    "})"
   ]
  },
  {
   "cell_type": "markdown",
   "id": "86653523-8b04-4550-843e-456aef675634",
   "metadata": {},
   "source": [
    "Note, in the above, we made use of another collection built into Python: the `dict`, or \"dictionary.\" The syntax of `dict` construction is simply:\n",
    "\n",
    "    {KEY0: VALUE0, …}\n",
    "\n",
    "Dictionaries are widely useful; but, here, you'll only see them as another means of associating keyword arguments with their values, analogous to how `assign` is called.\n",
    "\n",
    "We can also rename columns, in this case also for clarity, and again making use of a `dict`."
   ]
  },
  {
   "cell_type": "code",
   "execution_count": 29,
   "id": "ca128460-d5ce-47cf-93a1-d040117d7085",
   "metadata": {},
   "outputs": [
    {
     "data": {
      "text/html": [
       "<style  type=\"text/css\" >\n",
       "</style><table id=\"T_e75f984e_59a5_11ea_8552_0242ac130003\" ><thead>    <tr>        <th class=\"blank level0\" ></th>        <th class=\"col_heading level0 col0\" >name</th>        <th class=\"col_heading level0 col1\" >solar_distance_km_6</th>        <th class=\"col_heading level0 col2\" >mass_kg_24</th>        <th class=\"col_heading level0 col3\" >density_kg_m3</th>        <th class=\"col_heading level0 col4\" >gravity_m_s2</th>        <th class=\"col_heading level0 col5\" >distance relative change</th>    </tr></thead><tbody>\n",
       "                <tr>\n",
       "                        <th id=\"T_e75f984e_59a5_11ea_8552_0242ac130003level0_row0\" class=\"row_heading level0 row0\" >0</th>\n",
       "                        <td id=\"T_e75f984e_59a5_11ea_8552_0242ac130003row0_col0\" class=\"data row0 col0\" >Mercury</td>\n",
       "                        <td id=\"T_e75f984e_59a5_11ea_8552_0242ac130003row0_col1\" class=\"data row0 col1\" >57.9</td>\n",
       "                        <td id=\"T_e75f984e_59a5_11ea_8552_0242ac130003row0_col2\" class=\"data row0 col2\" >0.33</td>\n",
       "                        <td id=\"T_e75f984e_59a5_11ea_8552_0242ac130003row0_col3\" class=\"data row0 col3\" >5427</td>\n",
       "                        <td id=\"T_e75f984e_59a5_11ea_8552_0242ac130003row0_col4\" class=\"data row0 col4\" >3.7</td>\n",
       "                        <td id=\"T_e75f984e_59a5_11ea_8552_0242ac130003row0_col5\" class=\"data row0 col5\" >nan%</td>\n",
       "            </tr>\n",
       "            <tr>\n",
       "                        <th id=\"T_e75f984e_59a5_11ea_8552_0242ac130003level0_row1\" class=\"row_heading level0 row1\" >1</th>\n",
       "                        <td id=\"T_e75f984e_59a5_11ea_8552_0242ac130003row1_col0\" class=\"data row1 col0\" >Venus</td>\n",
       "                        <td id=\"T_e75f984e_59a5_11ea_8552_0242ac130003row1_col1\" class=\"data row1 col1\" >108.2</td>\n",
       "                        <td id=\"T_e75f984e_59a5_11ea_8552_0242ac130003row1_col2\" class=\"data row1 col2\" >4.87</td>\n",
       "                        <td id=\"T_e75f984e_59a5_11ea_8552_0242ac130003row1_col3\" class=\"data row1 col3\" >5243</td>\n",
       "                        <td id=\"T_e75f984e_59a5_11ea_8552_0242ac130003row1_col4\" class=\"data row1 col4\" >8.9</td>\n",
       "                        <td id=\"T_e75f984e_59a5_11ea_8552_0242ac130003row1_col5\" class=\"data row1 col5\" >86.87%</td>\n",
       "            </tr>\n",
       "            <tr>\n",
       "                        <th id=\"T_e75f984e_59a5_11ea_8552_0242ac130003level0_row2\" class=\"row_heading level0 row2\" >2</th>\n",
       "                        <td id=\"T_e75f984e_59a5_11ea_8552_0242ac130003row2_col0\" class=\"data row2 col0\" >Earth</td>\n",
       "                        <td id=\"T_e75f984e_59a5_11ea_8552_0242ac130003row2_col1\" class=\"data row2 col1\" >149.6</td>\n",
       "                        <td id=\"T_e75f984e_59a5_11ea_8552_0242ac130003row2_col2\" class=\"data row2 col2\" >5.97</td>\n",
       "                        <td id=\"T_e75f984e_59a5_11ea_8552_0242ac130003row2_col3\" class=\"data row2 col3\" >5514</td>\n",
       "                        <td id=\"T_e75f984e_59a5_11ea_8552_0242ac130003row2_col4\" class=\"data row2 col4\" >9.8</td>\n",
       "                        <td id=\"T_e75f984e_59a5_11ea_8552_0242ac130003row2_col5\" class=\"data row2 col5\" >38.26%</td>\n",
       "            </tr>\n",
       "            <tr>\n",
       "                        <th id=\"T_e75f984e_59a5_11ea_8552_0242ac130003level0_row3\" class=\"row_heading level0 row3\" >3</th>\n",
       "                        <td id=\"T_e75f984e_59a5_11ea_8552_0242ac130003row3_col0\" class=\"data row3 col0\" >Mars</td>\n",
       "                        <td id=\"T_e75f984e_59a5_11ea_8552_0242ac130003row3_col1\" class=\"data row3 col1\" >227.9</td>\n",
       "                        <td id=\"T_e75f984e_59a5_11ea_8552_0242ac130003row3_col2\" class=\"data row3 col2\" >0.642</td>\n",
       "                        <td id=\"T_e75f984e_59a5_11ea_8552_0242ac130003row3_col3\" class=\"data row3 col3\" >3933</td>\n",
       "                        <td id=\"T_e75f984e_59a5_11ea_8552_0242ac130003row3_col4\" class=\"data row3 col4\" >3.7</td>\n",
       "                        <td id=\"T_e75f984e_59a5_11ea_8552_0242ac130003row3_col5\" class=\"data row3 col5\" >52.34%</td>\n",
       "            </tr>\n",
       "            <tr>\n",
       "                        <th id=\"T_e75f984e_59a5_11ea_8552_0242ac130003level0_row4\" class=\"row_heading level0 row4\" >4</th>\n",
       "                        <td id=\"T_e75f984e_59a5_11ea_8552_0242ac130003row4_col0\" class=\"data row4 col0\" >Jupiter</td>\n",
       "                        <td id=\"T_e75f984e_59a5_11ea_8552_0242ac130003row4_col1\" class=\"data row4 col1\" >778.6</td>\n",
       "                        <td id=\"T_e75f984e_59a5_11ea_8552_0242ac130003row4_col2\" class=\"data row4 col2\" >1898</td>\n",
       "                        <td id=\"T_e75f984e_59a5_11ea_8552_0242ac130003row4_col3\" class=\"data row4 col3\" >1326</td>\n",
       "                        <td id=\"T_e75f984e_59a5_11ea_8552_0242ac130003row4_col4\" class=\"data row4 col4\" >23.1</td>\n",
       "                        <td id=\"T_e75f984e_59a5_11ea_8552_0242ac130003row4_col5\" class=\"data row4 col5\" >241.64%</td>\n",
       "            </tr>\n",
       "            <tr>\n",
       "                        <th id=\"T_e75f984e_59a5_11ea_8552_0242ac130003level0_row5\" class=\"row_heading level0 row5\" >5</th>\n",
       "                        <td id=\"T_e75f984e_59a5_11ea_8552_0242ac130003row5_col0\" class=\"data row5 col0\" >Saturn</td>\n",
       "                        <td id=\"T_e75f984e_59a5_11ea_8552_0242ac130003row5_col1\" class=\"data row5 col1\" >1433.5</td>\n",
       "                        <td id=\"T_e75f984e_59a5_11ea_8552_0242ac130003row5_col2\" class=\"data row5 col2\" >568</td>\n",
       "                        <td id=\"T_e75f984e_59a5_11ea_8552_0242ac130003row5_col3\" class=\"data row5 col3\" >687</td>\n",
       "                        <td id=\"T_e75f984e_59a5_11ea_8552_0242ac130003row5_col4\" class=\"data row5 col4\" >9</td>\n",
       "                        <td id=\"T_e75f984e_59a5_11ea_8552_0242ac130003row5_col5\" class=\"data row5 col5\" >84.11%</td>\n",
       "            </tr>\n",
       "            <tr>\n",
       "                        <th id=\"T_e75f984e_59a5_11ea_8552_0242ac130003level0_row6\" class=\"row_heading level0 row6\" >6</th>\n",
       "                        <td id=\"T_e75f984e_59a5_11ea_8552_0242ac130003row6_col0\" class=\"data row6 col0\" >Uranus</td>\n",
       "                        <td id=\"T_e75f984e_59a5_11ea_8552_0242ac130003row6_col1\" class=\"data row6 col1\" >2872.5</td>\n",
       "                        <td id=\"T_e75f984e_59a5_11ea_8552_0242ac130003row6_col2\" class=\"data row6 col2\" >86.8</td>\n",
       "                        <td id=\"T_e75f984e_59a5_11ea_8552_0242ac130003row6_col3\" class=\"data row6 col3\" >1271</td>\n",
       "                        <td id=\"T_e75f984e_59a5_11ea_8552_0242ac130003row6_col4\" class=\"data row6 col4\" >8.7</td>\n",
       "                        <td id=\"T_e75f984e_59a5_11ea_8552_0242ac130003row6_col5\" class=\"data row6 col5\" >100.38%</td>\n",
       "            </tr>\n",
       "            <tr>\n",
       "                        <th id=\"T_e75f984e_59a5_11ea_8552_0242ac130003level0_row7\" class=\"row_heading level0 row7\" >7</th>\n",
       "                        <td id=\"T_e75f984e_59a5_11ea_8552_0242ac130003row7_col0\" class=\"data row7 col0\" >Neptune</td>\n",
       "                        <td id=\"T_e75f984e_59a5_11ea_8552_0242ac130003row7_col1\" class=\"data row7 col1\" >4495.1</td>\n",
       "                        <td id=\"T_e75f984e_59a5_11ea_8552_0242ac130003row7_col2\" class=\"data row7 col2\" >102</td>\n",
       "                        <td id=\"T_e75f984e_59a5_11ea_8552_0242ac130003row7_col3\" class=\"data row7 col3\" >1638</td>\n",
       "                        <td id=\"T_e75f984e_59a5_11ea_8552_0242ac130003row7_col4\" class=\"data row7 col4\" >11</td>\n",
       "                        <td id=\"T_e75f984e_59a5_11ea_8552_0242ac130003row7_col5\" class=\"data row7 col5\" >56.49%</td>\n",
       "            </tr>\n",
       "    </tbody></table>"
      ],
      "text/plain": [
       "<pandas.io.formats.style.Styler at 0x7ce27af039e8>"
      ]
     },
     "execution_count": 29,
     "metadata": {},
     "output_type": "execute_result"
    }
   ],
   "source": [
    "planets_rel_change = planets_rel_change.rename(\n",
    "    columns={\n",
    "        'distance_rel_change': 'distance relative change',\n",
    "    }\n",
    ")\n",
    "\n",
    "planets_rel_change.style.format({\n",
    "    'distance relative change': '{:.2%}',\n",
    "})"
   ]
  },
  {
   "cell_type": "markdown",
   "id": "ee1a5e9b-fa80-4b3f-b62b-4d41a1182a29",
   "metadata": {},
   "source": [
    "Because we've added spaces to our column name, it's no longer valid in the syntax of Python, and so we can no longer refer to it as we have the other columns, such as `solar_distance_km_6`:"
   ]
  },
  {
   "cell_type": "code",
   "execution_count": 30,
   "id": "44bebf51-d46a-487a-977c-9030ede5027b",
   "metadata": {},
   "outputs": [
    {
     "data": {
      "text/plain": [
       "0      57.9\n",
       "1     108.2\n",
       "2     149.6\n",
       "3     227.9\n",
       "4     778.6\n",
       "5    1433.5\n",
       "6    2872.5\n",
       "7    4495.1\n",
       "Name: solar_distance_km_6, dtype: float64"
      ]
     },
     "execution_count": 30,
     "metadata": {},
     "output_type": "execute_result"
    }
   ],
   "source": [
    "planets_rel_change.solar_distance_km_6"
   ]
  },
  {
   "cell_type": "markdown",
   "id": "efd13790-1202-454c-8c36-537038a9075a",
   "metadata": {},
   "source": [
    "But, we can still refer to it using the alternate syntax mentioned above:"
   ]
  },
  {
   "cell_type": "code",
   "execution_count": 31,
   "id": "6f4b8454-a3d9-4a49-90f9-d98eab281e9d",
   "metadata": {},
   "outputs": [
    {
     "data": {
      "text/plain": [
       "0         NaN\n",
       "1    0.868739\n",
       "2    0.382625\n",
       "3    0.523396\n",
       "4    2.416411\n",
       "5    0.841125\n",
       "6    1.003837\n",
       "7    0.564874\n",
       "Name: distance relative change, dtype: float64"
      ]
     },
     "execution_count": 31,
     "metadata": {},
     "output_type": "execute_result"
    }
   ],
   "source": [
    "planets_rel_change['distance relative change']"
   ]
  }
 ],
 "metadata": {
  "kernelspec": {
   "display_name": "Python 3 (ipykernel)",
   "language": "python",
   "name": "python3"
  },
  "language_info": {
   "codemirror_mode": {
    "name": "ipython",
    "version": 3
   },
   "file_extension": ".py",
   "mimetype": "text/x-python",
   "name": "python",
   "nbconvert_exporter": "python",
   "pygments_lexer": "ipython3",
   "version": "3.10.6"
  }
 },
 "nbformat": 4,
 "nbformat_minor": 5
}
