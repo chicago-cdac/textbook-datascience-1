{
 "cells": [
  {
   "cell_type": "markdown",
   "id": "0f1488a2",
   "metadata": {},
   "source": [
    "# Iteration and Simulation"
   ]
  },
  {
   "cell_type": "markdown",
   "id": "d1b34e0f",
   "metadata": {},
   "source": [
    "In the case that we want to repeat a programming block of statements or expressions multiple times, the control statement `for` can be used. Before we continue with the example from the previous section, we'll focus on the foundation of this *iteration* tool.\n",
    "\n",
    "A `for` statement can *iterate* through a sequence to perform some action on each of its elements. This sequence can really be any *iterable* object, including a list, a string, or a range of numbers, to name a few. The general form of a `for` statement is below:\n",
    "\n",
    "```python\n",
    "for item in sequence:\n",
    "    action    \n",
    "```\n",
    "\n",
    "Notice we specify a name to assign to the value of each of the sequence's items – here `item`. This name is assigned to each of the values `in` the sequence, sequentially. And for each of these assignments – or \"loops\" – the indented body of the `for` statement is executed (here \"action\")."
   ]
  },
  {
   "cell_type": "markdown",
   "id": "5501cc72",
   "metadata": {},
   "source": [
    "For example, to print out each element in a given list we might use the following code."
   ]
  },
  {
   "cell_type": "code",
   "execution_count": 1,
   "id": "4ece3037-9654-47c4-83fc-89f58ce25c81",
   "metadata": {},
   "outputs": [
    {
     "name": "stdout",
     "output_type": "stream",
     "text": [
      "red\n",
      "rotten\n",
      "tasty\n"
     ]
    }
   ],
   "source": [
    "adjectives = [\"red\", \"rotten\", \"tasty\"]\n",
    "\n",
    "for word in adjectives:\n",
    "    print(word)"
   ]
  },
  {
   "cell_type": "markdown",
   "id": "bac686e1",
   "metadata": {},
   "source": [
    "The above dictates that for each element `word` in the list `adjectives`, we execute the indented body: `print(word)`.\n",
    "\n",
    "`word` was sequentially assigned the value of each of the elements in the list. We can alternately use something else since this choice of name does not matter. The `for` statement below also prints out each element in the list `adjectives`."
   ]
  },
  {
   "cell_type": "code",
   "execution_count": 2,
   "id": "e96c6705",
   "metadata": {},
   "outputs": [
    {
     "name": "stdout",
     "output_type": "stream",
     "text": [
      "red\n",
      "rotten\n",
      "tasty\n"
     ]
    }
   ],
   "source": [
    "for item in adjectives:\n",
    "    print(item)"
   ]
  },
  {
   "cell_type": "markdown",
   "id": "e4b2916d",
   "metadata": {},
   "source": [
    "Note that what we iterate over does not need to be directly related to the body of the `for` statement. In fact, `for` statements are useful to simply execute the body or action a given number of times.\n",
    "\n",
    "In the first example below, the value of the *iterator* is used in the body of the `for` statement; in the second example, the `for` statement uses this iterator merely to repeat or loop through the body statement a certain number of times. "
   ]
  },
  {
   "cell_type": "code",
   "execution_count": 3,
   "id": "2b5265a5",
   "metadata": {},
   "outputs": [
    {
     "name": "stdout",
     "output_type": "stream",
     "text": [
      "0\n",
      "1\n",
      "2\n"
     ]
    }
   ],
   "source": [
    "for i in range(3):\n",
    "    print(i)"
   ]
  },
  {
   "cell_type": "code",
   "execution_count": 4,
   "id": "07407de0",
   "metadata": {},
   "outputs": [
    {
     "name": "stdout",
     "output_type": "stream",
     "text": [
      "potato\n",
      "potato\n",
      "potato\n"
     ]
    }
   ],
   "source": [
    "for i in range(3):\n",
    "    print('potato')"
   ]
  },
  {
   "cell_type": "markdown",
   "id": "e193997c",
   "metadata": {},
   "source": [
    "## Nested *for* loops"
   ]
  },
  {
   "cell_type": "markdown",
   "id": "7d29a465",
   "metadata": {},
   "source": [
    "Suppose we want to repeat a process for each loop of a repeated process. We can accomplish this by nesting a `for` statement within a `for` statement.\n",
    "\n",
    "For example, suppose we have two lists, and we want to pair every element in `list_1` with every element in `list_2`. We *could* write out by hand all the possible combinations pairing elements of `list_1` with `list_2` … or, we could use nested `for` statements to systematically consider each element in `list_2` for each element in `list_1`.\n",
    "\n",
    "This takes the following form:\n",
    "\n",
    "```python\n",
    "for item_1 in list_1:\n",
    "    for item_2 in list_2:\n",
    "        print(item_1, item_2)\n",
    "```"
   ]
  },
  {
   "cell_type": "markdown",
   "id": "b8bba1fa",
   "metadata": {},
   "source": [
    "For a more concrete example, consider the list of `adjectives` above, and a new list of `fruits`. We'll use a nested `for` statement to print all possible `adjective`, `fruit` combinations. "
   ]
  },
  {
   "cell_type": "code",
   "execution_count": 5,
   "id": "84bd7b3c",
   "metadata": {},
   "outputs": [],
   "source": [
    "fruits = [\"apple\", \"banana\", \"cherry\"]"
   ]
  },
  {
   "cell_type": "code",
   "execution_count": 6,
   "id": "821e88e2",
   "metadata": {},
   "outputs": [
    {
     "name": "stdout",
     "output_type": "stream",
     "text": [
      "red apple\n",
      "red banana\n",
      "red cherry\n",
      "rotten apple\n",
      "rotten banana\n",
      "rotten cherry\n",
      "tasty apple\n",
      "tasty banana\n",
      "tasty cherry\n"
     ]
    }
   ],
   "source": [
    "for adjective in adjectives:\n",
    "    for fruit in fruits:\n",
    "        print(adjective, fruit)"
   ]
  },
  {
   "cell_type": "markdown",
   "id": "23a1bac8",
   "metadata": {},
   "source": [
    "Alternatively, we could pick *random* combinations; though, in doing so we cannot guarantee that each combination will be distinct.\n",
    "\n",
    "Setting `combos = 5` below, the `for` statement prints a random adjective paired with a random fruit for each number in the range to `combos` – really, repeating these selections `combos` (or 5) times.\n",
    "\n",
    "Feel free to experiment with the number of combinations to print below."
   ]
  },
  {
   "cell_type": "code",
   "execution_count": 7,
   "id": "d4ac14c0",
   "metadata": {},
   "outputs": [
    {
     "name": "stdout",
     "output_type": "stream",
     "text": [
      "red cherry\n",
      "red cherry\n",
      "red apple\n",
      "red banana\n",
      "rotten cherry\n"
     ]
    }
   ],
   "source": [
    "import numpy as np\n",
    "\n",
    "combos = 5 \n",
    "\n",
    "for i in np.arange(combos):\n",
    "    print(np.random.choice(adjectives), np.random.choice(fruits))"
   ]
  },
  {
   "cell_type": "markdown",
   "id": "f81034dd",
   "metadata": {},
   "source": [
    "## Simulating the six-sided die: How many evens?"
   ]
  },
  {
   "cell_type": "markdown",
   "id": "820e6565",
   "metadata": {},
   "source": [
    "In the last section we experimented with finding the number of even dice rolls when rolling a six-sided die 100 times. Now we can simulate repeating this experiment many times using the process of iteration.\n",
    "\n",
    "Below we'll redefine the six-sided die and other relevant items from the last section."
   ]
  },
  {
   "cell_type": "code",
   "execution_count": 8,
   "id": "872b3ac8",
   "metadata": {},
   "outputs": [],
   "source": [
    "die = np.arange(1, 7)\n",
    "\n",
    "def parity(input_integer): \n",
    "    if (input_integer % 2) == 0:\n",
    "        return \"even\"\n",
    "    else:\n",
    "        return \"odd\"\n",
    "    \n",
    "vec_parity = np.vectorize(parity) "
   ]
  },
  {
   "cell_type": "markdown",
   "id": "ce404c99",
   "metadata": {},
   "source": [
    "Now we'll set the desired number of iterations for this experiment and create a `for` loop to execute the experiment of rolling a die 100 times, checking whether the rolls are even, and then appending the number of evens to an array.\n",
    "\n",
    "After the experiments are simulated, we'll use the array of results to summarize our experiment. Finding the minimum and maximum number of evens rolled out of the total 100 rolls as well as the average of evens gives us useful and interesting information. \n",
    "\n",
    "Experiment below with different values for `num_experiments`, but be careful as it is easy to set up a long run time!"
   ]
  },
  {
   "cell_type": "code",
   "execution_count": 9,
   "id": "6c07eef4",
   "metadata": {},
   "outputs": [
    {
     "name": "stdout",
     "output_type": "stream",
     "text": [
      "Number of experiments: 100000\n",
      "Min Evens (out of 100): 29.0\n",
      "Max Evens (out of 100): 70.0\n",
      "Mean Evens (out of 100): 50\n"
     ]
    }
   ],
   "source": [
    "num_experiments = 100_000\n",
    "\n",
    "total_evens = np.empty(0)\n",
    "\n",
    "for i in np.arange(num_experiments):  # alternatively we could use: range(num_experiments)\n",
    "    choices = np.random.choice(die, 100)\n",
    "    labels = vec_parity(choices)\n",
    "    \n",
    "    total_evens = np.append(total_evens, sum(labels == 'even'))\n",
    "\n",
    "\n",
    "# Since these aren't indented, they are outside of the \"for\" loop, and executed after it's done:\n",
    "\n",
    "print('Number of experiments:', len(total_evens))\n",
    "print('Min Evens (out of 100):', min(total_evens))\n",
    "print('Max Evens (out of 100):', max(total_evens))\n",
    "print('Mean Evens (out of 100):', round(np.mean(total_evens)))"
   ]
  },
  {
   "cell_type": "markdown",
   "id": "74bd01f9",
   "metadata": {},
   "source": [
    "If you want to see the contents of the result array you can run the following line:"
   ]
  },
  {
   "cell_type": "code",
   "execution_count": 10,
   "id": "bf3f78af",
   "metadata": {},
   "outputs": [
    {
     "data": {
      "text/plain": [
       "array([34., 47., 46., ..., 51., 55., 51.])"
      ]
     },
     "execution_count": 10,
     "metadata": {},
     "output_type": "execute_result"
    }
   ],
   "source": [
    "total_evens"
   ]
  },
  {
   "cell_type": "markdown",
   "id": "03c16359",
   "metadata": {},
   "source": [
    "We can visualize these results using a histogram."
   ]
  },
  {
   "cell_type": "code",
   "execution_count": 11,
   "id": "ad50d9c7",
   "metadata": {},
   "outputs": [
    {
     "data": {
      "image/png": "[encoded data removed]",
      "text/plain": [
       "<Figure size 640x480 with 1 Axes>"
      ]
     },
     "metadata": {},
     "output_type": "display_data"
    }
   ],
   "source": [
    "import pandas as pd\n",
    "\n",
    "legend = f'Even numbers in {num_experiments:,} tosses'\n",
    "\n",
    "pd.DataFrame({legend: total_evens}).hist(bins=np.arange(25, 76));"
   ]
  },
  {
   "cell_type": "markdown",
   "id": "6adffc73",
   "metadata": {},
   "source": [
    "As we can see, for a large enough number of experiments, the distribution of evens is symmetric, with an average of 50 out of 100 even rolls of the die!\n",
    "\n",
    "We can also see that a majority of the data is contained in the range 40-60. Thus, rolling a six-sided die 100 times, the most common outcomes occur in that range."
   ]
  }
 ],
 "metadata": {
  "kernelspec": {
   "display_name": "Python 3 (ipykernel)",
   "language": "python",
   "name": "python3"
  },
  "language_info": {
   "codemirror_mode": {
    "name": "ipython",
    "version": 3
   },
   "file_extension": ".py",
   "mimetype": "text/x-python",
   "name": "python",
   "nbconvert_exporter": "python",
   "pygments_lexer": "ipython3",
   "version": "3.10.6"
  }
 },
 "nbformat": 4,
 "nbformat_minor": 5
}
