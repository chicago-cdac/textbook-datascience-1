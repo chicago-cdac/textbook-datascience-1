{
 "cells": [
  {
   "cell_type": "markdown",
   "id": "b14befb3",
   "metadata": {},
   "source": [
    "# Dataframes and Random Sampling"
   ]
  },
  {
   "cell_type": "markdown",
   "id": "0285884e",
   "metadata": {},
   "source": [
    "So far we have randomly sampled from a list or array. We can also randomly sample from dataframes! This is advantageous in the situation where we want to select a random subset of given data to build predictive models or to analyze.\n",
    "\n",
    "Using a small example, we turn our six sixed die into a dataframe using the pandas dataframe call. Doing so, we see that this dataframe has 6 rows and 1 column."
   ]
  },
  {
   "cell_type": "code",
   "execution_count": 3,
   "id": "ce5a2cec",
   "metadata": {},
   "outputs": [],
   "source": [
    "import numpy as np\n",
    "import pandas as pd"
   ]
  },
  {
   "cell_type": "code",
   "execution_count": 4,
   "id": "14b10b51",
   "metadata": {},
   "outputs": [
    {
     "data": {
      "text/html": [
       "<div>\n",
       "<style scoped>\n",
       "    .dataframe tbody tr th:only-of-type {\n",
       "        vertical-align: middle;\n",
       "    }\n",
       "\n",
       "    .dataframe tbody tr th {\n",
       "        vertical-align: top;\n",
       "    }\n",
       "\n",
       "    .dataframe thead th {\n",
       "        text-align: right;\n",
       "    }\n",
       "</style>\n",
       "<table border=\"1\" class=\"dataframe\">\n",
       "  <thead>\n",
       "    <tr style=\"text-align: right;\">\n",
       "      <th></th>\n",
       "      <th>Face</th>\n",
       "    </tr>\n",
       "  </thead>\n",
       "  <tbody>\n",
       "    <tr>\n",
       "      <th>0</th>\n",
       "      <td>1</td>\n",
       "    </tr>\n",
       "    <tr>\n",
       "      <th>1</th>\n",
       "      <td>2</td>\n",
       "    </tr>\n",
       "    <tr>\n",
       "      <th>2</th>\n",
       "      <td>3</td>\n",
       "    </tr>\n",
       "    <tr>\n",
       "      <th>3</th>\n",
       "      <td>4</td>\n",
       "    </tr>\n",
       "    <tr>\n",
       "      <th>4</th>\n",
       "      <td>5</td>\n",
       "    </tr>\n",
       "    <tr>\n",
       "      <th>5</th>\n",
       "      <td>6</td>\n",
       "    </tr>\n",
       "  </tbody>\n",
       "</table>\n",
       "</div>"
      ],
      "text/plain": [
       "   Face\n",
       "0     1\n",
       "1     2\n",
       "2     3\n",
       "3     4\n",
       "4     5\n",
       "5     6"
      ]
     },
     "execution_count": 4,
     "metadata": {},
     "output_type": "execute_result"
    }
   ],
   "source": [
    "die = pd.DataFrame(\n",
    "    {'Face': np.arange(1, 7)\n",
    "    })\n",
    "die"
   ]
  },
  {
   "cell_type": "markdown",
   "id": "86510b5b",
   "metadata": {},
   "source": [
    "Similar to randomly selecting an option from a list, we can randomly sample from a dataframe by using the sample call in pandas. This randomly selects an entire row or rows from the dataframe. The input of 1 in the <code> die.sample(1) </code> denotes we want to select exactly one row. We can choose to sample more than one row by changing the input value. "
   ]
  },
  {
   "cell_type": "code",
   "execution_count": 8,
   "id": "415b8c6c",
   "metadata": {},
   "outputs": [
    {
     "data": {
      "text/html": [
       "<div>\n",
       "<style scoped>\n",
       "    .dataframe tbody tr th:only-of-type {\n",
       "        vertical-align: middle;\n",
       "    }\n",
       "\n",
       "    .dataframe tbody tr th {\n",
       "        vertical-align: top;\n",
       "    }\n",
       "\n",
       "    .dataframe thead th {\n",
       "        text-align: right;\n",
       "    }\n",
       "</style>\n",
       "<table border=\"1\" class=\"dataframe\">\n",
       "  <thead>\n",
       "    <tr style=\"text-align: right;\">\n",
       "      <th></th>\n",
       "      <th>Face</th>\n",
       "    </tr>\n",
       "  </thead>\n",
       "  <tbody>\n",
       "    <tr>\n",
       "      <th>2</th>\n",
       "      <td>3</td>\n",
       "    </tr>\n",
       "  </tbody>\n",
       "</table>\n",
       "</div>"
      ],
      "text/plain": [
       "   Face\n",
       "2     3"
      ]
     },
     "execution_count": 8,
     "metadata": {},
     "output_type": "execute_result"
    }
   ],
   "source": [
    "die.sample(1)"
   ]
  },
  {
   "cell_type": "markdown",
   "id": "5650a7e8",
   "metadata": {},
   "source": [
    "Some additional important arguments to this function include\n",
    " - allowing the option to sample with or without replacement (note <code>np.random.choice()</code> also has this argument!)\n",
    " - setting the random state\n",
    "\n",
    "Setting the replace option to True allows us to sample the same row more than once. Essentially we are choosing a row, <i>replacing </i> it and choosing our next row from the original dataframe. Setting this option to False allows us to choose a row exactly once. The default in pandas is <code> replace = False. </code>\n",
    "\n",
    "Setting the random state equal to some integer allows for reproducibility of results. This option still gives a random result, but keeping the random state the same allows us to choose the same random rows each time. Note for now this is not extremely important but will be useful for predictive modeling in the future! \n"
   ]
  },
  {
   "cell_type": "code",
   "execution_count": 12,
   "id": "8d243a1a",
   "metadata": {},
   "outputs": [
    {
     "data": {
      "text/html": [
       "<div>\n",
       "<style scoped>\n",
       "    .dataframe tbody tr th:only-of-type {\n",
       "        vertical-align: middle;\n",
       "    }\n",
       "\n",
       "    .dataframe tbody tr th {\n",
       "        vertical-align: top;\n",
       "    }\n",
       "\n",
       "    .dataframe thead th {\n",
       "        text-align: right;\n",
       "    }\n",
       "</style>\n",
       "<table border=\"1\" class=\"dataframe\">\n",
       "  <thead>\n",
       "    <tr style=\"text-align: right;\">\n",
       "      <th></th>\n",
       "      <th>Face</th>\n",
       "    </tr>\n",
       "  </thead>\n",
       "  <tbody>\n",
       "    <tr>\n",
       "      <th>5</th>\n",
       "      <td>6</td>\n",
       "    </tr>\n",
       "    <tr>\n",
       "      <th>3</th>\n",
       "      <td>4</td>\n",
       "    </tr>\n",
       "    <tr>\n",
       "      <th>4</th>\n",
       "      <td>5</td>\n",
       "    </tr>\n",
       "    <tr>\n",
       "      <th>0</th>\n",
       "      <td>1</td>\n",
       "    </tr>\n",
       "    <tr>\n",
       "      <th>1</th>\n",
       "      <td>2</td>\n",
       "    </tr>\n",
       "    <tr>\n",
       "      <th>3</th>\n",
       "      <td>4</td>\n",
       "    </tr>\n",
       "    <tr>\n",
       "      <th>5</th>\n",
       "      <td>6</td>\n",
       "    </tr>\n",
       "    <tr>\n",
       "      <th>0</th>\n",
       "      <td>1</td>\n",
       "    </tr>\n",
       "    <tr>\n",
       "      <th>0</th>\n",
       "      <td>1</td>\n",
       "    </tr>\n",
       "    <tr>\n",
       "      <th>1</th>\n",
       "      <td>2</td>\n",
       "    </tr>\n",
       "  </tbody>\n",
       "</table>\n",
       "</div>"
      ],
      "text/plain": [
       "   Face\n",
       "5     6\n",
       "3     4\n",
       "4     5\n",
       "0     1\n",
       "1     2\n",
       "3     4\n",
       "5     6\n",
       "0     1\n",
       "0     1\n",
       "1     2"
      ]
     },
     "execution_count": 12,
     "metadata": {},
     "output_type": "execute_result"
    }
   ],
   "source": [
    "die.sample(10, replace=True, random_state=1)"
   ]
  },
  {
   "cell_type": "markdown",
   "id": "689cf718",
   "metadata": {},
   "source": [
    "Above we randomly selected 10 rows with replacement that corresponds to rolling the die 10 times. We can now visualize the results of these random samples using a histogram. This will give us an idea of the how often each number is rolled. If we only roll the die 12 times, some numbers appear with much greater frequency than others."
   ]
  },
  {
   "cell_type": "code",
   "execution_count": 6,
   "id": "8784ca48",
   "metadata": {},
   "outputs": [
    {
     "data": {
      "text/plain": [
       "array([0.5, 1.5, 2.5, 3.5, 4.5, 5.5, 6.5])"
      ]
     },
     "execution_count": 6,
     "metadata": {},
     "output_type": "execute_result"
    }
   ],
   "source": [
    "#note, starting the bins at 0.5 will give us bars centered nicely over the face numbers\n",
    "roll_bins = np.arange(0.5, 7, 1)\n",
    "roll_bins"
   ]
  },
  {
   "cell_type": "code",
   "execution_count": 7,
   "id": "263fedaf",
   "metadata": {},
   "outputs": [
    {
     "data": {
      "text/plain": [
       "array([[<AxesSubplot:title={'center':'Face'}>]], dtype=object)"
      ]
     },
     "execution_count": 7,
     "metadata": {},
     "output_type": "execute_result"
    },
    {
     "data": {
      "image/png": "[encoded data removed]",
      "text/plain": [
       "<Figure size 432x288 with 1 Axes>"
      ]
     },
     "metadata": {
      "needs_background": "light"
     },
     "output_type": "display_data"
    }
   ],
   "source": [
    "die.sample(12,replace=True).hist(bins = roll_bins)"
   ]
  },
  {
   "cell_type": "markdown",
   "id": "3c581384",
   "metadata": {},
   "source": [
    "Randomly sampling 1000 rolls of the die we start to see a more evenly distrbuted histogram."
   ]
  },
  {
   "cell_type": "code",
   "execution_count": 8,
   "id": "51240f74",
   "metadata": {},
   "outputs": [
    {
     "data": {
      "text/plain": [
       "array([[<AxesSubplot:title={'center':'Face'}>]], dtype=object)"
      ]
     },
     "execution_count": 8,
     "metadata": {},
     "output_type": "execute_result"
    },
    {
     "data": {
      "image/png": "[encoded data removed]",
      "text/plain": [
       "<Figure size 432x288 with 1 Axes>"
      ]
     },
     "metadata": {
      "needs_background": "light"
     },
     "output_type": "display_data"
    }
   ],
   "source": [
    "die.sample(1000,replace=True).hist(bins = roll_bins)"
   ]
  },
  {
   "cell_type": "markdown",
   "id": "14e16c77",
   "metadata": {},
   "source": [
    "Let's see how the distribution changes as we increase the number of randomly sampled rolls of a six sided die."
   ]
  },
  {
   "cell_type": "code",
   "execution_count": 10,
   "id": "1b8ade87",
   "metadata": {},
   "outputs": [
    {
     "data": {
      "text/plain": [
       "array([[<AxesSubplot:title={'center':'Face'}>]], dtype=object)"
      ]
     },
     "execution_count": 10,
     "metadata": {},
     "output_type": "execute_result"
    },
    {
     "data": {
      "image/png": "[encoded data removed]",
      "text/plain": [
       "<Figure size 432x288 with 1 Axes>"
      ]
     },
     "metadata": {
      "needs_background": "light"
     },
     "output_type": "display_data"
    }
   ],
   "source": [
    "die.sample(10000,replace=True).hist(bins = roll_bins)"
   ]
  },
  {
   "cell_type": "code",
   "execution_count": 11,
   "id": "040544a0",
   "metadata": {},
   "outputs": [
    {
     "data": {
      "text/plain": [
       "array([[<AxesSubplot:title={'center':'Face'}>]], dtype=object)"
      ]
     },
     "execution_count": 11,
     "metadata": {},
     "output_type": "execute_result"
    },
    {
     "data": {
      "image/png": "[encoded data removed]",
      "text/plain": [
       "<Figure size 432x288 with 1 Axes>"
      ]
     },
     "metadata": {
      "needs_background": "light"
     },
     "output_type": "display_data"
    }
   ],
   "source": [
    "die.sample(100000,replace=True).hist(bins = roll_bins)"
   ]
  },
  {
   "cell_type": "code",
   "execution_count": 12,
   "id": "c08c5a32",
   "metadata": {},
   "outputs": [
    {
     "data": {
      "text/plain": [
       "array([[<AxesSubplot:title={'center':'Face'}>]], dtype=object)"
      ]
     },
     "execution_count": 12,
     "metadata": {},
     "output_type": "execute_result"
    },
    {
     "data": {
      "image/png": "[encoded data removed]",
      "text/plain": [
       "<Figure size 432x288 with 1 Axes>"
      ]
     },
     "metadata": {
      "needs_background": "light"
     },
     "output_type": "display_data"
    }
   ],
   "source": [
    "die.sample(1000000,replace=True).hist(bins = roll_bins)"
   ]
  },
  {
   "cell_type": "markdown",
   "id": "bc5f1a98",
   "metadata": {},
   "source": [
    "As the number of samples increases, that is as we roll the die many many many times, we find that the each face of the die occurs roughly the same number of times. We will explain this in more detail in Chapter (chapter number here...law of large numbers or central limit theorem chapter?)"
   ]
  }
 ],
 "metadata": {
  "kernelspec": {
   "display_name": "Python 3 (ipykernel)",
   "language": "python",
   "name": "python3"
  },
  "language_info": {
   "codemirror_mode": {
    "name": "ipython",
    "version": 3
   },
   "file_extension": ".py",
   "mimetype": "text/x-python",
   "name": "python",
   "nbconvert_exporter": "python",
   "pygments_lexer": "ipython3",
   "version": "3.10.6"
  }
 },
 "nbformat": 4,
 "nbformat_minor": 5
}
