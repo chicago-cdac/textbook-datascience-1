{
 "cells": [
  {
   "cell_type": "markdown",
   "id": "e72d7d94",
   "metadata": {},
   "source": [
    "# Randomness and Sampling"
   ]
  },
  {
   "cell_type": "markdown",
   "id": "d9fa1e44",
   "metadata": {},
   "source": [
    "Whether modeling a real-world example like rolling dice or tossing a coin, or randomly selecting a subset of a population for a survey, the process of selecting a choice from a list of options at random is very useful! This chapter will focus on the foundations of random selection, including how to implement a random choice in Python, and extend this random sampling to DataFrames.\n",
    "\n",
    "Additionally, we introduce control statements, which allow us to select or iterate a statement or process.\n",
    "\n",
    "We'll ultilize these ideas to *simulate* experiments, or imitate real-world examples using code."
   ]
  },
  {
   "cell_type": "markdown",
   "id": "f5b35352",
   "metadata": {},
   "source": [
    "To start, suppose we have a list of choices that are equally likely to occur and we want to choose one.\n",
    "\n",
    "In Python, the function –\n",
    "\n",
    "```python\n",
    "random.choice([…])\n",
    "```\n",
    "\n",
    "– will output exactly one item from the input sequence, selecting from it randomly.\n",
    "\n",
    "NumPy provides this function as well, and we'll use that here instead.\n",
    "\n",
    "To illustrate, suppose we toss a coin and want to know the outcome. Since we expect a random output of heads or tails, we create a list titled `coin` with those options and call the `random.choice` function on `coin` to give us exactly one result from the list.\n",
    "\n",
    "But first – we import `numpy`."
   ]
  },
  {
   "cell_type": "code",
   "execution_count": 1,
   "id": "27e2d159",
   "metadata": {},
   "outputs": [
    {
     "data": {
      "text/plain": [
       "'heads'"
      ]
     },
     "execution_count": 1,
     "metadata": {},
     "output_type": "execute_result"
    }
   ],
   "source": [
    "import numpy as np\n",
    "\n",
    "coin = ['heads', 'tails']\n",
    "\n",
    "flip = np.random.choice(coin)\n",
    "\n",
    "flip"
   ]
  },
  {
   "cell_type": "markdown",
   "id": "80d3e9b8",
   "metadata": {},
   "source": [
    "The random choice function does not have a fixed output and running it multiple times will eventually produce a different result.\n",
    "\n",
    "In fact, if we want to run this experiment more than once it might be useful to keep track of the results in an array. "
   ]
  },
  {
   "cell_type": "markdown",
   "id": "7ba8b623",
   "metadata": {},
   "source": [
    "## Investigation with Arrays"
   ]
  },
  {
   "cell_type": "markdown",
   "id": "6cc829cd",
   "metadata": {},
   "source": [
    "We can store information in arrays as seen in Chapter (chapter number here). Below we create an array that contans our first experiment result – our first flip – and append our next outcome."
   ]
  },
  {
   "cell_type": "code",
   "execution_count": 2,
   "id": "43319a1f",
   "metadata": {},
   "outputs": [
    {
     "data": {
      "text/plain": [
       "array(['heads'], dtype='<U5')"
      ]
     },
     "execution_count": 2,
     "metadata": {},
     "output_type": "execute_result"
    }
   ],
   "source": [
    "first = np.array([flip])\n",
    "\n",
    "first"
   ]
  },
  {
   "cell_type": "markdown",
   "id": "d5156863",
   "metadata": {},
   "source": [
    "Let's toss the coin again, that is choosing randomly from our list of possible outcomes."
   ]
  },
  {
   "cell_type": "code",
   "execution_count": 3,
   "id": "3a957ebd",
   "metadata": {},
   "outputs": [
    {
     "data": {
      "text/plain": [
       "'tails'"
      ]
     },
     "execution_count": 3,
     "metadata": {},
     "output_type": "execute_result"
    }
   ],
   "source": [
    "flip_2 = np.random.choice(coin)\n",
    "\n",
    "flip_2"
   ]
  },
  {
   "cell_type": "markdown",
   "id": "382c5071-d1ef-4aad-8c2f-ec59ddcec4df",
   "metadata": {},
   "source": [
    "And now let's add this outcome to our list `first`, using the `append` method.\n",
    "\n",
    "This method takes as input an array and elements to be appended, and returns a new array whose elements are those of the input array extended by the input elements."
   ]
  },
  {
   "cell_type": "code",
   "execution_count": 4,
   "id": "af5cdf80",
   "metadata": {},
   "outputs": [
    {
     "data": {
      "text/plain": [
       "array(['heads', 'tails'], dtype='<U5')"
      ]
     },
     "execution_count": 4,
     "metadata": {},
     "output_type": "execute_result"
    }
   ],
   "source": [
    "np.append(first, flip_2)"
   ]
  },
  {
   "cell_type": "markdown",
   "id": "49bec18a",
   "metadata": {},
   "source": [
    "Since elements are added to a copy of the input array, `append` does not change the input array. For example, `first` gives us the original array with one coin flip result."
   ]
  },
  {
   "cell_type": "code",
   "execution_count": 5,
   "id": "9db578b5",
   "metadata": {},
   "outputs": [
    {
     "data": {
      "text/plain": [
       "array(['heads'], dtype='<U5')"
      ]
     },
     "execution_count": 5,
     "metadata": {},
     "output_type": "execute_result"
    }
   ],
   "source": [
    "first"
   ]
  },
  {
   "cell_type": "markdown",
   "id": "deeb5c88",
   "metadata": {},
   "source": [
    "To remedy this, we must use assignment. We can either rename our new list <i>first </i> or assign it a new name entirely."
   ]
  },
  {
   "cell_type": "code",
   "execution_count": 6,
   "id": "0bed681d",
   "metadata": {},
   "outputs": [
    {
     "data": {
      "text/plain": [
       "array(['heads', 'tails'], dtype='<U5')"
      ]
     },
     "execution_count": 6,
     "metadata": {},
     "output_type": "execute_result"
    }
   ],
   "source": [
    "first = np.append(first,'tails')\n",
    "\n",
    "first"
   ]
  },
  {
   "cell_type": "markdown",
   "id": "bed8391d",
   "metadata": {},
   "source": [
    "Appending items to lists and arrays is an important tool when working in Python. However, the random choice function allows an additional argument that corresponds to repeating the experiment, with results returned as an array. In fact we can repeat the coin flip experiment as many times as we want. Here we repeat 7 times:"
   ]
  },
  {
   "cell_type": "code",
   "execution_count": 7,
   "id": "7ed7e165",
   "metadata": {},
   "outputs": [
    {
     "data": {
      "text/plain": [
       "array(['tails', 'heads', 'heads', 'tails', 'heads', 'heads', 'tails'],\n",
       "      dtype='<U5')"
      ]
     },
     "execution_count": 7,
     "metadata": {},
     "output_type": "execute_result"
    }
   ],
   "source": [
    "outcomes = np.random.choice(coin, 7)\n",
    "\n",
    "outcomes"
   ]
  },
  {
   "cell_type": "markdown",
   "id": "f9b5283f",
   "metadata": {},
   "source": [
    "Since our experiment is small, we can easily count how many 'heads' or 'tails' we have. If we have a large experiment it might be tedious, even erroneous, to count by hand. We can instead find all instances where our `outcomes` array is equal to \"heads\" and sum over these instances.\n",
    "\n",
    "\n",
    "To do this, we use the expression `outcomes == 'heads'`, which performs an element-wise comparison of the array `outcomes` with the string `'heads'`, and returns an array of Booleans reflecting that comparision. That is, each element in `outcomes` is compared to `'heads'` and the truth value of each comparison is returned in an array."
   ]
  },
  {
   "cell_type": "code",
   "execution_count": 8,
   "id": "4c92e2fd",
   "metadata": {},
   "outputs": [
    {
     "data": {
      "text/plain": [
       "array([False,  True,  True, False,  True,  True, False])"
      ]
     },
     "execution_count": 8,
     "metadata": {},
     "output_type": "execute_result"
    }
   ],
   "source": [
    "outcomes == 'heads'"
   ]
  },
  {
   "cell_type": "markdown",
   "id": "5940d415",
   "metadata": {},
   "source": [
    "To count the number of \"heads\" in our array of `outcomes`, we can just sum over the above Boolean array.\n",
    "\n",
    "For arithmatic operations, `True` is treated as `1` and `False` is treated as `0`; and so, the sum of a Boolean array counts all instances of `True`, and disregards all instances of `False`, giving exactly the number of \"heads\" in this example."
   ]
  },
  {
   "cell_type": "code",
   "execution_count": 9,
   "id": "2fe5343d",
   "metadata": {},
   "outputs": [
    {
     "data": {
      "text/plain": [
       "4"
      ]
     },
     "execution_count": 9,
     "metadata": {},
     "output_type": "execute_result"
    }
   ],
   "source": [
    "sum(outcomes == 'heads')"
   ]
  },
  {
   "cell_type": "markdown",
   "id": "55ce8895",
   "metadata": {},
   "source": [
    "We can do the same with \"tails\":"
   ]
  },
  {
   "cell_type": "code",
   "execution_count": 10,
   "id": "5072f1e8",
   "metadata": {},
   "outputs": [
    {
     "data": {
      "text/plain": [
       "3"
      ]
     },
     "execution_count": 10,
     "metadata": {},
     "output_type": "execute_result"
    }
   ],
   "source": [
    "sum(outcomes == 'tails')"
   ]
  },
  {
   "cell_type": "markdown",
   "id": "59167949",
   "metadata": {},
   "source": [
    "Since summing over a Boolean array counts all instances of `True`, another way to count the number of \"tails\" is with the expression `outcomes != 'heads'`, and summing over this instead.\n",
    "\n",
    "Here the Boolean array we create contains instances of `True` wherever our coin flip landed on \"tails\", and `False` when \"heads\" was the result of our flip."
   ]
  },
  {
   "cell_type": "code",
   "execution_count": 11,
   "id": "323fe2be",
   "metadata": {},
   "outputs": [
    {
     "data": {
      "text/plain": [
       "array([ True, False, False,  True, False, False,  True])"
      ]
     },
     "execution_count": 11,
     "metadata": {},
     "output_type": "execute_result"
    }
   ],
   "source": [
    "outcomes != 'heads'"
   ]
  },
  {
   "cell_type": "markdown",
   "id": "e3551d93",
   "metadata": {},
   "source": [
    "Summing over this array also counts the number of tails!"
   ]
  },
  {
   "cell_type": "code",
   "execution_count": 12,
   "id": "8407735f",
   "metadata": {},
   "outputs": [
    {
     "data": {
      "text/plain": [
       "3"
      ]
     },
     "execution_count": 12,
     "metadata": {},
     "output_type": "execute_result"
    }
   ],
   "source": [
    "sum(outcomes != 'heads')"
   ]
  }
 ],
 "metadata": {
  "kernelspec": {
   "display_name": "Python 3 (ipykernel)",
   "language": "python",
   "name": "python3"
  },
  "language_info": {
   "codemirror_mode": {
    "name": "ipython",
    "version": 3
   },
   "file_extension": ".py",
   "mimetype": "text/x-python",
   "name": "python",
   "nbconvert_exporter": "python",
   "pygments_lexer": "ipython3",
   "version": "3.10.6"
  }
 },
 "nbformat": 4,
 "nbformat_minor": 5
}
